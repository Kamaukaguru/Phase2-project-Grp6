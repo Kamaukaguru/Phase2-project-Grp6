{
 "cells": [
  {
   "cell_type": "markdown",
   "metadata": {},
   "source": [
    "KINGS COUNTY HOUSE SALES ANALYSIS.\n",
    "\n",
    "Please fill out:\n",
    "* Student names:\n",
    "1. Benson Kamau \n",
    "2. Kelvin Muchori\n",
    "3. Nancy Chelagat\n",
    "4. Breden Mugambi\n",
    "5. Sally Kinyanjui\n",
    "\n",
    "* Student pace: Full time\n",
    "\n",
    "* Scheduled project review date/time: N/A\n",
    "\n",
    "* Instructor name: Nikita Njoroge\n"
   ]
  },
  {
   "cell_type": "markdown",
   "metadata": {},
   "source": [
    "BUSINESS UNDERSTANDING"
   ]
  },
  {
   "cell_type": "markdown",
   "metadata": {},
   "source": [
    "This study aims to explore the relationship between key factors such as renovations, bedrooms, and other property attributes with housing prices in King County. By leveraging on the dataset available, we seek to uncover the specific impact of renovations on property valuations, considering variables such as the extent of renovations.\n",
    "\n",
    "Additionally, we aim to investigate how the number of bedrooms, bathrooms, along with other structural features like square footage and lot size, view  influences housing prices.\n",
    "This can help homeowners to add functionality and beauty to their property while simultaneously boosting its resale value.\n",
    "\n",
    "Main Objective\n",
    "\n",
    "To build and evaluate models using various combinations of the available features in the King County.\n",
    "\n",
    "\n",
    "Specific Objectives\n",
    "\n",
    "1.\tWhat features of a home increase its value in King County?\n",
    "2.\tWhich features increase a home’s value the most in King County?\n",
    "3.\tTo evaluate which combinations of the available features in the dataset are the most impactful features for predicting sale price.\n"
   ]
  },
  {
   "cell_type": "markdown",
   "metadata": {},
   "source": [
    "DATA UNDERSTANDING"
   ]
  },
  {
   "cell_type": "markdown",
   "metadata": {},
   "source": [
    "This project analyzes data about homes sold in King County, Washington between May 2014 and May 2015 in order to make recommendations to relevant stakeholders.\n",
    "\n",
    "This dataset is housed in the kc_house_data.csv file within the project's data folder and the columns outlined in the accompanying column_names.md file.\n"
   ]
  },
  {
   "cell_type": "code",
   "execution_count": 8,
   "metadata": {},
   "outputs": [
    {
     "name": "stdout",
     "output_type": "stream",
     "text": [
      "<class 'pandas.core.frame.DataFrame'>\n",
      "RangeIndex: 21597 entries, 0 to 21596\n",
      "Data columns (total 21 columns):\n",
      " #   Column         Non-Null Count  Dtype  \n",
      "---  ------         --------------  -----  \n",
      " 0   id             21597 non-null  int64  \n",
      " 1   date           21597 non-null  object \n",
      " 2   price          21597 non-null  float64\n",
      " 3   bedrooms       21597 non-null  int64  \n",
      " 4   bathrooms      21597 non-null  float64\n",
      " 5   sqft_living    21597 non-null  int64  \n",
      " 6   sqft_lot       21597 non-null  int64  \n",
      " 7   floors         21597 non-null  float64\n",
      " 8   waterfront     19221 non-null  object \n",
      " 9   view           21534 non-null  object \n",
      " 10  condition      21597 non-null  object \n",
      " 11  grade          21597 non-null  object \n",
      " 12  sqft_above     21597 non-null  int64  \n",
      " 13  sqft_basement  21597 non-null  object \n",
      " 14  yr_built       21597 non-null  int64  \n",
      " 15  yr_renovated   17755 non-null  float64\n",
      " 16  zipcode        21597 non-null  int64  \n",
      " 17  lat            21597 non-null  float64\n",
      " 18  long           21597 non-null  float64\n",
      " 19  sqft_living15  21597 non-null  int64  \n",
      " 20  sqft_lot15     21597 non-null  int64  \n",
      "dtypes: float64(6), int64(9), object(6)\n",
      "memory usage: 3.5+ MB\n",
      "None\n"
     ]
    }
   ],
   "source": [
    "#import the relevant library\n",
    "import pandas as pd\n",
    "import numpy as np\n",
    "import seaborn as sns\n",
    "import matplotlib.pyplot as plt\n",
    "%matplotlib inline\n",
    "import statsmodels.api as sm\n",
    "\n",
    "# Define the DataFrame in the global scope\n",
    "df = pd.DataFrame()\n",
    "\n",
    "#create a function that loads data and gets the info about the data.\n",
    "def load_and_get_info(file_path):\n",
    "    \"\"\"\n",
    "    Load data from a CSV file and get information about the DataFrame.\n",
    "    \n",
    "    Parameters:\n",
    "    - file_path (str): Path to the CSV file.\n",
    "    \n",
    "    Returns:\n",
    "    - df_info (str): Information about the DataFrame.\n",
    "    \"\"\"\n",
    "    # Load data\n",
    "    global df\n",
    "    df = pd.read_csv(file_path)\n",
    "    \n",
    "    # Get information about the DataFrame\n",
    "    df_info = df.info()\n",
    "    \n",
    "    return df_info\n",
    "\n",
    "file_path = 'data\\kc_house_data.csv'  \n",
    "data_info = load_and_get_info(file_path)\n",
    "print(data_info)\n"
   ]
  },
  {
   "cell_type": "markdown",
   "metadata": {},
   "source": [
    "This dataset contains records of 21,597 home sales. It includes:\n",
    "\n",
    "How much the house sold for\n",
    "\n",
    "Square footage of the house's living space\n",
    "\n",
    "Square footage of the lot\n",
    "\n",
    "Number of floors, bedrooms, and bathrooms\n",
    "\n",
    "The quality of the view from the house \n",
    "\n",
    "Whether the house is on a waterfront\n",
    "\n",
    "The house's grade (relates to construction materials and quality)\n",
    "\n",
    "The house's condition (relates to age and maintenance)\n",
    "\n",
    "The year the house was built\n",
    "\n",
    "The year the house was renovated\n",
    "\n",
    "The location of the house\n",
    "\n"
   ]
  },
  {
   "cell_type": "code",
   "execution_count": 11,
   "metadata": {},
   "outputs": [
    {
     "name": "stdout",
     "output_type": "stream",
     "text": [
      "           Column Data Type Variable Type\n",
      "0              id     int64       Numeric\n",
      "1            date    object   Categorical\n",
      "2           price   float64       Numeric\n",
      "3        bedrooms     int64       Numeric\n",
      "4       bathrooms   float64       Numeric\n",
      "5     sqft_living     int64       Numeric\n",
      "6        sqft_lot     int64       Numeric\n",
      "7          floors   float64       Numeric\n",
      "8      waterfront    object   Categorical\n",
      "9            view    object   Categorical\n",
      "10      condition    object   Categorical\n",
      "11          grade    object   Categorical\n",
      "12     sqft_above     int64       Numeric\n",
      "13  sqft_basement    object   Categorical\n",
      "14       yr_built     int64       Numeric\n",
      "15   yr_renovated   float64       Numeric\n",
      "16        zipcode     int64       Numeric\n",
      "17            lat   float64       Numeric\n",
      "18           long   float64       Numeric\n",
      "19  sqft_living15     int64       Numeric\n",
      "20     sqft_lot15     int64       Numeric\n"
     ]
    }
   ],
   "source": [
    "def check_dtypes(df):\n",
    "    \"\"\"\n",
    "    Check data types and identify the kind of variable for each column in the DataFrame.\n",
    "    \n",
    "    Parameters:\n",
    "    - df (DataFrame): Input DataFrame.\n",
    "    \n",
    "    Returns:\n",
    "    - dtypes_info (DataFrame): DataFrame containing information about data types and variable types.\n",
    "    \"\"\"\n",
    "    # Get data types of each column\n",
    "    dtypes = df.dtypes\n",
    "    \n",
    "    # Identify variable types (numeric or categorical) for each column\n",
    "    variable_types = []\n",
    "    for col in df.columns:\n",
    "        if pd.api.types.is_numeric_dtype(df[col]):\n",
    "            variable_types.append('Numeric')\n",
    "        else:\n",
    "            variable_types.append('Categorical')\n",
    "    \n",
    "    # Create DataFrame to store information\n",
    "    dtypes_info = pd.DataFrame({'Column': dtypes.index, 'Data Type': dtypes.values, 'Variable Type': variable_types})\n",
    "    \n",
    "    return dtypes_info\n",
    "\n",
    "data_types_info = check_dtypes(df)\n",
    "print(data_types_info)"
   ]
  },
  {
   "cell_type": "code",
   "execution_count": null,
   "metadata": {},
   "outputs": [],
   "source": []
  }
 ],
 "metadata": {
  "kernelspec": {
   "display_name": "Python 3",
   "language": "python",
   "name": "python3"
  },
  "language_info": {
   "codemirror_mode": {
    "name": "ipython",
    "version": 3
   },
   "file_extension": ".py",
   "mimetype": "text/x-python",
   "name": "python",
   "nbconvert_exporter": "python",
   "pygments_lexer": "ipython3",
   "version": "3.11.5"
  }
 },
 "nbformat": 4,
 "nbformat_minor": 2
}
