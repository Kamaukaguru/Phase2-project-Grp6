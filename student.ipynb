{
  "cells": [
    {
      "cell_type": "markdown",
      "metadata": {
        "id": "G4F2mdCS82qH"
      },
      "source": [
        "KINGS COUNTY HOUSE SALES ANALYSIS.\n",
        "\n",
        "Please fill out:\n",
        "* Student names:\n",
        "1. Benson Kamau\n",
        "2. Kevin Muchori\n",
        "3. Nancy Chelangat\n",
        "4. Breden Mugambi\n",
        "5. Sally Kinyanjui\n",
        "\n",
        "* Student pace: Full time\n",
        "\n",
        "* Scheduled project review date/time: N/A\n",
        "\n",
        "* Instructor name: Nikita Njoroge\n"
      ]
    },
    {
      "cell_type": "markdown",
      "metadata": {
        "id": "FW9dMFLs82qO"
      },
      "source": [
        "BUSINESS UNDERSTANDING"
      ]
    },
    {
      "cell_type": "markdown",
      "metadata": {
        "id": "_5wmr-XN82qO"
      },
      "source": [
        "This study aims to explore the relationship between key factors such as renovations, bedrooms, and other property attributes with housing prices in King County. By leveraging on the dataset available, we seek to uncover the specific impact of renovations on property valuations, considering variables such as the extent of renovations.\n",
        "\n",
        "Additionally, we aim to investigate how the number of bedrooms, bathrooms, along with other structural features like square footage and lot size, view  influences housing prices.\n",
        "This can help homeowners to add functionality and beauty to their property while simultaneously boosting its resale value.\n",
        "\n",
        "Main Objective\n",
        "\n",
        "To build and evaluate models using various combinations of the available features in the King County.\n",
        "\n",
        "\n",
        "Specific Objectives\n",
        "\n",
        "1. To evaluate how the number of floors impacts the price of a house in King County.\n",
        "2. To determine how the number of bedrooms impacts the price of a house in King County.\n",
        "3. To examine the impact the number of bathrooms has on the price of a house in King County.\n",
        "4. To assess the impact of renovations on the price of a house in King County.\n",
        "5. To evaluate how the the Square footage of living space of a house impacts its price in King County.\n",
        "6. To evaluate which combinations of the available features in the dataset are the most impactful features for predicting sale price.\n"
      ]
    },
    {
      "cell_type": "markdown",
      "metadata": {
        "id": "i5YrvE7R82qP"
      },
      "source": [
        "DATA UNDERSTANDING"
      ]
    },
    {
      "cell_type": "markdown",
      "metadata": {
        "id": "HQzoWZI582qP"
      },
      "source": [
        "This project analyzes data about homes sold in King County, Washington between May 2014 and May 2015 in order to make recommendations to relevant stakeholders.\n",
        "\n",
        "This dataset is housed in the kc_house_data.csv file within the project's data folder and the columns outlined in the accompanying column_names.md file.\n"
      ]
    },
    {
      "cell_type": "code",
<<<<<<< HEAD
      "execution_count": 7,
=======
      "execution_count": 2,
>>>>>>> 4cf704923d17c6fb6b8a3d7dde97e7835027be1b
      "metadata": {
        "colab": {
          "base_uri": "https://localhost:8080/"
        },
        "id": "BcCSNagPlEwC",
        "outputId": "ad60546d-632a-453d-8417-c2d26891630a"
      },
      "outputs": [],
      "source": [
        "#This code section allows for reading of files from Google drive\n",
        "#It is only applicable when working with IDEs that cannot read the data in the github files\n",
        "#from google.colab import drive\n",
        "#drive.mount('/content/drive')"
      ]
    },
    {
      "cell_type": "code",
<<<<<<< HEAD
      "execution_count": 8,
=======
      "execution_count": 3,
>>>>>>> 4cf704923d17c6fb6b8a3d7dde97e7835027be1b
      "metadata": {
        "colab": {
          "base_uri": "https://localhost:8080/",
          "height": 863
        },
        "id": "hD5rdZC782qP",
        "outputId": "d324ac2e-7a7c-4055-fbc3-0b93f61d8b0f"
      },
      "outputs": [
        {
          "name": "stdout",
          "output_type": "stream",
          "text": [
            "<class 'pandas.core.frame.DataFrame'>\n",
            "RangeIndex: 21597 entries, 0 to 21596\n",
            "Data columns (total 21 columns):\n",
            " #   Column         Non-Null Count  Dtype  \n",
            "---  ------         --------------  -----  \n",
            " 0   id             21597 non-null  int64  \n",
            " 1   date           21597 non-null  object \n",
            " 2   price          21597 non-null  float64\n",
            " 3   bedrooms       21597 non-null  int64  \n",
            " 4   bathrooms      21597 non-null  float64\n",
            " 5   sqft_living    21597 non-null  int64  \n",
            " 6   sqft_lot       21597 non-null  int64  \n",
            " 7   floors         21597 non-null  float64\n",
            " 8   waterfront     19221 non-null  object \n",
            " 9   view           21534 non-null  object \n",
            " 10  condition      21597 non-null  object \n",
            " 11  grade          21597 non-null  object \n",
            " 12  sqft_above     21597 non-null  int64  \n",
            " 13  sqft_basement  21597 non-null  object \n",
            " 14  yr_built       21597 non-null  int64  \n",
            " 15  yr_renovated   17755 non-null  float64\n",
            " 16  zipcode        21597 non-null  int64  \n",
            " 17  lat            21597 non-null  float64\n",
            " 18  long           21597 non-null  float64\n",
            " 19  sqft_living15  21597 non-null  int64  \n",
            " 20  sqft_lot15     21597 non-null  int64  \n",
            "dtypes: float64(6), int64(9), object(6)\n",
            "memory usage: 3.5+ MB\n",
            "None\n",
            "\n",
            "First few rows of the DataFrame:\n"
          ]
        },
        {
          "data": {
            "text/html": [
              "<div>\n",
              "<style scoped>\n",
              "    .dataframe tbody tr th:only-of-type {\n",
              "        vertical-align: middle;\n",
              "    }\n",
              "\n",
              "    .dataframe tbody tr th {\n",
              "        vertical-align: top;\n",
              "    }\n",
              "\n",
              "    .dataframe thead th {\n",
              "        text-align: right;\n",
              "    }\n",
              "</style>\n",
              "<table border=\"1\" class=\"dataframe\">\n",
              "  <thead>\n",
              "    <tr style=\"text-align: right;\">\n",
              "      <th></th>\n",
              "      <th>id</th>\n",
              "      <th>date</th>\n",
              "      <th>price</th>\n",
              "      <th>bedrooms</th>\n",
              "      <th>bathrooms</th>\n",
              "      <th>sqft_living</th>\n",
              "      <th>sqft_lot</th>\n",
              "      <th>floors</th>\n",
              "      <th>waterfront</th>\n",
              "      <th>view</th>\n",
              "      <th>...</th>\n",
              "      <th>grade</th>\n",
              "      <th>sqft_above</th>\n",
              "      <th>sqft_basement</th>\n",
              "      <th>yr_built</th>\n",
              "      <th>yr_renovated</th>\n",
              "      <th>zipcode</th>\n",
              "      <th>lat</th>\n",
              "      <th>long</th>\n",
              "      <th>sqft_living15</th>\n",
              "      <th>sqft_lot15</th>\n",
              "    </tr>\n",
              "  </thead>\n",
              "  <tbody>\n",
              "    <tr>\n",
              "      <th>0</th>\n",
              "      <td>7129300520</td>\n",
              "      <td>10/13/2014</td>\n",
              "      <td>221900.0</td>\n",
              "      <td>3</td>\n",
              "      <td>1.00</td>\n",
              "      <td>1180</td>\n",
              "      <td>5650</td>\n",
              "      <td>1.0</td>\n",
              "      <td>NaN</td>\n",
              "      <td>NONE</td>\n",
              "      <td>...</td>\n",
              "      <td>7 Average</td>\n",
              "      <td>1180</td>\n",
              "      <td>0.0</td>\n",
              "      <td>1955</td>\n",
              "      <td>0.0</td>\n",
              "      <td>98178</td>\n",
              "      <td>47.5112</td>\n",
              "      <td>-122.257</td>\n",
              "      <td>1340</td>\n",
              "      <td>5650</td>\n",
              "    </tr>\n",
              "    <tr>\n",
              "      <th>1</th>\n",
              "      <td>6414100192</td>\n",
              "      <td>12/9/2014</td>\n",
              "      <td>538000.0</td>\n",
              "      <td>3</td>\n",
              "      <td>2.25</td>\n",
              "      <td>2570</td>\n",
              "      <td>7242</td>\n",
              "      <td>2.0</td>\n",
              "      <td>NO</td>\n",
              "      <td>NONE</td>\n",
              "      <td>...</td>\n",
              "      <td>7 Average</td>\n",
              "      <td>2170</td>\n",
              "      <td>400.0</td>\n",
              "      <td>1951</td>\n",
              "      <td>1991.0</td>\n",
              "      <td>98125</td>\n",
              "      <td>47.7210</td>\n",
              "      <td>-122.319</td>\n",
              "      <td>1690</td>\n",
              "      <td>7639</td>\n",
              "    </tr>\n",
              "    <tr>\n",
              "      <th>2</th>\n",
              "      <td>5631500400</td>\n",
              "      <td>2/25/2015</td>\n",
              "      <td>180000.0</td>\n",
              "      <td>2</td>\n",
              "      <td>1.00</td>\n",
              "      <td>770</td>\n",
              "      <td>10000</td>\n",
              "      <td>1.0</td>\n",
              "      <td>NO</td>\n",
              "      <td>NONE</td>\n",
              "      <td>...</td>\n",
              "      <td>6 Low Average</td>\n",
              "      <td>770</td>\n",
              "      <td>0.0</td>\n",
              "      <td>1933</td>\n",
              "      <td>NaN</td>\n",
              "      <td>98028</td>\n",
              "      <td>47.7379</td>\n",
              "      <td>-122.233</td>\n",
              "      <td>2720</td>\n",
              "      <td>8062</td>\n",
              "    </tr>\n",
              "    <tr>\n",
              "      <th>3</th>\n",
              "      <td>2487200875</td>\n",
              "      <td>12/9/2014</td>\n",
              "      <td>604000.0</td>\n",
              "      <td>4</td>\n",
              "      <td>3.00</td>\n",
              "      <td>1960</td>\n",
              "      <td>5000</td>\n",
              "      <td>1.0</td>\n",
              "      <td>NO</td>\n",
              "      <td>NONE</td>\n",
              "      <td>...</td>\n",
              "      <td>7 Average</td>\n",
              "      <td>1050</td>\n",
              "      <td>910.0</td>\n",
              "      <td>1965</td>\n",
              "      <td>0.0</td>\n",
              "      <td>98136</td>\n",
              "      <td>47.5208</td>\n",
              "      <td>-122.393</td>\n",
              "      <td>1360</td>\n",
              "      <td>5000</td>\n",
              "    </tr>\n",
              "    <tr>\n",
              "      <th>4</th>\n",
              "      <td>1954400510</td>\n",
              "      <td>2/18/2015</td>\n",
              "      <td>510000.0</td>\n",
              "      <td>3</td>\n",
              "      <td>2.00</td>\n",
              "      <td>1680</td>\n",
              "      <td>8080</td>\n",
              "      <td>1.0</td>\n",
              "      <td>NO</td>\n",
              "      <td>NONE</td>\n",
              "      <td>...</td>\n",
              "      <td>8 Good</td>\n",
              "      <td>1680</td>\n",
              "      <td>0.0</td>\n",
              "      <td>1987</td>\n",
              "      <td>0.0</td>\n",
              "      <td>98074</td>\n",
              "      <td>47.6168</td>\n",
              "      <td>-122.045</td>\n",
              "      <td>1800</td>\n",
              "      <td>7503</td>\n",
              "    </tr>\n",
              "  </tbody>\n",
              "</table>\n",
              "<p>5 rows × 21 columns</p>\n",
              "</div>"
            ],
            "text/plain": [
              "           id        date     price  bedrooms  bathrooms  sqft_living  \\\n",
              "0  7129300520  10/13/2014  221900.0         3       1.00         1180   \n",
              "1  6414100192   12/9/2014  538000.0         3       2.25         2570   \n",
              "2  5631500400   2/25/2015  180000.0         2       1.00          770   \n",
              "3  2487200875   12/9/2014  604000.0         4       3.00         1960   \n",
              "4  1954400510   2/18/2015  510000.0         3       2.00         1680   \n",
              "\n",
              "   sqft_lot  floors waterfront  view  ...          grade sqft_above  \\\n",
              "0      5650     1.0        NaN  NONE  ...      7 Average       1180   \n",
              "1      7242     2.0         NO  NONE  ...      7 Average       2170   \n",
              "2     10000     1.0         NO  NONE  ...  6 Low Average        770   \n",
              "3      5000     1.0         NO  NONE  ...      7 Average       1050   \n",
              "4      8080     1.0         NO  NONE  ...         8 Good       1680   \n",
              "\n",
              "   sqft_basement yr_built  yr_renovated  zipcode      lat     long  \\\n",
              "0            0.0     1955           0.0    98178  47.5112 -122.257   \n",
              "1          400.0     1951        1991.0    98125  47.7210 -122.319   \n",
              "2            0.0     1933           NaN    98028  47.7379 -122.233   \n",
              "3          910.0     1965           0.0    98136  47.5208 -122.393   \n",
              "4            0.0     1987           0.0    98074  47.6168 -122.045   \n",
              "\n",
              "   sqft_living15  sqft_lot15  \n",
              "0           1340        5650  \n",
              "1           1690        7639  \n",
              "2           2720        8062  \n",
              "3           1360        5000  \n",
              "4           1800        7503  \n",
              "\n",
              "[5 rows x 21 columns]"
            ]
          },
<<<<<<< HEAD
          "execution_count": 8,
=======
          "execution_count": 3,
>>>>>>> 4cf704923d17c6fb6b8a3d7dde97e7835027be1b
          "metadata": {},
          "output_type": "execute_result"
        }
      ],
      "source": [
        "#import the relevant library\n",
        "import pandas as pd\n",
        "import numpy as np\n",
        "import seaborn as sns\n",
        "import matplotlib.pyplot as plt\n",
        "%matplotlib inline\n",
        "import statsmodels.api as sm\n",
        "\n",
        "# Define the DataFrame in the global scope\n",
        "df = pd.DataFrame()\n",
        "\n",
        "#create a function that loads data and gets the info about the data.\n",
        "def load_and_get_info(file_path):\n",
        "    \"\"\"\n",
        "    Load data from a CSV file and get information about the DataFrame.\n",
        "\n",
        "    Parameters:\n",
        "    - file_path (str): Path to the CSV file.\n",
        "\n",
        "    Returns:\n",
        "    - df_info (str): Information about the DataFrame.\n",
        "    \"\"\"\n",
        "    # Load data\n",
        "    global df\n",
        "    df = pd.read_csv(file_path)\n",
        "\n",
        "    # Display the first few rows of the DataFrame\n",
        "    df_head = df.head()\n",
        "\n",
        "    # Get information about the DataFrame\n",
        "    df_info = df.info()\n",
        "\n",
        "    return df_info, df_head\n",
        "\n",
<<<<<<< HEAD
        "#file_path = 'data/kc_house_data.csv'\n",
        "file_path = 'data/kc_house_data.csv'\n",
=======
        "file_path = 'data/kc_house_data.csv'\n",
        "#The commented filepath below is only used when the data is in the drive, otherwise it is not needed\n",
        "#file_path = '/content/drive/MyDrive/data/kc_house_data.csv' \n",
>>>>>>> 4cf704923d17c6fb6b8a3d7dde97e7835027be1b
        "data_info, data_head = load_and_get_info(file_path)\n",
        "print(data_info)\n",
        "print(\"\\nFirst few rows of the DataFrame:\")\n",
        "data_head\n",
        "\n"
      ]
    },
    {
      "cell_type": "markdown",
      "metadata": {
        "id": "9Q89-d6P82qQ"
      },
      "source": [
        "This dataset contains records of 21,597 home sales. It includes:\n",
        "\n",
        "How much the house sold for\n",
        "\n",
        "Square footage of the house's living space\n",
        "\n",
        "Square footage of the lot\n",
        "\n",
        "Number of floors, bedrooms, and bathrooms\n",
        "\n",
        "The quality of the view from the house\n",
        "\n",
        "Whether the house is on a waterfront\n",
        "\n",
        "The house's grade (relates to construction materials and quality)\n",
        "\n",
        "The house's condition (relates to age and maintenance)\n",
        "\n",
        "The year the house was built\n",
        "\n",
        "The year the house was renovated\n",
        "\n",
        "The location of the house\n",
        "\n",
        "The following columns have missing values:\n",
        "1. waterfront\n",
        "2. yr_renovated"
      ]
    },
    {
      "cell_type": "code",
<<<<<<< HEAD
      "execution_count": 9,
=======
      "execution_count": 4,
>>>>>>> 4cf704923d17c6fb6b8a3d7dde97e7835027be1b
      "metadata": {
        "colab": {
          "base_uri": "https://localhost:8080/"
        },
        "id": "MahQ13po82qQ",
        "outputId": "45ed83d9-1ed4-477b-db73-43419fc5aca7"
      },
      "outputs": [
        {
          "name": "stdout",
          "output_type": "stream",
          "text": [
            "           Column Data Type Variable Type\n",
            "0              id     int64       Numeric\n",
            "1            date    object   Categorical\n",
            "2           price   float64       Numeric\n",
            "3        bedrooms     int64       Numeric\n",
            "4       bathrooms   float64       Numeric\n",
            "5     sqft_living     int64       Numeric\n",
            "6        sqft_lot     int64       Numeric\n",
            "7          floors   float64       Numeric\n",
            "8      waterfront    object   Categorical\n",
            "9            view    object   Categorical\n",
            "10      condition    object   Categorical\n",
            "11          grade    object   Categorical\n",
            "12     sqft_above     int64       Numeric\n",
            "13  sqft_basement    object   Categorical\n",
            "14       yr_built     int64       Numeric\n",
            "15   yr_renovated   float64       Numeric\n",
            "16        zipcode     int64       Numeric\n",
            "17            lat   float64       Numeric\n",
            "18           long   float64       Numeric\n",
            "19  sqft_living15     int64       Numeric\n",
            "20     sqft_lot15     int64       Numeric\n"
          ]
        }
      ],
      "source": [
        "def check_dtypes(df):\n",
        "    \"\"\"\n",
        "    Check data types and identify the kind of variable for each column in the DataFrame.\n",
        "\n",
        "    Parameters:\n",
        "    - df (DataFrame): Input DataFrame.\n",
        "\n",
        "    Returns:\n",
        "    - dtypes_info (DataFrame): DataFrame containing information about data types and variable types.\n",
        "    \"\"\"\n",
        "    # Get data types of each column\n",
        "    dtypes = df.dtypes\n",
        "\n",
        "    # Identify variable types (numeric or categorical) for each column\n",
        "    variable_types = []\n",
        "    for col in df.columns:\n",
        "        if pd.api.types.is_numeric_dtype(df[col]):\n",
        "            variable_types.append('Numeric')\n",
        "        else:\n",
        "            variable_types.append('Categorical')\n",
        "\n",
        "    # Create DataFrame to store information\n",
        "    dtypes_info = pd.DataFrame({'Column': dtypes.index, 'Data Type': dtypes.values, 'Variable Type': variable_types})\n",
        "\n",
        "    return dtypes_info\n",
        "\n",
        "data_types_info = check_dtypes(df)\n",
        "print(data_types_info)"
      ]
    },
    {
      "cell_type": "markdown",
      "metadata": {
        "id": "G0wy7Anm-XVo"
      },
      "source": [
        "The data in the columns is further divided into two categories:\n",
        "\n",
        "1.\tNumeric data : id , yr_built , yr_renovated , price , bedrooms , bathrooms , sqft_living , sqft_above , sqft_lot , floors , zipcode , lat , long , sqft_living15 , sqft_lot15\n",
        "\n",
        "2.\tCategorical data : date , waterfront , view , condition , grade , sqft_basement"
      ]
    },
    {
      "cell_type": "markdown",
      "metadata": {
        "id": "fh6azAcT82qQ"
      },
      "source": [
        "## Data Preparation."
      ]
    },
    {
      "cell_type": "code",
<<<<<<< HEAD
      "execution_count": 10,
=======
      "execution_count": 5,
>>>>>>> 4cf704923d17c6fb6b8a3d7dde97e7835027be1b
      "metadata": {
        "colab": {
          "base_uri": "https://localhost:8080/",
          "height": 325
        },
        "id": "7fz8aYnh82qQ",
        "outputId": "762fc7cc-ca33-4415-e869-efc0dd03d76d"
      },
      "outputs": [
        {
          "data": {
            "text/html": [
              "<div>\n",
              "<style scoped>\n",
              "    .dataframe tbody tr th:only-of-type {\n",
              "        vertical-align: middle;\n",
              "    }\n",
              "\n",
              "    .dataframe tbody tr th {\n",
              "        vertical-align: top;\n",
              "    }\n",
              "\n",
              "    .dataframe thead th {\n",
              "        text-align: right;\n",
              "    }\n",
              "</style>\n",
              "<table border=\"1\" class=\"dataframe\">\n",
              "  <thead>\n",
              "    <tr style=\"text-align: right;\">\n",
              "      <th></th>\n",
              "      <th>id</th>\n",
              "      <th>date</th>\n",
              "      <th>price</th>\n",
              "      <th>bedrooms</th>\n",
              "      <th>bathrooms</th>\n",
              "      <th>sqft_living</th>\n",
              "      <th>sqft_lot</th>\n",
              "      <th>floors</th>\n",
              "      <th>waterfront</th>\n",
              "      <th>view</th>\n",
              "      <th>...</th>\n",
              "      <th>grade</th>\n",
              "      <th>sqft_above</th>\n",
              "      <th>sqft_basement</th>\n",
              "      <th>yr_built</th>\n",
              "      <th>zipcode</th>\n",
              "      <th>lat</th>\n",
              "      <th>long</th>\n",
              "      <th>sqft_living15</th>\n",
              "      <th>sqft_lot15</th>\n",
              "      <th>house_renovation</th>\n",
              "    </tr>\n",
              "  </thead>\n",
              "  <tbody>\n",
              "    <tr>\n",
              "      <th>0</th>\n",
              "      <td>7129300520</td>\n",
              "      <td>10/13/2014</td>\n",
              "      <td>221900.0</td>\n",
              "      <td>3</td>\n",
              "      <td>1.00</td>\n",
              "      <td>1180</td>\n",
              "      <td>5650</td>\n",
              "      <td>1.0</td>\n",
              "      <td>NaN</td>\n",
              "      <td>NONE</td>\n",
              "      <td>...</td>\n",
              "      <td>7 Average</td>\n",
              "      <td>1180</td>\n",
              "      <td>0.0</td>\n",
              "      <td>1955</td>\n",
              "      <td>98178</td>\n",
              "      <td>47.5112</td>\n",
              "      <td>-122.257</td>\n",
              "      <td>1340</td>\n",
              "      <td>5650</td>\n",
              "      <td>No</td>\n",
              "    </tr>\n",
              "    <tr>\n",
              "      <th>1</th>\n",
              "      <td>6414100192</td>\n",
              "      <td>12/9/2014</td>\n",
              "      <td>538000.0</td>\n",
              "      <td>3</td>\n",
              "      <td>2.25</td>\n",
              "      <td>2570</td>\n",
              "      <td>7242</td>\n",
              "      <td>2.0</td>\n",
              "      <td>NO</td>\n",
              "      <td>NONE</td>\n",
              "      <td>...</td>\n",
              "      <td>7 Average</td>\n",
              "      <td>2170</td>\n",
              "      <td>400.0</td>\n",
              "      <td>1951</td>\n",
              "      <td>98125</td>\n",
              "      <td>47.7210</td>\n",
              "      <td>-122.319</td>\n",
              "      <td>1690</td>\n",
              "      <td>7639</td>\n",
              "      <td>Yes</td>\n",
              "    </tr>\n",
              "    <tr>\n",
              "      <th>2</th>\n",
              "      <td>5631500400</td>\n",
              "      <td>2/25/2015</td>\n",
              "      <td>180000.0</td>\n",
              "      <td>2</td>\n",
              "      <td>1.00</td>\n",
              "      <td>770</td>\n",
              "      <td>10000</td>\n",
              "      <td>1.0</td>\n",
              "      <td>NO</td>\n",
              "      <td>NONE</td>\n",
              "      <td>...</td>\n",
              "      <td>6 Low Average</td>\n",
              "      <td>770</td>\n",
              "      <td>0.0</td>\n",
              "      <td>1933</td>\n",
              "      <td>98028</td>\n",
              "      <td>47.7379</td>\n",
              "      <td>-122.233</td>\n",
              "      <td>2720</td>\n",
              "      <td>8062</td>\n",
              "      <td>No</td>\n",
              "    </tr>\n",
              "    <tr>\n",
              "      <th>3</th>\n",
              "      <td>2487200875</td>\n",
              "      <td>12/9/2014</td>\n",
              "      <td>604000.0</td>\n",
              "      <td>4</td>\n",
              "      <td>3.00</td>\n",
              "      <td>1960</td>\n",
              "      <td>5000</td>\n",
              "      <td>1.0</td>\n",
              "      <td>NO</td>\n",
              "      <td>NONE</td>\n",
              "      <td>...</td>\n",
              "      <td>7 Average</td>\n",
              "      <td>1050</td>\n",
              "      <td>910.0</td>\n",
              "      <td>1965</td>\n",
              "      <td>98136</td>\n",
              "      <td>47.5208</td>\n",
              "      <td>-122.393</td>\n",
              "      <td>1360</td>\n",
              "      <td>5000</td>\n",
              "      <td>No</td>\n",
              "    </tr>\n",
              "    <tr>\n",
              "      <th>4</th>\n",
              "      <td>1954400510</td>\n",
              "      <td>2/18/2015</td>\n",
              "      <td>510000.0</td>\n",
              "      <td>3</td>\n",
              "      <td>2.00</td>\n",
              "      <td>1680</td>\n",
              "      <td>8080</td>\n",
              "      <td>1.0</td>\n",
              "      <td>NO</td>\n",
              "      <td>NONE</td>\n",
              "      <td>...</td>\n",
              "      <td>8 Good</td>\n",
              "      <td>1680</td>\n",
              "      <td>0.0</td>\n",
              "      <td>1987</td>\n",
              "      <td>98074</td>\n",
              "      <td>47.6168</td>\n",
              "      <td>-122.045</td>\n",
              "      <td>1800</td>\n",
              "      <td>7503</td>\n",
              "      <td>No</td>\n",
              "    </tr>\n",
              "  </tbody>\n",
              "</table>\n",
              "<p>5 rows × 21 columns</p>\n",
              "</div>"
            ],
            "text/plain": [
              "           id        date     price  bedrooms  bathrooms  sqft_living  \\\n",
              "0  7129300520  10/13/2014  221900.0         3       1.00         1180   \n",
              "1  6414100192   12/9/2014  538000.0         3       2.25         2570   \n",
              "2  5631500400   2/25/2015  180000.0         2       1.00          770   \n",
              "3  2487200875   12/9/2014  604000.0         4       3.00         1960   \n",
              "4  1954400510   2/18/2015  510000.0         3       2.00         1680   \n",
              "\n",
              "   sqft_lot  floors waterfront  view  ...          grade sqft_above  \\\n",
              "0      5650     1.0        NaN  NONE  ...      7 Average       1180   \n",
              "1      7242     2.0         NO  NONE  ...      7 Average       2170   \n",
              "2     10000     1.0         NO  NONE  ...  6 Low Average        770   \n",
              "3      5000     1.0         NO  NONE  ...      7 Average       1050   \n",
              "4      8080     1.0         NO  NONE  ...         8 Good       1680   \n",
              "\n",
              "   sqft_basement yr_built  zipcode      lat     long  sqft_living15  \\\n",
              "0            0.0     1955    98178  47.5112 -122.257           1340   \n",
              "1          400.0     1951    98125  47.7210 -122.319           1690   \n",
              "2            0.0     1933    98028  47.7379 -122.233           2720   \n",
              "3          910.0     1965    98136  47.5208 -122.393           1360   \n",
              "4            0.0     1987    98074  47.6168 -122.045           1800   \n",
              "\n",
              "   sqft_lot15  house_renovation  \n",
              "0        5650                No  \n",
              "1        7639               Yes  \n",
              "2        8062                No  \n",
              "3        5000                No  \n",
              "4        7503                No  \n",
              "\n",
              "[5 rows x 21 columns]"
            ]
          },
<<<<<<< HEAD
          "execution_count": 10,
=======
          "execution_count": 5,
>>>>>>> 4cf704923d17c6fb6b8a3d7dde97e7835027be1b
          "metadata": {},
          "output_type": "execute_result"
        }
      ],
      "source": [
        "# Define a custom function to transform the yr_renovated column and drop the column after transformation\n",
        "def transform_and_drop_yr_renovated(df):\n",
        "    \"\"\"\n",
        "    Transform yr_renovated column to read 'Yes' if there is a year recorded,\n",
        "    and 'No' if there is no year in the record. Then drop the original\n",
        "    yr_renovated column.\n",
        "\n",
        "    Parameters:\n",
        "    - df (DataFrame): Input DataFrame.\n",
        "\n",
        "    Returns:\n",
        "    - df_transformed (DataFrame): Transformed DataFrame with dropped column.\n",
        "    \"\"\"\n",
        "    # Define a custom function to transform the yr_renovated column\n",
        "    def transform_yr_renovated(value):\n",
        "        if pd.notnull(value) and value != 0:  # Check if value is not NaN and not equal to 0\n",
        "            return 'Yes'\n",
        "        else:\n",
        "            return 'No'\n",
        "\n",
        "    # Apply the custom function to transform the yr_renovated column\n",
        "    df['house_renovation'] = df['yr_renovated'].apply(transform_yr_renovated)\n",
        "\n",
        "    # Drop the original yr_renovated column\n",
        "    df = df.drop(columns=['yr_renovated'])\n",
        "\n",
        "    return df\n",
        "\n",
        "# Apply the custom function to transform and drop yr_renovated column\n",
        "df = transform_and_drop_yr_renovated(df)\n",
        "\n",
        "# Print the transformed DataFrame\n",
        "df.head()"
      ]
    },
    {
      "cell_type": "markdown",
      "metadata": {
        "id": "KQQvlYoc82qR"
      },
      "source": [
        "Each row represents information about a specific house, and each column provides different characteristics of the houses for example the house with id 7129300520 goes for the price of 221900,has three bedrooms,one bathroom,a squarefeet of 1180,a squarefeet lot of 5650.\n",
        "This is the same criteria we use in for the other houses.\n"
      ]
    },
    {
      "cell_type": "markdown",
      "metadata": {
        "id": "4zDtka5u82qR"
      },
      "source": [
        "This function transform_and_drop_yr_renovated(df)  transforms the 'yr_renovated' column in a DataFrame and then drops the original column we now have a column stating whether the house renovation took place or not replacing the column there which was showing what year the renovation took place.\n",
        "\n",
        "This transformation allows you to categorize whether each house has been renovated ('Yes') or not ('No'), based on the presence or absence of a renovation year in the original 'yr_renovated' column.\n",
        "\n",
        "The df.head() statement prints the first few rows of the transformed DataFrame to check the result."
      ]
    },
    {
      "cell_type": "markdown",
      "metadata": {
        "id": "Sv3CQjjl82qR"
      },
      "source": [
        "checking for null and duplicate values function."
      ]
    },
    {
      "cell_type": "code",
<<<<<<< HEAD
      "execution_count": 11,
=======
      "execution_count": 6,
>>>>>>> 4cf704923d17c6fb6b8a3d7dde97e7835027be1b
      "metadata": {
        "colab": {
          "base_uri": "https://localhost:8080/"
        },
        "id": "Rdd4e_Hp82qR",
        "outputId": "c4f1d24e-2e5c-4ab8-fb25-ee76f1d38682"
      },
      "outputs": [
        {
          "name": "stdout",
          "output_type": "stream",
          "text": [
            "Null Values:\n",
            "id                     0\n",
            "date                   0\n",
            "price                  0\n",
            "bedrooms               0\n",
            "bathrooms              0\n",
            "sqft_living            0\n",
            "sqft_lot               0\n",
            "floors                 0\n",
            "waterfront          2376\n",
            "view                  63\n",
            "condition              0\n",
            "grade                  0\n",
            "sqft_above             0\n",
            "sqft_basement          0\n",
            "yr_built               0\n",
            "zipcode                0\n",
            "lat                    0\n",
            "long                   0\n",
            "sqft_living15          0\n",
            "sqft_lot15             0\n",
            "house_renovation       0\n",
            "dtype: int64\n",
            "\n",
            "No Duplicated Rows Found.\n",
            "              Column  Null Count  Duplicated Rows\n",
            "0                 id           0                0\n",
            "1               date           0                0\n",
            "2              price           0                0\n",
            "3           bedrooms           0                0\n",
            "4          bathrooms           0                0\n",
            "5        sqft_living           0                0\n",
            "6           sqft_lot           0                0\n",
            "7             floors           0                0\n",
            "8         waterfront        2376                0\n",
            "9               view          63                0\n",
            "10         condition           0                0\n",
            "11             grade           0                0\n",
            "12        sqft_above           0                0\n",
            "13     sqft_basement           0                0\n",
            "14          yr_built           0                0\n",
            "15           zipcode           0                0\n",
            "16               lat           0                0\n",
            "17              long           0                0\n",
            "18     sqft_living15           0                0\n",
            "19        sqft_lot15           0                0\n",
            "20  house_renovation           0                0\n"
          ]
        }
      ],
      "source": [
        "def check_null_and_duplicates(df):\n",
        "    \"\"\"\n",
        "    Check for both null values and duplicated rows in a DataFrame.\n",
        "\n",
        "    Parameters:\n",
        "    - df: DataFrame\n",
        "        The DataFrame to check.\n",
        "\n",
        "    Returns:\n",
        "    - info_df: DataFrame\n",
        "        DataFrame containing information about null values and duplicated rows.\n",
        "    \"\"\"\n",
        "    # Check for null values\n",
        "    null_values = df.isnull().sum()\n",
        "    if null_values.sum() > 0:\n",
        "        print(\"Null Values:\")\n",
        "        print(null_values)\n",
        "    else:\n",
        "        print(\"No Null Values Found.\")\n",
        "\n",
        "    # Check for duplicated rows\n",
        "    duplicated_rows = df.duplicated().sum()\n",
        "    if duplicated_rows > 0:\n",
        "        print(\"\\nDuplicated Rows Found:\", duplicated_rows)\n",
        "        duplicated_df = df[df.duplicated()]\n",
        "        print(duplicated_df)\n",
        "    else:\n",
        "        print(\"\\nNo Duplicated Rows Found.\")\n",
        "        duplicated_df = pd.DataFrame()  # Empty DataFrame if no duplicates\n",
        "\n",
        "    # Create a DataFrame to store information\n",
        "    info_df = pd.DataFrame({\n",
        "        'Column': null_values.index,\n",
        "        'Null Count': null_values.values,\n",
        "        'Duplicated Rows': duplicated_rows\n",
        "    })\n",
        "    return info_df\n",
        "info_df= check_null_and_duplicates(df)\n",
        "print (info_df)"
      ]
    },
    {
      "cell_type": "markdown",
      "metadata": {
        "id": "xE44q45d82qS"
      },
      "source": [
        "'waterfront' column has 2376 null values.\n",
        "\n",
        "'view' column has 63 null values.\n",
        "\n",
        "All other columns have zero null values.\n",
        "\n",
        "No Duplicated Rows Found: This line indicates that there are no duplicated rows in DataFrame."
      ]
    },
    {
      "cell_type": "markdown",
      "metadata": {
        "id": "FopYGESr82qS"
      },
      "source": [
        "## Function for dropping duplicates,nulls and column names and replacing values.\n",
        "So we will use the Python function 'dropper'. This function is used for cleaning a dataframe by dropping duplicates,null values and separated columns.In the function below we also include replacing the NaN values in our waterfront column with None."
      ]
    },
    {
      "cell_type": "code",
<<<<<<< HEAD
      "execution_count": 12,
=======
      "execution_count": 7,
>>>>>>> 4cf704923d17c6fb6b8a3d7dde97e7835027be1b
      "metadata": {
        "colab": {
          "base_uri": "https://localhost:8080/",
          "height": 672
        },
        "id": "wXrs-CvS82qS",
        "outputId": "a545b6bc-50d9-485d-9ac2-d004960f3a85"
      },
      "outputs": [
        {
          "name": "stdout",
          "output_type": "stream",
          "text": [
            "First few rows of the DataFrame:\n",
            "waterfront\n",
            "NO      19075\n",
            "NONE     2376\n",
            "YES       146\n",
            "Name: count, dtype: int64\n"
          ]
        },
        {
          "data": {
            "text/html": [
              "<div>\n",
              "<style scoped>\n",
              "    .dataframe tbody tr th:only-of-type {\n",
              "        vertical-align: middle;\n",
              "    }\n",
              "\n",
              "    .dataframe tbody tr th {\n",
              "        vertical-align: top;\n",
              "    }\n",
              "\n",
              "    .dataframe thead th {\n",
              "        text-align: right;\n",
              "    }\n",
              "</style>\n",
              "<table border=\"1\" class=\"dataframe\">\n",
              "  <thead>\n",
              "    <tr style=\"text-align: right;\">\n",
              "      <th></th>\n",
              "      <th>id</th>\n",
              "      <th>date</th>\n",
              "      <th>price</th>\n",
              "      <th>bedrooms</th>\n",
              "      <th>bathrooms</th>\n",
              "      <th>sqft_living</th>\n",
              "      <th>sqft_lot</th>\n",
              "      <th>floors</th>\n",
              "      <th>waterfront</th>\n",
              "      <th>view</th>\n",
              "      <th>...</th>\n",
              "      <th>grade</th>\n",
              "      <th>sqft_above</th>\n",
              "      <th>sqft_basement</th>\n",
              "      <th>yr_built</th>\n",
              "      <th>zipcode</th>\n",
              "      <th>lat</th>\n",
              "      <th>long</th>\n",
              "      <th>sqft_living15</th>\n",
              "      <th>sqft_lot15</th>\n",
              "      <th>house_renovation</th>\n",
              "    </tr>\n",
              "  </thead>\n",
              "  <tbody>\n",
              "    <tr>\n",
              "      <th>0</th>\n",
              "      <td>7129300520</td>\n",
              "      <td>10/13/2014</td>\n",
              "      <td>221900.0</td>\n",
              "      <td>3</td>\n",
              "      <td>1.00</td>\n",
              "      <td>1180</td>\n",
              "      <td>5650</td>\n",
              "      <td>1.0</td>\n",
              "      <td>NONE</td>\n",
              "      <td>NONE</td>\n",
              "      <td>...</td>\n",
              "      <td>7 Average</td>\n",
              "      <td>1180</td>\n",
              "      <td>0.0</td>\n",
              "      <td>1955</td>\n",
              "      <td>98178</td>\n",
              "      <td>47.5112</td>\n",
              "      <td>-122.257</td>\n",
              "      <td>1340</td>\n",
              "      <td>5650</td>\n",
              "      <td>No</td>\n",
              "    </tr>\n",
              "    <tr>\n",
              "      <th>1</th>\n",
              "      <td>6414100192</td>\n",
              "      <td>12/9/2014</td>\n",
              "      <td>538000.0</td>\n",
              "      <td>3</td>\n",
              "      <td>2.25</td>\n",
              "      <td>2570</td>\n",
              "      <td>7242</td>\n",
              "      <td>2.0</td>\n",
              "      <td>NO</td>\n",
              "      <td>NONE</td>\n",
              "      <td>...</td>\n",
              "      <td>7 Average</td>\n",
              "      <td>2170</td>\n",
              "      <td>400.0</td>\n",
              "      <td>1951</td>\n",
              "      <td>98125</td>\n",
              "      <td>47.7210</td>\n",
              "      <td>-122.319</td>\n",
              "      <td>1690</td>\n",
              "      <td>7639</td>\n",
              "      <td>Yes</td>\n",
              "    </tr>\n",
              "    <tr>\n",
              "      <th>2</th>\n",
              "      <td>5631500400</td>\n",
              "      <td>2/25/2015</td>\n",
              "      <td>180000.0</td>\n",
              "      <td>2</td>\n",
              "      <td>1.00</td>\n",
              "      <td>770</td>\n",
              "      <td>10000</td>\n",
              "      <td>1.0</td>\n",
              "      <td>NO</td>\n",
              "      <td>NONE</td>\n",
              "      <td>...</td>\n",
              "      <td>6 Low Average</td>\n",
              "      <td>770</td>\n",
              "      <td>0.0</td>\n",
              "      <td>1933</td>\n",
              "      <td>98028</td>\n",
              "      <td>47.7379</td>\n",
              "      <td>-122.233</td>\n",
              "      <td>2720</td>\n",
              "      <td>8062</td>\n",
              "      <td>No</td>\n",
              "    </tr>\n",
              "    <tr>\n",
              "      <th>3</th>\n",
              "      <td>2487200875</td>\n",
              "      <td>12/9/2014</td>\n",
              "      <td>604000.0</td>\n",
              "      <td>4</td>\n",
              "      <td>3.00</td>\n",
              "      <td>1960</td>\n",
              "      <td>5000</td>\n",
              "      <td>1.0</td>\n",
              "      <td>NO</td>\n",
              "      <td>NONE</td>\n",
              "      <td>...</td>\n",
              "      <td>7 Average</td>\n",
              "      <td>1050</td>\n",
              "      <td>910.0</td>\n",
              "      <td>1965</td>\n",
              "      <td>98136</td>\n",
              "      <td>47.5208</td>\n",
              "      <td>-122.393</td>\n",
              "      <td>1360</td>\n",
              "      <td>5000</td>\n",
              "      <td>No</td>\n",
              "    </tr>\n",
              "    <tr>\n",
              "      <th>4</th>\n",
              "      <td>1954400510</td>\n",
              "      <td>2/18/2015</td>\n",
              "      <td>510000.0</td>\n",
              "      <td>3</td>\n",
              "      <td>2.00</td>\n",
              "      <td>1680</td>\n",
              "      <td>8080</td>\n",
              "      <td>1.0</td>\n",
              "      <td>NO</td>\n",
              "      <td>NONE</td>\n",
              "      <td>...</td>\n",
              "      <td>8 Good</td>\n",
              "      <td>1680</td>\n",
              "      <td>0.0</td>\n",
              "      <td>1987</td>\n",
              "      <td>98074</td>\n",
              "      <td>47.6168</td>\n",
              "      <td>-122.045</td>\n",
              "      <td>1800</td>\n",
              "      <td>7503</td>\n",
              "      <td>No</td>\n",
              "    </tr>\n",
              "    <tr>\n",
              "      <th>5</th>\n",
              "      <td>7237550310</td>\n",
              "      <td>5/12/2014</td>\n",
              "      <td>1230000.0</td>\n",
              "      <td>4</td>\n",
              "      <td>4.50</td>\n",
              "      <td>5420</td>\n",
              "      <td>101930</td>\n",
              "      <td>1.0</td>\n",
              "      <td>NO</td>\n",
              "      <td>NONE</td>\n",
              "      <td>...</td>\n",
              "      <td>11 Excellent</td>\n",
              "      <td>3890</td>\n",
              "      <td>1530.0</td>\n",
              "      <td>2001</td>\n",
              "      <td>98053</td>\n",
              "      <td>47.6561</td>\n",
              "      <td>-122.005</td>\n",
              "      <td>4760</td>\n",
              "      <td>101930</td>\n",
              "      <td>No</td>\n",
              "    </tr>\n",
              "    <tr>\n",
              "      <th>6</th>\n",
              "      <td>1321400060</td>\n",
              "      <td>6/27/2014</td>\n",
              "      <td>257500.0</td>\n",
              "      <td>3</td>\n",
              "      <td>2.25</td>\n",
              "      <td>1715</td>\n",
              "      <td>6819</td>\n",
              "      <td>2.0</td>\n",
              "      <td>NO</td>\n",
              "      <td>NONE</td>\n",
              "      <td>...</td>\n",
              "      <td>7 Average</td>\n",
              "      <td>1715</td>\n",
              "      <td>?</td>\n",
              "      <td>1995</td>\n",
              "      <td>98003</td>\n",
              "      <td>47.3097</td>\n",
              "      <td>-122.327</td>\n",
              "      <td>2238</td>\n",
              "      <td>6819</td>\n",
              "      <td>No</td>\n",
              "    </tr>\n",
              "    <tr>\n",
              "      <th>7</th>\n",
              "      <td>2008000270</td>\n",
              "      <td>1/15/2015</td>\n",
              "      <td>291850.0</td>\n",
              "      <td>3</td>\n",
              "      <td>1.50</td>\n",
              "      <td>1060</td>\n",
              "      <td>9711</td>\n",
              "      <td>1.0</td>\n",
              "      <td>NO</td>\n",
              "      <td>NaN</td>\n",
              "      <td>...</td>\n",
              "      <td>7 Average</td>\n",
              "      <td>1060</td>\n",
              "      <td>0.0</td>\n",
              "      <td>1963</td>\n",
              "      <td>98198</td>\n",
              "      <td>47.4095</td>\n",
              "      <td>-122.315</td>\n",
              "      <td>1650</td>\n",
              "      <td>9711</td>\n",
              "      <td>No</td>\n",
              "    </tr>\n",
              "    <tr>\n",
              "      <th>8</th>\n",
              "      <td>2414600126</td>\n",
              "      <td>4/15/2015</td>\n",
              "      <td>229500.0</td>\n",
              "      <td>3</td>\n",
              "      <td>1.00</td>\n",
              "      <td>1780</td>\n",
              "      <td>7470</td>\n",
              "      <td>1.0</td>\n",
              "      <td>NO</td>\n",
              "      <td>NONE</td>\n",
              "      <td>...</td>\n",
              "      <td>7 Average</td>\n",
              "      <td>1050</td>\n",
              "      <td>730.0</td>\n",
              "      <td>1960</td>\n",
              "      <td>98146</td>\n",
              "      <td>47.5123</td>\n",
              "      <td>-122.337</td>\n",
              "      <td>1780</td>\n",
              "      <td>8113</td>\n",
              "      <td>No</td>\n",
              "    </tr>\n",
              "    <tr>\n",
              "      <th>9</th>\n",
              "      <td>3793500160</td>\n",
              "      <td>3/12/2015</td>\n",
              "      <td>323000.0</td>\n",
              "      <td>3</td>\n",
              "      <td>2.50</td>\n",
              "      <td>1890</td>\n",
              "      <td>6560</td>\n",
              "      <td>2.0</td>\n",
              "      <td>NO</td>\n",
              "      <td>NONE</td>\n",
              "      <td>...</td>\n",
              "      <td>7 Average</td>\n",
              "      <td>1890</td>\n",
              "      <td>0.0</td>\n",
              "      <td>2003</td>\n",
              "      <td>98038</td>\n",
              "      <td>47.3684</td>\n",
              "      <td>-122.031</td>\n",
              "      <td>2390</td>\n",
              "      <td>7570</td>\n",
              "      <td>No</td>\n",
              "    </tr>\n",
              "  </tbody>\n",
              "</table>\n",
              "<p>10 rows × 21 columns</p>\n",
              "</div>"
            ],
            "text/plain": [
              "           id        date      price  bedrooms  bathrooms  sqft_living  \\\n",
              "0  7129300520  10/13/2014   221900.0         3       1.00         1180   \n",
              "1  6414100192   12/9/2014   538000.0         3       2.25         2570   \n",
              "2  5631500400   2/25/2015   180000.0         2       1.00          770   \n",
              "3  2487200875   12/9/2014   604000.0         4       3.00         1960   \n",
              "4  1954400510   2/18/2015   510000.0         3       2.00         1680   \n",
              "5  7237550310   5/12/2014  1230000.0         4       4.50         5420   \n",
              "6  1321400060   6/27/2014   257500.0         3       2.25         1715   \n",
              "7  2008000270   1/15/2015   291850.0         3       1.50         1060   \n",
              "8  2414600126   4/15/2015   229500.0         3       1.00         1780   \n",
              "9  3793500160   3/12/2015   323000.0         3       2.50         1890   \n",
              "\n",
              "   sqft_lot  floors waterfront  view  ...          grade sqft_above  \\\n",
              "0      5650     1.0       NONE  NONE  ...      7 Average       1180   \n",
              "1      7242     2.0         NO  NONE  ...      7 Average       2170   \n",
              "2     10000     1.0         NO  NONE  ...  6 Low Average        770   \n",
              "3      5000     1.0         NO  NONE  ...      7 Average       1050   \n",
              "4      8080     1.0         NO  NONE  ...         8 Good       1680   \n",
              "5    101930     1.0         NO  NONE  ...   11 Excellent       3890   \n",
              "6      6819     2.0         NO  NONE  ...      7 Average       1715   \n",
              "7      9711     1.0         NO   NaN  ...      7 Average       1060   \n",
              "8      7470     1.0         NO  NONE  ...      7 Average       1050   \n",
              "9      6560     2.0         NO  NONE  ...      7 Average       1890   \n",
              "\n",
              "   sqft_basement yr_built  zipcode      lat     long  sqft_living15  \\\n",
              "0            0.0     1955    98178  47.5112 -122.257           1340   \n",
              "1          400.0     1951    98125  47.7210 -122.319           1690   \n",
              "2            0.0     1933    98028  47.7379 -122.233           2720   \n",
              "3          910.0     1965    98136  47.5208 -122.393           1360   \n",
              "4            0.0     1987    98074  47.6168 -122.045           1800   \n",
              "5         1530.0     2001    98053  47.6561 -122.005           4760   \n",
              "6              ?     1995    98003  47.3097 -122.327           2238   \n",
              "7            0.0     1963    98198  47.4095 -122.315           1650   \n",
              "8          730.0     1960    98146  47.5123 -122.337           1780   \n",
              "9            0.0     2003    98038  47.3684 -122.031           2390   \n",
              "\n",
              "   sqft_lot15  house_renovation  \n",
              "0        5650                No  \n",
              "1        7639               Yes  \n",
              "2        8062                No  \n",
              "3        5000                No  \n",
              "4        7503                No  \n",
              "5      101930                No  \n",
              "6        6819                No  \n",
              "7        9711                No  \n",
              "8        8113                No  \n",
              "9        7570                No  \n",
              "\n",
              "[10 rows x 21 columns]"
            ]
          },
<<<<<<< HEAD
          "execution_count": 12,
=======
          "execution_count": 7,
>>>>>>> 4cf704923d17c6fb6b8a3d7dde97e7835027be1b
          "metadata": {},
          "output_type": "execute_result"
        }
      ],
      "source": [
        "def dropper(df, one=None, two=None, three=None):\n",
        "    '''\n",
        "    Input: DataFrame, request 1,request 2, request 3\n",
        "    requests:\n",
        "    'duplicates' to drop duplicates\n",
        "    'nulls' to drop null values\n",
        "    list containing df column names l = ['','','']\n",
        "    '''\n",
        "    request = [one,two,three]\n",
        "    if 'duplicates' in request:\n",
        "        df = df.drop_duplicates()\n",
        "    if 'nulls' in request:\n",
        "        df = df.dropna()\n",
        "    for req in request:\n",
        "        if isinstance(req, list):\n",
        "            df = df.drop(columns=req, axis=1).reset_index(drop=True)\n",
        "    return(df)\n",
        "\n",
        "\n",
        "print(\"First few rows of the DataFrame:\")\n",
        "\n",
        "#Changing values for our column waterfront\n",
        "# Assuming your DataFrame is named df\n",
        "df['waterfront'] = df['waterfront'].fillna('NONE')\n",
        "print(df['waterfront'].value_counts())\n",
        "\n",
        "df.head(10)"
      ]
    },
    {
      "cell_type": "markdown",
      "metadata": {
        "id": "QcpAUyl582qS"
      },
      "source": [
        "After finding the number of null values in the previous function, we have now dropped our null values using df =df.dropna()"
      ]
    },
    {
      "cell_type": "markdown",
      "metadata": {
        "id": "Ovw-irt582qS"
      },
      "source": [
        "In this dataframe, we have changed the output of waterfront column from NaN to None using the fill.na().\n",
        "the column waterfront has the data type interger.\n",
        "\n",
        "'NO': There are 19075 occurrences of 'NO' in the 'waterfront' column. This indicates that these properties do not have a waterfront view.\n",
        "\n",
        "'NONE': There are 2376 occurrences of 'NONE' in the 'waterfront' column. This likely indicates that these records originally had missing values (NaN) for the waterfront attribute, and they have been replaced with the string 'NONE'.\n",
        "\n",
        "'YES': There are 146 occurrences of 'YES' in the 'waterfront' column. This indicates that these properties have a waterfront view."
      ]
    },
    {
      "cell_type": "markdown",
      "metadata": {
        "id": "L1JIzEwB82qS"
      },
      "source": [
        "## Checking for outliers."
      ]
    },
    {
      "cell_type": "markdown",
      "metadata": {
        "id": "Mx87FBGh82qS"
      },
      "source": [
        "Outliers are simply data points that differ from the rest of the dataset.\n",
        "\n",
        "They may distort statistical measures leading to misinterpretation of data."
      ]
    },
    {
      "cell_type": "markdown",
      "metadata": {
        "id": "ifdj73vy82qS"
      },
      "source": [
        "For us to check for outliers we are needed to focus on the columns such as \"price\",\"bedrooms\",\"bathrooms\",\"sqft_living\",\"sqft_lot\", which are numerical columns.\n",
        "We will use the function 'detect_outliers' to identify the outliers."
      ]
    },
    {
      "cell_type": "code",
<<<<<<< HEAD
      "execution_count": 13,
=======
      "execution_count": 8,
>>>>>>> 4cf704923d17c6fb6b8a3d7dde97e7835027be1b
      "metadata": {
        "colab": {
          "base_uri": "https://localhost:8080/"
        },
        "id": "tYqOXtDL82qT",
        "outputId": "ff0c32f3-dc43-4c29-ce40-527daf450380"
      },
      "outputs": [
        {
          "name": "stdout",
          "output_type": "stream",
          "text": [
            "Outliers in price: Index([    5,    21,    49,    69,   125,   153,   216,   246,   269,   270,\n",
            "       ...\n",
            "       21509, 21514, 21516, 21524, 21535, 21552, 21560, 21574, 21581, 21584],\n",
            "      dtype='int64', length=1158)\n",
            "Outliers in bedrooms: Index([  154,   209,   232,   239,   264,   331,   350,   465,   486,   527,\n",
            "       ...\n",
            "       21170, 21210, 21224, 21310, 21316, 21359, 21427, 21503, 21506, 21536],\n",
            "      dtype='int64', length=530)\n",
            "Outliers in bathrooms: Index([    5,    75,   235,   270,   300,   419,   450,   471,   509,   527,\n",
            "       ...\n",
            "       21490, 21498, 21504, 21514, 21516, 21535, 21545, 21560, 21577, 21584],\n",
            "      dtype='int64', length=561)\n",
            "Outliers in sqft_living: Index([    5,    70,   115,   153,   239,   269,   270,   300,   313,   314,\n",
            "       ...\n",
            "       21505, 21509, 21514, 21516, 21524, 21535, 21545, 21560, 21574, 21584],\n",
            "      dtype='int64', length=571)\n",
            "Outliers in sqft_lot: Index([    5,    12,    21,    36,    41,    49,    60,    69,    70,    74,\n",
            "       ...\n",
            "       21415, 21454, 21468, 21469, 21470, 21478, 21490, 21504, 21509, 21532],\n",
            "      dtype='int64', length=2419)\n"
          ]
        }
      ],
      "source": [
        "import pandas as pd\n",
        "import numpy as np\n",
        "\n",
        "def detect_outliers(df, features):\n",
        "    \"\"\"\n",
        "    Detect outliers in the specified numeric features of the dataframe.\n",
        "\n",
        "    Parameters:\n",
        "    - df: DataFrame containing the data.\n",
        "    - features: List of numeric feature names to check for outliers.\n",
        "\n",
        "    Returns:\n",
        "    - Dictionary containing outlier indices for each feature.\n",
        "    \"\"\"\n",
        "    outlier_indices = {}\n",
        "    for feature in features:\n",
        "        Q1 = np.percentile(df[feature], 25)\n",
        "        Q3 = np.percentile(df[feature], 75)\n",
        "        IQR = Q3 - Q1\n",
        "        # Calculate the outlier step\n",
        "        outlier_step = 1.5 * IQR\n",
        "        # Determine outliers\n",
        "        outlier_list_col = df[(df[feature] < Q1 - outlier_step) | (df[feature] > Q3 + outlier_step)].index\n",
        "        outlier_indices[feature] = outlier_list_col\n",
        "    return outlier_indices\n",
        "\n",
        "# Example usage:\n",
        "# Numeric features to check for outliers\n",
        "numeric_features = ['price', 'bedrooms', 'bathrooms', 'sqft_living', 'sqft_lot']\n",
        "# Detect outliers\n",
        "outliers = detect_outliers(df, numeric_features)\n",
        "# Print outlier indices for each feature\n",
        "for feature, indices in outliers.items():\n",
        "    print(f\"Outliers in {feature}: {indices}\")\n"
      ]
    },
    {
      "cell_type": "markdown",
      "metadata": {
        "id": "tQgMwSyp82qT"
      },
      "source": [
        "The above output indicates that outliers were detected in the price column and the indices of the outliers."
      ]
    },
    {
      "cell_type": "markdown",
      "metadata": {
        "id": "yAVCNKNr82qT"
      },
      "source": [
        "There are 1158 outliers in price. This means there are 1158 houses whose prices are significantly different from the rest in the dataset.\n",
        "\n",
        "There are 530 outliers in the number of bedrooms. These are houses with an unusual number of bedrooms compared to others.\n",
        "\n",
        "There are 561 outliers in the number of bathrooms. Similar to bedrooms, these houses have an unusual number of bathrooms.\n",
        "\n",
        "There are 571 outliers in the size of the living area. These houses have an exceptionally large or small living area compared to others.\n",
        "\n",
        "There are outliers in the size of the lot as well, but the number of outliers is so large that it's difficult to mention the exact count. These houses have unusually large or small lots compared to others."
      ]
    },
    {
      "cell_type": "markdown",
      "metadata": {
        "id": "BFiVcEKC82qT"
      },
      "source": [
        "We are going ahead to drop the outliers in our dataset."
      ]
    },
    {
      "cell_type": "code",
<<<<<<< HEAD
      "execution_count": 14,
=======
      "execution_count": 9,
>>>>>>> 4cf704923d17c6fb6b8a3d7dde97e7835027be1b
      "metadata": {
        "colab": {
          "base_uri": "https://localhost:8080/",
          "height": 547
        },
        "id": "O5ubiYLB82qT",
        "outputId": "e8a92496-9113-4853-c493-b581da537b8d"
      },
      "outputs": [
        {
          "data": {
            "text/html": [
              "<div>\n",
              "<style scoped>\n",
              "    .dataframe tbody tr th:only-of-type {\n",
              "        vertical-align: middle;\n",
              "    }\n",
              "\n",
              "    .dataframe tbody tr th {\n",
              "        vertical-align: top;\n",
              "    }\n",
              "\n",
              "    .dataframe thead th {\n",
              "        text-align: right;\n",
              "    }\n",
              "</style>\n",
              "<table border=\"1\" class=\"dataframe\">\n",
              "  <thead>\n",
              "    <tr style=\"text-align: right;\">\n",
              "      <th></th>\n",
              "      <th>id</th>\n",
              "      <th>date</th>\n",
              "      <th>price</th>\n",
              "      <th>bedrooms</th>\n",
              "      <th>bathrooms</th>\n",
              "      <th>sqft_living</th>\n",
              "      <th>sqft_lot</th>\n",
              "      <th>floors</th>\n",
              "      <th>waterfront</th>\n",
              "      <th>view</th>\n",
              "      <th>...</th>\n",
              "      <th>grade</th>\n",
              "      <th>sqft_above</th>\n",
              "      <th>sqft_basement</th>\n",
              "      <th>yr_built</th>\n",
              "      <th>zipcode</th>\n",
              "      <th>lat</th>\n",
              "      <th>long</th>\n",
              "      <th>sqft_living15</th>\n",
              "      <th>sqft_lot15</th>\n",
              "      <th>house_renovation</th>\n",
              "    </tr>\n",
              "  </thead>\n",
              "  <tbody>\n",
              "    <tr>\n",
              "      <th>0</th>\n",
              "      <td>7129300520</td>\n",
              "      <td>10/13/2014</td>\n",
              "      <td>221900.0</td>\n",
              "      <td>3</td>\n",
              "      <td>1.00</td>\n",
              "      <td>1180</td>\n",
              "      <td>5650</td>\n",
              "      <td>1.0</td>\n",
              "      <td>NONE</td>\n",
              "      <td>NONE</td>\n",
              "      <td>...</td>\n",
              "      <td>7 Average</td>\n",
              "      <td>1180</td>\n",
              "      <td>0.0</td>\n",
              "      <td>1955</td>\n",
              "      <td>98178</td>\n",
              "      <td>47.5112</td>\n",
              "      <td>-122.257</td>\n",
              "      <td>1340</td>\n",
              "      <td>5650</td>\n",
              "      <td>No</td>\n",
              "    </tr>\n",
              "    <tr>\n",
              "      <th>1</th>\n",
              "      <td>6414100192</td>\n",
              "      <td>12/9/2014</td>\n",
              "      <td>538000.0</td>\n",
              "      <td>3</td>\n",
              "      <td>2.25</td>\n",
              "      <td>2570</td>\n",
              "      <td>7242</td>\n",
              "      <td>2.0</td>\n",
              "      <td>NO</td>\n",
              "      <td>NONE</td>\n",
              "      <td>...</td>\n",
              "      <td>7 Average</td>\n",
              "      <td>2170</td>\n",
              "      <td>400.0</td>\n",
              "      <td>1951</td>\n",
              "      <td>98125</td>\n",
              "      <td>47.7210</td>\n",
              "      <td>-122.319</td>\n",
              "      <td>1690</td>\n",
              "      <td>7639</td>\n",
              "      <td>Yes</td>\n",
              "    </tr>\n",
              "    <tr>\n",
              "      <th>2</th>\n",
              "      <td>5631500400</td>\n",
              "      <td>2/25/2015</td>\n",
              "      <td>180000.0</td>\n",
              "      <td>2</td>\n",
              "      <td>1.00</td>\n",
              "      <td>770</td>\n",
              "      <td>10000</td>\n",
              "      <td>1.0</td>\n",
              "      <td>NO</td>\n",
              "      <td>NONE</td>\n",
              "      <td>...</td>\n",
              "      <td>6 Low Average</td>\n",
              "      <td>770</td>\n",
              "      <td>0.0</td>\n",
              "      <td>1933</td>\n",
              "      <td>98028</td>\n",
              "      <td>47.7379</td>\n",
              "      <td>-122.233</td>\n",
              "      <td>2720</td>\n",
              "      <td>8062</td>\n",
              "      <td>No</td>\n",
              "    </tr>\n",
              "    <tr>\n",
              "      <th>3</th>\n",
              "      <td>2487200875</td>\n",
              "      <td>12/9/2014</td>\n",
              "      <td>604000.0</td>\n",
              "      <td>4</td>\n",
              "      <td>3.00</td>\n",
              "      <td>1960</td>\n",
              "      <td>5000</td>\n",
              "      <td>1.0</td>\n",
              "      <td>NO</td>\n",
              "      <td>NONE</td>\n",
              "      <td>...</td>\n",
              "      <td>7 Average</td>\n",
              "      <td>1050</td>\n",
              "      <td>910.0</td>\n",
              "      <td>1965</td>\n",
              "      <td>98136</td>\n",
              "      <td>47.5208</td>\n",
              "      <td>-122.393</td>\n",
              "      <td>1360</td>\n",
              "      <td>5000</td>\n",
              "      <td>No</td>\n",
              "    </tr>\n",
              "    <tr>\n",
              "      <th>4</th>\n",
              "      <td>1954400510</td>\n",
              "      <td>2/18/2015</td>\n",
              "      <td>510000.0</td>\n",
              "      <td>3</td>\n",
              "      <td>2.00</td>\n",
              "      <td>1680</td>\n",
              "      <td>8080</td>\n",
              "      <td>1.0</td>\n",
              "      <td>NO</td>\n",
              "      <td>NONE</td>\n",
              "      <td>...</td>\n",
              "      <td>8 Good</td>\n",
              "      <td>1680</td>\n",
              "      <td>0.0</td>\n",
              "      <td>1987</td>\n",
              "      <td>98074</td>\n",
              "      <td>47.6168</td>\n",
              "      <td>-122.045</td>\n",
              "      <td>1800</td>\n",
              "      <td>7503</td>\n",
              "      <td>No</td>\n",
              "    </tr>\n",
              "    <tr>\n",
              "      <th>...</th>\n",
              "      <td>...</td>\n",
              "      <td>...</td>\n",
              "      <td>...</td>\n",
              "      <td>...</td>\n",
              "      <td>...</td>\n",
              "      <td>...</td>\n",
              "      <td>...</td>\n",
              "      <td>...</td>\n",
              "      <td>...</td>\n",
              "      <td>...</td>\n",
              "      <td>...</td>\n",
              "      <td>...</td>\n",
              "      <td>...</td>\n",
              "      <td>...</td>\n",
              "      <td>...</td>\n",
              "      <td>...</td>\n",
              "      <td>...</td>\n",
              "      <td>...</td>\n",
              "      <td>...</td>\n",
              "      <td>...</td>\n",
              "      <td>...</td>\n",
              "    </tr>\n",
              "    <tr>\n",
              "      <th>21592</th>\n",
              "      <td>263000018</td>\n",
              "      <td>5/21/2014</td>\n",
              "      <td>360000.0</td>\n",
              "      <td>3</td>\n",
              "      <td>2.50</td>\n",
              "      <td>1530</td>\n",
              "      <td>1131</td>\n",
              "      <td>3.0</td>\n",
              "      <td>NO</td>\n",
              "      <td>NONE</td>\n",
              "      <td>...</td>\n",
              "      <td>8 Good</td>\n",
              "      <td>1530</td>\n",
              "      <td>0.0</td>\n",
              "      <td>2009</td>\n",
              "      <td>98103</td>\n",
              "      <td>47.6993</td>\n",
              "      <td>-122.346</td>\n",
              "      <td>1530</td>\n",
              "      <td>1509</td>\n",
              "      <td>No</td>\n",
              "    </tr>\n",
              "    <tr>\n",
              "      <th>21593</th>\n",
              "      <td>6600060120</td>\n",
              "      <td>2/23/2015</td>\n",
              "      <td>400000.0</td>\n",
              "      <td>4</td>\n",
              "      <td>2.50</td>\n",
              "      <td>2310</td>\n",
              "      <td>5813</td>\n",
              "      <td>2.0</td>\n",
              "      <td>NO</td>\n",
              "      <td>NONE</td>\n",
              "      <td>...</td>\n",
              "      <td>8 Good</td>\n",
              "      <td>2310</td>\n",
              "      <td>0.0</td>\n",
              "      <td>2014</td>\n",
              "      <td>98146</td>\n",
              "      <td>47.5107</td>\n",
              "      <td>-122.362</td>\n",
              "      <td>1830</td>\n",
              "      <td>7200</td>\n",
              "      <td>No</td>\n",
              "    </tr>\n",
              "    <tr>\n",
              "      <th>21594</th>\n",
              "      <td>1523300141</td>\n",
              "      <td>6/23/2014</td>\n",
              "      <td>402101.0</td>\n",
              "      <td>2</td>\n",
              "      <td>0.75</td>\n",
              "      <td>1020</td>\n",
              "      <td>1350</td>\n",
              "      <td>2.0</td>\n",
              "      <td>NO</td>\n",
              "      <td>NONE</td>\n",
              "      <td>...</td>\n",
              "      <td>7 Average</td>\n",
              "      <td>1020</td>\n",
              "      <td>0.0</td>\n",
              "      <td>2009</td>\n",
              "      <td>98144</td>\n",
              "      <td>47.5944</td>\n",
              "      <td>-122.299</td>\n",
              "      <td>1020</td>\n",
              "      <td>2007</td>\n",
              "      <td>No</td>\n",
              "    </tr>\n",
              "    <tr>\n",
              "      <th>21595</th>\n",
              "      <td>291310100</td>\n",
              "      <td>1/16/2015</td>\n",
              "      <td>400000.0</td>\n",
              "      <td>3</td>\n",
              "      <td>2.50</td>\n",
              "      <td>1600</td>\n",
              "      <td>2388</td>\n",
              "      <td>2.0</td>\n",
              "      <td>NONE</td>\n",
              "      <td>NONE</td>\n",
              "      <td>...</td>\n",
              "      <td>8 Good</td>\n",
              "      <td>1600</td>\n",
              "      <td>0.0</td>\n",
              "      <td>2004</td>\n",
              "      <td>98027</td>\n",
              "      <td>47.5345</td>\n",
              "      <td>-122.069</td>\n",
              "      <td>1410</td>\n",
              "      <td>1287</td>\n",
              "      <td>No</td>\n",
              "    </tr>\n",
              "    <tr>\n",
              "      <th>21596</th>\n",
              "      <td>1523300157</td>\n",
              "      <td>10/15/2014</td>\n",
              "      <td>325000.0</td>\n",
              "      <td>2</td>\n",
              "      <td>0.75</td>\n",
              "      <td>1020</td>\n",
              "      <td>1076</td>\n",
              "      <td>2.0</td>\n",
              "      <td>NO</td>\n",
              "      <td>NONE</td>\n",
              "      <td>...</td>\n",
              "      <td>7 Average</td>\n",
              "      <td>1020</td>\n",
              "      <td>0.0</td>\n",
              "      <td>2008</td>\n",
              "      <td>98144</td>\n",
              "      <td>47.5941</td>\n",
              "      <td>-122.299</td>\n",
              "      <td>1020</td>\n",
              "      <td>1357</td>\n",
              "      <td>No</td>\n",
              "    </tr>\n",
              "  </tbody>\n",
              "</table>\n",
              "<p>17702 rows × 21 columns</p>\n",
              "</div>"
            ],
            "text/plain": [
              "               id        date     price  bedrooms  bathrooms  sqft_living  \\\n",
              "0      7129300520  10/13/2014  221900.0         3       1.00         1180   \n",
              "1      6414100192   12/9/2014  538000.0         3       2.25         2570   \n",
              "2      5631500400   2/25/2015  180000.0         2       1.00          770   \n",
              "3      2487200875   12/9/2014  604000.0         4       3.00         1960   \n",
              "4      1954400510   2/18/2015  510000.0         3       2.00         1680   \n",
              "...           ...         ...       ...       ...        ...          ...   \n",
              "21592   263000018   5/21/2014  360000.0         3       2.50         1530   \n",
              "21593  6600060120   2/23/2015  400000.0         4       2.50         2310   \n",
              "21594  1523300141   6/23/2014  402101.0         2       0.75         1020   \n",
              "21595   291310100   1/16/2015  400000.0         3       2.50         1600   \n",
              "21596  1523300157  10/15/2014  325000.0         2       0.75         1020   \n",
              "\n",
              "       sqft_lot  floors waterfront  view  ...          grade sqft_above  \\\n",
              "0          5650     1.0       NONE  NONE  ...      7 Average       1180   \n",
              "1          7242     2.0         NO  NONE  ...      7 Average       2170   \n",
              "2         10000     1.0         NO  NONE  ...  6 Low Average        770   \n",
              "3          5000     1.0         NO  NONE  ...      7 Average       1050   \n",
              "4          8080     1.0         NO  NONE  ...         8 Good       1680   \n",
              "...         ...     ...        ...   ...  ...            ...        ...   \n",
              "21592      1131     3.0         NO  NONE  ...         8 Good       1530   \n",
              "21593      5813     2.0         NO  NONE  ...         8 Good       2310   \n",
              "21594      1350     2.0         NO  NONE  ...      7 Average       1020   \n",
              "21595      2388     2.0       NONE  NONE  ...         8 Good       1600   \n",
              "21596      1076     2.0         NO  NONE  ...      7 Average       1020   \n",
              "\n",
              "       sqft_basement yr_built  zipcode      lat     long  sqft_living15  \\\n",
              "0                0.0     1955    98178  47.5112 -122.257           1340   \n",
              "1              400.0     1951    98125  47.7210 -122.319           1690   \n",
              "2                0.0     1933    98028  47.7379 -122.233           2720   \n",
              "3              910.0     1965    98136  47.5208 -122.393           1360   \n",
              "4                0.0     1987    98074  47.6168 -122.045           1800   \n",
              "...              ...      ...      ...      ...      ...            ...   \n",
              "21592            0.0     2009    98103  47.6993 -122.346           1530   \n",
              "21593            0.0     2014    98146  47.5107 -122.362           1830   \n",
              "21594            0.0     2009    98144  47.5944 -122.299           1020   \n",
              "21595            0.0     2004    98027  47.5345 -122.069           1410   \n",
              "21596            0.0     2008    98144  47.5941 -122.299           1020   \n",
              "\n",
              "       sqft_lot15  house_renovation  \n",
              "0            5650                No  \n",
              "1            7639               Yes  \n",
              "2            8062                No  \n",
              "3            5000                No  \n",
              "4            7503                No  \n",
              "...           ...               ...  \n",
              "21592        1509                No  \n",
              "21593        7200                No  \n",
              "21594        2007                No  \n",
              "21595        1287                No  \n",
              "21596        1357                No  \n",
              "\n",
              "[17702 rows x 21 columns]"
            ]
          },
<<<<<<< HEAD
          "execution_count": 14,
=======
          "execution_count": 9,
>>>>>>> 4cf704923d17c6fb6b8a3d7dde97e7835027be1b
          "metadata": {},
          "output_type": "execute_result"
        }
      ],
      "source": [
        "def drop_outliers(df, outliers):\n",
        "    \"\"\"\n",
        "    Drop outliers from the DataFrame.\n",
        "\n",
        "    Parameters:\n",
        "    - df: DataFrame containing the data.\n",
        "    - outliers: Dictionary containing outlier indices for each feature.\n",
        "\n",
        "    Returns:\n",
        "    - DataFrame with outliers removed.\n",
        "    \"\"\"\n",
        "    # Combine outlier indices from all features\n",
        "    outlier_indices = []\n",
        "    for indices in outliers.values():\n",
        "        outlier_indices.extend(indices)\n",
        "    # Drop duplicate indices\n",
        "    outlier_indices = list(set(outlier_indices))\n",
        "    # Drop outliers from DataFrame\n",
        "    df_cleaned = df.drop(outlier_indices)\n",
        "    return df_cleaned\n",
        "\n",
        "# Example usage:\n",
        "# Numeric features to check for outliers\n",
        "numeric_features = ['price', 'bedrooms', 'bathrooms', 'sqft_living', 'sqft_lot']\n",
        "# Detect outliers\n",
        "outliers = detect_outliers(df, numeric_features)\n",
        "# Drop outliers\n",
        "df_cleaned = drop_outliers(df, outliers)\n",
        "df_cleaned"
      ]
    },
    {
      "cell_type": "markdown",
      "metadata": {
        "id": "_kDyzjTm82qU"
      },
      "source": [
        "This drop_outliers function takes the DataFrame df and the outlier indices obtained from detect_outliers function as inputs and returns a DataFrame with the outliers removed.\n",
        "\n",
        "\n",
        "\n",
        "\n",
        "\n"
      ]
    },
    {
      "cell_type": "code",
<<<<<<< HEAD
      "execution_count": 15,
=======
      "execution_count": 10,
>>>>>>> 4cf704923d17c6fb6b8a3d7dde97e7835027be1b
      "metadata": {
        "colab": {
          "base_uri": "https://localhost:8080/"
        },
        "id": "z2tU2kaq82qU",
        "outputId": "0a0f7192-c5b9-4b3a-d7cb-f2bd5af9dd2b"
      },
      "outputs": [
        {
          "name": "stdout",
          "output_type": "stream",
          "text": [
            "Shape of original DataFrame: (21597, 21)\n",
            "Shape of cleaned DataFrame: (17702, 21)\n"
          ]
        }
      ],
      "source": [
        "# Step 1: Define numeric features\n",
        "numeric_features = ['price', 'bedrooms', 'bathrooms', 'sqft_living', 'sqft_lot']\n",
        "\n",
        "# Step 2: Detect outliers\n",
        "outliers = detect_outliers(df, numeric_features)\n",
        "\n",
        "# Step 3: Drop outliers\n",
        "df_cleaned = drop_outliers(df, outliers)\n",
        "\n",
        "# Optional: Check the shape of the cleaned DataFrame\n",
        "print(\"Shape of original DataFrame:\", df.shape)\n",
        "print(\"Shape of cleaned DataFrame:\", df_cleaned.shape)\n"
      ]
    },
    {
      "cell_type": "markdown",
      "metadata": {
        "id": "Bt9ALzTg82qU"
      },
      "source": [
        "This output shows that we managed to remove outliers from the dataframe because initially the dataframe has 21597 rows and after cleaning the data and removing the outliers, we were left with 17702. So a  significant portion of the data points were identified as outliers and were removed."
      ]
    },
    {
      "cell_type": "code",
<<<<<<< HEAD
      "execution_count": 16,
=======
      "execution_count": 11,
>>>>>>> 4cf704923d17c6fb6b8a3d7dde97e7835027be1b
      "metadata": {
        "colab": {
          "base_uri": "https://localhost:8080/"
        },
        "id": "BhoYQkyk82qU",
        "outputId": "c3b47ec8-1161-46fe-e8b9-3f6d5077c475"
      },
      "outputs": [
        {
          "data": {
            "text/plain": [
              "id                   0\n",
              "date                 0\n",
              "price                0\n",
              "bedrooms             0\n",
              "bathrooms            0\n",
              "sqft_living          0\n",
              "sqft_lot             0\n",
              "floors               0\n",
              "waterfront           0\n",
              "view                53\n",
              "condition            0\n",
              "grade                0\n",
              "sqft_above           0\n",
              "sqft_basement        0\n",
              "yr_built             0\n",
              "zipcode              0\n",
              "lat                  0\n",
              "long                 0\n",
              "sqft_living15        0\n",
              "sqft_lot15           0\n",
              "house_renovation     0\n",
              "dtype: int64"
            ]
          },
<<<<<<< HEAD
          "execution_count": 16,
=======
          "execution_count": 11,
>>>>>>> 4cf704923d17c6fb6b8a3d7dde97e7835027be1b
          "metadata": {},
          "output_type": "execute_result"
        }
      ],
      "source": [
        "df_cleaned.isna().sum()"
      ]
    },
    {
      "cell_type": "markdown",
      "metadata": {
        "id": "tli6HTMs82qU"
      },
      "source": [
        "The view column appears to have 53 null values. So I went ahead and dropped them using the .dropna() function."
      ]
    },
    {
      "cell_type": "code",
<<<<<<< HEAD
      "execution_count": 17,
=======
      "execution_count": 12,
>>>>>>> 4cf704923d17c6fb6b8a3d7dde97e7835027be1b
      "metadata": {
        "colab": {
          "base_uri": "https://localhost:8080/",
          "height": 547
        },
        "id": "wyo5_RCL82qU",
        "outputId": "6faa9870-59df-4194-8d99-4252cacea921"
      },
      "outputs": [
        {
          "data": {
            "text/html": [
              "<div>\n",
              "<style scoped>\n",
              "    .dataframe tbody tr th:only-of-type {\n",
              "        vertical-align: middle;\n",
              "    }\n",
              "\n",
              "    .dataframe tbody tr th {\n",
              "        vertical-align: top;\n",
              "    }\n",
              "\n",
              "    .dataframe thead th {\n",
              "        text-align: right;\n",
              "    }\n",
              "</style>\n",
              "<table border=\"1\" class=\"dataframe\">\n",
              "  <thead>\n",
              "    <tr style=\"text-align: right;\">\n",
              "      <th></th>\n",
              "      <th>id</th>\n",
              "      <th>date</th>\n",
              "      <th>price</th>\n",
              "      <th>bedrooms</th>\n",
              "      <th>bathrooms</th>\n",
              "      <th>sqft_living</th>\n",
              "      <th>sqft_lot</th>\n",
              "      <th>floors</th>\n",
              "      <th>waterfront</th>\n",
              "      <th>view</th>\n",
              "      <th>...</th>\n",
              "      <th>grade</th>\n",
              "      <th>sqft_above</th>\n",
              "      <th>sqft_basement</th>\n",
              "      <th>yr_built</th>\n",
              "      <th>zipcode</th>\n",
              "      <th>lat</th>\n",
              "      <th>long</th>\n",
              "      <th>sqft_living15</th>\n",
              "      <th>sqft_lot15</th>\n",
              "      <th>house_renovation</th>\n",
              "    </tr>\n",
              "  </thead>\n",
              "  <tbody>\n",
              "    <tr>\n",
              "      <th>0</th>\n",
              "      <td>7129300520</td>\n",
              "      <td>10/13/2014</td>\n",
              "      <td>221900.0</td>\n",
              "      <td>3</td>\n",
              "      <td>1.00</td>\n",
              "      <td>1180</td>\n",
              "      <td>5650</td>\n",
              "      <td>1.0</td>\n",
              "      <td>NONE</td>\n",
              "      <td>NONE</td>\n",
              "      <td>...</td>\n",
              "      <td>7 Average</td>\n",
              "      <td>1180</td>\n",
              "      <td>0.0</td>\n",
              "      <td>1955</td>\n",
              "      <td>98178</td>\n",
              "      <td>47.5112</td>\n",
              "      <td>-122.257</td>\n",
              "      <td>1340</td>\n",
              "      <td>5650</td>\n",
              "      <td>No</td>\n",
              "    </tr>\n",
              "    <tr>\n",
              "      <th>1</th>\n",
              "      <td>6414100192</td>\n",
              "      <td>12/9/2014</td>\n",
              "      <td>538000.0</td>\n",
              "      <td>3</td>\n",
              "      <td>2.25</td>\n",
              "      <td>2570</td>\n",
              "      <td>7242</td>\n",
              "      <td>2.0</td>\n",
              "      <td>NO</td>\n",
              "      <td>NONE</td>\n",
              "      <td>...</td>\n",
              "      <td>7 Average</td>\n",
              "      <td>2170</td>\n",
              "      <td>400.0</td>\n",
              "      <td>1951</td>\n",
              "      <td>98125</td>\n",
              "      <td>47.7210</td>\n",
              "      <td>-122.319</td>\n",
              "      <td>1690</td>\n",
              "      <td>7639</td>\n",
              "      <td>Yes</td>\n",
              "    </tr>\n",
              "    <tr>\n",
              "      <th>2</th>\n",
              "      <td>5631500400</td>\n",
              "      <td>2/25/2015</td>\n",
              "      <td>180000.0</td>\n",
              "      <td>2</td>\n",
              "      <td>1.00</td>\n",
              "      <td>770</td>\n",
              "      <td>10000</td>\n",
              "      <td>1.0</td>\n",
              "      <td>NO</td>\n",
              "      <td>NONE</td>\n",
              "      <td>...</td>\n",
              "      <td>6 Low Average</td>\n",
              "      <td>770</td>\n",
              "      <td>0.0</td>\n",
              "      <td>1933</td>\n",
              "      <td>98028</td>\n",
              "      <td>47.7379</td>\n",
              "      <td>-122.233</td>\n",
              "      <td>2720</td>\n",
              "      <td>8062</td>\n",
              "      <td>No</td>\n",
              "    </tr>\n",
              "    <tr>\n",
              "      <th>3</th>\n",
              "      <td>2487200875</td>\n",
              "      <td>12/9/2014</td>\n",
              "      <td>604000.0</td>\n",
              "      <td>4</td>\n",
              "      <td>3.00</td>\n",
              "      <td>1960</td>\n",
              "      <td>5000</td>\n",
              "      <td>1.0</td>\n",
              "      <td>NO</td>\n",
              "      <td>NONE</td>\n",
              "      <td>...</td>\n",
              "      <td>7 Average</td>\n",
              "      <td>1050</td>\n",
              "      <td>910.0</td>\n",
              "      <td>1965</td>\n",
              "      <td>98136</td>\n",
              "      <td>47.5208</td>\n",
              "      <td>-122.393</td>\n",
              "      <td>1360</td>\n",
              "      <td>5000</td>\n",
              "      <td>No</td>\n",
              "    </tr>\n",
              "    <tr>\n",
              "      <th>4</th>\n",
              "      <td>1954400510</td>\n",
              "      <td>2/18/2015</td>\n",
              "      <td>510000.0</td>\n",
              "      <td>3</td>\n",
              "      <td>2.00</td>\n",
              "      <td>1680</td>\n",
              "      <td>8080</td>\n",
              "      <td>1.0</td>\n",
              "      <td>NO</td>\n",
              "      <td>NONE</td>\n",
              "      <td>...</td>\n",
              "      <td>8 Good</td>\n",
              "      <td>1680</td>\n",
              "      <td>0.0</td>\n",
              "      <td>1987</td>\n",
              "      <td>98074</td>\n",
              "      <td>47.6168</td>\n",
              "      <td>-122.045</td>\n",
              "      <td>1800</td>\n",
              "      <td>7503</td>\n",
              "      <td>No</td>\n",
              "    </tr>\n",
              "    <tr>\n",
              "      <th>...</th>\n",
              "      <td>...</td>\n",
              "      <td>...</td>\n",
              "      <td>...</td>\n",
              "      <td>...</td>\n",
              "      <td>...</td>\n",
              "      <td>...</td>\n",
              "      <td>...</td>\n",
              "      <td>...</td>\n",
              "      <td>...</td>\n",
              "      <td>...</td>\n",
              "      <td>...</td>\n",
              "      <td>...</td>\n",
              "      <td>...</td>\n",
              "      <td>...</td>\n",
              "      <td>...</td>\n",
              "      <td>...</td>\n",
              "      <td>...</td>\n",
              "      <td>...</td>\n",
              "      <td>...</td>\n",
              "      <td>...</td>\n",
              "      <td>...</td>\n",
              "    </tr>\n",
              "    <tr>\n",
              "      <th>21592</th>\n",
              "      <td>263000018</td>\n",
              "      <td>5/21/2014</td>\n",
              "      <td>360000.0</td>\n",
              "      <td>3</td>\n",
              "      <td>2.50</td>\n",
              "      <td>1530</td>\n",
              "      <td>1131</td>\n",
              "      <td>3.0</td>\n",
              "      <td>NO</td>\n",
              "      <td>NONE</td>\n",
              "      <td>...</td>\n",
              "      <td>8 Good</td>\n",
              "      <td>1530</td>\n",
              "      <td>0.0</td>\n",
              "      <td>2009</td>\n",
              "      <td>98103</td>\n",
              "      <td>47.6993</td>\n",
              "      <td>-122.346</td>\n",
              "      <td>1530</td>\n",
              "      <td>1509</td>\n",
              "      <td>No</td>\n",
              "    </tr>\n",
              "    <tr>\n",
              "      <th>21593</th>\n",
              "      <td>6600060120</td>\n",
              "      <td>2/23/2015</td>\n",
              "      <td>400000.0</td>\n",
              "      <td>4</td>\n",
              "      <td>2.50</td>\n",
              "      <td>2310</td>\n",
              "      <td>5813</td>\n",
              "      <td>2.0</td>\n",
              "      <td>NO</td>\n",
              "      <td>NONE</td>\n",
              "      <td>...</td>\n",
              "      <td>8 Good</td>\n",
              "      <td>2310</td>\n",
              "      <td>0.0</td>\n",
              "      <td>2014</td>\n",
              "      <td>98146</td>\n",
              "      <td>47.5107</td>\n",
              "      <td>-122.362</td>\n",
              "      <td>1830</td>\n",
              "      <td>7200</td>\n",
              "      <td>No</td>\n",
              "    </tr>\n",
              "    <tr>\n",
              "      <th>21594</th>\n",
              "      <td>1523300141</td>\n",
              "      <td>6/23/2014</td>\n",
              "      <td>402101.0</td>\n",
              "      <td>2</td>\n",
              "      <td>0.75</td>\n",
              "      <td>1020</td>\n",
              "      <td>1350</td>\n",
              "      <td>2.0</td>\n",
              "      <td>NO</td>\n",
              "      <td>NONE</td>\n",
              "      <td>...</td>\n",
              "      <td>7 Average</td>\n",
              "      <td>1020</td>\n",
              "      <td>0.0</td>\n",
              "      <td>2009</td>\n",
              "      <td>98144</td>\n",
              "      <td>47.5944</td>\n",
              "      <td>-122.299</td>\n",
              "      <td>1020</td>\n",
              "      <td>2007</td>\n",
              "      <td>No</td>\n",
              "    </tr>\n",
              "    <tr>\n",
              "      <th>21595</th>\n",
              "      <td>291310100</td>\n",
              "      <td>1/16/2015</td>\n",
              "      <td>400000.0</td>\n",
              "      <td>3</td>\n",
              "      <td>2.50</td>\n",
              "      <td>1600</td>\n",
              "      <td>2388</td>\n",
              "      <td>2.0</td>\n",
              "      <td>NONE</td>\n",
              "      <td>NONE</td>\n",
              "      <td>...</td>\n",
              "      <td>8 Good</td>\n",
              "      <td>1600</td>\n",
              "      <td>0.0</td>\n",
              "      <td>2004</td>\n",
              "      <td>98027</td>\n",
              "      <td>47.5345</td>\n",
              "      <td>-122.069</td>\n",
              "      <td>1410</td>\n",
              "      <td>1287</td>\n",
              "      <td>No</td>\n",
              "    </tr>\n",
              "    <tr>\n",
              "      <th>21596</th>\n",
              "      <td>1523300157</td>\n",
              "      <td>10/15/2014</td>\n",
              "      <td>325000.0</td>\n",
              "      <td>2</td>\n",
              "      <td>0.75</td>\n",
              "      <td>1020</td>\n",
              "      <td>1076</td>\n",
              "      <td>2.0</td>\n",
              "      <td>NO</td>\n",
              "      <td>NONE</td>\n",
              "      <td>...</td>\n",
              "      <td>7 Average</td>\n",
              "      <td>1020</td>\n",
              "      <td>0.0</td>\n",
              "      <td>2008</td>\n",
              "      <td>98144</td>\n",
              "      <td>47.5941</td>\n",
              "      <td>-122.299</td>\n",
              "      <td>1020</td>\n",
              "      <td>1357</td>\n",
              "      <td>No</td>\n",
              "    </tr>\n",
              "  </tbody>\n",
              "</table>\n",
              "<p>17649 rows × 21 columns</p>\n",
              "</div>"
            ],
            "text/plain": [
              "               id        date     price  bedrooms  bathrooms  sqft_living  \\\n",
              "0      7129300520  10/13/2014  221900.0         3       1.00         1180   \n",
              "1      6414100192   12/9/2014  538000.0         3       2.25         2570   \n",
              "2      5631500400   2/25/2015  180000.0         2       1.00          770   \n",
              "3      2487200875   12/9/2014  604000.0         4       3.00         1960   \n",
              "4      1954400510   2/18/2015  510000.0         3       2.00         1680   \n",
              "...           ...         ...       ...       ...        ...          ...   \n",
              "21592   263000018   5/21/2014  360000.0         3       2.50         1530   \n",
              "21593  6600060120   2/23/2015  400000.0         4       2.50         2310   \n",
              "21594  1523300141   6/23/2014  402101.0         2       0.75         1020   \n",
              "21595   291310100   1/16/2015  400000.0         3       2.50         1600   \n",
              "21596  1523300157  10/15/2014  325000.0         2       0.75         1020   \n",
              "\n",
              "       sqft_lot  floors waterfront  view  ...          grade sqft_above  \\\n",
              "0          5650     1.0       NONE  NONE  ...      7 Average       1180   \n",
              "1          7242     2.0         NO  NONE  ...      7 Average       2170   \n",
              "2         10000     1.0         NO  NONE  ...  6 Low Average        770   \n",
              "3          5000     1.0         NO  NONE  ...      7 Average       1050   \n",
              "4          8080     1.0         NO  NONE  ...         8 Good       1680   \n",
              "...         ...     ...        ...   ...  ...            ...        ...   \n",
              "21592      1131     3.0         NO  NONE  ...         8 Good       1530   \n",
              "21593      5813     2.0         NO  NONE  ...         8 Good       2310   \n",
              "21594      1350     2.0         NO  NONE  ...      7 Average       1020   \n",
              "21595      2388     2.0       NONE  NONE  ...         8 Good       1600   \n",
              "21596      1076     2.0         NO  NONE  ...      7 Average       1020   \n",
              "\n",
              "       sqft_basement yr_built  zipcode      lat     long  sqft_living15  \\\n",
              "0                0.0     1955    98178  47.5112 -122.257           1340   \n",
              "1              400.0     1951    98125  47.7210 -122.319           1690   \n",
              "2                0.0     1933    98028  47.7379 -122.233           2720   \n",
              "3              910.0     1965    98136  47.5208 -122.393           1360   \n",
              "4                0.0     1987    98074  47.6168 -122.045           1800   \n",
              "...              ...      ...      ...      ...      ...            ...   \n",
              "21592            0.0     2009    98103  47.6993 -122.346           1530   \n",
              "21593            0.0     2014    98146  47.5107 -122.362           1830   \n",
              "21594            0.0     2009    98144  47.5944 -122.299           1020   \n",
              "21595            0.0     2004    98027  47.5345 -122.069           1410   \n",
              "21596            0.0     2008    98144  47.5941 -122.299           1020   \n",
              "\n",
              "       sqft_lot15  house_renovation  \n",
              "0            5650                No  \n",
              "1            7639               Yes  \n",
              "2            8062                No  \n",
              "3            5000                No  \n",
              "4            7503                No  \n",
              "...           ...               ...  \n",
              "21592        1509                No  \n",
              "21593        7200                No  \n",
              "21594        2007                No  \n",
              "21595        1287                No  \n",
              "21596        1357                No  \n",
              "\n",
              "[17649 rows x 21 columns]"
            ]
          },
<<<<<<< HEAD
          "execution_count": 17,
=======
          "execution_count": 12,
>>>>>>> 4cf704923d17c6fb6b8a3d7dde97e7835027be1b
          "metadata": {},
          "output_type": "execute_result"
        }
      ],
      "source": [
        "df_cleaned.dropna()"
      ]
    },
    {
      "cell_type": "markdown",
      "metadata": {
        "id": "IKN5OEdu82qU"
      },
      "source": [
        "From the cleaned dataframe I dropped  the null values."
      ]
    },
    {
      "cell_type": "code",
<<<<<<< HEAD
      "execution_count": 18,
=======
      "execution_count": 13,
>>>>>>> 4cf704923d17c6fb6b8a3d7dde97e7835027be1b
      "metadata": {
        "colab": {
          "base_uri": "https://localhost:8080/"
        },
        "id": "KQ0Ka6BE82qU",
        "outputId": "66636bbf-8aa3-4b31-9a85-feb91aa7450f"
      },
      "outputs": [
        {
          "name": "stdout",
          "output_type": "stream",
          "text": [
            "<class 'pandas.core.frame.DataFrame'>\n",
            "Index: 17702 entries, 0 to 21596\n",
            "Data columns (total 21 columns):\n",
            " #   Column            Non-Null Count  Dtype  \n",
            "---  ------            --------------  -----  \n",
            " 0   id                17702 non-null  int64  \n",
            " 1   date              17702 non-null  object \n",
            " 2   price             17702 non-null  float64\n",
            " 3   bedrooms          17702 non-null  int64  \n",
            " 4   bathrooms         17702 non-null  float64\n",
            " 5   sqft_living       17702 non-null  int64  \n",
            " 6   sqft_lot          17702 non-null  int64  \n",
            " 7   floors            17702 non-null  float64\n",
            " 8   waterfront        17702 non-null  object \n",
            " 9   view              17649 non-null  object \n",
            " 10  condition         17702 non-null  object \n",
            " 11  grade             17702 non-null  object \n",
            " 12  sqft_above        17702 non-null  int64  \n",
            " 13  sqft_basement     17702 non-null  object \n",
            " 14  yr_built          17702 non-null  int64  \n",
            " 15  zipcode           17702 non-null  int64  \n",
            " 16  lat               17702 non-null  float64\n",
            " 17  long              17702 non-null  float64\n",
            " 18  sqft_living15     17702 non-null  int64  \n",
            " 19  sqft_lot15        17702 non-null  int64  \n",
            " 20  house_renovation  17702 non-null  object \n",
            "dtypes: float64(5), int64(9), object(7)\n",
            "memory usage: 3.0+ MB\n"
          ]
        }
      ],
      "source": [
        "df_cleaned.info()"
      ]
    },
    {
      "cell_type": "markdown",
      "metadata": {
        "id": "_ihddf0d82qU"
      },
      "source": [
        "From the information above obtained from the kc.house data_csv  after cleaning my data,I was able to observe the following:\n",
        "\n",
        "The total number of entries was 17702.\n",
        "\n",
        "There was both Numerical and categorical data:\n",
        "\n",
        "a)Numerical data 13\n",
        "\n",
        "b)categorical data 8"
      ]
    },
    {
      "cell_type": "markdown",
      "metadata": {
        "id": "pGrutk8W82qV"
      },
      "source": []
    },
    {
      "cell_type": "markdown",
      "metadata": {
        "id": "wjSs7wFIltLb"
      },
      "source": [
        "## **DATA ANALYSIS**\n",
        "\n",
        "This section deals with the objectives of the project, and it involves thorough analysis of the data present and visualization to establish relationships and behaviors between elements in the table"
      ]
    },
    {
      "cell_type": "markdown",
      "metadata": {
        "id": "VAMLjMrGm9Iz"
      },
      "source": [
        "Objective 1: To evaluate how the number of floors impacts the price of a house in King County  \n",
        "\n",
        "Following the first objective , we aim to find out of the number of floors impact the price of the houses in King county. We first check the contents of the \"floors\" column and using a sample size of 50, we can view the contents contained.\n",
        "We then check the contents of the \"price column using the same sample size for easier viewing. During visualization, all data points will be used"
      ]
    },
    {
      "cell_type": "code",
<<<<<<< HEAD
      "execution_count": 19,
=======
      "execution_count": 14,
>>>>>>> 4cf704923d17c6fb6b8a3d7dde97e7835027be1b
      "metadata": {
        "colab": {
          "base_uri": "https://localhost:8080/"
        },
        "id": "RhQ-Wbcdlqdy",
        "outputId": "d0bf9642-ae8e-4291-f58b-cb91ae044423"
      },
      "outputs": [
        {
          "data": {
            "text/plain": [
<<<<<<< HEAD
              "10203    1.0\n",
              "3127     1.0\n",
              "17511    1.0\n",
              "15768    1.0\n",
              "12459    2.0\n",
              "15703    2.0\n",
              "7212     2.0\n",
              "4046     1.0\n",
              "3904     2.0\n",
              "3732     1.0\n",
              "2988     1.5\n",
              "1357     1.0\n",
              "10827    1.0\n",
              "707      1.0\n",
              "21561    2.0\n",
              "11497    1.0\n",
              "16368    1.0\n",
              "849      1.0\n",
              "16582    1.0\n",
              "14620    1.0\n",
              "2325     1.0\n",
              "20767    2.0\n",
              "3650     2.0\n",
              "20234    3.0\n",
              "12412    2.0\n",
              "17836    1.0\n",
              "11441    1.0\n",
              "20422    2.0\n",
              "8276     3.0\n",
              "2324     1.0\n",
              "15084    2.0\n",
              "3266     1.0\n",
              "5077     2.0\n",
              "6657     2.0\n",
              "2303     2.0\n",
              "2702     2.0\n",
              "12109    1.0\n",
              "15448    1.0\n",
              "9840     1.0\n",
              "14189    2.0\n",
              "19733    2.0\n",
              "8056     1.0\n",
              "5379     2.0\n",
              "20407    2.0\n",
              "4176     1.0\n",
              "20408    2.0\n",
              "15682    2.0\n",
              "14318    1.0\n",
              "21412    2.0\n",
              "3434     1.0\n",
              "Name: floors, dtype: float64"
            ]
          },
          "execution_count": 19,
=======
              "2115     1.0\n",
              "18036    2.0\n",
              "688      1.0\n",
              "18405    1.0\n",
              "15195    1.5\n",
              "6687     1.0\n",
              "2295     2.0\n",
              "11838    2.0\n",
              "15915    1.0\n",
              "18483    1.0\n",
              "20851    2.0\n",
              "12661    1.0\n",
              "3877     1.0\n",
              "16882    2.0\n",
              "18298    1.0\n",
              "14468    1.0\n",
              "6044     1.0\n",
              "14336    1.0\n",
              "20448    2.0\n",
              "8833     2.0\n",
              "6108     1.0\n",
              "5125     2.0\n",
              "7753     1.0\n",
              "1013     1.0\n",
              "12037    1.0\n",
              "8973     1.5\n",
              "14462    1.0\n",
              "20291    2.0\n",
              "19937    2.0\n",
              "72       1.5\n",
              "16225    2.0\n",
              "12235    1.0\n",
              "20714    2.0\n",
              "20774    2.0\n",
              "7654     1.0\n",
              "20117    2.0\n",
              "12947    2.0\n",
              "2559     2.0\n",
              "14430    1.5\n",
              "7777     1.0\n",
              "15064    1.5\n",
              "7705     2.0\n",
              "19269    1.0\n",
              "21216    2.0\n",
              "15746    1.5\n",
              "12262    2.0\n",
              "9421     1.0\n",
              "14009    1.0\n",
              "6385     2.0\n",
              "20900    2.0\n",
              "Name: floors, dtype: float64"
            ]
          },
          "execution_count": 14,
>>>>>>> 4cf704923d17c6fb6b8a3d7dde97e7835027be1b
          "metadata": {},
          "output_type": "execute_result"
        }
      ],
      "source": [
        "df_cleaned['floors'].sample(50)"
      ]
    },
    {
      "cell_type": "markdown",
      "metadata": {
        "id": "AUfOgdabmekL"
      },
      "source": []
    },
    {
      "cell_type": "code",
<<<<<<< HEAD
      "execution_count": 20,
=======
      "execution_count": 15,
>>>>>>> 4cf704923d17c6fb6b8a3d7dde97e7835027be1b
      "metadata": {
        "colab": {
          "base_uri": "https://localhost:8080/"
        },
        "id": "eCdDwLxCmKpK",
        "outputId": "4ddd477b-1e1d-47ae-9ba9-515e818d5d69"
      },
      "outputs": [
        {
          "data": {
            "text/plain": [
<<<<<<< HEAD
              "14228    140000.0\n",
              "10644    304500.0\n",
              "8168     355000.0\n",
              "1751     368000.0\n",
              "8091     640000.0\n",
              "2416     280000.0\n",
              "15974    825000.0\n",
              "6477     525000.0\n",
              "20767    430000.0\n",
              "4405     565000.0\n",
              "4002     295000.0\n",
              "1854     339000.0\n",
              "4935     266500.0\n",
              "12943    269000.0\n",
              "2001     560000.0\n",
              "11185    344950.0\n",
              "20846    336900.0\n",
              "459      255000.0\n",
              "13499    728935.0\n",
              "1048     716500.0\n",
              "13164    585000.0\n",
              "8672     270000.0\n",
              "8562     726500.0\n",
              "15638    419950.0\n",
              "15823    440000.0\n",
              "10812    598850.0\n",
              "5598     370000.0\n",
              "4440     705000.0\n",
              "18100    645000.0\n",
              "18824    295000.0\n",
              "16341    295000.0\n",
              "16870    547500.0\n",
              "4602     467000.0\n",
              "12135    305000.0\n",
              "18758    322500.0\n",
              "3691     625000.0\n",
              "1483     250000.0\n",
              "17189    707000.0\n",
              "1430     265000.0\n",
              "8617     425000.0\n",
              "15701    751000.0\n",
              "19232    178500.0\n",
              "20510    584000.0\n",
              "3884     680000.0\n",
              "227      264950.0\n",
              "3330     368500.0\n",
              "11087    485000.0\n",
              "32       687500.0\n",
              "15850    237500.0\n",
              "5539     587000.0\n",
              "Name: price, dtype: float64"
            ]
          },
          "execution_count": 20,
=======
              "9477      287000.0\n",
              "1865      365000.0\n",
              "15875     370000.0\n",
              "15161     350000.0\n",
              "14717     270000.0\n",
              "14616     283000.0\n",
              "19055     250000.0\n",
              "4372      350000.0\n",
              "20457     661000.0\n",
              "20072     389000.0\n",
              "4518      575000.0\n",
              "810       345000.0\n",
              "9743      329000.0\n",
              "15987     500000.0\n",
              "4590      850000.0\n",
              "12254     375000.0\n",
              "233       213000.0\n",
              "11014     469000.0\n",
              "6439      286285.0\n",
              "2853      582000.0\n",
              "4226      527500.0\n",
              "21186     450800.0\n",
              "3285      476500.0\n",
              "3102      283200.0\n",
              "19407     405000.0\n",
              "19302     330000.0\n",
              "17641     746000.0\n",
              "16923     240000.0\n",
              "7090      285000.0\n",
              "18382     306000.0\n",
              "3051      716000.0\n",
              "8205      453000.0\n",
              "6437      517500.0\n",
              "34        322500.0\n",
              "1714      800000.0\n",
              "14343    1010000.0\n",
              "16207     300000.0\n",
              "984       535000.0\n",
              "20806     780000.0\n",
              "17260     368000.0\n",
              "6630      941500.0\n",
              "20775     760005.0\n",
              "2424      335000.0\n",
              "6609      225000.0\n",
              "10010     465000.0\n",
              "11070     344950.0\n",
              "3823      775000.0\n",
              "20281     333000.0\n",
              "20581     457000.0\n",
              "927       359000.0\n",
              "Name: price, dtype: float64"
            ]
          },
          "execution_count": 15,
>>>>>>> 4cf704923d17c6fb6b8a3d7dde97e7835027be1b
          "metadata": {},
          "output_type": "execute_result"
        }
      ],
      "source": [
        "df_cleaned['price'].sample(50)"
      ]
    },
    {
      "cell_type": "markdown",
      "metadata": {
        "id": "bhCHKnUCnYgA"
      },
      "source": [
        "Next, we sort the data in ascending order in order to gain an easier progression of the floor and for easier readability. After that, we can plot a scatter plot to visually see the relationship between floors and pricing in houses in King County"
      ]
    },
    {
      "cell_type": "code",
<<<<<<< HEAD
      "execution_count": 21,
=======
      "execution_count": 16,
>>>>>>> 4cf704923d17c6fb6b8a3d7dde97e7835027be1b
      "metadata": {
        "colab": {
          "base_uri": "https://localhost:8080/"
        },
        "id": "mxDP4ImlnTN4",
        "outputId": "28707cc6-6ed6-4c67-f5c4-a6ff6562d369"
      },
      "outputs": [
        {
          "data": {
            "text/plain": [
              "0        1.0\n",
              "7812     1.0\n",
              "7814     1.0\n",
              "12858    1.0\n",
              "7816     1.0\n",
              "        ... \n",
              "15410    3.5\n",
              "10066    3.5\n",
              "14871    3.5\n",
              "11582    3.5\n",
              "20292    3.5\n",
              "Name: floors, Length: 17702, dtype: float64"
            ]
          },
<<<<<<< HEAD
          "execution_count": 21,
=======
          "execution_count": 16,
>>>>>>> 4cf704923d17c6fb6b8a3d7dde97e7835027be1b
          "metadata": {},
          "output_type": "execute_result"
        }
      ],
      "source": [
        "sorted_df_floors = df_cleaned.sort_values(by=['floors'])\n",
        "sorted_df_price = df_cleaned.sort_values(by=['price'])\n",
        "sorted_df_floors['floors']"
      ]
    },
    {
      "cell_type": "code",
<<<<<<< HEAD
      "execution_count": 27,
=======
      "execution_count": 17,
>>>>>>> 4cf704923d17c6fb6b8a3d7dde97e7835027be1b
      "metadata": {
        "colab": {
          "base_uri": "https://localhost:8080/",
          "height": 561
        },
        "id": "t6IROY0cnnr7",
        "outputId": "a8cad2ac-315e-4522-daad-57436c478248"
      },
      "outputs": [
        {
          "name": "stderr",
          "output_type": "stream",
          "text": [
<<<<<<< HEAD
            "C:\\Users\\User\\AppData\\Local\\Temp\\ipykernel_32812\\3382943146.py:6: MatplotlibDeprecationWarning: The get_cmap function was deprecated in Matplotlib 3.7 and will be removed two minor releases later. Use ``matplotlib.colormaps[name]`` or ``matplotlib.colormaps.get_cmap(obj)`` instead.\n",
            "  cmap = plt.cm.get_cmap('cividis')  # Or any other colormap you prefer\n"
          ]
        },
        {
          "ename": "ValueError",
          "evalue": "Unable to determine Axes to steal space for Colorbar. Either provide the *cax* argument to use as the Axes for the Colorbar, provide the *ax* argument to steal space from it, or add *mappable* to an Axes.",
          "output_type": "error",
          "traceback": [
            "\u001b[1;31m---------------------------------------------------------------------------\u001b[0m",
            "\u001b[1;31mValueError\u001b[0m                                Traceback (most recent call last)",
            "Cell \u001b[1;32mIn[27], line 13\u001b[0m\n\u001b[0;32m     11\u001b[0m \u001b[38;5;66;03m# Color points based on price ranges\u001b[39;00m\n\u001b[0;32m     12\u001b[0m plt\u001b[38;5;241m.\u001b[39mscatter(sorted_df_floors[\u001b[38;5;124m'\u001b[39m\u001b[38;5;124mfloors\u001b[39m\u001b[38;5;124m'\u001b[39m], sorted_df_price[\u001b[38;5;124m'\u001b[39m\u001b[38;5;124mprice\u001b[39m\u001b[38;5;124m'\u001b[39m], c\u001b[38;5;241m=\u001b[39mnorm(sorted_df_price[\u001b[38;5;124m'\u001b[39m\u001b[38;5;124mprice\u001b[39m\u001b[38;5;124m'\u001b[39m]))\n\u001b[1;32m---> 13\u001b[0m plt\u001b[38;5;241m.\u001b[39mcolorbar(sm, label\u001b[38;5;241m=\u001b[39m\u001b[38;5;124m'\u001b[39m\u001b[38;5;124mPrice Range\u001b[39m\u001b[38;5;124m'\u001b[39m)  \u001b[38;5;66;03m# Add a colorbar legend\u001b[39;00m\n\u001b[0;32m     15\u001b[0m plt\u001b[38;5;241m.\u001b[39mxlabel(\u001b[38;5;124m'\u001b[39m\u001b[38;5;124mFloors\u001b[39m\u001b[38;5;124m'\u001b[39m)\n\u001b[0;32m     16\u001b[0m plt\u001b[38;5;241m.\u001b[39mylabel(\u001b[38;5;124m'\u001b[39m\u001b[38;5;124mPrice\u001b[39m\u001b[38;5;124m'\u001b[39m)\n",
            "File \u001b[1;32mc:\\Users\\User\\anaconda3\\Lib\\site-packages\\matplotlib\\pyplot.py:2326\u001b[0m, in \u001b[0;36mcolorbar\u001b[1;34m(mappable, cax, ax, **kwargs)\u001b[0m\n\u001b[0;32m   2321\u001b[0m     \u001b[38;5;28;01mif\u001b[39;00m mappable \u001b[38;5;129;01mis\u001b[39;00m \u001b[38;5;28;01mNone\u001b[39;00m:\n\u001b[0;32m   2322\u001b[0m         \u001b[38;5;28;01mraise\u001b[39;00m \u001b[38;5;167;01mRuntimeError\u001b[39;00m(\u001b[38;5;124m'\u001b[39m\u001b[38;5;124mNo mappable was found to use for colorbar \u001b[39m\u001b[38;5;124m'\u001b[39m\n\u001b[0;32m   2323\u001b[0m                            \u001b[38;5;124m'\u001b[39m\u001b[38;5;124mcreation. First define a mappable such as \u001b[39m\u001b[38;5;124m'\u001b[39m\n\u001b[0;32m   2324\u001b[0m                            \u001b[38;5;124m'\u001b[39m\u001b[38;5;124man image (with imshow) or a contour set (\u001b[39m\u001b[38;5;124m'\u001b[39m\n\u001b[0;32m   2325\u001b[0m                            \u001b[38;5;124m'\u001b[39m\u001b[38;5;124mwith contourf).\u001b[39m\u001b[38;5;124m'\u001b[39m)\n\u001b[1;32m-> 2326\u001b[0m ret \u001b[38;5;241m=\u001b[39m gcf()\u001b[38;5;241m.\u001b[39mcolorbar(mappable, cax\u001b[38;5;241m=\u001b[39mcax, ax\u001b[38;5;241m=\u001b[39max, \u001b[38;5;241m*\u001b[39m\u001b[38;5;241m*\u001b[39mkwargs)\n\u001b[0;32m   2327\u001b[0m \u001b[38;5;28;01mreturn\u001b[39;00m ret\n",
            "File \u001b[1;32mc:\\Users\\User\\anaconda3\\Lib\\site-packages\\matplotlib\\figure.py:1285\u001b[0m, in \u001b[0;36mFigureBase.colorbar\u001b[1;34m(self, mappable, cax, ax, use_gridspec, **kwargs)\u001b[0m\n\u001b[0;32m   1283\u001b[0m \u001b[38;5;28;01mif\u001b[39;00m cax \u001b[38;5;129;01mis\u001b[39;00m \u001b[38;5;28;01mNone\u001b[39;00m:\n\u001b[0;32m   1284\u001b[0m     \u001b[38;5;28;01mif\u001b[39;00m ax \u001b[38;5;129;01mis\u001b[39;00m \u001b[38;5;28;01mNone\u001b[39;00m:\n\u001b[1;32m-> 1285\u001b[0m         \u001b[38;5;28;01mraise\u001b[39;00m \u001b[38;5;167;01mValueError\u001b[39;00m(\n\u001b[0;32m   1286\u001b[0m             \u001b[38;5;124m'\u001b[39m\u001b[38;5;124mUnable to determine Axes to steal space for Colorbar. \u001b[39m\u001b[38;5;124m'\u001b[39m\n\u001b[0;32m   1287\u001b[0m             \u001b[38;5;124m'\u001b[39m\u001b[38;5;124mEither provide the *cax* argument to use as the Axes for \u001b[39m\u001b[38;5;124m'\u001b[39m\n\u001b[0;32m   1288\u001b[0m             \u001b[38;5;124m'\u001b[39m\u001b[38;5;124mthe Colorbar, provide the *ax* argument to steal space \u001b[39m\u001b[38;5;124m'\u001b[39m\n\u001b[0;32m   1289\u001b[0m             \u001b[38;5;124m'\u001b[39m\u001b[38;5;124mfrom it, or add *mappable* to an Axes.\u001b[39m\u001b[38;5;124m'\u001b[39m)\n\u001b[0;32m   1290\u001b[0m     fig \u001b[38;5;241m=\u001b[39m (  \u001b[38;5;66;03m# Figure of first axes; logic copied from make_axes.\u001b[39;00m\n\u001b[0;32m   1291\u001b[0m         [\u001b[38;5;241m*\u001b[39max\u001b[38;5;241m.\u001b[39mflat] \u001b[38;5;28;01mif\u001b[39;00m \u001b[38;5;28misinstance\u001b[39m(ax, np\u001b[38;5;241m.\u001b[39mndarray)\n\u001b[0;32m   1292\u001b[0m         \u001b[38;5;28;01melse\u001b[39;00m [\u001b[38;5;241m*\u001b[39max] \u001b[38;5;28;01mif\u001b[39;00m np\u001b[38;5;241m.\u001b[39miterable(ax)\n\u001b[0;32m   1293\u001b[0m         \u001b[38;5;28;01melse\u001b[39;00m [ax])[\u001b[38;5;241m0\u001b[39m]\u001b[38;5;241m.\u001b[39mfigure\n\u001b[0;32m   1294\u001b[0m     current_ax \u001b[38;5;241m=\u001b[39m fig\u001b[38;5;241m.\u001b[39mgca()\n",
            "\u001b[1;31mValueError\u001b[0m: Unable to determine Axes to steal space for Colorbar. Either provide the *cax* argument to use as the Axes for the Colorbar, provide the *ax* argument to steal space from it, or add *mappable* to an Axes."
=======
            "C:\\Users\\HP\\AppData\\Local\\Temp\\ipykernel_12120\\3382943146.py:6: MatplotlibDeprecationWarning: The get_cmap function was deprecated in Matplotlib 3.7 and will be removed two minor releases later. Use ``matplotlib.colormaps[name]`` or ``matplotlib.colormaps.get_cmap(obj)`` instead.\n",
            "  cmap = plt.cm.get_cmap('cividis')  # Or any other colormap you prefer\n",
            "C:\\Users\\HP\\AppData\\Local\\Temp\\ipykernel_12120\\3382943146.py:13: MatplotlibDeprecationWarning: Unable to determine Axes to steal space for Colorbar. Using gca(), but will raise in the future. Either provide the *cax* argument to use as the Axes for the Colorbar, provide the *ax* argument to steal space from it, or add *mappable* to an Axes.\n",
            "  plt.colorbar(sm, label='Price Range')  # Add a colorbar legend\n"
>>>>>>> 4cf704923d17c6fb6b8a3d7dde97e7835027be1b
          ]
        },
        {
          "data": {
<<<<<<< HEAD
            "image/png": "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",
            "text/plain": [
              "<Figure size 640x480 with 1 Axes>"
=======
            "image/png": "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",
            "text/plain": [
              "<Figure size 640x480 with 2 Axes>"
>>>>>>> 4cf704923d17c6fb6b8a3d7dde97e7835027be1b
            ]
          },
          "metadata": {},
          "output_type": "display_data"
        }
      ],
      "source": [
        "#Scatter plot\n",
        "color_ranges = [0, 1, 2, 3, 4]  # Define price ranges for coloring\n",
        "colors = ['red', 'yellow','orange', 'green']  # Define colors for each range\n",
        "\n",
        "#A colormap based on price ranges and colors\n",
        "cmap = plt.cm.get_cmap('cividis')  # Or any other colormap you prefer\n",
        "norm = plt.Normalize(vmin=min(color_ranges), vmax=max(color_ranges))\n",
        "sm = plt.cm.ScalarMappable(cmap=cmap, norm=norm)\n",
        "sm.set_array([])\n",
        "\n",
        "# Color points based on price ranges\n",
        "plt.scatter(sorted_df_floors['floors'], sorted_df_price['price'], c=norm(sorted_df_price['price']))\n",
        "plt.colorbar(sm, label='Price Range')  # Add a colorbar legend\n",
        "\n",
        "plt.xlabel('Floors')\n",
        "plt.ylabel('Price')\n",
        "plt.title('Relationship between Floors and Price')\n",
        "plt.show()"
      ]
    },
    {
      "cell_type": "markdown",
      "metadata": {
        "id": "3najFwicodV0"
      },
      "source": [
        "As visually represented, most houses have wither 1.0 floors or 2.0 floors, with a decent amount of houses with 3 floors, while a miniscule number have 1.5, 2.5 or 3.5 floors. The bugger the number of floors, the higher the price, with majority of people opting for the houses with 2.0 floors"
      ]
    },
    {
      "cell_type": "markdown",
      "metadata": {
        "id": "Ssp-4D6_pqNO"
      },
      "source": [
        "**Objective 2**: To determine how the number of bedrooms impacts the price of a house in King County  \n",
        "\n",
        "Here, we aim to fin out if the number of bedrooms impact the pricing of houses in King County. We first check the contents, arrange them in a workable state (either ascending or descending) and then plot the outcome for easier visualization"
      ]
    },
    {
      "cell_type": "code",
<<<<<<< HEAD
      "execution_count": null,
=======
      "execution_count": 18,
>>>>>>> 4cf704923d17c6fb6b8a3d7dde97e7835027be1b
      "metadata": {
        "colab": {
          "base_uri": "https://localhost:8080/"
        },
        "id": "DSE6tBYEoVQJ",
        "outputId": "2d5d72d3-9221-4e67-904a-6ad2c8ff49b9"
      },
      "outputs": [
        {
          "data": {
            "text/plain": [
              "0        3\n",
              "1        3\n",
              "2        2\n",
              "3        4\n",
              "4        3\n",
              "        ..\n",
              "21592    3\n",
              "21593    4\n",
              "21594    2\n",
              "21595    3\n",
              "21596    2\n",
              "Name: bedrooms, Length: 17702, dtype: int64"
            ]
          },
<<<<<<< HEAD
          "execution_count": 21,
=======
          "execution_count": 18,
>>>>>>> 4cf704923d17c6fb6b8a3d7dde97e7835027be1b
          "metadata": {},
          "output_type": "execute_result"
        }
      ],
      "source": [
        "#checking the contents in the \"bedrooms\" column\n",
        "df_cleaned['bedrooms']"
      ]
    },
    {
      "cell_type": "code",
<<<<<<< HEAD
      "execution_count": null,
=======
      "execution_count": 19,
>>>>>>> 4cf704923d17c6fb6b8a3d7dde97e7835027be1b
      "metadata": {
        "colab": {
          "base_uri": "https://localhost:8080/"
        },
        "id": "GrRN3-gyqd7Z",
        "outputId": "b8858e27-df74-4e6d-8f8e-f892ef6810bb"
      },
      "outputs": [
        {
          "data": {
            "text/plain": [
              "21596    2\n",
              "7098     2\n",
              "17304    2\n",
              "3155     2\n",
              "7096     2\n",
              "        ..\n",
              "20198    5\n",
              "20195    5\n",
              "5610     5\n",
              "20216    5\n",
              "17098    5\n",
              "Name: bedrooms, Length: 17702, dtype: int64"
            ]
          },
<<<<<<< HEAD
          "execution_count": 22,
=======
          "execution_count": 19,
>>>>>>> 4cf704923d17c6fb6b8a3d7dde97e7835027be1b
          "metadata": {},
          "output_type": "execute_result"
        }
      ],
      "source": [
        "#sorting them in ascending order\n",
        "sorted_df_bedrooms = df_cleaned.sort_values(by=['bedrooms'])\n",
        "sorted_df_bedrooms['bedrooms']"
      ]
    },
    {
      "cell_type": "code",
<<<<<<< HEAD
      "execution_count": null,
=======
      "execution_count": 20,
>>>>>>> 4cf704923d17c6fb6b8a3d7dde97e7835027be1b
      "metadata": {
        "colab": {
          "base_uri": "https://localhost:8080/",
          "height": 527
        },
        "id": "dr6miSckqp6x",
        "outputId": "6f7fb1c3-25de-45c0-ea49-e758ed18f434"
      },
      "outputs": [
        {
          "name": "stderr",
          "output_type": "stream",
          "text": [
<<<<<<< HEAD
            "<ipython-input-25-862d7aed0138>:8: MatplotlibDeprecationWarning: The get_cmap function was deprecated in Matplotlib 3.7 and will be removed two minor releases later. Use ``matplotlib.colormaps[name]`` or ``matplotlib.colormaps.get_cmap(obj)`` instead.\n",
=======
            "C:\\Users\\HP\\AppData\\Local\\Temp\\ipykernel_12120\\1285017265.py:6: MatplotlibDeprecationWarning: The get_cmap function was deprecated in Matplotlib 3.7 and will be removed two minor releases later. Use ``matplotlib.colormaps[name]`` or ``matplotlib.colormaps.get_cmap(obj)`` instead.\n",
>>>>>>> 4cf704923d17c6fb6b8a3d7dde97e7835027be1b
            "  cmap = plt.cm.get_cmap('coolwarm')  # Or any other colormap you prefer\n"
          ]
        },
        {
          "data": {
<<<<<<< HEAD
            "image/png": "iVBORw0KGgoAAAANSUhEUgAAAjcAAAHHCAYAAABDUnkqAAAAOXRFWHRTb2Z0d2FyZQBNYXRwbG90bGliIHZlcnNpb24zLjcuMSwgaHR0cHM6Ly9tYXRwbG90bGliLm9yZy/bCgiHAAAACXBIWXMAAA9hAAAPYQGoP6dpAABYi0lEQVR4nO3dd3xUVdoH8N+ddBISekLJUpXepG1ERCVSFIRFpMjS7XSwgC0UqQIi0hQF9BWXpri7gnRBKQIGo6CAgEGyAqFJAgFS5j7vHzP3ZmrKkMxkZn5fP2My996ZOXNzyTx5znPOUUREQEREROQjDJ5uABEREVFRYnBDREREPoXBDREREfkUBjdERETkUxjcEBERkU9hcENEREQ+hcENERER+RQGN0RERORTGNwQERGRT2FwQ3ds8ODBqFGjhqeb4dUURcGkSZM83QyPmD17NurVqwdVVYv1dVauXAlFUXDmzJlifZ3CKsjPfteuXVAUBevXr3dPo+7AAw88gAceeMDTzfBq2dnZiI2NxeLFiz3dFK/F4MbPab/wtVtoaCjuvvtujBgxAqmpqZ5unsdMmjTJ6rwYDAZUrlwZXbt2xffff+/p5vmM9PR0zJo1C6+88goMButfR7dv38Y777yDNm3aICoqyura/O233zzUYt9me92XKlUKDRo0wOuvv4709HRPN88p23YHBQWhRo0aGDVqFK5du+bp5hVaUFAQxo0bh2nTpuH27duebo5XCvR0A6hkmDJlCmrWrInbt29jz549WLJkCTZt2oSjR4+iVKlSeT522bJlxf5Xt6csWbIEERERUFUVKSkpWLZsGe6//34cPHgQzZo183TzvN7y5cuRk5ODfv36WW2/fPkyOnfujMTERHTt2hVPPvkkIiIicOLECaxevRoffPABsrKyPNRq36dd9zdu3MDWrVsxbdo07Ny5E3v37oWiKHk+duvWrW5qpT2t3RkZGdixYwfee+89HD58GHv27PFYm1w1ZMgQTJgwAZ999hmGDh3q6eZ4HQY3BADo0qULWrZsCQB46qmnUL58ecybNw///ve/7T54NBkZGQgPD0dQUJA7m+pWvXr1QoUKFfT7PXr0QKNGjbBu3Tq3Bzfa+fYlK1aswGOPPYbQ0FCr7YMHD8aPP/6I9evX4/HHH7faN3XqVLz22mvubKZDN2/ezDfw91aW1/1zzz2Hxx9/HF988QW+//57xMXFOXyMdj6Cg4Pd2VQrlu1+9tln0bdvX6xZswYHDx5E69atPdYuV5QpUwYdO3bEypUrGdy4gN1S5NBDDz0EAEhOTgZg+rCJiIjA6dOn8cgjj6B06dLo37+/vs+25kZVVbz77rto3LgxQkNDUbFiRXTu3Bk//PCD1XGffvopWrRogbCwMJQrVw59+/ZFSkpKnm1bv349FEXB7t277fa9//77UBQFR48eBQBcuHABQ4YMQbVq1RASEoLKlSuje/fuLtddxMTEAAACA63/LsjMzERCQgLq1KmDkJAQxMbG4uWXX0ZmZqbdcWPHjkXFihVRunRpPPbYY/jf//5n9zpamv3XX3/Fk08+ibJly+K+++4DAOTk5GDq1KmoXbs2QkJCUKNGDbz66qt2rwUAixcvRsOGDRESEoIqVapg+PDhdmn6Bx54AI0aNcLPP/+M9u3bo1SpUqhTp45e37F79260adMGYWFhqFu3LrZv3271+OvXr2PMmDGoUaMGQkJCUKlSJTz88MM4fPhwnucyOTkZP//8M+Lj4622HzhwABs3bsSwYcPsAhsACAkJwZw5c6y27dy5E+3atUN4eDjKlCmD7t2749ixY3m+vivnKDExEffffz9KlSqFV199FUDR/+zzYjQa8eqrryImJgbh4eF47LHHrP69JCQkICgoCJcuXbJ77DPPPIMyZcq41M1h+/sgr/PhqObm9u3bmDRpEu6++26EhoaicuXK6NmzJ06fPq0fo6oq5s+fj4YNGyI0NBTR0dF49tln8ddffxW6vZp27doBgNXrXL16FS+++CIaN26MiIgIREZGokuXLvjpp5+sHqvVOa1duxbTpk1DtWrVEBoaig4dOuDUqVN2r7Vo0SLUqlULYWFhaN26Nb777juH56Kg1wsAPPzww9izZw+uXr3q8jnwV8zckEPaL4Py5cvr23JyctCpUyfcd999mDNnTp5/tQ4bNgwrV65Ely5d8NRTTyEnJwffffcdvv/+ez1DNG3aNLzxxhvo3bs3nnrqKVy6dAnvvfce7r//fvz4448oU6aMw+d+9NFHERERgbVr16J9+/ZW+9asWYOGDRuiUaNGAIDHH38cv/zyC0aOHIkaNWrg4sWL2LZtG86ePVugImjtl4qqqvjzzz8xdepUhIaGonfv3voxqqrisccew549e/DMM8+gfv36OHLkCN555x389ttv+PLLL/Vjn3rqKXz66ad48sknce+992Lnzp149NFHnb7+E088gbvuugvTp0+HiOjP8fHHH6NXr14YP348Dhw4gBkzZuDYsWPYsGGD/thJkyZh8uTJiI+Px/PPP48TJ05gyZIlOHToEPbu3WuVcfvrr7/QtWtX9O3bF0888QSWLFmCvn37YtWqVRgzZgyee+45PPnkk3j77bfRq1cvpKSkoHTp0gBMf9mvX78eI0aMQIMGDXDlyhXs2bMHx44dwz333OP0ve3btw8A7I75z3/+AwAYMGBAnj8bzfbt29GlSxfUqlULkyZNwq1bt/Dee++hbdu2OHz4cJ4/58KcoytXrqBLly7o27cv/vnPfyI6OrpYf/aOTJs2DYqi4JVXXsHFixcxf/58xMfHIykpCWFhYRgwYACmTJmCNWvWYMSIEfrjsrKy9CyYbZasIBz9PnB0PhwxGo3o2rUrduzYgb59+2L06NG4fv06tm3bhqNHj6J27doATJmWlStXYsiQIRg1ahSSk5OxcOFC/Pjjj3Y/i4LS/ogpW7asvu3333/Hl19+iSeeeAI1a9ZEamoq3n//fbRv3x6//vorqlSpYvUcM2fOhMFgwIsvvoi0tDTMnj0b/fv3x4EDB/RjlixZghEjRqBdu3YYO3Yszpw5gx49eqBs2bKoVq2aflxhrhcAaNGiBUQE+/btQ9euXQv9/v2akF9bsWKFAJDt27fLpUuXJCUlRVavXi3ly5eXsLAw+d///iciIoMGDRIAMmHCBLvnGDRokFSvXl2/v3PnTgEgo0aNsjtWVVURETlz5owEBATItGnTrPYfOXJEAgMD7bbb6tevn1SqVElycnL0befPnxeDwSBTpkwREZG//vpLAMjbb79dsJNhISEhQQDY3cqUKSObN2+2Ovb//u//xGAwyHfffWe1fenSpQJA9u7dKyIiSUlJAkBeeOEFq+OefPJJASAJCQl2r9+vXz+rY7XneOqpp6y2v/jiiwJAdu7cKSIiFy9elODgYOnYsaMYjUb9uIULFwoAWb58ub6tffv2AkA+++wzfdvx48cFgBgMBvn+++/17Vu2bBEAsmLFCn1bVFSUDB8+3Om5dOb1118XAHL9+nWr7f/4xz8EgPz1118Fep5mzZpJpUqV5MqVK/q2n376SQwGgwwcOFDfpl3rycnJIuLaOVq6dKnVaxfHz96Rb775RgBI1apVJT09Xd++du1aASDvvvuuvi0uLk7atGlj9fgvvvhCAMg333yT5+to192JEyfk0qVLkpycLO+//76EhIRIdHS0ZGRk5Hk+tH3t27fX7y9fvlwAyLx58+yO1X4ffPfddwJAVq1aZbV/8+bNDrfn1+4zZ87I8uXLJSwsTCpWrKi3W0Tk9u3bVj9vEZHk5GQJCQnRf3eI5J7z+vXrS2Zmpr793XffFQBy5MgRERHJzMyU8uXLS6tWrSQ7O1s/buXKlQLA6lwU9HrRnDt3TgDIrFmz8nz/ZI/dUgQAiI+PR8WKFREbG4u+ffsiIiICGzZsQNWqVa2Oe/755/N9rs8//xyKoiAhIcFun1aM+MUXX0BVVfTu3RuXL1/WbzExMbjrrrvwzTff5Pkaffr0wcWLF7Fr1y592/r166GqKvr06QMACAsLQ3BwMHbt2uVyavvzzz/Htm3bsHXrVqxYsQJ33303Hn/8cT3rAADr1q1D/fr1Ua9ePav3oqXytfeyadMmAMCoUaOsXmPMmDFOX/+5556zuq89x7hx46y2jx8/HgCwceNGAKZsRlZWFsaMGWM1Cunpp59GZGSkfpwmIiICffv21e/XrVsXZcqUQf369dGmTRt9u/b977//rm8rU6YMDhw4gHPnzjl9H45cuXIFgYGBiIiIsNqujcrRMkN5OX/+PJKSkjB48GCUK1dO396kSRM8/PDD+vlypLDnKCQkBEOGDLHaVpw/e0cGDhxodV569eqFypUrW73PgQMH4sCBA1ZdMatWrUJsbKxdptOZunXromLFiqhZsyaeffZZ1KlTBxs3brTK1jo6H458/vnnqFChAkaOHGm3T/t9sG7dOkRFReHhhx+2Oo8tWrRAREREvr8PbNtdo0YNDB06FHXq1MHXX39t127t5200GnHlyhVERESgbt26DrtShwwZYlVHpHV1af8GfvjhB1y5cgVPP/20VXd1//79rTJG2vssyPWi0R5/+fLlAr1/yuXX3VLffvst3n77bSQmJuL8+fPYsGEDevToUajnEBHMnTsXH3zwAf744w9UqFABL7zwQokoeCyMRYsW4e6770ZgYCCio6NRt25du6G5gYGBVilWZ06fPo0qVapYfdjYOnnyJEQEd911l8P9+aWgO3fujKioKKxZswYdOnQAYOqSatasGe6++24Apl9is2bNwvjx4xEdHY2///3v6Nq1KwYOHKjXzuTn/vvvtyoo7tWrF+666y6MHDkSiYmJ+ns5duwYKlas6PA5Ll68CAD4448/YDAY9DS8pm7duk5fv2bNmlb3teeoU6eO1faYmBiUKVMGf/zxh36co+cODg5GrVq19P2aatWq2Y2CiYqKQmxsrN02AFbB4uzZszFo0CDExsaiRYsWeOSRRzBw4EDUqlXL6fvKS2RkJABTLY+zrkmNs/cJAPXr18eWLVucFmIX9hxVrVrVrli2OH/2jtj+e1EUBXXq1LGqIevTpw/GjBmDVatW4c0330RaWhq++uorjB07Nt+RTprPP/8ckZGRCAoKQrVq1ezaDTg+H46cPn0adevWtatTs3Ty5EmkpaWhUqVKDvdr57Gg7b506RIWLFiA5ORkhIWFWR2j1QMuXrwYycnJMBqN+j7LbjfN3/72N6v7WsCh/RvQrhPbf5OBgYF2XaIFvV40Yu6KLujPjXL5dXCTkZGBpk2bYujQoejZs6dLzzF69Ghs3boVc+bMQePGjXH16lWvLP5q3bq1XgvjjOVfPHdKVVUoioKvv/4aAQEBdvtt/5p31JYePXpgw4YNWLx4MVJTU7F3715Mnz7d6rgxY8agW7du+PLLL7Flyxa88cYbmDFjBnbu3InmzZsXut0RERFo06YN/v3vf+sfmqqqonHjxpg3b57Dx9gGCIVh+4tZU9S/7Bz9DPLarv3SBYDevXujXbt22LBhA7Zu3Yq3334bs2bNwhdffIEuXbo4fc3y5csjJycH169ft8pG1KtXDwBw5MgR/a/kksDRz6I4f/auKlu2LLp27aoHN+vXr0dmZib++c9/Fvg5bIN6R5xdm65QVRWVKlXCqlWrHO53FgzYsmx3t27d0LhxY/Tv3x+JiYn6767p06fjjTfewNChQzF16lSUK1cOBoMBY8aMcTilRUH+DRRUYa8XLYDK72dB9vw6uOnSpUuev3wzMzPx2muv4V//+heuXbuGRo0aYdasWXr1+7Fjx7BkyRIcPXpU/wvM9i9tf1S7dm1s2bIFV69edZq9qV27NkQENWvW1DMthdWnTx98/PHH2LFjB44dOwYR0bukbF9r/PjxGD9+PE6ePIlmzZph7ty5+PTTT1163ZycHADAjRs3EB4ejtq1a+Onn35Chw4d8gw6qlevDlVV9b9kNSdOnCjwa2vPcfLkSdSvX1/fnpqaimvXrqF69er6cdpzW2ZQsrKykJycbDdC6U5VrlwZL7zwAl544QVcvHgR99xzD6ZNm5bnvy8tiElOTkaTJk307d26dcOMGTPw6aef5hvcWL5PW8ePH0eFChWcDp8vinPkzp89YPrL35KI4NSpU1bnDzB1TXXv3h2HDh3CqlWr0Lx5czRs2LBQr1VUateujQMHDiA7O9tpRrZ27drYvn072rZtW2RBU0REBBISEjBkyBCsXbtW73Zdv349HnzwQXz00UdWx1+7ds2lIEK7jk6dOoUHH3xQ356Tk4MzZ85Y/WwKer1otNFplv/WqWBYc5OHESNGYP/+/Vi9ejV+/vlnPPHEE+jcubP+C+a///0vatWqha+++go1a9ZEjRo18NRTT3ll5qYoPf744xARTJ482W6f9tdOz549ERAQgMmTJ9v9BSQiuHLlSr6vEx8fj3LlymHNmjVYs2YNWrdubRVc3rx5027Ya+3atVG6dGmHwy4L4urVq9i3bx9iYmL0FHrv3r3x559/YtmyZXbH37p1CxkZGQCgf9AvWLDA6pj58+cX+PUfeeQRh4/R/hLURt/Ex8cjODgYCxYssDq/H330EdLS0go9SscZo9GItLQ0q22VKlVClSpV8j3H2nwpttMDxMXFoXPnzvjwww/tRo8ApuDjxRdfBGAKqpo1a4aPP/7Yavj20aNHsXXrVv18OVIU58idP3sA+OSTT3D9+nX9/vr163H+/Hm7ILJLly6oUKECZs2ahd27dxcqa1PUHn/8cVy+fBkLFy6026ed9969e8NoNGLq1Kl2x+Tk5Lg8y3D//v1RrVo1zJo1S98WEBBg9ztn3bp1+PPPP116jZYtW6J8+fJYtmyZ/ocPYKpzsq31K+j1oklMTISiKE7nFiLn/Dpzk5ezZ89ixYoVOHv2rD408MUXX8TmzZuxYsUKTJ8+Hb///jv++OMPrFu3Dp988gmMRiPGjh2LXr16YefOnR5+B57z4IMPYsCAAViwYAFOnjyJzp07Q1VVfPfdd3jwwQcxYsQI1K5dG2+99RYmTpyoD5ssXbo0kpOTsWHDBjzzzDP6B5gzQUFB6NmzJ1avXo2MjAy7uU9+++03dOjQAb1790aDBg0QGBiIDRs2IDU11ap4Ni/r169HREQERATnzp3DRx99hL/++gtLly7V//IaMGAA1q5di+eeew7ffPMN2rZtC6PRiOPHj2Pt2rXYsmULWrZsiWbNmqFfv35YvHgx0tLScO+992LHjh0O58xwpmnTphg0aBA++OADXLt2De3bt8fBgwfx8ccfo0ePHvpfjhUrVsTEiRMxefJkdO7cGY899hhOnDiBxYsXo1WrVkX2YXf9+nVUq1YNvXr1QtOmTREREYHt27fj0KFDmDt3bp6PrVWrFho1aoTt27fbTVL2ySefoGPHjujZsye6deuGDh06IDw8HCdPnsTq1atx/vx5/ef99ttvo0uXLoiLi8OwYcP0oeBRUVF5rtlUFOfInT97AChXrhzuu+8+DBkyBKmpqZg/fz7q1KmDp59+2uq4oKAg9O3bFwsXLkRAQIDTiTjdYeDAgfjkk08wbtw4HDx4EO3atUNGRga2b9+OF154Ad27d0f79u3x7LPPYsaMGUhKSkLHjh0RFBSEkydPYt26dXj33XfRq1evQr92UFAQRo8ejZdeegmbN29G586d0bVrV0yZMgVDhgzBvffeiyNHjmDVqlUu14gFBwdj0qRJGDlyJB566CH07t0bZ86cwcqVK1G7dm2rDE1BrxfNtm3b0LZtW4e1QJQPt4/PKqEAyIYNG/T7X331lQCQ8PBwq1tgYKD07t1bRESefvppffihJjExUQDI8ePH3f0WXKINjz106FCexw0aNEjCw8Od7rMcCi4ikpOTI2+//bbUq1dPgoODpWLFitKlSxdJTEy0Ou7zzz+X++67Tz+/9erVk+HDh1ud07xs27ZNAIiiKJKSkmK17/LlyzJ8+HCpV6+ehIeHS1RUlLRp00bWrl2b7/M6GgoeHh4ucXFxDh+flZUls2bNkoYNG0pISIiULVtWWrRoIZMnT5a0tDT9uFu3bsmoUaOkfPnyEh4eLt26dZOUlBSnQ8EvXbpk91rZ2dkyefJkqVmzpgQFBUlsbKxMnDhRbt++bXfswoULpV69ehIUFCTR0dHy/PPP2w2xbt++vTRs2NDusdWrV5dHH33UbjsAfeh3ZmamvPTSS9K0aVMpXbq0hIeHS9OmTWXx4sVOz62lefPmSUREhNy8edNu382bN2XOnDnSqlUriYiIkODgYLnrrrtk5MiRcurUKatjt2/fLm3btpWwsDCJjIyUbt26ya+//mp1jO1QcM2dnCORov/ZO6INS/7Xv/4lEydOlEqVKklYWJg8+uij8scffzh8zMGDBwWAdOzYMc/ntpTXdWcpr/NhOxRcxPSzfO211/RrNiYmRnr16iWnT5+2Ou6DDz6QFi1aSFhYmJQuXVoaN24sL7/8spw7d87ldqelpUlUVJTeptu3b8v48eOlcuXKEhYWJm3btpX9+/fbtVs75+vWrbN6vuTkZLvpEEREFixYINWrV5eQkBBp3bq17N27V1q0aCGdO3e2Oq6g18u1a9ckODhYPvzwwzzfOzmmiLhQFeWDFEWxGi21Zs0a9O/fH7/88otdQVlERARiYmKQkJCA6dOnIzs7W99369YtlCpVClu3bsXDDz/szrdA5HXS0tJQq1YtzJ49G8OGDfN0c3zKTz/9hGbNmuGTTz4p8ISIVHRUVUXFihXRs2dPh91Q+Zk/fz5mz56N06dPF2nxtr9gzY0TzZs3h9FoxMWLF1GnTh2rmzaMuG3btsjJybGaT0JbrVgrMiMi56KiovDyyy/j7bff9tnFVz1l2bJliIiIcHkkKBXc7du37ep4PvnkE1y9etVu+YWCyM7Oxrx58/D6668zsHGRX2dubty4ofd5N2/eHPPmzcODDz6IcuXK4W9/+xv++c9/Yu/evZg7dy6aN2+OS5cuYceOHWjSpAkeffRRqKqKVq1aISIiAvPnz4eqqhg+fDgiIyM9ujIuEfmv//73v/j111/xxhtvYMSIEU6HHVPR2bVrF8aOHYsnnngC5cuXx+HDh/HRRx+hfv36SExM9Ohion7Lo51iHqb1qdreBg0aJCKmvtE333xTatSoIUFBQVK5cmX5xz/+IT///LP+HH/++af07NlTIiIiJDo6WgYPHmw1DTwRkTtVr15dQkNDpXv37lZLNVDxSU5Olm7dukl0dLReuzVkyBBJTU31dNP8ll9nboiIiMj3sOaGiIiIfAqDGyIiIvIpfjeJn6qqOHfuHEqXLs3FyIiIiLyEiOD69euoUqVKvusc+l1wc+7cOY8sZkdERER3LiUlBdWqVcvzGL8LbrTVh1NSUhAZGenh1hAREVFBpKenIzY2Vv8cz4vfBTdaV1RkZCSDGyIiIi9TkJISFhQTERGRT2FwQ0RERD6FwQ0RERH5FAY3RERE5FMY3BAREZFPYXBDREREPoXBDREREfkUBjdERETkUxjcEBERkU/xuxmKiYiIqGip2WnA1a6ApFpsDQBKDYchcoTb28PMDREREblMzb4MXGllE9gAgBG4uQDqlafc3iYGN0REROS6Kx3y3p/9LdTsc+5pixmDGyIiInKJmn0TwK38D7zar9jbYonBDREREbkmc22+hwgAyMVib4olBjdERETkGiUs/2NETAGOGzG4ISIiItcE94SIQMR5+KIoClQxurFRDG6IiIjIRdnpL0EgUBTF4X4t8FGR49Z2MbghIiIi16iXYISqZ24sv2rfZ7s5sAEY3BAREZGrSr0OgSAHRuSIKYjRAxzzdgUKVKhubRZnKCYiIiKX5KQ/B4NeLqwgB9a1NVopsermkmJmboiIiMhFZ/XARcz/afTARtybtQEY3BAREZHLHoOImOpuHAQ5RqhQIW7ulGJwQ0RERC5SI1oDgHlElCnIsbxpsjgUnIiIiLxBVsZKZJqDGNu5bmxHULkTgxsiIiJySVDIAxARpwGOKqq+z50Y3BAREZFLcqQtAOgBTiZU5IgR2WJEJlRkmSf4y3ZzUTGHghMREZFLsm6NAyAIhAIRUyBjOWWfJ7qkAGZuiIiIyFVKBQCA0XIIuHl2Yn2GYg4FJyIiIm8RXvpz00gpEeRAYBRVHwqeY74pioIcNydw2C1FRERELknPGAoACDAvnGmbo9GyN+5eXYrBDREREbkoC9kAFBHYrguurRR+G7DbV9zYLUVEREQuiQxfAgGQab5ZMoogE6bAxt1lxczcEBERkUuy1H9DkJuZsQ1wxPy/HDenbpi5ISIiIpdkZh23WgdcHHxvqrdxb3TD4IaIiIhcUq70MxAxzW2jBTkC68BGoEDlaCkiIiLyBicvPY8QACIKVMXRaCnT1yw3t4uZGyIiInLR73qdje1kxNp901f3hhsMboiIiMhF9SBicBrgqAAyPRBqMLghIiIil/yt3BQAMAc4piDntphumTAg2xxmZLu55obBDREREbnkfPq7+uzDud1P2s0Su6WIiIjIC4QF1QNgcLi8ggigivuzNgCDGyIiInJROPpBxNQtlQMDss0BjVFgHh5ugKIY3B7gcCg4ERERueRUxgAEwJQpEQEUxWA9qZ85qDG6Odxg5oaIiIhcYkAIshGoT9pnyuJYj5q6zW4pIiIi8ha1wr+ECJApgciE9fIL2QJkIhCKEggju6WIiIjIG1zIeQsCwKAAQKDdTMRaBsd25uLixswNERERuSTTeAFG2M5GbN01ZSomZs0NEREReYG6UW9AJBA5CESObYADbUXwQLcvnOnR4Obbb79Ft27dUKVKFSiKgi+//DLfx+zatQv33HMPQkJCUKdOHaxcubLY20lERET2fr22EIA5UwNzkGO+GREIEVPGxq8WzszIyEDTpk2xaNGiAh2fnJyMRx99FA8++CCSkpIwZswYPPXUU9iyZUsxt5SIiIhspWX/aLWulOUoKb3exgPdUh4tKO7SpQu6dOlS4OOXLl2KmjVrYu7cuQCA+vXrY8+ePXjnnXfQqVOn4momEREROVC5VC/8L2M5MpUcBANQzNu1wCYHQA4C7RbULG5eVXOzf/9+xMfHW23r1KkT9u/f76EWERER+a+MzKsAAJFAZCEQmQg0L5ppGgauTd7naHmG4uRVQ8EvXLiA6Ohoq23R0dFIT0/HrVu3EBYWZveYzMxMZGZm6vfT09OLvZ1ERET+4GLOVwCAIGgzFANaaKHdNyVtOFqqSM2YMQNRUVH6LTY21tNNIiIi8iGByDZ/Z9v9ZFo4MxDunqTYq4KbmJgYpKamWm1LTU1FZGSkw6wNAEycOBFpaWn6LSUlxR1NJSIi8gOxemYm2xzk5JhXAs+Gqd5GUeyDnuLmVd1ScXFx2LRpk9W2bdu2IS4uzuljQkJCEBISUtxNIyIi8juqZJiKiLVKYgRazUasxTR+NUPxjRs3kJSUhKSkJACmod5JSUk4e/YsAFPWZeDAgfrxzz33HH7//Xe8/PLLOH78OBYvXoy1a9di7Nixnmg+ERGRXxNzMOMoMSMWX1Vxb7jh0eDmhx9+QPPmzdG8eXMAwLhx49C8eXO8+eabAIDz58/rgQ4A1KxZExs3bsS2bdvQtGlTzJ07Fx9++CGHgRMREXlACGJhhAGqmIIY2yBHFVNgo+amdtxCEXF3T5hnpaenIyoqCmlpaYiMjPR0c4iIiLzWmlMPwIA0BCgCAwBFye2AEjGYsjYAckRBnzo/3tFrFebz26tqboiIiKjkMCITgAGKuXNKxKB3CZkyOQqM4v5uKQY3RERE5BpRIYrW9aQiQMktHjbV2gAqDFDdXAXD4IaIiIhcYkQYRDIAqFAUA4w2hS6m7I0BRmZuiIiIyBuYsjSmwCUApmBGX18Kltkb9xYUM7ghIiIiF0VAldt61sayoBgwFRUbYaq9cScGN0REROQSkQAABhhFhUERKGLQwxhTibECVQCjMLghIiIiL5CDbCgAAvQAJ3efqfxGgUCBuLmg2KvWliIiIqKSI0TKQDV3PQEGiOVNDDCKAhUKVGZuiIiIyBtkSDoMiikzYwSgiMUkflAgougT+bkTgxsiIiJySQ4yEGDOyhgUset+EigwAjBynhsiIiLyDqZuJwWAiHWtS+5QcANrboiIiMg7lDc0hAqttsZgWkTT4mYUg77fnZi5ISIiIpdcNKYAUKAoppXBAYGimMZJaQtnmkZLuReDGyIiInKJEZkwwABVVCjm5IyiZ2lMQQ0XziQiIiKvoerjoAwW1Tfmfea1GIQLZxIREZG3ECkFIzIARYXB3A2lZXAEpiJjU3DDmhsiIiLyAgIVphFTpsyMAhUi2j5T3Y0K6NvchcENERERuSRbshEIxdQ5pQhM3VMmWjGxCsDImhsiIiLyCmKAUREEQDEVFQP6yCjreW7YLUVEREReIAcGBIhp/e8AxVxzY95nCmzMsxQzc0NERETewLRulGmklFGgz3EDQF9XylRU7F4MboiIiMg1EgoVt6EA5pv1EpliXjGc89wQERGRVzBKNhQFUMQARVFNX837TJ1VpsCGQ8GJiIjIK6gwQBEViiJQLEZKafQRU8zcEBERkTcQBJjmuhHTTDcKLCbxE2ZuiIiIyMtkiYogKBDzwpmKYl09LGKqwlE5iR8RERF5B8U8R7FphhsRRZ/rRsz7jQKuLUVEREReQgxQFQFEhaIoMMBiEj/RiorZLUVERERewggFBlEAxQCDAEZYL5xpGhjOgmIiIiLyEqagRaAoqrl7SiwWzlTMx7DmhoiIiLyGmLqcVAMMiqlrymqvGGAUU9eUOzG4ISIiIpeoYlp6QVVMgYw2HFxbdkHrluLyC0REROQVjAAMgLnuRoFRbMMYxRTkuLnmxr2vRkRERD4jRzUVC+sLZEruKlN6YAOFNTdERETkLRQIBCoMMGiz2+gFxaZaG6M5wHEnBjdERETkIgNUc1eUKKbJ/PSFMwWAYho1ZcrouA+DGyIiInKJKopphJQIDObCYct5brSuKs5QTERERF7BCMAgBkBRAfPaUvo8N2LO2kCByswNEREReQNT5kZbYkGg2BQOCwycxI+IiIi8iBigwmiqtDHX12g5GlO3lGmklLCgmIiIiLyBCgWKmKbtU0SBwTwKXCR3ZXDh2lJERETkLXIECFBMsxQD5hmJtdFTouQWFbu5XQxuiIiIyEXaRH0G87R9puUzNSIGqAALiomIiMhbmCbxE/OKUiIG65obmAIb1twQERGRV1BVAxTFXFmjKPqimRrT9xwKTkRExWjaj0vw/Y1f7ba/VPlp3F+niQdaRN5MBcwFxebFKi1iGL2oWEzdU+7EhTOJiPxEr+/G2gU22oRrb59fhrd+XOKBVpE3M3U5GfSJ+rQ5bVSxHAqulRu7DzM3RER+IhM5dtsUi7+0DzjI6BDlRYViqroxz1IsYrO2FMwFxW6uuWHmhojID3T7bmS+x4gAA797zQ2tIV+hWmRmVDGYRkeZb9DXCefCmURE5CGKAvyFdE83g7yMtgQDYOqKsh0tpc1S7E7M3BAR+QFVcutr8juOqKAeKhuXW1djnrRPNd+0jI0nll9gcENE5CcU936+kB94oV4fPTujz2ljvhlVrbhYgUHh8gtERFTETEN2nQc4WlbH3aNayLsFBQRBgSk7Y15WSp/nJvergn+1nu3WdjFzQ0TkB1TVFNU465pSFPNssirTO1Q469rOtxr2LVAsuqQUdKx4L8KDw9zaJo8HN4sWLUKNGjUQGhqKNm3a4ODBg3keP3/+fNStWxdhYWGIjY3F2LFjcfv2bTe1lojIOwly5xqxDHDEXIuj1UW4e8gueb9gQyA2tJ2PRqXvMndNmW4BCMDsxuMwst6Tbm+TR7ul1qxZg3HjxmHp0qVo06YN5s+fj06dOuHEiROoVKmS3fGfffYZJkyYgOXLl+Pee+/Fb7/9hsGDB0NRFMybN88D74CIyDuIufbBFLuIqYsK1l0HWn0EUWEFGgIxvdloTzdD59HMzbx58/D0009jyJAhaNCgAZYuXYpSpUph+fLlDo/ft28f2rZtiyeffBI1atRAx44d0a9fv3yzPURE/k6fj8ScodGyNNpXLbDhaCnyBR4LbrKyspCYmIj4+PjcxhgMiI+Px/79+x0+5t5770ViYqIezPz+++/YtGkTHnnkEaevk5mZifT0dKsbEZG/Uc01EGL51TxlvuVQXrBbinyAx7qlLl++DKPRiOjoaKvt0dHROH78uMPHPPnkk7h8+TLuu+8+iAhycnLw3HPP4dVXX3X6OjNmzMDkyZOLtO1ERN5GRIEoYppwDYBisXaz5Vwk7p5Jlqg4eLyguDB27dqF6dOnY/HixTh8+DC++OILbNy4EVOnTnX6mIkTJyItLU2/paSkuLHFREQlg9UcJLDsptLCHMVcaMzghryfxzI3FSpUQEBAAFJTU622p6amIiYmxuFj3njjDQwYMABPPfUUAKBx48bIyMjAM888g9deew0Gg32sFhISgpCQkKJ/A0REXkT0lZkFChSrEMZyivwc1tyQD/BY5iY4OBgtWrTAjh079G2qqmLHjh2Ii4tz+JibN2/aBTABAQEAACnIvOJERH7K0fwjljU32gKHzNyQL/DoUPBx48Zh0KBBaNmyJVq3bo358+cjIyMDQ4YMAQAMHDgQVatWxYwZMwAA3bp1w7x589C8eXO0adMGp06dwhtvvIFu3brpQQ4REdkz1dJY1Nwoos93o9XZaNPmE3k7jwY3ffr0waVLl/Dmm2/iwoULaNasGTZv3qwXGZ89e9YqU/P6669DURS8/vrr+PPPP1GxYkV069YN06ZN89RbICLyCiq0NX4AQOyCGEFuLQ6Rt1PEz/pz0tPTERUVhbS0NERGRnq6OUREbhG35WUYDAKDIlAUOKi5MRcZqwbs7zTLU80kcqown99cOJOIyA+IeTSUClOxpcC8npS2YKbkruxM5O0Y3BAR+YHcLimYZyE2lQ9bdk+JPpEfkXdjcENE5Ae0xTENUKAoudtMX80FxQDA4IZ8AIMbIiI/YNktpZjnujFtN+8X034jh4KTD2BwQ0TkB7RJ/Aymahu7mht91XAW3ZAPYHBDROQH9CUW9DumLZZdUgIWFJNvYHBDROQHTAXFYqqpsam5yV1XivPckG9gcENE5A/0gmKN7SR+ucPBibwdgxsiIj+gigJFAFWxX0FKm8SPgQ35CgY3RER+QJugzzS3DRx0TXFtKfIdDG6IiPyEiDZ1H2A5LMpyVXD/WpCHfBWDGyIiP6B1O6kwrwiumibzs53nhgXF5AsY3BAR+QFT8KKFMubh31ZdUmDWhnwGgxsiIj+QW0sjehBjOYmfdgxrbsgXMLghIvIDpnqa3EpiRRHYry3F4IZ8A4MbIiI/oAqgiAIDtMDGZp4bc80Nu6bIFzC4ISLyE6aCYtOimc7muWFsQ76AwQ0RkR8wBS4CRTFnaGC/cCYn8iNfYcj/ECIi8npimpfYsuvJ7qvd3MVE3onBDRGRnzB1P+UOAxcBVNW8TxRtaXAir8duKSIiPyAC84rg5pXBbfYJFKvgh8ibMbghIvILpgIbgeKw50mYtSEfwm4pIiI/YKqrse6Ssv+ea0uRb2DmhojID4hq7pXS0jYWk/jBIqhhtxT5AgY3RER+IXdtKUWBXd0NwK4p8h3sliIi8gOWc9g46pbiHDfkS5i5ISLyCwpMi2Zqa0tBX2sqt3uKAQ75BgY3RET+QLTRUpYzE+dmcqyOI/JyDG6IiPyANs+NAnPGxjaG4cKZ5EMY3BAR+Qvz+lKwWTgTsJjkj8gHMLghIvIDogJKAGCbsrHM1IiYjiPydgxuiIj8gZiGgmuhjbmW2HzH8kBmb8j7cSg4EZG/sK2psZjXRp/jhjU35AOYuSEi8hMiCrSqG/udHAZOvoPBDRGRP9BWBIeSm50xTX1j2q1nbRjgkPdjtxQRkb+wHe5tGdgAsAp8iLwYgxsiIn+gjYKyWYLBcvFMq69EXozdUkREfsE8LbGTRTMBsKCYfAYzN0REfiDfSfq0/QxuyAcwc0NE5A9su58Uy9n7FP0YLr9AvoDBDRGRX1ByIxfLriltMj/LomIiL8fghojIH0huyY2jfczakC9hcENE5A+0mhpFHNbVCGtuyIcwuCEi8iPaLMSKYrlN+wYMbsgn3NFoqaysLJw4cQI5OTlF1R4iIioOqmK3lpSjCf04zw35ApeCm5s3b2LYsGEoVaoUGjZsiLNnzwIARo4ciZkzZxZpA4mIqIhI/jeFmRvyAS4FNxMnTsRPP/2EXbt2ITQ0VN8eHx+PNWvWFFnjiIioaCiWNTVOb6y5Id/gUs3Nl19+iTVr1uDvf/87FIuO24YNG+L06dNF1jgiIioi2uTE2vpRivU+gFkb8h0uBTeXLl1CpUqV7LZnZGRYBTtERFRSmOa50ae4sQhkrIIa1tyQD3CpW6ply5bYuHGjfl8LaD788EPExcUVTcuIiKjo2NTVWN5s9xN5O5cyN9OnT0eXLl3w66+/IicnB++++y5+/fVX7Nu3D7t37y7qNhIR0Z3S15ZyEr3kt/YUkRdxKXNz3333ISkpCTk5OWjcuDG2bt2KSpUqYf/+/WjRokVRt5GIiO6U5fIKopi+ajftvgBQPdQ+oiLk8iR+tWvXxrJly4qyLUREVFwsu5xsEzjsiiIf41LmZtOmTdiyZYvd9i1btuDrr78u1HMtWrQINWrUQGhoKNq0aYODBw/mefy1a9cwfPhwVK5cGSEhIbj77ruxadOmQr0mEZFfcjYE3Gofu6bI+7kU3EyYMAFGo9Fuu4hgwoQJBX6eNWvWYNy4cUhISMDhw4fRtGlTdOrUCRcvXnR4fFZWFh5++GGcOXMG69evx4kTJ7Bs2TJUrVrVlbdBRORH8pvjBszgkM9wqVvq5MmTaNCggd32evXq4dSpUwV+nnnz5uHpp5/GkCFDAABLly7Fxo0bsXz5codB0vLly3H16lXs27cPQUFBAIAaNWq48haIiPyKab1Mi4UztQSNzTBw5m3IF7iUuYmKisLvv/9ut/3UqVMIDw8v0HNkZWUhMTER8fHxuY0xGBAfH4/9+/c7fMx//vMfxMXFYfjw4YiOjkajRo0wffp0h1kkIiJyQBTrmYottikAszfkE1wKbrp3744xY8ZYzUZ86tQpjB8/Ho899liBnuPy5cswGo2Ijo622h4dHY0LFy44fMzvv/+O9evXw2g0YtOmTXjjjTcwd+5cvPXWW05fJzMzE+np6VY3IiK/Y56hWLEJaLRAx2q+GyIv51JwM3v2bISHh6NevXqoWbMmatasifr166N8+fKYM2dOUbdRp6oqKlWqhA8++AAtWrRAnz598Nprr2Hp0qVOHzNjxgxERUXpt9jY2GJrHxFRiWWRqbGdxE+xOIbdUuQLXKq5iYqKwr59+7Bt2zb89NNPCAsLQ5MmTXD//fcX+DkqVKiAgIAApKamWm1PTU1FTEyMw8dUrlwZQUFBCAgI0LfVr18fFy5cQFZWFoKDg+0eM3HiRIwbN06/n56ezgCHiPyOIoDYrillSQt+OM8N+QCX57lRFAUdO3ZEx44dXXp8cHAwWrRogR07dqBHjx4ATJmZHTt2YMSIEQ4f07ZtW3z22WdQVRUGgynp9Ntvv6Fy5coOAxsACAkJQUhIiEttJCLyGaJAgZgCHMDxwpl2O4i8U4GDmwULFuCZZ55BaGgoFixYkOexo0aNKtBzjhs3DoMGDULLli3RunVrzJ8/HxkZGfroqYEDB6Jq1aqYMWMGAOD555/HwoULMXr0aIwcORInT57E9OnTC/x6RER+TVsZ3MEqDAqHg5MPKXBw884776B///4IDQ3FO++84/Q4RVEKHGz06dMHly5dwptvvokLFy6gWbNm2Lx5s15kfPbsWT1DAwCxsbHYsmULxo4diyZNmqBq1aoYPXo0XnnllYK+DSIi/2SxtpTD3Iy2n8EN+QBFRPzqUk5PT0dUVBTS0tIQGRnp6eYQEblFrTnzTENILIeRWGZwLDI3v48fZ/twIo8rzOd3oUdLZWdno3bt2jh27JjLDSQiIveyHBEF22HfFl8Vv/pzl3xVoQuKg4KCcPv27eJoCxERFRcVuRGOg5obu0CHyIu5NM/N8OHDMWvWLOTk5BR1e4iIqJho89o4WlPKah+Rl3NpKPihQ4ewY8cObN26FY0bN7ZbcuGLL74oksYREVERsZzEL6/9DG7IB7gU3JQpUwaPP/54UbeFiIiKibZeJgDrhTO1++avnOWGfEGhghtVVfH222/jt99+Q1ZWFh566CFMmjQJYWFhxdU+IiIqEgr0Gfxsa25sVgYn8naFqrmZNm0aXn31VURERKBq1apYsGABhg8fXlxtIyKiomJbV2PTDcWaG/IlhQpuPvnkEyxevBhbtmzBl19+if/+979YtWoVVJWLkRARlWgWk/TZLZwp1vuJvF2hgpuzZ8/ikUce0e/Hx8dDURScO3euyBtGRERFJ3f+GsUcxCgOvuc8N+QbClVzk5OTg9DQUKttQUFByM7OLtJGERFREbPtcrKdnRgMbMh3FCq4EREMHjzYapXt27dv47nnnrMaDs6h4EREJY8WvDhdOBMMcMg3FCq4GTRokN22f/7zn0XWGCIiKh6KWA+WssN5bsiHFCq4WbFiRXG1g4iIipmesBHbDea7DGzIR7g0iR8REXkhi0n6LLumGNSQr2FwQ0TkD2yKie0CGos1poi8HYMbIiI/oIjjQmIdVwUnH+LSquBERORlLLMyloXDNrMUM7ghX8DMDRGRP7AZKSUOthH5CgY3RET+wmKUlF1Aw5ob8iEMboiI/IDlPDcOcZ4b8iGsuSEi8gf51dwwa0M+hJkbohKq6evzka3af9okvvEcwsLCPNAi8gWOlmBwGPQQeTFmbohKoAavvoNso+NPmRZTl+LWrVtubhF5O0WF3cgoxTabA2ZvyDcwuCEqYVq9ucD0QZPHEJYWU5e6rT3kQ6SANyIvx24pohImI8eY99hcfviQK8xZGqeXj3CeG/IdDG6ISpp8sja2ix0SFYR22SiA9TVmeS0J57wh38DghojIXzhZDdxqH5EPYHBDVBLll70hcoE+UsrZPgY45CNYUExU0jCwoWLw6/Sxpm/EeqSUYlNrox9H5MUY3BCVNPn9Bc2/sOlOOVk4M9JDzSEqagxuiEoYveDTUQDDuUjoDvw6fSyaW24Q633fM2tDPoI1N0QljQCKueDTLoYRi+CHyAWrGMCQH2BwQ1TSaFkbxUmGhoENEVGeGNwQlTS2XVK285Gw5oaIKE+suSEqYexqbmy/B2tuiIjywswNUUmTV80NOB8JEVF+GNwQlTCKAMKaGyIilzG4ISppClBzw24pIiLnGNwQlUDOpsnXu6QY3BAROcXghqiksqi9sdxGRER5Y3BDVMIoAohtV5QtBjlERE5xKDhRSZNfTY1wXU0iorwwc0NUElkEMFoWR7Gc64aZGyIipxjcEJUwiuX8NrbDwTmJHxFRvhjcEJU05kJicRLAcBI/IqK8MbghKmnMwYvVSCnL7xnYEBHlicENUUnjaBI/Z2tNERGRHY6WIiphuHAmEdGdYeaGqKRhzQ0R0R1hcENUwmgLZ9rNTqxhYENElCcGN0QlDRfOJCK6IwxuiEogfeFMm+yNwhFTRET5YnBDVMLoa0s5WmaBBcVERPniaCmikkbEfqkFi64q0z5GN0REzpSI4GbRokWoUaMGQkND0aZNGxw8eLBAj1u9ejUURUGPHj2Kt4FE7qRN4qfdYL6JxUgpxjZERE55PLhZs2YNxo0bh4SEBBw+fBhNmzZFp06dcPHixTwfd+bMGbz44oto166dm1pK5Eb5zHPD4IaIyDmPBzfz5s3D008/jSFDhqBBgwZYunQpSpUqheXLlzt9jNFoRP/+/TF58mTUqlXLja0lKn5Ou6Q4WoqIqEA8GtxkZWUhMTER8fHx+jaDwYD4+Hjs37/f6eOmTJmCSpUqYdiwYfm+RmZmJtLT061uRCWa5B3gMLAhIsqbR4Oby5cvw2g0Ijo62mp7dHQ0Lly44PAxe/bswUcffYRly5YV6DVmzJiBqKgo/RYbG3vH7SYqVgK9qNhxzY2wW4qIKA8e75YqjOvXr2PAgAFYtmwZKlSoUKDHTJw4EWlpafotJSWlmFtJdGdy15aS3EBGz+QIszdERPnw6Dw3FSpUQEBAAFJTU622p6amIiYmxu7406dP48yZM+jWrZu+TVVVAEBgYCBOnDiB2rVrWz0mJCQEISEhxdB6omJiMb+Nab6b3EiGk/gREeXPo5mb4OBgtGjRAjt27NC3qaqKHTt2IC4uzu74evXq4ciRI0hKStJvjz32GB588EEkJSWxy4l8gmVWRu+aclSHQ0REDnl8huJx48Zh0KBBaNmyJVq3bo358+cjIyMDQ4YMAQAMHDgQVatWxYwZMxAaGopGjRpZPb5MmTIAYLedyGuZAxmr+MVyGQZHMxcTEZHO48FNnz59cOnSJbz55pu4cOECmjVrhs2bN+tFxmfPnoXB4FWlQUR3zq5ripkbIqKCUkTEr35NpqenIyoqCmlpaYiMjPR0c4jstB44zxTQaDdL2hIMquDgJ+Pd3DIiIs8pzOe3xzM3RGRDBIqiwNmfHQozN0REeWJwQ1TCKOYR4IplnY0lBjZERHlicENU0thmZhSL7eavnOeGiMg5BjdEJZAWvIhN9obz3BAR5Y/BDVEJo4jFCClHBzBzQ0SUJwY3RCWNAIoIRFEcZmgU/xrgSERUaAxuiEoabfVvfdy3OX+jBTUcLUVElCcGN0QljNVyUjZrS+nxDrM3REROcepfopJGFYuVwW1u4Dw3RET5YeaGqIQp0Dw3DG6IiJxicENU0ggAFbnLL9jOc6NytBQRUV4Y3BCVQIpF7bDdPDfM3BAR5YnBDVEJowggEACK/Tw3LCgmIsoXC4qJShqR3KDGYUExAxsiorwwc0NU0nCeGyKiO8LghqiEsZ3axiqS0QIfBjdERE4xuCEqaSzWlOLCmUREhcfghqiE0RfOhJMMDQMbIqI8saCYqKQxL5xpV1ujFxYLi4qJiPLAzA1RiWNK3WgFxRZjpxwHPUREZIXBDVEJo4hF7KLYDP22XF+KiIgcYnBDVNKY15Vy1vPEhTOJiPLG4IaopFFN0U2eC2cSEZFTLCgmKmEUc9FwngXFKiMcIiJnGNwQlUCKalFrY7P0gqKC2RsiojywW4qopDGtmQmogKJVDmtdVJzEj4goXwxuiEoaMc/iZ1lzY9s9RURETrFbiqiEKVDNDSfxIyJyipkbohLI1BslEEWxWVvKog6HiIgcYnBDVMLoa0sJ9FmKrXBVcCKiPDG4ISppRKCIYrciuIaBDRFR3hjcEJU0Wl2NtqaUYrEdMNfjMMIhInKGBcVEJYxiUTgMwGYIuOkbRfVAw4iIvAQzN0Xg4fum2W0bPf5hdP1Haw+0hryeNlGfQYE46JcyTeLHzA0RkTPM3NwhR4ENALw7d5vTfUR50WtqRJup2OLGwIaIKF8Mbu7Aw/dNy/eDZtqktW5qDfkMEYu5bizmu1Fz77OomIjIOQY3d0JMqzfnZdf2k25qDPkUc4BjFeRAy+CwoJiIKC+suXHR/63YWLAD+SFEhSUW3yiKdZaGk/gREeWLwY2LPvkoKd+sDQMbcoU+iR/g+BqyXZaBiIissFvKVQxcqLjoXU+wXwlcnwOHiIicYebGVaL/z3kGR1EAlROSkAssll7Q1pdSHM17Q0REdpi5uROCvLummN0hF2zf85pVAKNYrgJu3v5gfH1PNY+IqMRjcOMqMX/KOAtgWPhJd0APcFRYDAU3fb2ndXW8NqmnR9tHRFSSsVvKRQos4xqL7inLYEfA7A25bPue1wAAnR+YBmMOMPPdzmjRooWHW0VEVPIxuHGVUSzyXjYrG3KBQypCm3e95ukmEBF5FXZL3QHFMogB7Bc45KgWIiIit2PmxlUWM8aKbXeUeb8CmOokiIiIyG0Y3LhIEYFAsRqya4c1N0RERG7H4OZOiJgyMwZz55Nl6Y3NmkBERETkHgxuXGXudhJFMa3WbJ5ozXI/a26IiIjcj8HNnTDPGuu05oaZGyIiIrdjcOMqbSi4IO/sDAuKiYiI3IrBjYsUCERVAINFZkZbisFqaDgzN0RERO5UIua5WbRoEWrUqIHQ0FC0adMGBw8edHrssmXL0K5dO5QtWxZly5ZFfHx8nscXG71gWLGb2yZ3unwGNkRERO7m8eBmzZo1GDduHBISEnD48GE0bdoUnTp1wsWLFx0ev2vXLvTr1w/ffPMN9u/fj9jYWHTs2BF//vmnextuWVOjrfuj3bTAxnLBQyIiInILRcSzn75t2rRBq1atsHDhQgCAqqqIjY3FyJEjMWHChHwfbzQaUbZsWSxcuBADBw7M9/j09HRERUUhLS0NkZGRLre7c5PXACiAopgKih1QRABVxeYj01x+HSIiIirc57dHMzdZWVlITExEfHy8vs1gMCA+Ph779+8v0HPcvHkT2dnZKFeuXHE106HAMsgd7q3dYCouVqyyOszcEBERuZNHC4ovX74Mo9GI6Ohoq+3R0dE4fvx4gZ7jlVdeQZUqVawCJEuZmZnIzMzU76enp7veYAs5V8xz22jLg1sOB7f8ytiGiIjIrTxec3MnZs6cidWrV2PDhg0IDQ11eMyMGTMQFRWl32JjY4vmxS1nILa9AdaFxUREROQ2Hg1uKlSogICAAKSmplptT01NRUxMTJ6PnTNnDmbOnImtW7eiSZMmTo+bOHEi0tLS9FtKSkqRtL1azXCHq4DbjZhitxQREZFbeTS4CQ4ORosWLbBjxw59m6qq2LFjB+Li4pw+bvbs2Zg6dSo2b96Mli1b5vkaISEhiIyMtLoVhSxjjnltKckdIaXh2lJEREQe4/FJ/MaNG4dBgwahZcuWaN26NebPn4+MjAwMGTIEADBw4EBUrVoVM2bMAADMmjULb775Jj777DPUqFEDFy5cAABEREQgIiLCbe0OKyNQzohFTGMz3435K4eCExERuZfHg5s+ffrg0qVLePPNN3HhwgU0a9YMmzdv1ouMz549C4MhN8G0ZMkSZGVloVevXlbPk5CQgEmTJrmv4TcDTcGLuZDYNoSxmgOHiIiI3MbjwQ0AjBgxAiNGjHC4b9euXVb3z5w5U/wNKoAyZUvhrFzXR0rZZWj0uhtGN0RERO5UIoIbb6SqQeaaGyB3ghvL4eBgzQ0REZEHMLhx0a2MDOvARZC7PLjVcHAGN0RERO7k1fPceFL5muFOJu1jYENERORJzNy4yHArIDeAseyO0mj7uDI4ERGRWzFz46LoGjEFmKUYgKiebCYREZHfYebGRYKbpsBFNeSGiNrq4JYjpdg1RURE5FYMblyU+nuauUtKGzFl0zUlwqwNERGRB7BbykV/q1PeohtKNd8svzcHNqy5ISIicitmblxUJqJ8bteTnrVxUlRMREREbsPgxkXHj/0vdxI/1twQERGVGOyWclG9e6pYD/cWmFcI1+4LgxsiIiIPYObGRbXqVHM+xw3AwIaIiMhDGNy4SDEEmL7JaxI/AFA5YoqIiMidGNy46FbGDVPgYrDo2XM4HJzZGyIiIndizY2Lbt00muttVOdrTKkqhMENERGRWzFz46LwckG5XVKqmjtSSsOsDRERkUcwuHGRITsIAkBxFOBYBjWcxI+IiMitGNy4KKJ8JGBUgQCLnj2HK4OzoJiIiMidWHPjoptpNwEIRHXQ/WTukhJtzhsiIiJyG2ZuXFQuOtIUuBhUiGoAIFDM3VKi19swsCEiInI3BjcuCosIM30jAGCqt7EeGWWxBAMRERG5DYMbF0mO0SJwMc9vow2Y0jaLQDiJHxERkVsxuHFR2qVr9pP4wXq0lHA4OBERkdsxuHFRRKXSEBHTUHDAenZiq0UzGdwQERG5E4MbF4UEBZu6nURM+RoH89wogGnEFBEREbkNh4K7KCfLaDHk21xXo92HdpfdUkRERO7GzI2LgsIMuWtLKYpptmKLzI1oWR3GNkRERG7F4MZFQUGhuWtLaQXEWteU1i3FGYqJiIjcjt1SLjKqqvUMxDZdU9oMxVwVnIiIyL0Y3LhIUVWYJuoT0xpTgPVK4KpAAZdfICIicjd2S7lIMRgAVSAG1VRrY9P7JHp3FIMbIiIid2JwcwdEVCiqAWIA7NeWQu7imUREROQ2DG5cFFoqxDzs2xTgAIDoyy+YJu8TEX3qGyIiInIPBjcuCgwK0EdLaV1QCiwyN6ZvUKl6eU81kYiIyC+xoNhFAQEBqFInxlQwbDEiKjewASCCPi/38Ej7iIiI/BWDmzswYsFQmEZMwVRcrOZ+D1ERUbYUOg56wLONJCIi8jMMbu5Aq87N8eycgTCnaUwT9olpiHjpcuGYs3MyQsJCPNxKIiIi/8KamzvUa1w3tOzUDF8t3YrfEn9HSFgw7u3eCg8PbI+IMuGebh4REZHfUcTPptBNT09HVFQU0tLSEBkZ6enmEBERUQEU5vOb3VJERETkUxjcEBERkU9hcENEREQ+hcENERER+RQGN0RERORTGNwQERGRT2FwQ0RERD6FwQ0RERH5FAY3RERE5FMY3BAREZFP8bu1pbTVJtLT0z3cEiIiIioo7XO7IKtG+V1wc/36dQBAbGysh1tCREREhXX9+nVERUXleYzfLZypqirOnTuH0qVLQ1GUIn3u9PR0xMbGIiUlhYty5oPnquB4rgqO56rgeK4Kh+er4IrrXIkIrl+/jipVqsBgyLuqxu8yNwaDAdWqVSvW14iMjOTFX0A8VwXHc1VwPFcFx3NVODxfBVcc5yq/jI2GBcVERETkUxjcEBERkU9hcFOEQkJCkJCQgJCQEE83pcTjuSo4nquC47kqOJ6rwuH5KriScK78rqCYiIiIfBszN0RERORTGNwQERGRT2FwQ0RERD6FwQ0RERH5FAY3BTRjxgy0atUKpUuXRqVKldCjRw+cOHEi38etW7cO9erVQ2hoKBo3boxNmza5obWe5cq5WrlyJRRFsbqFhoa6qcWes2TJEjRp0kSf7CouLg5ff/11no/xx2sKKPy58tdrypGZM2dCURSMGTMmz+P89dqyVJBz5c/X1qRJk+zee7169fJ8jCeuKwY3BbR7924MHz4c33//PbZt24bs7Gx07NgRGRkZTh+zb98+9OvXD8OGDcOPP/6IHj16oEePHjh69KgbW+5+rpwrwDSb5fnz5/XbH3/84aYWe061atUwc+ZMJCYm4ocffsBDDz2E7t2745dffnF4vL9eU0DhzxXgn9eUrUOHDuH9999HkyZN8jzOn68tTUHPFeDf11bDhg2t3vuePXucHuux60rIJRcvXhQAsnv3bqfH9O7dWx599FGrbW3atJFnn322uJtXohTkXK1YsUKioqLc16gSrGzZsvLhhx863Mdrylpe54rXlMj169flrrvukm3btkn79u1l9OjRTo/192urMOfKn6+thIQEadq0aYGP99R1xcyNi9LS0gAA5cqVc3rM/v37ER8fb7WtU6dO2L9/f7G2raQpyLkCgBs3bqB69eqIjY3N9y9yX2Q0GrF69WpkZGQgLi7O4TG8pkwKcq4AXlPDhw/Ho48+anfNOOLv11ZhzhXg39fWyZMnUaVKFdSqVQv9+/fH2bNnnR7rqevK7xbOLAqqqmLMmDFo27YtGjVq5PS4CxcuIDo62mpbdHQ0Lly4UNxNLDEKeq7q1q2L5cuXo0mTJkhLS8OcOXNw77334pdffin2hU497ciRI4iLi8Pt27cRERGBDRs2oEGDBg6P9fdrqjDnyp+vKQBYvXo1Dh8+jEOHDhXoeH++tgp7rvz52mrTpg1WrlyJunXr4vz585g8eTLatWuHo0ePonTp0nbHe+q6YnDjguHDh+Po0aN59jOSSUHPVVxcnNVf4Pfeey/q16+P999/H1OnTi3uZnpU3bp1kZSUhLS0NKxfvx6DBg3C7t27nX5o+7PCnCt/vqZSUlIwevRobNu2zW8KXV3lyrny52urS5cu+vdNmjRBmzZtUL16daxduxbDhg3zYMusMbgppBEjRuCrr77Ct99+m2+EHhMTg9TUVKttqampiImJKc4mlhiFOVe2goKC0Lx5c5w6daqYWldyBAcHo06dOgCAFi1a4NChQ3j33Xfx/vvv2x3r79dUYc6VLX+6phITE3Hx4kXcc889+jaj0Yhvv/0WCxcuRGZmJgICAqwe46/XlivnypY/XVu2ypQpg7vvvtvpe/fUdcWamwISEYwYMQIbNmzAzp07UbNmzXwfExcXhx07dlht27ZtW541Ar7AlXNly2g04siRI6hcuXIxtLBkU1UVmZmZDvf56zXlTF7nypY/XVMdOnTAkSNHkJSUpN9atmyJ/v37IykpyeGHtb9eW66cK1v+dG3ZunHjBk6fPu30vXvsuirWcmUf8vzzz0tUVJTs2rVLzp8/r99u3rypHzNgwACZMGGCfn/v3r0SGBgoc+bMkWPHjklCQoIEBQXJkSNHPPEW3MaVczV58mTZsmWLnD59WhITE6Vv374SGhoqv/zyiyfegttMmDBBdu/eLcnJyfLzzz/LhAkTRFEU2bp1q4jwmrJU2HPlr9eUM7YjgHhtOZffufLna2v8+PGya9cuSU5Olr1790p8fLxUqFBBLl68KCIl57picFNAABzeVqxYoR/Tvn17GTRokNXj1q5dK3fffbcEBwdLw4YNZePGje5tuAe4cq7GjBkjf/vb3yQ4OFiio6PlkUcekcOHD7u/8W42dOhQqV69ugQHB0vFihWlQ4cO+oe1CK8pS4U9V/56TTlj+4HNa8u5/M6VP19bffr0kcqVK0twcLBUrVpV+vTpI6dOndL3l5TrShERKd7cEBEREZH7sOaGiIiIfAqDGyIiIvIpDG6IiIjIpzC4ISIiIp/C4IaIiIh8CoMbIiIi8ikMboiIiMinMLghogI7c+YMFEVBUlKSp5uiO378OP7+978jNDQUzZo1c/vrDx48GD169HD76xKRcwxuiLzI4MGDoSgKZs6cabX9yy+/hKIoHmqVZyUkJCA8PBwnTpywW8NGo5037Va+fHl07twZP//8s5tbS0TuwOCGyMuEhoZi1qxZ+OuvvzzdlCKTlZXl8mNPnz6N++67D9WrV0f58uWdHte5c2ecP38e58+fx44dOxAYGIiuXbu6/LoFdSfvjYhcw+CGyMvEx8cjJiYGM2bMcHrMpEmT7Lpo5s+fjxo1auj3te6U6dOnIzo6GmXKlMGUKVOQk5ODl156CeXKlUO1atWwYsUKu+c/fvw47r33XoSGhqJRo0bYvXu31f6jR4+iS5cuiIiIQHR0NAYMGIDLly/r+x944AGMGDECY8aMQYUKFdCpUyeH70NVVUyZMgXVqlVDSEgImjVrhs2bN+v7FUVBYmIipkyZAkVRMGnSJKfnJCQkBDExMYiJiUGzZs0wYcIEpKSk4NKlS/oxKSkp6N27N8qUKYNy5cqhe/fuOHPmjL7faDRi3LhxKFOmDMqXL4+XX34ZtivYOHtvu3fvRuvWrRESEoLKlStjwoQJyMnJ0R+XmZmJUaNGoVKlSggNDcV9992HQ4cO6ft37doFRVGwZcsWNG/eHGFhYXjooYdw8eJFfP3116hfvz4iIyPx5JNP4ubNm/rj1q9fj8aNGyMsLAzly5dHfHw8MjIynJ4nIl/A4IbIywQEBGD69Ol477338L///e+Onmvnzp04d+4cvv32W8ybNw8JCQno2rUrypYtiwMHDuC5557Ds88+a/c6L730EsaPH48ff/wRcXFx6NatG65cuQIAuHbtGh566CE0b94cP/zwAzZv3ozU1FT07t3b6jk+/vhjBAcHY+/evVi6dKnD9r377ruYO3cu5syZg59//hmdOnXCY489hpMnTwIAzp8/j4YNG2L8+PE4f/48XnzxxQK97xs3buDTTz9FnTp19GxPdnY2OnXqhNKlS+O7777D3r17ERERgc6dO+vZl7lz52LlypVYvnw59uzZg6tXr2LDhg12z2/73v7880888sgjaNWqFX766ScsWbIEH330Ed566y39MS+//DI+//xzfPzxxzh8+DDq1KmDTp064erVq1bPPWnSJCxcuBD79u3Tg7H58+fjs88+w8aNG7F161a89957+vnp168fhg4dimPHjmHXrl3o2bOnXUBG5HOKfWlOIioygwYNku7du4uIyN///ncZOnSoiIhs2LBBLP85JyQkSNOmTa0e+84770j16tWtnqt69epiNBr1bXXr1pV27drp93NyciQ8PFz+9a9/iYhIcnKyAJCZM2fqx2RnZ0u1atVk1qxZIiIydepU6dixo9Vrp6SkCAA5ceKEiJhWDm7evHm+77dKlSoybdo0q22tWrWSF154Qb/ftGlTSUhIyPN5Bg0aJAEBARIeHi7h4eECQCpXriyJiYn6Mf/3f/8ndevWFVVV9W2ZmZkSFhYmW7ZsERGRypUry+zZs+3eu/YzcfbeXn31VbvnXrRokURERIjRaJQbN25IUFCQrFq1St+flZUlVapU0V/vm2++EQCyfft2/ZgZM2YIADl9+rS+7dlnn5VOnTqJiEhiYqIAkDNnzuR5foh8DTM3RF5q1qxZ+Pjjj3Hs2DGXn6Nhw4YwGHJ/DURHR6Nx48b6/YCAAJQvXx4XL160elxcXJz+fWBgIFq2bKm346effsI333yDiIgI/VavXj0ApvoYTYsWLfJsW3p6Os6dO4e2bdtabW/btq1L7/nBBx9EUlISkpKScPDgQXTq1AldunTBH3/8obf71KlTKF26tN7ucuXK4fbt2zh9+jTS0tJw/vx5tGnTxu6927J9b8eOHUNcXJxV0Xfbtm1x48YN/O9//8Pp06eRnZ1t9V6DgoLQunVru/fapEkT/fvo6GiUKlUKtWrVstqm/byaNm2KDh06oHHjxnjiiSewbNkyn6rVInIm0NMNICLX3H///ejUqRMmTpyIwYMHW+0zGAx2XQ/Z2dl2zxEUFGR1X1EUh9tUVS1wu27cuIFu3bph1qxZdvsqV66sfx8eHl7g5ywK4eHhqFOnjn7/ww8/RFRUFJYtW4a33noLN27cQIsWLbBq1Sq7x1asWLHQr1VcLH8++f28AgICsG3bNuzbt0/vrnrttddw4MAB1KxZs9jaSORpzNwQebGZM2fiv//9L/bv32+1vWLFirhw4YJVgFOUc9N8//33+vc5OTlITExE/fr1AQD33HMPfvnlF9SoUQN16tSxuhXmQz8yMhJVqlTB3r17rbbv3bsXDRo0uOP3oCgKDAYDbt26pbf75MmTqFSpkl27o6KiEBUVhcqVK+PAgQN27z0/9evXx/79+61+Hnv37kXp0qVRrVo11K5dW6/R0WRnZ+PQoUN3/F4VRUHbtm0xefJk/PjjjwgODnZYJ0TkSxjcEHmxxo0bo3///liwYIHV9gceeACXLl3C7Nmzcfr0aSxatAhff/11kb3uokWLsGHDBhw/fhzDhw/HX3/9haFDhwIAhg8fjqtXr6Jfv344dOgQTp8+jS1btmDIkCEwGo2Fep2XXnoJs2bNwpo1a3DixAlMmDABSUlJGD16dKHbnJmZiQsXLuDChQs4duwYRo4cqWeZAKB///6oUKECunfvju+++w7JycnYtWsXRo0apRdUjx49GjNnzsSXX36J48eP44UXXsC1a9fyfe0XXngBKSkpGDlyJI4fP45///vfSEhIwLhx42AwGBAeHo7nn38eL730EjZv3oxff/0VTz/9NG7evIlhw4YV+r1qDhw4gOnTp+OHH37A2bNn8cUXX+DSpUt6IErkq9gtReTlpkyZgjVr1lhtq1+/PhYvXozp06dj6tSpePzxx/Hiiy/igw8+KJLXnDlzJmbOnImkpCTUqVMH//nPf1ChQgUA0LMtr7zyCjp27IjMzExUr14dnTt3tqrvKYhRo0YhLS0N48ePx8WLF9GgQQP85z//wV133VXoNm/evFnvFitdujTq1auHdevW4YEHHgAAlCpVCt9++y1eeeUV9OzZE9evX0fVqlXRoUMHREZGAoA+KmvQoEEwGAwYOnQo/vGPfyAtLS3P165atSo2bdqEl156CU2bNkW5cuUwbNgwvP766/oxM2fOhKqqGDBgAK5fv46WLVtiy5YtKFu2bKHfqyYyMhLffvst5s+fj/T0dFSvXh1z585Fly5dXH5OIm+giG3HPBEREZEXY7cUERER+RQGN0RERORTGNwQERGRT2FwQ0RERD6FwQ0RERH5FAY3RERE5FMY3BAREZFPYXBDREREPoXBDREREfkUBjdERETkUxjcEBERkU9hcENEREQ+5f8BQMWo4sEHMvcAAAAASUVORK5CYII=",
=======
            "image/png": "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",
>>>>>>> 4cf704923d17c6fb6b8a3d7dde97e7835027be1b
            "text/plain": [
              "<Figure size 640x480 with 1 Axes>"
            ]
          },
          "metadata": {},
          "output_type": "display_data"
        }
      ],
      "source": [
        "#Plotting\n",
        "color_ranges = [0, 1, 2, 3, 4]  # Define price ranges for coloring\n",
        "colors = ['red', 'yellow','orange', 'green']  # Define colors for each range\n",
        "\n",
        "# Create a colormap based on price ranges and colors\n",
        "cmap = plt.cm.get_cmap('coolwarm')  # Or any other colormap you prefer\n",
        "norm = plt.Normalize(vmin=min(color_ranges), vmax=max(color_ranges))\n",
        "sm = plt.cm.ScalarMappable(cmap=cmap, norm=norm)\n",
        "sm.set_array([])\n",
        "\n",
        "# Color points based on price ranges\n",
        "plt.scatter(sorted_df_bedrooms['bedrooms'], sorted_df_price['price'], c=norm(sorted_df_price['price']))\n",
        "\n",
        "plt.xlabel('Number of Bedrooms')\n",
        "plt.ylabel('Price')\n",
        "plt.title('Price vs Bedrooms (Colored by Price Range)')\n",
        "plt.show()"
      ]
    },
    {
      "cell_type": "markdown",
      "metadata": {
        "id": "jR5oso89rV53"
      },
      "source": [
        "As seen, the higher the number of bedrooms, the higher the pricing, with majority of houses lying between 3 and 4 bedrooms  \n"
      ]
    },
    {
      "cell_type": "markdown",
      "metadata": {
        "id": "0Q88kUX6sBpc"
      },
      "source": [
        "**Objective 3**: To examine the impact the number of bathrooms has on the price of a house in King County  \n",
        "Just like with flooring and bedrooms, we first check the contents of the column, arrange them accordingly , and visualize them against pricing with the appropriate plotting"
      ]
    },
    {
      "cell_type": "code",
<<<<<<< HEAD
      "execution_count": 24,
=======
      "execution_count": 21,
>>>>>>> 4cf704923d17c6fb6b8a3d7dde97e7835027be1b
      "metadata": {
        "colab": {
          "base_uri": "https://localhost:8080/"
        },
        "id": "L_On0P5-q6hn",
        "outputId": "3bbb8b58-84e7-4c34-9386-46aa6c8212ff"
      },
      "outputs": [
        {
          "data": {
            "text/plain": [
              "0        1.00\n",
              "1        2.25\n",
              "2        1.00\n",
              "3        3.00\n",
              "4        2.00\n",
              "         ... \n",
              "21592    2.50\n",
              "21593    2.50\n",
              "21594    0.75\n",
              "21595    2.50\n",
              "21596    0.75\n",
              "Name: bathrooms, Length: 17702, dtype: float64"
            ]
          },
<<<<<<< HEAD
          "execution_count": 24,
=======
          "execution_count": 21,
>>>>>>> 4cf704923d17c6fb6b8a3d7dde97e7835027be1b
          "metadata": {},
          "output_type": "execute_result"
        }
      ],
      "source": [
        "#Viewing contents\n",
        "df_cleaned['bathrooms']"
      ]
    },
    {
      "cell_type": "code",
<<<<<<< HEAD
      "execution_count": null,
=======
      "execution_count": 22,
>>>>>>> 4cf704923d17c6fb6b8a3d7dde97e7835027be1b
      "metadata": {
        "colab": {
          "base_uri": "https://localhost:8080/"
        },
        "id": "iYI95-1xsq7o",
        "outputId": "ee320a9d-f3db-44a4-c878-c4dc3cf02ba3"
      },
      "outputs": [
        {
          "data": {
            "text/plain": [
              "21596    0.75\n",
              "8588     0.75\n",
              "12038    0.75\n",
              "3686     0.75\n",
              "12997    0.75\n",
              "         ... \n",
              "20663    3.50\n",
              "13191    3.50\n",
              "20666    3.50\n",
              "20650    3.50\n",
              "8045     3.50\n",
              "Name: bathrooms, Length: 17702, dtype: float64"
            ]
          },
<<<<<<< HEAD
          "execution_count": 29,
=======
          "execution_count": 22,
>>>>>>> 4cf704923d17c6fb6b8a3d7dde97e7835027be1b
          "metadata": {},
          "output_type": "execute_result"
        }
      ],
      "source": [
        "#Sorting in Ascending order\n",
        "sorted_df_bathrooms = df_cleaned.sort_values(by=['bathrooms'])\n",
        "sorted_df_bathrooms['bathrooms']"
      ]
    },
    {
      "cell_type": "code",
<<<<<<< HEAD
      "execution_count": null,
=======
      "execution_count": 23,
>>>>>>> 4cf704923d17c6fb6b8a3d7dde97e7835027be1b
      "metadata": {
        "colab": {
          "base_uri": "https://localhost:8080/",
          "height": 527
        },
        "id": "TW45rZvTtJ4H",
        "outputId": "90cc60a6-f2a5-44da-db2a-f3f3bf296dac"
      },
      "outputs": [
        {
          "name": "stderr",
          "output_type": "stream",
          "text": [
<<<<<<< HEAD
            "<ipython-input-33-9c7ebb6a7663>:6: MatplotlibDeprecationWarning: The get_cmap function was deprecated in Matplotlib 3.7 and will be removed two minor releases later. Use ``matplotlib.colormaps[name]`` or ``matplotlib.colormaps.get_cmap(obj)`` instead.\n",
=======
            "C:\\Users\\HP\\AppData\\Local\\Temp\\ipykernel_12120\\3470770857.py:6: MatplotlibDeprecationWarning: The get_cmap function was deprecated in Matplotlib 3.7 and will be removed two minor releases later. Use ``matplotlib.colormaps[name]`` or ``matplotlib.colormaps.get_cmap(obj)`` instead.\n",
>>>>>>> 4cf704923d17c6fb6b8a3d7dde97e7835027be1b
            "  cmap = plt.cm.get_cmap('coolwarm')  # Or any other colormap you prefer\n"
          ]
        },
        {
          "data": {
<<<<<<< HEAD
            "image/png": "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",
=======
            "image/png": "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",
>>>>>>> 4cf704923d17c6fb6b8a3d7dde97e7835027be1b
            "text/plain": [
              "<Figure size 640x480 with 1 Axes>"
            ]
          },
          "metadata": {},
          "output_type": "display_data"
        }
      ],
      "source": [
        "#Plotting\n",
        "color_ranges = [0, 1, 2, 3, 4]  # Define price ranges for coloring\n",
        "colors = ['red', 'yellow','orange', 'green']  # Define colors for each range\n",
        "\n",
        "# Create a colormap based on price ranges and colors\n",
        "cmap = plt.cm.get_cmap('coolwarm')  # Or any other colormap you prefer\n",
        "norm = plt.Normalize(vmin=min(color_ranges), vmax=max(color_ranges))\n",
        "sm = plt.cm.ScalarMappable(cmap=cmap, norm=norm)\n",
        "sm.set_array([])\n",
        "\n",
        "# Color points based on price ranges\n",
        "plt.scatter(sorted_df_bedrooms['bathrooms'], sorted_df_price['price'], c=norm(sorted_df_price['price']))\n",
        "#plt.colorbar(sm, label='Floor Range')  # Add a colorbar legend\n",
        "\n",
        "plt.xlabel('Number of Bathrooms')\n",
        "plt.ylabel('Price')\n",
        "plt.title('Price vs Bathrooms')\n",
        "plt.show()"
      ]
    },
    {
      "cell_type": "markdown",
      "metadata": {
        "id": "RdO97ZfKtqvS"
      },
      "source": [
        "As visually illustrated, there is minimal difference in the number of bathrooms and the pricing. In our data, even houses with as minimum as 0.75 bathrooms can still have a high pricing as other houses with more bathrooms. This illustrates that bathrooms have minimal impact on the pricing of the houses in King County"
      ]
    },
    {
      "cell_type": "markdown",
      "metadata": {
        "id": "Ko_UiLHNuWxH"
      },
      "source": [
        "**Objective 4**: To assess the impact of renovations on the price of a house in King County  \n",
        "Just like with the others, we begin by examining the content and visualizing them against Price. We don not need to sort the renovations as they are categorical data and therefore do not need sorting"
      ]
    },
    {
      "cell_type": "code",
<<<<<<< HEAD
      "execution_count": 23,
=======
      "execution_count": 24,
>>>>>>> 4cf704923d17c6fb6b8a3d7dde97e7835027be1b
      "metadata": {
        "colab": {
          "base_uri": "https://localhost:8080/"
        },
        "id": "EJxcrnm8tjgt",
        "outputId": "d3692de2-c784-47eb-c3fb-da4e14e3754c"
      },
      "outputs": [
        {
          "data": {
            "text/plain": [
              "0         No\n",
              "1        Yes\n",
              "2         No\n",
              "3         No\n",
              "4         No\n",
              "        ... \n",
              "21592     No\n",
              "21593     No\n",
              "21594     No\n",
              "21595     No\n",
              "21596     No\n",
              "Name: house_renovation, Length: 17702, dtype: object"
            ]
          },
<<<<<<< HEAD
          "execution_count": 23,
=======
          "execution_count": 24,
>>>>>>> 4cf704923d17c6fb6b8a3d7dde97e7835027be1b
          "metadata": {},
          "output_type": "execute_result"
        }
      ],
      "source": [
        "df_cleaned['house_renovation']"
      ]
    },
    {
      "cell_type": "markdown",
      "metadata": {
        "id": "cMLIUTwsvVPF"
      },
      "source": [
        "For the plotting, we average the amount of \"Yes\" in renovations and plot them with the average amount of the \"Price\" column. The same Process is also done for the \"No\" Renovations. The results are then plotted in a bar chart."
      ]
    },
    {
      "cell_type": "code",
<<<<<<< HEAD
      "execution_count": null,
=======
      "execution_count": 25,
>>>>>>> 4cf704923d17c6fb6b8a3d7dde97e7835027be1b
      "metadata": {
        "colab": {
          "base_uri": "https://localhost:8080/",
          "height": 472
        },
        "id": "Iazo67j7u7OG",
        "outputId": "f22f4298-e5e6-4adb-9618-167369652639"
      },
      "outputs": [
        {
          "data": {
<<<<<<< HEAD
            "image/png": "iVBORw0KGgoAAAANSUhEUgAAAlUAAAHHCAYAAACWQK1nAAAAOXRFWHRTb2Z0d2FyZQBNYXRwbG90bGliIHZlcnNpb24zLjcuMSwgaHR0cHM6Ly9tYXRwbG90bGliLm9yZy/bCgiHAAAACXBIWXMAAA9hAAAPYQGoP6dpAABaSklEQVR4nO3de1zO9/8/8MfV6arkupJOIsqxGnMIacjQXAhDDpmRwxiLoTl+WA47sHbAnDLbZFtG5rDRZC2nISFDGTksC+ng0HURKl2v3x9+vb8uhbK3XdLjfrtdt5ver+f7/X6+L6WH9+F1KYQQAkRERET0r5gYuwEiIiKiFwFDFREREZEMGKqIiIiIZMBQRURERCQDhioiIiIiGTBUEREREcmAoYqIiIhIBgxVRERERDJgqCIiIiKSAUMVEf0nLly4AIVCgcjIyP90vwqFAuPGjftP90n33/c5c+YYuw2i/xRDFdEDli9fDoVCAR8fH2O38txxc3ODQqGQXo6Ojmjfvj02b95s7NaMbvfu3QbvjampKRwdHdGvXz+cOnXK2O09M7/++utzGZz27duHbt26oWbNmrC0tETt2rXRs2dPrF27Vqq5ffs25syZg927dz/1fg4cOIA5c+YgNzf33zdNLwQzYzdA9DyJioqCm5sbDh06hHPnzqF+/frGbum50qxZM7z33nsAgIyMDKxcuRJ9+/bFihUrMGbMmMeuW6dOHdy5cwfm5ub/RatG8e6776JVq1YoLCzEiRMnEBERgd27dyMlJQXOzs7Gbk92v/76K5YtW1ZqsLpz5w7MzP77XzEbNmzAwIED0axZM0yYMAHVqlVDWloa9u7di1WrVuGNN94AcD9UzZ07FwDw6quvPtW+Dhw4gLlz52LYsGGwtbWV6QioImOoIvr/0tLScODAAWzatAlvv/02oqKiMHv27P+0B71ej4KCAlhaWv6n+y2rmjVr4s0335S+Hjp0KOrXr4+FCxc+MlTdu3cPer0eFhYWz+1xyaV9+/bo16+f9HWjRo0wduxYfPfdd5g6daoRO/vvGevves6cOfDy8sLBgwdhYWFhMJadnW2Unqjy4OU/ov8vKioK1apVQ0BAAPr164eoqChprLCwEHZ2dhg+fHiJ9XQ6HSwtLTF58mRpWX5+PmbPno369etDqVTC1dUVU6dORX5+vsG6xff7REVF4aWXXoJSqURsbCwA4LPPPsMrr7yC6tWrw8rKCt7e3vjpp59K7P/OnTt49913YW9vj6pVq6JXr164fPlyqfe0XL58GSNGjICTkxOUSiVeeuklfPvtt0/9njk7O8PT0xNpaWkA/u++qc8++wyLFi1CvXr1oFQq8ddffz3ynqrTp09jwIABcHBwgJWVFRo1aoSZM2fK3ndUVBQaNWoES0tLeHt7Y+/evdLYrl27oFAoSr2UuXbtWigUCiQkJJRrf8D9kAUA58+fL/fxFF9SjI6OxkcffYRatWrB0tISnTt3xrlz50rsa8OGDfD29oaVlRXs7e3x5ptv4vLly9L4Z599BoVCgX/++afEujNmzICFhQVu3LgBAPjjjz/Qv39/1K5dW/r+nTRpEu7cuSOtM2zYMCxbtgwADC59Fivt++/PP/9Et27doFKpYGNjg86dO+PgwYMGNZGRkVAoFNi/fz9CQ0Ph4OCAKlWqoE+fPsjJyXnke13s/PnzaNWqVYlABQCOjo4A7n+fOjg4AADmzp0r9V7c74kTJzBs2DDUrVsXlpaWcHZ2xogRI3Dt2jVpW3PmzMGUKVMAAO7u7tI2Lly48Nj7Bx9+X27evImJEyfCzc0NSqUSjo6OeO2113D06NEnHis9f3imiuj/i4qKQt++fWFhYYFBgwZhxYoVOHz4MFq1agVzc3P06dMHmzZtwsqVKw3+wd6yZQvy8/MRFBQE4P7Zpl69emHfvn0YPXo0PD09kZycjIULF+LMmTPYsmWLwX537tyJ6OhojBs3Dvb29nBzcwMALF68GL169cLgwYNRUFCAdevWoX///ti2bRsCAgKk9YcNG4bo6GgMGTIEbdq0wZ49ewzGi2VlZaFNmzZSkHNwcMD27dsxcuRI6HQ6TJw4sdzvWWFhIS5evIjq1asbLF+9ejXu3r2L0aNHQ6lUws7ODnq9vsT6J06cQPv27WFubo7Ro0fDzc0N58+fx9atW/HRRx/J1veePXuwfv16vPvuu1AqlVi+fDm6du2KQ4cOoXHjxnj11Vfh6uqKqKgo9OnTx2DdqKgo1KtXD76+vuV+fy5cuAAAqFatmrSsvMezYMECmJiYYPLkydBqtQgPD8fgwYORmJgo1URGRmL48OFo1aoV5s+fj6ysLCxevBj79+/Hn3/+CVtbWwwYMABTp05FdHS0FAaKRUdHo0uXLlKfGzZswO3btzF27FhUr14dhw4dwpIlS3Dp0iVs2LABAPD2228jIyMDcXFx+P7775/4Xpw8eRLt27eHSqXC1KlTYW5ujpUrV+LVV1/Fnj17StzHOH78eFSrVg2zZ8/GhQsXsGjRIowbNw7r169/7H7q1KmD+Ph4XLp0CbVq1Sq1xsHBAStWrMDYsWPRp08f9O3bFwDw8ssvAwDi4uLw999/Y/jw4XB2dsbJkyfx1Vdf4eTJkzh48CAUCgX69u2LM2fO4Mcff8TChQthb28vbbss4a/YmDFj8NNPP2HcuHHw8vLCtWvXsG/fPpw6dQotWrQo83boOSGISBw5ckQAEHFxcUIIIfR6vahVq5aYMGGCVLNjxw4BQGzdutVg3e7du4u6detKX3///ffCxMRE/PHHHwZ1ERERAoDYv3+/tAyAMDExESdPnizR0+3btw2+LigoEI0bNxadOnWSliUlJQkAYuLEiQa1w4YNEwDE7NmzpWUjR44UNWrUEFevXjWoDQoKEmq1usT+HlanTh3RpUsXkZOTI3JycsTx48dFUFCQACDGjx8vhBAiLS1NABAqlUpkZ2cbrF88tnr1ammZn5+fqFq1qvjnn38MavV6vWx9AxAAxJEjR6Rl//zzj7C0tBR9+vSRls2YMUMolUqRm5srLcvOzhZmZmYG72Npdu3aJQCIb7/9VuTk5IiMjAwRGxsr6tevLxQKhTh06FC5j6d4m56eniI/P1+qW7x4sQAgkpOThRD3vy8cHR1F48aNxZ07d6S6bdu2CQAiLCxMWubr6yu8vb0N9nvo0CEBQHz33XfSstLe0/nz5wuFQmHwdxUSEiIe9Wvk4e+/3r17CwsLC3H+/HlpWUZGhqhatarw8/OTlq1evVoAEP7+/gbfB5MmTRKmpqYGfz+l+eabbwQAYWFhITp27Cjef/998ccff4iioiKDupycnBI9Pu74f/zxRwFA7N27V1r26aefCgAiLS3NoLa07/ViD+9TrVaLkJCQxx4TVRy8/EeE+2cjnJyc0LFjRwD3T9EPHDgQ69atQ1FREQCgU6dOsLe3N/if8o0bNxAXF4eBAwdKyzZs2ABPT094eHjg6tWr0qtTp04A7l9qelCHDh3g5eVVoicrKyuD/Wi1WrRv397gskDxpcJ33nnHYN3x48cbfC2EwMaNG9GzZ08IIQz60mg00Gq1Zbrc8Ntvv8HBwQEODg5o2rQpNmzYgCFDhuCTTz4xqAsMDJQurzxKTk4O9u7dixEjRqB27doGY8WXkeTq29fXF97e3tLXtWvXxuuvv44dO3ZIf79Dhw5Ffn6+wSXW9evX4969ewb3kT3OiBEj4ODgABcXF3Tt2hVarRbff/89WrVq9dTHM3z4cIMzo8WXFP/++28AwJEjR5CdnY133nnH4D6mgIAAeHh4ICYmRlo2cOBAJCUlGVyOXL9+PZRKJV5//XVp2YPfe3l5ebh69SpeeeUVCCHw559/lum9eFBRURF+++039O7dG3Xr1pWW16hRA2+88Qb27dsHnU5nsM7o0aMNLie2b98eRUVFpV6+fNCIESMQGxuLV199Ffv27cMHH3yA9u3bo0GDBjhw4ECZ+n3w+O/evYurV6+iTZs2ACD7ZTlbW1skJiYiIyND1u2ScTBUUaVXVFSEdevWoWPHjkhLS8O5c+dw7tw5+Pj4ICsrC/Hx8QAAMzMzBAYG4ueff5bujdq0aRMKCwsNQtXZs2dx8uRJKXwUvxo2bAig5M2y7u7upfa1bds2tGnTBpaWlrCzs5MuWWi1Wqnmn3/+gYmJSYltPPzUYk5ODnJzc/HVV1+V6Kv4PrGy3MTr4+ODuLg4/P777zhw4ACuXr2K7777zuCX0OOO6UHFoaBx48aPrJGr7wYNGpRY1rBhQ9y+fVu6VOPh4YFWrVoZ3EsXFRWFNm3alPkp0LCwMMTFxWHz5s0YOnQotFotTEz+75/ZpzmehwNn8SW64vufikNGo0aNSvTj4eFhEEL69+8PExMT6T8GQghs2LBBus+pWHp6OoYNGwY7OzvY2NjAwcEBHTp0AACD77+yysnJwe3bt0vt0dPTE3q9HhcvXizXcT+ORqPBjh07kJubi7179yIkJAT//PMPevToUabvl+vXr2PChAlwcnKClZUVHBwcpO/ppzn+xwkPD0dKSgpcXV3RunVrzJkzR/rZoIqH91RRpbdz505cuXIF69atw7p160qMR0VFoUuXLgCAoKAgrFy5Etu3b0fv3r0RHR0NDw8PNG3aVKrX6/Vo0qQJvvjii1L35+rqavD1w4EEuH+jcK9eveDn54fly5ejRo0aMDc3x+rVqw3m2imr4vuZ3nzzTQQHB5daU3w/yePY29vD39//iXWlHdPTkKvvsho6dCgmTJiAS5cuIT8/HwcPHsTSpUvLvH6TJk2k96d37964ffs2Ro0ahXbt2sHV1fWpjsfU1LTUOiFEmfsq5uLigvbt2yM6Ohr/+9//cPDgQaSnpxucaSwqKsJrr72G69evY9q0afDw8ECVKlVw+fJlDBs2rNR7454FOY7b2toa7du3R/v27WFvb4+5c+di+/btj3zviw0YMAAHDhzAlClT0KxZM9jY2ECv16Nr165lOv4Hz7A9qPis6MP7Kp7v7bfffsOnn36KTz75BJs2bUK3bt3KdqD03GCookovKioKjo6O0pNMD9q0aRM2b96MiIgIWFlZwc/PDzVq1MD69evRrl077Ny5s8STavXq1cPx48fRuXPnR/7j+iQbN26EpaUlduzYAaVSKS1fvXq1QV2dOnWg1+uRlpZmcDbm4afDHBwcULVqVRQVFZUpFP0Xii8DpaSkPLJGrr7Pnj1bYtmZM2dgbW1tcJkyKCgIoaGh+PHHH6U5tR48C1leCxYswObNm/HRRx8hIiLimfw91KlTBwCQmpoqXWIulpqaKo0XGzhwIN555x2kpqZi/fr1sLa2Rs+ePaXx5ORknDlzBmvWrMHQoUOl5XFxcSX2XdbvbwcHB1hbWyM1NbXE2OnTp2FiYlLiPxtya9myJQDgypUrAB7d+40bNxAfH4+5c+ciLCxMWl7a99CjtlF8Vu3hSUEfdemyRo0aeOedd/DOO+8gOzsbLVq0wEcffcRQVQHx8h9Vanfu3MGmTZvQo0cP9OvXr8Rr3LhxuHnzJn755RcAgImJCfr164etW7fi+++/x71790r80h0wYAAuX76MVatWlbq/vLy8J/ZlamoKhUJh8D/bCxculHhyUKPRALg/E/yDlixZUmJ7gYGB2LhxY6khpjxPK8nFwcEBfn5++Pbbb5Genm4wVnw2Qq6+ExISDO6FuXjxIn7++Wd06dLF4IyIvb09unXrhh9++AFRUVHo2rWr9FTX06hXrx4CAwMRGRmJzMzMZ/L30LJlSzg6OiIiIsJgyo7t27fj1KlTJZ4EDQwMhKmpKX788Uds2LABPXr0QJUqVaTx4vfjwTNCQggsXry4xL6L13vSjOKmpqbo0qULfv75Z+mJSOD+k5Br165Fu3btDC4//hvFl+sf9uuvvwL4v8uk1tbWAEr2XtrxA8CiRYtKbPNRx69SqWBvb28wbQdQ8ue0qKioxOVER0dHuLi4lJh+hSoGnqmiSu2XX37BzZs30atXr1LH27RpAwcHB0RFRUnhaeDAgViyZAlmz56NJk2awNPT02CdIUOGIDo6GmPGjMGuXbvQtm1bFBUV4fTp04iOjsaOHTuk/zU/SkBAAL744gt07doVb7zxBrKzs7Fs2TLUr18fJ06ckOq8vb0RGBiIRYsW4dq1a9KUCmfOnAFg+D/pBQsWYNeuXfDx8cGoUaPg5eWF69ev4+jRo/j9999x/fr1p3oP/40vv/wS7dq1Q4sWLTB69Gi4u7vjwoULiImJwbFjx2Tru3HjxtBoNAZTKgCQZtR+0NChQ6UJPD/44IN/fYxTpkxBdHQ0Fi1ahAULFsj+92Bubo5PPvkEw4cPR4cOHTBo0CBpSgU3NzdMmjTJoN7R0REdO3bEF198gZs3b5b4T4GHhwfq1auHyZMn4/Lly1CpVNi4cWOp9zIV3/z/7rvvQqPRwNTUVJpa5GEffvgh4uLi0K5dO7zzzjswMzPDypUrkZ+fj/Dw8HId8+O8/vrrcHd3R8+ePVGvXj3k5eXh999/x9atW9GqVSvprJyVlRW8vLywfv16NGzYEHZ2dmjcuDEaN24MPz8/hIeHo7CwEDVr1sRvv/0mzcVW2vHPnDkTQUFBMDc3R8+ePVGlShW89dZbWLBgAd566y20bNkSe/fulX4ui928eRO1atVCv3790LRpU9jY2OD333/H4cOH8fnnn8v2ntB/yBiPHBI9L3r27CksLS1FXl7eI2uGDRsmzM3NpUfg9Xq9cHV1FQDEhx9+WOo6BQUF4pNPPhEvvfSSUCqVolq1asLb21vMnTtXaLVaqQ7AIx+n/uabb0SDBg2EUqkUHh4eYvXq1WL27NklHmHPy8sTISEhws7OTtjY2IjevXuL1NRUAUAsWLDAoDYrK0uEhIQIV1dXYW5uLpydnUXnzp3FV1999cT3qk6dOiIgIOCxNcWPkn/66aePHHv4MfOUlBTRp08fYWtrKywtLUWjRo3E+++/L1vfxe/xDz/8IL2fzZs3F7t27Sq1Pj8/X1SrVk2o1WqDKQoep3j6gw0bNpQ6/uqrrwqVSiVNB1CW43nUNh/1Pq5fv140b95cKJVKYWdnJwYPHiwuXbpUaj+rVq0SAETVqlVLPca//vpL+Pv7CxsbG2Fvby9GjRoljh8/XmK/9+7dE+PHjxcODg5CoVAYfG+ilOkKjh49KjQajbCxsRHW1taiY8eO4sCBAwY1xVMqHD582GB58fvxqL+3Yj/++KMICgoS9erVE1ZWVsLS0lJ4eXmJmTNnCp1OZ1B74MAB4e3tLSwsLAz6vXTpkvQ9qVarRf/+/UVGRkapx/TBBx+ImjVrChMTE4PpFW7fvi1Gjhwp1Gq1qFq1qhgwYIDIzs422EZ+fr6YMmWKaNq0qahataqoUqWKaNq0qVi+fPljj5GeXwohnuJuRyJ6rh07dgzNmzfHDz/8gMGDBxu7nQrl3r17cHFxQc+ePfHNN98Yux0iqkB4TxVRBffgR4cUW7RoEUxMTODn52eEjiq2LVu2ICcnx+AmbSKisuA9VUQVXHh4OJKSktCxY0eYmZlh+/bt2L59O0aPHv3Mn6h6kSQmJuLEiRP44IMP0Lx5c2leJiKisuLlP6IKLi4uDnPnzsVff/2FW7duoXbt2hgyZAhmzpwJMzP+v6mshg0bhh9++AHNmjVDZGTkYyclJSIqDUMVERERkQx4TxURERGRDBiqiIiIiGRg1BsuioqKMGfOHPzwww/IzMyEi4sLhg0bhlmzZhl8Sv3s2bOxatUq5Obmom3btlixYoXBR3Jcv34d48ePx9atW2FiYoLAwEAsXrwYNjY2Us2JEycQEhKCw4cPw8HBAePHj8fUqVMN+tmwYQPef/99XLhwAQ0aNMAnn3yC7t27S+Nl6eVx9Ho9MjIyULVq1af++BIiIiL6bwkhcPPmTbi4uBh8SHpphUbz0UcfierVq4tt27aJtLQ0sWHDBmFjYyMWL14s1SxYsECo1WqxZcsWcfz4cdGrVy/h7u5uMGFd165dRdOmTcXBgwfFH3/8IerXry8GDRokjWu1WuHk5CQGDx4sUlJSxI8//iisrKzEypUrpZr9+/cLU1NTER4eLv766y8xa9YsYW5uLpKTk8vVy+NcvHhRAOCLL7744osvvirg6+LFi4/9PW/UG9V79OgBJycngwn2AgMDYWVlhR9++AFCCLi4uOC9997D5MmTAQBarRZOTk6IjIxEUFAQTp06BS8vLxw+fFj66I/Y2Fh0794dly5dgouLC1asWIGZM2ciMzMTFhYWAIDp06djy5YtOH36NID7Hz2Sl5eHbdu2Sb20adMGzZo1Q0RERJl6eRKtVgtbW1tcvHhRts+5IiIiomdLp9PB1dUVubm5UKvVj6wz6uW/V155BV999RXOnDmDhg0b4vjx49i3bx+++OILAEBaWhoyMzMNPs1drVbDx8cHCQkJCAoKQkJCAmxtbQ0+S83f3x8mJiZITExEnz59kJCQAD8/PylQAfc/iPaTTz7BjRs3UK1aNSQkJCA0NNSgP41GI32AbVl6eVh+fr7Bh2LevHkTwP0P22SoIiIiqliedOuOUUPV9OnTodPp4OHhAVNTUxQVFeGjjz6SPlYjMzMTAODk5GSwnpOTkzSWmZkJR0dHg3EzMzPY2dkZ1Li7u5fYRvFYtWrVkJmZ+cT9PKmXh82fP7/UD2wlIiKiF49Rn/6Ljo5GVFQU1q5di6NHj2LNmjX47LPPsGbNGmO2JZsZM2ZAq9VKr4sXLxq7JSIiInpGjHqmasqUKZg+fbp06axJkyb4559/MH/+fAQHB8PZ2RkAkJWVhRo1akjrZWVloVmzZgAAZ2dnZGdnG2z33r17uH79urS+s7MzsrKyDGqKv35SzYPjT+rlYUqlEkqlsmxvBhEREVVoRj1Tdfv27RKPJpqamkKv1wMA3N3d4ezsjPj4eGlcp9MhMTERvr6+AABfX1/k5uYiKSlJqtm5cyf0ej18fHykmr1796KwsFCqiYuLQ6NGjVCtWjWp5sH9FNcU76csvRAREVElVqa5AJ6R4OBgUbNmTWlKhU2bNgl7e3sxdepUqWbBggXC1tZW/Pzzz+LEiRPi9ddfL3VKhebNm4vExESxb98+0aBBA4MpFXJzc4WTk5MYMmSISElJEevWrRPW1tYlplQwMzMTn332mTh16pSYPXt2qVMqPKmXx9FqtQKA0Gq1/+ZtIyIiov9QWX9/GzVU6XQ6MWHCBFG7dm1haWkp6tatK2bOnCny8/OlGr1eL95//33h5OQklEql6Ny5s0hNTTXYzrVr18SgQYOEjY2NUKlUYvjw4eLmzZsGNcePHxft2rUTSqVS1KxZUyxYsKBEP9HR0aJhw4bCwsJCvPTSSyImJsZgvCy9PA5DFRERUcVT1t/f/EDl/5BOp4NarYZWq+WUCkRERBVEWX9/87P/iIiIiGTAUEVEREQkA4YqIiIiIhkwVBERERHJgKGKiIiISAYMVUREREQyYKgiIiIikgFDFREREZEMjPqBykREVD5u02OM3QLRc+vCggCj7p9nqoiIiIhkwFBFREREJAOGKiIiIiIZMFQRERERyYChioiIiEgGDFVEREREMmCoIiIiIpIBQxURERGRDBiqiIiIiGTAUEVEREQkA4YqIiIiIhkwVBERERHJgKGKiIiISAYMVUREREQyYKgiIiIikgFDFREREZEMGKqIiIiIZMBQRURERCQDhioiIiIiGTBUEREREcmAoYqIiIhIBgxVRERERDJgqCIiIiKSAUMVERERkQwYqoiIiIhkwFBFREREJAOjhio3NzcoFIoSr5CQEADA3bt3ERISgurVq8PGxgaBgYHIysoy2EZ6ejoCAgJgbW0NR0dHTJkyBffu3TOo2b17N1q0aAGlUon69esjMjKyRC/Lli2Dm5sbLC0t4ePjg0OHDhmMl6UXIiIiqryMGqoOHz6MK1euSK+4uDgAQP/+/QEAkyZNwtatW7Fhwwbs2bMHGRkZ6Nu3r7R+UVERAgICUFBQgAMHDmDNmjWIjIxEWFiYVJOWloaAgAB07NgRx44dw8SJE/HWW29hx44dUs369esRGhqK2bNn4+jRo2jatCk0Gg2ys7Olmif1QkRERJWbQgghjN1EsYkTJ2Lbtm04e/YsdDodHBwcsHbtWvTr1w8AcPr0aXh6eiIhIQFt2rTB9u3b0aNHD2RkZMDJyQkAEBERgWnTpiEnJwcWFhaYNm0aYmJikJKSIu0nKCgIubm5iI2NBQD4+PigVatWWLp0KQBAr9fD1dUV48ePx/Tp06HVap/YS1nodDqo1WpotVqoVCrZ3jciqjzcpscYuwWi59aFBQHPZLtl/f393NxTVVBQgB9++AEjRoyAQqFAUlISCgsL4e/vL9V4eHigdu3aSEhIAAAkJCSgSZMmUqACAI1GA51Oh5MnT0o1D26juKZ4GwUFBUhKSjKoMTExgb+/v1RTll5Kk5+fD51OZ/AiIiKiF9NzE6q2bNmC3NxcDBs2DACQmZkJCwsL2NraGtQ5OTkhMzNTqnkwUBWPF489rkan0+HOnTu4evUqioqKSq15cBtP6qU08+fPh1qtll6urq5PfiOIiIioQnpuQtU333yDbt26wcXFxdityGbGjBnQarXS6+LFi8ZuiYiIiJ4RM2M3AAD//PMPfv/9d2zatEla5uzsjIKCAuTm5hqcIcrKyoKzs7NU8/BTesVP5D1Y8/BTellZWVCpVLCysoKpqSlMTU1LrXlwG0/qpTRKpRJKpbKM7wIRERFVZM/FmarVq1fD0dERAQH/d4OZt7c3zM3NER8fLy1LTU1Feno6fH19AQC+vr5ITk42eEovLi4OKpUKXl5eUs2D2yiuKd6GhYUFvL29DWr0ej3i4+OlmrL0QkRERJWb0c9U6fV6rF69GsHBwTAz+7921Go1Ro4cidDQUNjZ2UGlUmH8+PHw9fWVnrbr0qULvLy8MGTIEISHhyMzMxOzZs1CSEiIdIZozJgxWLp0KaZOnYoRI0Zg586diI6ORkzM/z1BExoaiuDgYLRs2RKtW7fGokWLkJeXh+HDh5e5FyIiIqrcjB6qfv/9d6Snp2PEiBElxhYuXAgTExMEBgYiPz8fGo0Gy5cvl8ZNTU2xbds2jB07Fr6+vqhSpQqCg4Mxb948qcbd3R0xMTGYNGkSFi9ejFq1auHrr7+GRqORagYOHIicnByEhYUhMzMTzZo1Q2xsrMHN60/qhYiIiCq352qeqhcd56kion+L81QRPRrnqSIiIiJ6ATBUEREREcmAoYqIiIhIBgxVRERERDJgqCIiIiKSAUMVERERkQwYqoiIiIhkwFBFREREJAOGKiIiIiIZMFQRERERyYChioiIiEgGDFVEREREMmCoIiIiIpIBQxURERGRDBiqiIiIiGTAUEVEREQkA4YqIiIiIhkwVBERERHJgKGKiIiISAYMVUREREQyYKgiIiIikgFDFREREZEMGKqIiIiIZMBQRURERCQDhioiIiIiGTBUEREREcmAoYqIiIhIBgxVRERERDJgqCIiIiKSAUMVERERkQwYqoiIiIhkwFBFREREJAOGKiIiIiIZMFQRERERyYChioiIiEgGRg9Vly9fxptvvonq1avDysoKTZo0wZEjR6RxIQTCwsJQo0YNWFlZwd/fH2fPnjXYxvXr1zF48GCoVCrY2tpi5MiRuHXrlkHNiRMn0L59e1haWsLV1RXh4eEletmwYQM8PDxgaWmJJk2a4NdffzUYL0svREREVDkZNVTduHEDbdu2hbm5ObZv346//voLn3/+OapVqybVhIeH48svv0RERAQSExNRpUoVaDQa3L17V6oZPHgwTp48ibi4OGzbtg179+7F6NGjpXGdTocuXbqgTp06SEpKwqeffoo5c+bgq6++kmoOHDiAQYMGYeTIkfjzzz/Ru3dv9O7dGykpKeXqhYiIiConhRBCGGvn06dPx/79+/HHH3+UOi6EgIuLC9577z1MnjwZAKDVauHk5ITIyEgEBQXh1KlT8PLywuHDh9GyZUsAQGxsLLp3745Lly7BxcUFK1aswMyZM5GZmQkLCwtp31u2bMHp06cBAAMHDkReXh62bdsm7b9NmzZo1qwZIiIiytTLk+h0OqjVami1WqhUqqd/44io0nKbHmPsFoieWxcWBDyT7Zb197dRz1T98ssvaNmyJfr37w9HR0c0b94cq1atksbT0tKQmZkJf39/aZlarYaPjw8SEhIAAAkJCbC1tZUCFQD4+/vDxMQEiYmJUo2fn58UqABAo9EgNTUVN27ckGoe3E9xTfF+ytLLw/Lz86HT6QxeRERE9GIyaqj6+++/sWLFCjRo0AA7duzA2LFj8e6772LNmjUAgMzMTACAk5OTwXpOTk7SWGZmJhwdHQ3GzczMYGdnZ1BT2jYe3Mejah4cf1IvD5s/fz7UarX0cnV1fdJbQkRERBWUUUOVXq9HixYt8PHHH6N58+YYPXo0Ro0ahYiICGO2JZsZM2ZAq9VKr4sXLxq7JSIiInpGjBqqatSoAS8vL4Nlnp6eSE9PBwA4OzsDALKysgxqsrKypDFnZ2dkZ2cbjN+7dw/Xr183qCltGw/u41E1D44/qZeHKZVKqFQqgxcRERG9mIwaqtq2bYvU1FSDZWfOnEGdOnUAAO7u7nB2dkZ8fLw0rtPpkJiYCF9fXwCAr68vcnNzkZSUJNXs3LkTer0ePj4+Us3evXtRWFgo1cTFxaFRo0bSk4a+vr4G+ymuKd5PWXohIiKiysuooWrSpEk4ePAgPv74Y5w7dw5r167FV199hZCQEACAQqHAxIkT8eGHH+KXX35BcnIyhg4dChcXF/Tu3RvA/TNbXbt2xahRo3Do0CHs378f48aNQ1BQEFxcXAAAb7zxBiwsLDBy5EicPHkS69evx+LFixEaGir1MmHCBMTGxuLzzz/H6dOnMWfOHBw5cgTjxo0rcy9ERERUeZkZc+etWrXC5s2bMWPGDMybNw/u7u5YtGgRBg8eLNVMnToVeXl5GD16NHJzc9GuXTvExsbC0tJSqomKisK4cePQuXNnmJiYIDAwEF9++aU0rlar8dtvvyEkJATe3t6wt7dHWFiYwVxWr7zyCtauXYtZs2bhf//7Hxo0aIAtW7agcePG5eqFiIiIKiejzlNV2XCeKiL6tzhPFdGjVep5qoiIiIheFAxVRERERDJgqCIiIiKSAUMVERERkQwYqoiIiIhkwFBFREREJAOGKiIiIiIZMFQRERERyYChioiIiEgGDFVEREREMmCoIiIiIpIBQxURERGRDBiqiIiIiGTAUEVEREQkA4YqIiIiIhkwVBERERHJgKGKiIiISAYMVUREREQyYKgiIiIikgFDFREREZEMGKqIiIiIZMBQRURERCQDhioiIiIiGTBUEREREcnAzNgNkDzcpscYuwWi59qFBQHGboGIXnA8U0VEREQkA4YqIiIiIhkwVBERERHJgKGKiIiISAYMVUREREQyYKgiIiIikgFDFREREZEMGKqIiIiIZMBQRURERCQDhioiIiIiGRg1VM2ZMwcKhcLg5eHhIY3fvXsXISEhqF69OmxsbBAYGIisrCyDbaSnpyMgIADW1tZwdHTElClTcO/ePYOa3bt3o0WLFlAqlahfvz4iIyNL9LJs2TK4ubnB0tISPj4+OHTokMF4WXohIiKiysvoZ6peeuklXLlyRXrt27dPGps0aRK2bt2KDRs2YM+ePcjIyEDfvn2l8aKiIgQEBKCgoAAHDhzAmjVrEBkZibCwMKkmLS0NAQEB6NixI44dO4aJEyfirbfewo4dO6Sa9evXIzQ0FLNnz8bRo0fRtGlTaDQaZGdnl7kXIiIiqtwUQghR3pX++OMPrFy5EufPn8dPP/2EmjVr4vvvv4e7uzvatWtX5u3MmTMHW7ZswbFjx0qMabVaODg4YO3atejXrx8A4PTp0/D09ERCQgLatGmD7du3o0ePHsjIyICTkxMAICIiAtOmTUNOTg4sLCwwbdo0xMTEICUlRdp2UFAQcnNzERsbCwDw8fFBq1atsHTpUgCAXq+Hq6srxo8fj+nTp5epl7LQ6XRQq9XQarVQqVRlfp/Kgh+oTPR4L8oHKvNnnejRntXPeVl/f5f7TNXGjRuh0WhgZWWFP//8E/n5+QDuh6CPP/643I2ePXsWLi4uqFu3LgYPHoz09HQAQFJSEgoLC+Hv7y/Venh4oHbt2khISAAAJCQkoEmTJlKgAgCNRgOdToeTJ09KNQ9uo7imeBsFBQVISkoyqDExMYG/v79UU5ZeSpOfnw+dTmfwIiIiohdTuUPVhx9+iIiICKxatQrm5ubS8rZt2+Lo0aPl2paPjw8iIyMRGxuLFStWIC0tDe3bt8fNmzeRmZkJCwsL2NraGqzj5OSEzMxMAEBmZqZBoCoeLx57XI1Op8OdO3dw9epVFBUVlVrz4Dae1Etp5s+fD7VaLb1cXV3L9sYQERFRhWNW3hVSU1Ph5+dXYrlarUZubm65ttWtWzfpzy+//DJ8fHxQp04dREdHw8rKqrytPXdmzJiB0NBQ6WudTsdgRURE9IIq95kqZ2dnnDt3rsTyffv2oW7duv+qGVtbWzRs2BDnzp2Ds7MzCgoKSgS1rKwsODs7S708/ARe8ddPqlGpVLCysoK9vT1MTU1LrXlwG0/qpTRKpRIqlcrgRURERC+mcoeqUaNGYcKECUhMTIRCoUBGRgaioqIwefJkjB079l81c+vWLZw/fx41atSAt7c3zM3NER8fL42npqYiPT0dvr6+AABfX18kJycbPKUXFxcHlUoFLy8vqebBbRTXFG/DwsIC3t7eBjV6vR7x8fFSTVl6ISIiosqt3Jf/pk+fDr1ej86dO+P27dvw8/ODUqnE5MmTMX78+HJta/LkyejZsyfq1KmDjIwMzJ49G6amphg0aBDUajVGjhyJ0NBQ2NnZQaVSYfz48fD19ZWetuvSpQu8vLwwZMgQhIeHIzMzE7NmzUJISAiUSiUAYMyYMVi6dCmmTp2KESNGYOfOnYiOjkZMzP89QRMaGorg4GC0bNkSrVu3xqJFi5CXl4fhw4cDQJl6ISIiosqt3KFKoVBg5syZmDJlCs6dO4dbt27By8sLNjY25d75pUuXMGjQIFy7dg0ODg5o164dDh48CAcHBwDAwoULYWJigsDAQOTn50Oj0WD58uXS+qampti2bRvGjh0LX19fVKlSBcHBwZg3b55U4+7ujpiYGEyaNAmLFy9GrVq18PXXX0Oj0Ug1AwcORE5ODsLCwpCZmYlmzZohNjbW4Ob1J/VCRERElVu556nSarUoKiqCnZ2dwfLr16/DzMyM9w09BuepIjIezlNF9OKrcPNUBQUFYd26dSWWR0dHIygoqLybIyIiInohlDtUJSYmomPHjiWWv/rqq0hMTJSlKSIiIqKKptyhKj8/v8QHFgNAYWEh7ty5I0tTRERERBVNuUNV69at8dVXX5VYHhERAW9vb1maIiIiIqpoyv3034cffgh/f38cP34cnTt3BgDEx8fj8OHD+O2332RvkIiIiKgiKPeZqrZt2yIhIQGurq6Ijo7G1q1bUb9+fZw4cQLt27d/Fj0SERERPffKfaYKAJo1a4aoqCi5eyEiIiKqsMoUqnQ6nTQvg06ne2wt56kiIiKiyqhMoapatWq4cuUKHB0dYWtrC4VCUaJGCAGFQoGioiLZmyQiIiJ63pUpVO3cuVOaQX3Xrl3PtCEiIiKiiqhMoapDhw4AgHv37mHPnj0YMWIEatWq9UwbIyIiIqpIyvX0n5mZGT799NNSJ/8kIiIiqszKPaVCp06dsGfPnmfRCxEREVGFVe4pFbp164bp06cjOTkZ3t7eqFKlisF4r169ZGuOiIiIqKIod6h65513AABffPFFiTE+/UdERESVVblDlV6vfxZ9EBEREVVo5QpVFy5cQFxcHAoLC9GhQwe89NJLz6ovIiIiogqlzKFq165d6NGjB+7cuXN/RTMzfPvtt3jzzTefWXNEREREFUWZn/57//338dprr+Hy5cu4du0aRo0ahalTpz7L3oiIiIgqjDKHqpSUFHz88ceoUaMGqlWrhk8//RTZ2dm4du3as+yPiIiIqEIoc6jS6XSwt7eXvra2toaVlRW0Wu0zaYyIiIioIinXjeo7duyAWq2Wvtbr9YiPj0dKSoq0jPNUERERUWVUrlAVHBxcYtnbb78t/ZnzVBEREVFlVeZQxfmpiIiIiB6t3J/9R0REREQlMVQRERERyYChioiIiEgGDFVEREREMmCoIiIiIpLBU4Wq3NxcfP3115gxYwauX78OADh69CguX74sa3NEREREFUW55qkCgBMnTsDf3x9qtRoXLlzAqFGjYGdnh02bNiE9PR3ffffds+iTiIiI6LlW7jNVoaGhGDZsGM6ePQtLS0tpeffu3bF3715ZmyMiIiKqKModqg4fPmwwi3qxmjVrIjMzU5amiIiIiCqacocqpVIJnU5XYvmZM2fg4OAgS1NEREREFU25Q1WvXr0wb948FBYWArj/eX/p6emYNm0aAgMDn7qRBQsWQKFQYOLEidKyu3fvIiQkBNWrV4eNjQ0CAwORlZVlsF56ejoCAgJgbW0NR0dHTJkyBffu3TOo2b17N1q0aAGlUon69esjMjKyxP6XLVsGNzc3WFpawsfHB4cOHTIYL0svREREVHmVO1R9/vnnuHXrFhwdHXHnzh106NAB9evXR9WqVfHRRx89VROHDx/GypUr8fLLLxssnzRpErZu3YoNGzZgz549yMjIQN++faXxoqIiBAQEoKCgAAcOHMCaNWsQGRmJsLAwqSYtLQ0BAQHo2LEjjh07hokTJ+Ktt97Cjh07pJr169cjNDQUs2fPxtGjR9G0aVNoNBpkZ2eXuRciIiKq3BRCCPE0K+7btw8nTpzArVu30KJFC/j7+z9VA8XrL1++HB9++CGaNWuGRYsWQavVwsHBAWvXrkW/fv0AAKdPn4anpycSEhLQpk0bbN++HT169EBGRgacnJwAABEREZg2bRpycnJgYWGBadOmISYmBikpKdI+g4KCkJubi9jYWACAj48PWrVqhaVLlwK4/+HRrq6uGD9+PKZPn16mXspCp9NBrVZDq9VCpVI91fv1KG7TY2TdHtGL5sKCAGO3IAv+rBM92rP6OS/r7++nnvyzXbt2eOeddzB16tSnDlQAEBISgoCAgBLbSEpKQmFhocFyDw8P1K5dGwkJCQCAhIQENGnSRApUAKDRaKDT6XDy5Emp5uFtazQaaRsFBQVISkoyqDExMYG/v79UU5ZeiIiIqHIr9zxVX375ZanLFQoFLC0tUb9+ffj5+cHU1PSJ21q3bh2OHj2Kw4cPlxjLzMyEhYUFbG1tDZY7OTlJTxlmZmYaBKri8eKxx9XodDrcuXMHN27cQFFRUak1p0+fLnMvpcnPz0d+fr70dWk3+BMREdGLodyhauHChcjJycHt27dRrVo1AMCNGzdgbW0NGxsbZGdno27duti1axdcXV0fuZ2LFy9iwoQJiIuLM5jv6kUyf/58zJ0719htEBER0X+g3Jf/Pv74Y7Rq1Qpnz57FtWvXcO3aNZw5cwY+Pj5YvHgx0tPT4ezsjEmTJj12O0lJScjOzkaLFi1gZmYGMzMz7NmzB19++SXMzMzg5OSEgoIC5ObmGqyXlZUFZ2dnAICzs3OJJ/CKv35SjUqlgpWVFezt7WFqalpqzYPbeFIvpZkxYwa0Wq30unjx4mPfEyIiIqq4yh2qZs2ahYULF6JevXrSsvr16+Ozzz7DjBkzUKtWLYSHh2P//v2P3U7nzp2RnJyMY8eOSa+WLVti8ODB0p/Nzc0RHx8vrZOamor09HT4+voCAHx9fZGcnGzwlF5cXBxUKhW8vLykmge3UVxTvA0LCwt4e3sb1Oj1esTHx0s13t7eT+ylNEqlEiqVyuBFREREL6ZyX/67cuVKiXmgAODevXvS/UUuLi64efPmY7dTtWpVNG7c2GBZlSpVUL16dWn5yJEjERoaCjs7O6hUKowfPx6+vr7S03ZdunSBl5cXhgwZgvDwcGRmZmLWrFkICQmBUqkEAIwZMwZLly7F1KlTMWLECOzcuRPR0dGIifm/J2hCQ0MRHByMli1bonXr1li0aBHy8vIwfPhwAIBarX5iL0RERFS5lTtUdezYEW+//Ta+/vprNG/eHADw559/YuzYsejUqRMAIDk5Ge7u7v+6uYULF8LExASBgYHIz8+HRqPB8uXLpXFTU1Ns27YNY8eOha+vL6pUqYLg4GDMmzdPqnF3d0dMTAwmTZqExYsXo1atWvj666+h0WikmoEDByInJwdhYWHIzMxEs2bNEBsba3Dz+pN6ISIiosqt3PNUZWZmYsiQIYiPj4e5uTmA+2epOnfujO+//x5OTk7YtWsXCgsL0aVLl2fSdEXFeaqIjIfzVBG9+Iw9T1W5z1Q5OzsjLi4Op0+fxpkzZwAAjRo1QqNGjaSajh07PkXLRERERBVXuUNVMQ8PD3h4eMjZCxEREVGF9VSh6tKlS/jll1+Qnp6OgoICg7EvvvhClsaIiIiIKpJyh6r4+Hj06tULdevWxenTp9G4cWNcuHABQgi0aNHiWfRIRERE9Nwr9zxVM2bMwOTJk5GcnAxLS0ts3LgRFy9eRIcOHdC/f/9n0SMRERHRc6/coerUqVMYOnQoAMDMzAx37tyBjY0N5s2bh08++UT2BomIiIgqgnKHqipVqkj3UdWoUQPnz5+Xxq5evSpfZ0REREQVSLnvqWrTpg327dsHT09PdO/eHe+99x6Sk5OxadMmzi5ORERElVa5Q9UXX3yBW7duAQDmzp2LW7duYf369WjQoAGf/CMiIqJKq1yhqqioCJcuXcLLL78M4P6lwIiIiGfSGBEREVFFUq57qkxNTdGlSxfcuHHjWfVDREREVCGV+0b1xo0b4++//34WvRARERFVWOUOVR9++CEmT56Mbdu24cqVK9DpdAYvIiIiosqo3Deqd+/eHQDQq1cvKBQKabkQAgqFAkVFRfJ1R0RERFRBlDtU7dq161n0QURERFShlTtUdejQ4Vn0QURERFShlfueKgD4448/8Oabb+KVV17B5cuXAQDff/899u3bJ2tzRERERBVFuUPVxo0bodFoYGVlhaNHjyI/Px8AoNVq8fHHH8veIBEREVFF8FRP/0VERGDVqlUwNzeXlrdt2xZHjx6VtTkiIiKiiqLcoSo1NRV+fn4llqvVauTm5srRExEREVGFU+5Q5ezsjHPnzpVYvm/fPtStW1eWpoiIiIgqmnKHqlGjRmHChAlITEyEQqFARkYGoqKiMHnyZIwdO/ZZ9EhERET03Cv3lArTp0+HXq9H586dcfv2bfj5+UGpVGLy5MkYP378s+iRiIiI6LlX7lClUCgwc+ZMTJkyBefOncOtW7fg5eUFGxubZ9EfERERUYVQ7st/P/zwA27fvg0LCwt4eXmhdevWDFRERERU6ZU7VE2aNAmOjo5444038Ouvv/Kz/oiIiIjwFKHqypUrWLduHRQKBQYMGIAaNWogJCQEBw4ceBb9EREREVUI5Q5VZmZm6NGjB6KiopCdnY2FCxfiwoUL6NixI+rVq/cseiQiIiJ67pX7RvUHWVtbQ6PR4MaNG/jnn39w6tQpufoiIiIiqlCe6gOVb9++jaioKHTv3h01a9bEokWL0KdPH5w8eVLu/oiIiIgqhHKfqQoKCsK2bdtgbW2NAQMG4P3334evr++z6I2IiIiowih3qDI1NUV0dDQ0Gg1MTU0NxlJSUtC4cWPZmiMiIiKqKModqqKiogy+vnnzJn788Ud8/fXXSEpK4hQLREREVCk91T1VALB3714EBwejRo0a+Oyzz9CpUyccPHhQzt6IiIiIKoxynanKzMxEZGQkvvnmG+h0OgwYMAD5+fnYsmULvLy8nlWPRERERM+9Mp+p6tmzJxo1aoQTJ05g0aJFyMjIwJIlS/7VzlesWIGXX34ZKpUKKpUKvr6+2L59uzR+9+5dhISEoHr16rCxsUFgYCCysrIMtpGeno6AgABYW1vD0dERU6ZMwb179wxqdu/ejRYtWkCpVKJ+/fqIjIws0cuyZcvg5uYGS0tL+Pj44NChQwbjZemFiIiIKq8yh6rt27dj5MiRmDt3LgICAkrcpP40atWqhQULFiApKQlHjhxBp06d8Prrr0tTM0yaNAlbt27Fhg0bsGfPHmRkZKBv377S+kVFRQgICEBBQQEOHDiANWvWIDIyEmFhYVJNWloaAgIC0LFjRxw7dgwTJ07EW2+9hR07dkg169evR2hoKGbPno2jR4+iadOm0Gg0yM7Olmqe1AsRERFVbgohhChL4cGDB/HNN99g/fr18PT0xJAhQxAUFIQaNWrg+PHjsl3+s7Ozw6effop+/frBwcEBa9euRb9+/QAAp0+fhqenJxISEtCmTRts374dPXr0QEZGBpycnAAAERERmDZtGnJycmBhYYFp06YhJiYGKSkp0j6CgoKQm5uL2NhYAICPjw9atWqFpUuXAgD0ej1cXV0xfvx4TJ8+HVqt9om9lIVOp4NarYZWq4VKpZLl/SrmNj1G1u0RvWguLAgwdguy4M860aM9q5/zsv7+LvOZqjZt2mDVqlW4cuUK3n77baxbtw4uLi7Q6/WIi4vDzZs3/1XDRUVFWLduHfLy8uDr64ukpCQUFhbC399fqvHw8EDt2rWRkJAAAEhISECTJk2kQAUAGo0GOp1OOtuVkJBgsI3imuJtFBQUICkpyaDGxMQE/v7+Uk1ZeilNfn4+dDqdwYuIiIheTOV++q9KlSoYMWIE9u3bh+TkZLz33ntYsGABHB0d0atXr3I3kJycDBsbGyiVSowZMwabN2+Gl5cXMjMzYWFhAVtbW4N6JycnZGZmArh/4/yDgap4vHjscTU6nQ537tzB1atXUVRUVGrNg9t4Ui+lmT9/PtRqtfRydXUt25tCREREFc5TT6kAAI0aNUJ4eDguXbqEH3/88am3cezYMSQmJmLs2LEIDg7GX3/99W/aem7MmDEDWq1Wel28eNHYLREREdEz8q8+ULmYqakpevfujd69e5d7XQsLC9SvXx8A4O3tjcOHD2Px4sUYOHAgCgoKkJuba3CGKCsrC87OzgAAZ2fnEk/pFT+R92DNw0/pZWVlQaVSwcrKCqampjA1NS215sFtPKmX0iiVSiiVynK8G0RERFRR/aszVc+CXq9Hfn4+vL29YW5ujvj4eGksNTUV6enp0mcN+vr6Ijk52eApvbi4OKhUKunGeV9fX4NtFNcUb8PCwgLe3t4GNXq9HvHx8VJNWXohIiKiyk2WM1VPa8aMGejWrRtq166NmzdvYu3atdi9ezd27NgBtVqNkSNHIjQ0FHZ2dlCpVBg/fjx8fX2lp+26dOkCLy8vDBkyBOHh4cjMzMSsWbMQEhIinSEaM2YMli5diqlTp2LEiBHYuXMnoqOjERPzf0/QhIaGIjg4GC1btkTr1q2xaNEi5OXlYfjw4QBQpl6IiIiocjNqqMrOzsbQoUNx5coVqNVqvPzyy9ixYwdee+01AMDChQthYmKCwMBA5OfnQ6PRYPny5dL6pqam2LZtG8aOHQtfX19UqVIFwcHBmDdvnlTj7u6OmJgYTJo0CYsXL0atWrXw9ddfQ6PRSDUDBw5ETk4OwsLCkJmZiWbNmiE2Ntbg5vUn9UJERESVW5nnqaJ/j/NUERkP56kievFVmHmqiIiIiOjRGKqIiIiIZMBQRURERCQDhioiIiIiGTBUEREREcmAoYqIiIhIBgxVRERERDJgqCIiIiKSAUMVERERkQwYqoiIiIhkwFBFREREJAOGKiIiIiIZMFQRERERyYChioiIiEgGDFVEREREMmCoIiIiIpIBQxURERGRDBiqiIiIiGTAUEVEREQkA4YqIiIiIhkwVBERERHJgKGKiIiISAYMVUREREQyYKgiIiIikgFDFREREZEMGKqIiIiIZMBQRURERCQDhioiIiIiGTBUEREREcmAoYqIiIhIBgxVRERERDJgqCIiIiKSAUMVERERkQwYqoiIiIhkwFBFREREJAOjhqr58+ejVatWqFq1KhwdHdG7d2+kpqYa1Ny9exchISGoXr06bGxsEBgYiKysLIOa9PR0BAQEwNraGo6OjpgyZQru3btnULN79260aNECSqUS9evXR2RkZIl+li1bBjc3N1haWsLHxweHDh0qdy9ERERUORk1VO3ZswchISE4ePAg4uLiUFhYiC5duiAvL0+qmTRpErZu3YoNGzZgz549yMjIQN++faXxoqIiBAQEoKCgAAcOHMCaNWsQGRmJsLAwqSYtLQ0BAQHo2LEjjh07hokTJ+Ktt97Cjh07pJr169cjNDQUs2fPxtGjR9G0aVNoNBpkZ2eXuRciIiKqvBRCCGHsJorl5OTA0dERe/bsgZ+fH7RaLRwcHLB27Vr069cPAHD69Gl4enoiISEBbdq0wfbt29GjRw9kZGTAyckJABAREYFp06YhJycHFhYWmDZtGmJiYpCSkiLtKygoCLm5uYiNjQUA+Pj4oFWrVli6dCkAQK/Xw9XVFePHj8f06dPL1MuT6HQ6qNVqaLVaqFQqWd87t+kxsm6P6EVzYUGAsVuQBX/WiR7tWf2cl/X393N1T5VWqwUA2NnZAQCSkpJQWFgIf39/qcbDwwO1a9dGQkICACAhIQFNmjSRAhUAaDQa6HQ6nDx5Uqp5cBvFNcXbKCgoQFJSkkGNiYkJ/P39pZqy9PKw/Px86HQ6gxcRERG9mJ6bUKXX6zFx4kS0bdsWjRs3BgBkZmbCwsICtra2BrVOTk7IzMyUah4MVMXjxWOPq9HpdLhz5w6uXr2KoqKiUmse3MaTennY/PnzoVarpZerq2sZ3w0iIiKqaJ6bUBUSEoKUlBSsW7fO2K3IZsaMGdBqtdLr4sWLxm6JiIiInhEzYzcAAOPGjcO2bduwd+9e1KpVS1ru7OyMgoIC5ObmGpwhysrKgrOzs1Tz8FN6xU/kPVjz8FN6WVlZUKlUsLKygqmpKUxNTUuteXAbT+rlYUqlEkqlshzvBBEREVVURj1TJYTAuHHjsHnzZuzcuRPu7u4G497e3jA3N0d8fLy0LDU1Fenp6fD19QUA+Pr6Ijk52eApvbi4OKhUKnh5eUk1D26juKZ4GxYWFvD29jao0ev1iI+Pl2rK0gsRERFVXkY9UxUSEoK1a9fi559/RtWqVaV7k9RqNaysrKBWqzFy5EiEhobCzs4OKpUK48ePh6+vr/S0XZcuXeDl5YUhQ4YgPDwcmZmZmDVrFkJCQqSzRGPGjMHSpUsxdepUjBgxAjt37kR0dDRiYv7vKZrQ0FAEBwejZcuWaN26NRYtWoS8vDwMHz5c6ulJvRAREVHlZdRQtWLFCgDAq6++arB89erVGDZsGABg4cKFMDExQWBgIPLz86HRaLB8+XKp1tTUFNu2bcPYsWPh6+uLKlWqIDg4GPPmzZNq3N3dERMTg0mTJmHx4sWoVasWvv76a2g0Gqlm4MCByMnJQVhYGDIzM9GsWTPExsYa3Lz+pF6IiIio8nqu5ql60XGeKiLj4TxVRC8+zlNFRERE9AJgqCIiIiKSAUMVERERkQwYqoiIiIhkwFBFREREJAOGKiIiIiIZMFQRERERyYChioiIiEgGDFVEREREMmCoIiIiIpIBQxURERGRDBiqiIiIiGTAUEVEREQkA4YqIiIiIhkwVBERERHJgKGKiIiISAYMVUREREQyYKgiIiIikgFDFREREZEMGKqIiIiIZMBQRURERCQDhioiIiIiGTBUEREREcmAoYqIiIhIBgxVRERERDJgqCIiIiKSAUMVERERkQwYqoiIiIhkwFBFREREJAOGKiIiIiIZMFQRERERyYChioiIiEgGDFVEREREMmCoIiIiIpIBQxURERGRDIwaqvbu3YuePXvCxcUFCoUCW7ZsMRgXQiAsLAw1atSAlZUV/P39cfbsWYOa69evY/DgwVCpVLC1tcXIkSNx69Ytg5oTJ06gffv2sLS0hKurK8LDw0v0smHDBnh4eMDS0hJNmjTBr7/+Wu5eiIiIqPIyaqjKy8tD06ZNsWzZslLHw8PD8eWXXyIiIgKJiYmoUqUKNBoN7t69K9UMHjwYJ0+eRFxcHLZt24a9e/di9OjR0rhOp0OXLl1Qp04dJCUl4dNPP8WcOXPw1VdfSTUHDhzAoEGDMHLkSPz555/o3bs3evfujZSUlHL1QkRERJWXQgghjN0EACgUCmzevBm9e/cGcP/MkIuLC9577z1MnjwZAKDVauHk5ITIyEgEBQXh1KlT8PLywuHDh9GyZUsAQGxsLLp3745Lly7BxcUFK1aswMyZM5GZmQkLCwsAwPTp07FlyxacPn0aADBw4EDk5eVh27ZtUj9t2rRBs2bNEBERUaZeykKn00GtVkOr1UKlUsnyvhVzmx4j6/aIXjQXFgQYuwVZ8Ged6NGe1c95WX9/P7f3VKWlpSEzMxP+/v7SMrVaDR8fHyQkJAAAEhISYGtrKwUqAPD394eJiQkSExOlGj8/PylQAYBGo0Fqaipu3Lgh1Ty4n+Ka4v2UpZfS5OfnQ6fTGbyIiIjoxfTchqrMzEwAgJOTk8FyJycnaSwzMxOOjo4G42ZmZrCzszOoKW0bD+7jUTUPjj+pl9LMnz8farVaerm6uj7hqImIiKiiem5D1YtgxowZ0Gq10uvixYvGbomIiIiekec2VDk7OwMAsrKyDJZnZWVJY87OzsjOzjYYv3fvHq5fv25QU9o2HtzHo2oeHH9SL6VRKpVQqVQGLyIiInoxPbehyt3dHc7OzoiPj5eW6XQ6JCYmwtfXFwDg6+uL3NxcJCUlSTU7d+6EXq+Hj4+PVLN3714UFhZKNXFxcWjUqBGqVasm1Ty4n+Ka4v2UpRciIiKq3Iwaqm7duoVjx47h2LFjAO7fEH7s2DGkp6dDoVBg4sSJ+PDDD/HLL78gOTkZQ4cOhYuLi/SEoKenJ7p27YpRo0bh0KFD2L9/P8aNG4egoCC4uLgAAN544w1YWFhg5MiROHnyJNavX4/FixcjNDRU6mPChAmIjY3F559/jtOnT2POnDk4cuQIxo0bBwBl6oWIiIgqNzNj7vzIkSPo2LGj9HVx0AkODkZkZCSmTp2KvLw8jB49Grm5uWjXrh1iY2NhaWkprRMVFYVx48ahc+fOMDExQWBgIL788ktpXK1W47fffkNISAi8vb1hb2+PsLAwg7msXnnlFaxduxazZs3C//73PzRo0ABbtmxB48aNpZqy9EJERESV13MzT1VlwHmqiIyH81QRvfg4TxURERHRC4ChioiIiEgGDFVEREREMmCoIiIiIpIBQxURERGRDBiqiIiIiGTAUEVEREQkA4YqIiIiIhkwVBERERHJgKGKiIiISAYMVUREREQyYKgiIiIikgFDFREREZEMGKqIiIiIZMBQRURERCQDhioiIiIiGTBUEREREcmAoYqIiIhIBgxVRERERDJgqCIiIiKSAUMVERERkQwYqoiIiIhkwFBFREREJAOGKiIiIiIZMFQRERERyYChioiIiEgGDFVEREREMmCoIiIiIpIBQxURERGRDBiqiIiIiGTAUEVEREQkA4YqIiIiIhkwVBERERHJgKGKiIiISAYMVeW0bNkyuLm5wdLSEj4+Pjh06JCxWyIiIqLnAENVOaxfvx6hoaGYPXs2jh49iqZNm0Kj0SA7O9vYrREREZGRMVSVwxdffIFRo0Zh+PDh8PLyQkREBKytrfHtt98auzUiIiIyMoaqMiooKEBSUhL8/f2lZSYmJvD390dCQoIROyMiIqLngZmxG6gorl69iqKiIjg5ORksd3JywunTp0tdJz8/H/n5+dLXWq0WAKDT6WTvT59/W/ZtEr1InsXPnTHwZ53o0Z7Vz3nxdoUQj61jqHqG5s+fj7lz55ZY7urqaoRuiCo39SJjd0BEz9qz/jm/efMm1Gr1I8cZqsrI3t4epqamyMrKMlielZUFZ2fnUteZMWMGQkNDpa/1ej2uX7+O6tWrQ6FQPNN+ybh0Oh1cXV1x8eJFqFQqY7dDRM8Af84rDyEEbt68CRcXl8fWMVSVkYWFBby9vREfH4/evXsDuB+S4uPjMW7cuFLXUSqVUCqVBstsbW2fcaf0PFGpVPzHlugFx5/zyuFxZ6iKMVSVQ2hoKIKDg9GyZUu0bt0aixYtQl5eHoYPH27s1oiIiMjIGKrKYeDAgcjJyUFYWBgyMzPRrFkzxMbGlrh5nYiIiCofhqpyGjdu3CMv9xEVUyqVmD17donLv0T04uDPOT1MIZ70fCARERERPREn/yQiIiKSAUMVERERkQwYqoiIiIhkwFBFREREJAOGKqKnNGzYMCgUCixYsMBg+ZYtWzhjPlEFJoSAv78/NBpNibHly5fD1tYWly5dMkJn9LxjqCL6FywtLfHJJ5/gxo0bxm6FiGSiUCiwevVqJCYmYuXKldLytLQ0TJ06FUuWLEGtWrWM2CE9rxiqiP4Ff39/ODs7Y/78+Y+s2bhxI1566SUolUq4ubnh888//w87JKKn4erqisWLF2Py5MlIS0uDEAIjR45Ely5d0Lx5c3Tr1g02NjZwcnLCkCFDcPXqVWndn376CU2aNIGVlRWqV68Of39/5OXlGfFo6L/CUEX0L5iamuLjjz/GkiVLSr0ckJSUhAEDBiAoKAjJycmYM2cO3n//fURGRv73zRJRuQQHB6Nz584YMWIEli5dipSUFKxcuRKdOnVC8+bNceTIEcTGxiIrKwsDBgwAAFy5cgWDBg3CiBEjcOrUKezevRt9+/YFp4SsHDj5J9FTGjZsGHJzc7Flyxb4+vrCy8sL33zzDbZs2YI+ffpACIHBgwcjJycHv/32m7Te1KlTERMTg5MnTxqxeyIqi+zsbLz00ku4fv06Nm7ciJSUFPzxxx/YsWOHVHPp0iW4uroiNTUVt27dgre3Ny5cuIA6deoYsXMyBp6pIpLBJ598gjVr1uDUqVMGy0+dOoW2bdsaLGvbti3Onj2LoqKi/7JFInoKjo6OePvtt+Hp6YnevXvj+PHj2LVrF2xsbKSXh4cHAOD8+fNo2rQpOnfujCZNmqB///5YtWoV77msRBiqiGTg5+cHjUaDGTNmGLsVIpKZmZkZzMzuf1TurVu30LNnTxw7dszgdfbsWfj5+cHU1BRxcXHYvn07vLy8sGTJEjRq1AhpaWlGPgr6L/ADlYlksmDBAjRr1gyNGjWSlnl6emL//v0Gdfv370fDhg1hamr6X7dIRP9SixYtsHHjRri5uUlB62EKhQJt27ZF27ZtERYWhjp16mDz5s0IDQ39j7ul/xrPVBHJpEmTJhg8eDC+/PJLadl7772H+Ph4fPDBBzhz5gzWrFmDpUuXYvLkyUbslIieVkhICK5fv45Bgwbh8OHDOH/+PHbs2IHhw4ejqKgIiYmJ+Pjjj3HkyBGkp6dj06ZNyMnJgaenp7Fbp/8AQxWRjObNmwe9Xi993aJFC0RHR2PdunVo3LgxwsLCMG/ePAwbNsx4TRLRU3NxccH+/ftRVFSELl26oEmTJpg4cSJsbW1hYmIClUqFvXv3onv37mjYsCFmzZqFzz//HN26dTN26/Qf4NN/RERERDLgmSoiIiIiGTBUEREREcmAoYqIiIhIBgxVRERERDJgqCIiIiKSAUMVERERkQwYqoiIiIhkwFBFRFROw4YNQ+/evY3dBhE9ZxiqiEhWw4YNg0KhgEKhgLm5Odzd3TF16lTcvXvX2K2V24ULF6BQKHDs2DGD5YsXL0ZkZOQz3/+ePXvQqVMn2NnZwdraGg0aNEBwcDAKCgoAAJGRkbC1tS33dnfv3g2FQoHc3Fx5Gyaq5BiqiEh2Xbt2xZUrV/D3339j4cKFWLlyJWbPnm3stmSjVqufKsyUx19//YWuXbuiZcuW2Lt3L5KTk7FkyRJYWFigqKjome6biJ4OQxURyU6pVMLZ2Rmurq7o3bs3/P39ERcXJ43r9XrMnz8f7u7usLKyQtOmTfHTTz9J48VnUuLj49GyZUtYW1vjlVdeQWpqqsF+VqxYgXr16sHCwgKNGjXC999/L4298cYbGDhwoEF9YWEh7O3t8d133wEAYmNj0a5dO9ja2qJ69ero0aMHzp8/L9W7u7sDAJo3bw6FQoFXX30VQMnLf/n5+Xj33Xfh6OgIS0tLtGvXDocPHy738Tzot99+g7OzM8LDw9G4cWPUq1cPXbt2xapVq2BlZYXdu3dj+PDh0Gq10pnBOXPmAAC+//57tGzZElWrVoWzszPeeOMNZGdnA7h/9q1jx44AgGrVqkGhUEifRenm5oZFixYZ9NGsWTNpu0IIzJkzB7Vr14ZSqYSLiwvefffdRx4DUWXDUEVEz1RKSgoOHDgACwsLadn8+fPx3XffISIiAidPnsSkSZPw5ptvYs+ePQbrzpw5E59//jmOHDkCMzMzjBgxQhrbvHkzJkyYgPfeew8pKSl4++23MXz4cOzatQsAMHjwYGzduhW3bt2S1tmxYwdu376NPn36AADy8vIQGhqKI0eOID4+HiYmJujTp4/0odiHDh0CAPz++++4cuUKNm3aVOoxTp06FRs3bsSaNWtw9OhR1K9fHxqNBtevXy/z8TzM2dkZV65cwd69e0sdf+WVV7Bo0SKoVCpcuXIFV65cweTJkwHcD48ffPABjh8/ji1btuDChQtScHJ1dcXGjRsBAKmpqbhy5QoWL178yD4etHHjRunM49mzZ7FlyxY0adKkTOsSVQqCiEhGwcHBwtTUVFSpUkUolUoBQJiYmIiffvpJCCHE3bt3hbW1tThw4IDBeiNHjhSDBg0SQgixa9cuAUD8/vvv0nhMTIwAIO7cuSOEEOKVV14Ro0aNMthG//79Rffu3YUQQhQWFgp7e3vx3XffSeODBg0SAwcOfGTvOTk5AoBITk4WQgiRlpYmAIg///yzxDG+/vrrQgghbt26JczNzUVUVJQ0XlBQIFxcXER4eHiZj+dh9+7dE8OGDRMAhLOzs+jdu7dYsmSJ0Gq1Us3q1auFWq1+5PEUO3z4sAAgbt68adDPjRs3DOrq1KkjFi5caLCsadOmYvbs2UIIIT7//HPRsGFDUVBQ8MR9ElVGPFNFRLLr2LEjjh07hsTERAQHB2P48OEIDAwEAJw7dw63b9/Ga6+9BhsbG+n13XffGVx6A4CXX35Z+nONGjUAQLqMderUKbRt29agvm3btjh16hQAwMzMDAMGDEBUVBSA+2elfv75ZwwePFiqP3v2LAYNGoS6detCpVLBzc0NAJCenl7mYz1//jwKCwsNejE3N0fr1q2lXspyPA8zNTXF6tWrcenSJYSHh6NmzZr4+OOP8dJLL+HKlSuP7SkpKQk9e/ZE7dq1UbVqVXTo0KHcx1Wa/v37486dO6hbty5GjRqFzZs34969e/9qm0QvEoYqIpJdlSpVUL9+fTRt2hTffvstEhMT8c033wCAdDkuJiYGx44dk15//fWXwX1VwP1wUkyhUACAdGmuLAYPHoz4+HhkZ2djy5YtsLKyQteuXaXxnj174vr161i1ahUSExORmJgIANLTdXJ7muOpWbMmhgwZgqVLl+LkyZO4e/cuIiIiHlmfl5cHjUYDlUqFqKgoHD58GJs3bwbw5OMyMTGBEMJgWWFhofRnV1dXpKamYvny5bCyssI777wDPz8/gxqiyoyhioieKRMTE/zvf//DrFmzcOfOHXh5eUGpVCI9PR3169c3eLm6upZ5u56enti/f7/Bsv3798PLy0v6+pVXXoGrqyvWr1+PqKgo9O/fXwo2165dQ2pqKmbNmoXOnTvD09MTN27cMNhe8X1gj3varvhG+Qd7KSwsxOHDhw16kUO1atVQo0YN5OXlSf093Nvp06dx7do1LFiwAO3bt4eHh0eJs2GPOi4HBweDs2A6nQ5paWkGNVZWVujZsye+/PJL7N69GwkJCUhOTpbtGIkqMjNjN0BEL77+/ftjypQpWLZsGSZPnozJkydj0qRJ0Ov1aNeuHbRaLfbv3w+VSoXg4OAybXPKlCkYMGAAmjdvDn9/f2zduhWbNm3C77//blD3xhtvICIiAmfOnJFuYgfuB5Tq1avjq6++Qo0aNZCeno7p06cbrOvo6AgrKyvExsaiVq1asLS0hFqtNqipUqUKxo4diylTpsDOzg61a9dGeHg4bt++jZEjRz7lOwasXLkSx44dQ58+fVCvXj3cvXsX3333HU6ePIklS5YAuP+03q1btxAfH4+mTZvC2toatWvXhoWFBZYsWYIxY8YgJSUFH3zwgcG269SpA4VCgW3btqF79+6wsrKCjY0NOnXqhMjISPTs2RO2trYICwuDqamptF5kZCSKiorg4+MDa2tr/PDDD7CyskKdOnWe+jiJXijGvqmLiF4sD97E/aD58+cLBwcHcevWLaHX68WiRYtEo0aNhLm5uXBwcBAajUbs2bNHCFH6jdR//vmnACDS0tKkZcuXLxd169YV5ubmomHDhgY3pRf766+/BABRp04dodfrDcbi4uKEp6enUCqV4uWXXxa7d+8WAMTmzZulmlWrVglXV1dhYmIiOnToUOox3rlzR4wfP17Y29sLpVIp2rZtKw4dOiSNl/V4HnT06FHx5ptvCnd3d6FUKkX16tWFn5+f+OWXXwzqxowZI6pXry4ASDeUr127Vri5uQmlUil8fX3FL7/8UuKG+3nz5glnZ2ehUChEcHCwEEIIrVYrBg4cKFQqlXB1dRWRkZEGN6pv3rxZ+Pj4CJVKJapUqSLatGljcPM9UWWnEOKhC+hEREREVG68p4qIiIhIBgxVRERERDJgqCIiIiKSAUMVERERkQwYqoiIiIhkwFBFREREJAOGKiIiIiIZMFQRERERyYChioiIiEgGDFVEREREMmCoIiIiIpIBQxURERGRDP4f+8zpnSvtAj8AAAAASUVORK5CYII=",
=======
            "image/png": "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",
>>>>>>> 4cf704923d17c6fb6b8a3d7dde97e7835027be1b
            "text/plain": [
              "<Figure size 640x480 with 1 Axes>"
            ]
          },
          "metadata": {},
          "output_type": "display_data"
        }
      ],
      "source": [
        "#Plotting\n",
        "# Calculate average price for each renovation status\n",
        "price_by_renovation = df.groupby('house_renovation')['price'].mean()\n",
        "\n",
        "# Extract data for the plot\n",
        "renovation_groups = price_by_renovation.index.tolist()\n",
        "average_prices = price_by_renovation.tolist()\n",
        "\n",
        "# Bar plot\n",
        "plt.bar(renovation_groups, average_prices)\n",
        "\n",
        "# Add labels and title\n",
        "plt.xlabel(\"Renovation Status\")\n",
        "plt.ylabel(\"Average Price\")\n",
        "plt.title(\"Average Price by Renovation Status\")\n",
        "\n",
        "# Show the plot\n",
        "plt.show()"
      ]
    },
    {
      "cell_type": "markdown",
      "metadata": {
        "id": "EaJaVVijvusB"
      },
      "source": [
        "As seen, The houses that are in the 'yes' category have a higher average price range as compared to the 'no' category. This shows that renovated houses in King County have higher pricing as compared to houses that are not renovated. Therefore, renovated houses are more costly than their conterparts"
      ]
    },
    {
      "cell_type": "markdown",
<<<<<<< HEAD
      "metadata": {},
      "source": [
        "**Objective 5**:To evaluate how the the Square footage of living space of a house impacts its price in King County. "
=======
      "metadata": {
        "id": "PZDAoohpwVjZ"
      },
      "source": [
        "**Objective 5**:To evaluate which combinations of the available features in the dataset are the most impactful features for predicting sale price.\n",
        "#### This was evaluated under corelation using the corelation matrix in the dataset to visualize correlation. \n",
        "\n"
>>>>>>> 4cf704923d17c6fb6b8a3d7dde97e7835027be1b
      ]
    },
    {
      "cell_type": "markdown",
      "metadata": {},
      "source": [
<<<<<<< HEAD
        "Here, we first check the contents of the column, arrange them accordingly , and visualize them against pricing with the appropriate plotting"
=======
        "## MODELING \n",
        "### DATA PREPARATION FOR MODELING \n",
        "#### Checking for Linearlity \n",
        "##### The first step will be to check for linearlity among our dependent variable (Price) and our various Independent variables (Number of floors, number of bedrooms, number of bathrooms and renovation) as listed in our objective"
>>>>>>> 4cf704923d17c6fb6b8a3d7dde97e7835027be1b
      ]
    },
    {
      "cell_type": "code",
<<<<<<< HEAD
      "execution_count": 25,
      "metadata": {},
      "outputs": [
        {
          "data": {
            "text/plain": [
              "0        1180\n",
              "1        2570\n",
              "2         770\n",
              "3        1960\n",
              "4        1680\n",
              "         ... \n",
              "21592    1530\n",
              "21593    2310\n",
              "21594    1020\n",
              "21595    1600\n",
              "21596    1020\n",
              "Name: sqft_living, Length: 17702, dtype: int64"
            ]
          },
          "execution_count": 25,
          "metadata": {},
          "output_type": "execute_result"
        }
      ],
      "source": [
        "#Viewing contents\n",
        "df_cleaned['sqft_living']\n"
      ]
    },
    {
      "cell_type": "code",
      "execution_count": 28,
      "metadata": {},
      "outputs": [
        {
          "data": {
            "text/plain": [
              "1166      440\n",
              "9632      520\n",
              "12744     540\n",
              "18493     550\n",
              "8493      560\n",
              "         ... \n",
              "20658    4210\n",
              "1485     4210\n",
              "20069    4220\n",
              "20051    4220\n",
              "10396    4230\n",
              "Name: sqft_living, Length: 17702, dtype: int64"
            ]
          },
          "execution_count": 28,
          "metadata": {},
          "output_type": "execute_result"
        }
      ],
      "source": [
        "#Sorting in Ascending order\n",
        "sorted_df_sqft_living = df_cleaned.sort_values(by=['sqft_living'])\n",
        "sorted_df_sqft_living['sqft_living']"
      ]
    },
    {
      "cell_type": "code",
      "execution_count": 31,
      "metadata": {},
      "outputs": [
        {
          "name": "stderr",
          "output_type": "stream",
          "text": [
            "C:\\Users\\User\\AppData\\Local\\Temp\\ipykernel_32812\\626455021.py:6: MatplotlibDeprecationWarning: The get_cmap function was deprecated in Matplotlib 3.7 and will be removed two minor releases later. Use ``matplotlib.colormaps[name]`` or ``matplotlib.colormaps.get_cmap(obj)`` instead.\n",
            "  cmap = plt.cm.get_cmap('coolwarm')  # Or any other colormap you prefer\n"
          ]
        },
        {
          "data": {
            "image/png": "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",
            "text/plain": [
              "<Figure size 640x480 with 1 Axes>"
            ]
          },
          "metadata": {},
          "output_type": "display_data"
        }
      ],
      "source": [
        "#Plotting\n",
        "color_ranges = [0, 1, 2, 3, 4]  # Define price ranges for coloring\n",
        "colors = ['red', 'yellow','orange', 'green']  # Define colors for each range\n",
        "\n",
        "# Create a colormap based on price ranges and colors\n",
        "cmap = plt.cm.get_cmap('coolwarm')  # Or any other colormap you prefer\n",
        "norm = plt.Normalize(vmin=min(color_ranges), vmax=max(color_ranges))\n",
        "sm = plt.cm.ScalarMappable(cmap=cmap, norm=norm)\n",
        "sm.set_array([])\n",
        "\n",
        "# Color points based on price ranges\n",
        "plt.scatter(sorted_df_sqft_living['sqft_living'], sorted_df_price['price'], c=norm(sorted_df_price['price']))\n",
        "\n",
        "plt.xlabel('Square footage of living space ')\n",
        "plt.ylabel('Price')\n",
        "plt.title('Price vs Square footage of living space (Colored by Price Range)')\n",
        "plt.show()"
      ]
    },
    {
      "cell_type": "markdown",
      "metadata": {},
      "source": [
        "From the plot above, we can clearly see that as the Square footage of living space of the home increases, the price of the house also increases.\n"
      ]
    },
    {
      "cell_type": "markdown",
      "metadata": {
        "id": "PZDAoohpwVjZ"
      },
      "source": [
        "**Objective 6**:To evaluate which combinations of the available features in the dataset are the most impactful features for predicting sale price.  \n",
        "\n"
      ]
    },
    {
      "cell_type": "code",
      "execution_count": null,
      "metadata": {
        "id": "Gfc6A5jpvTg7"
      },
      "outputs": [],
      "source": []
=======
      "execution_count": 26,
      "metadata": {
        "id": "Gfc6A5jpvTg7"
      },
      "outputs": [
        {
          "data": {
            "image/png": "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",
            "text/plain": [
              "<Figure size 600x600 with 3 Axes>"
            ]
          },
          "metadata": {},
          "output_type": "display_data"
        },
        {
          "data": {
            "image/png": "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",
            "text/plain": [
              "<Figure size 600x600 with 3 Axes>"
            ]
          },
          "metadata": {},
          "output_type": "display_data"
        },
        {
          "data": {
            "image/png": "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",
            "text/plain": [
              "<Figure size 600x600 with 3 Axes>"
            ]
          },
          "metadata": {},
          "output_type": "display_data"
        },
        {
          "data": {
            "image/png": "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",
            "text/plain": [
              "<Figure size 600x600 with 3 Axes>"
            ]
          },
          "metadata": {},
          "output_type": "display_data"
        }
      ],
      "source": [
        "# House features \n",
        "features = ['floors', 'bedrooms', 'bathrooms', 'sqft_living']\n",
        "\n",
        "\n",
        "#  Plot jointplots\n",
        "for feature in features:\n",
        "    sns.jointplot(x = df_cleaned[feature], y = df['price'], kind = 'reg')\n",
        "    plt.show()"
      ]
    },
    {
      "cell_type": "markdown",
      "metadata": {},
      "source": [
        "##### From the above, we found out that the investigated features all appear linear. All the other feature variable are discrete and numeric except for the sqft_living which is continous.\n",
        "\n",
        "## Checking for Multicolinearlity\n",
        "##### Multicollinearity refers to the situation where two or more independent variables in a regression model are highly correlated with each other. This will involve the use of VIF. VIF measures how much the variance of an estimated regression coefficient increases if independent variables are correlated. Generally, a VIF greater than 10 indicates multicollinearity that may be problematic. \n"
      ]
    },
    {
      "cell_type": "code",
      "execution_count": 27,
      "metadata": {},
      "outputs": [
        {
          "name": "stdout",
          "output_type": "stream",
          "text": [
            "          Feature       VIF\n",
            "0              id  3.801282\n",
            "1           price  2.659814\n",
            "2        bedrooms  1.684719\n",
            "3       bathrooms  2.966026\n",
            "4     sqft_living  6.698499\n",
            "5        sqft_lot  2.411943\n",
            "6          floors  2.537105\n",
            "7      sqft_above  5.558802\n",
            "8        yr_built  2.063765\n",
            "9         zipcode  0.545608\n",
            "10            lat  1.592005\n",
            "11           long  1.768305\n",
            "12  sqft_living15  2.728926\n",
            "13     sqft_lot15  1.971458\n"
          ]
        }
      ],
      "source": [
        "from statsmodels.stats.outliers_influence import variance_inflation_factor\n",
        "# Select only numerical columns from the dataset\n",
        "numerical_data = df_cleaned.select_dtypes(include=[np.number])\n",
        "\n",
        "# Create a DataFrame to store VIF results\n",
        "vif_data = pd.DataFrame()\n",
        "vif_data[\"Feature\"] = numerical_data.columns\n",
        "vif_data[\"VIF\"] = [variance_inflation_factor(numerical_data.values, i) for i in range(len(numerical_data.columns))]\n",
        "\n",
        "# Print the VIF DataFrame\n",
        "print(vif_data)"
      ]
    },
    {
      "cell_type": "markdown",
      "metadata": {},
      "source": [
        "#### Features with VIF values greater than 5 (sqft_living and sqft_above) are concerning because they exhibit a high multicollinearity. The others exhibit a multicollinearity effect that is not problematic. \n",
        "\n",
        "\n",
        "\n"
      ]
>>>>>>> 4cf704923d17c6fb6b8a3d7dde97e7835027be1b
    }
  ],
  "metadata": {
    "colab": {
      "provenance": []
    },
    "kernelspec": {
<<<<<<< HEAD
      "display_name": "base",
=======
      "display_name": "Python 3",
>>>>>>> 4cf704923d17c6fb6b8a3d7dde97e7835027be1b
      "language": "python",
      "name": "python3"
    },
    "language_info": {
      "codemirror_mode": {
        "name": "ipython",
        "version": 3
      },
      "file_extension": ".py",
      "mimetype": "text/x-python",
      "name": "python",
      "nbconvert_exporter": "python",
      "pygments_lexer": "ipython3",
      "version": "3.11.5"
    }
  },
  "nbformat": 4,
  "nbformat_minor": 0
}
