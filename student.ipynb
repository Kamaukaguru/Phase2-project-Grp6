{
 "cells": [
  {
   "cell_type": "markdown",
   "metadata": {
    "id": "G4F2mdCS82qH"
   },
   "source": [
    "KINGS COUNTY HOUSE SALES ANALYSIS.\n",
    "\n",
    "Please fill out:\n",
    "* Student names:\n",
    "1. Benson Kamau\n",
    "2. Kevin Muchori\n",
    "3. Nancy Chelangat\n",
    "4. Breden Mugambi\n",
    "5. Sally Kinyanjui\n",
    "\n",
    "* Student pace: Full time\n",
    "\n",
    "* Scheduled project review date/time: N/A\n",
    "\n",
    "* Instructor name: Nikita Njoroge\n"
   ]
  },
  {
   "cell_type": "markdown",
   "metadata": {
    "id": "FW9dMFLs82qO"
   },
   "source": [
    "BUSINESS UNDERSTANDING"
   ]
  },
  {
   "cell_type": "markdown",
   "metadata": {
    "id": "_5wmr-XN82qO"
   },
   "source": [
    "This study aims to explore the relationship between key factors such as renovations, bedrooms, and other property attributes with housing prices in King County. By leveraging on the dataset available, we seek to uncover the specific impact of renovations on property valuations, considering variables such as the extent of renovations.\n",
    "\n",
    "Additionally, we aim to investigate how the number of bedrooms, bathrooms, along with other structural features like square footage and lot size, view  influences housing prices.\n",
    "This can help homeowners to add functionality and beauty to their property while simultaneously boosting its resale value.\n",
    "\n",
    "Main Objective\n",
    "\n",
    "To build and evaluate models using various combinations of the available features in the King County.\n",
    "\n",
    "\n",
    "Specific Objectives\n",
    "\n",
    "1. To evaluate how the number of floors impacts the price of a house in King County.\n",
    "2. To determine how the number of bedrooms impacts the price of a house in King County.\n",
    "3. To examine the impact the number of bathrooms has on the price of a house in King County.\n",
    "4. To assess the impact of renovations on the price of a house in King County.\n",
    "5. To determine how the square footage of living space of a house impacts its price in King County.\n",
    "6. To evaluate which combinations of the available features in the dataset are the most impactful features for predicting sale price.\n"
   ]
  },
  {
   "cell_type": "markdown",
   "metadata": {
    "id": "i5YrvE7R82qP"
   },
   "source": [
    "DATA UNDERSTANDING"
   ]
  },
  {
   "cell_type": "markdown",
   "metadata": {
    "id": "HQzoWZI582qP"
   },
   "source": [
    "This project analyzes data about homes sold in King County, Washington between May 2014 and May 2015 in order to make recommendations to relevant stakeholders.\n",
    "\n",
    "This dataset is housed in the kc_house_data.csv file within the project's data folder and the columns outlined in the accompanying column_names.md file.\n"
   ]
  },
  {
   "cell_type": "code",
   "execution_count": 2,
   "metadata": {
    "colab": {
     "base_uri": "https://localhost:8080/"
    },
    "id": "BcCSNagPlEwC",
    "outputId": "ad60546d-632a-453d-8417-c2d26891630a"
   },
   "outputs": [],
   "source": [
    "#This code section allows for reading of files from Google drive\n",
    "#It is only applicable when working with IDEs that cannot read the data in the github files\n",
    "#from google.colab import drive\n",
    "#drive.mount('/content/drive')"
   ]
  },
  {
   "cell_type": "code",
   "execution_count": 3,
   "metadata": {
    "colab": {
     "base_uri": "https://localhost:8080/",
     "height": 863
    },
    "id": "hD5rdZC782qP",
    "outputId": "d324ac2e-7a7c-4055-fbc3-0b93f61d8b0f"
   },
   "outputs": [
    {
     "name": "stdout",
     "output_type": "stream",
     "text": [
      "<class 'pandas.core.frame.DataFrame'>\n",
      "RangeIndex: 21597 entries, 0 to 21596\n",
      "Data columns (total 21 columns):\n",
      " #   Column         Non-Null Count  Dtype  \n",
      "---  ------         --------------  -----  \n",
      " 0   id             21597 non-null  int64  \n",
      " 1   date           21597 non-null  object \n",
      " 2   price          21597 non-null  float64\n",
      " 3   bedrooms       21597 non-null  int64  \n",
      " 4   bathrooms      21597 non-null  float64\n",
      " 5   sqft_living    21597 non-null  int64  \n",
      " 6   sqft_lot       21597 non-null  int64  \n",
      " 7   floors         21597 non-null  float64\n",
      " 8   waterfront     19221 non-null  object \n",
      " 9   view           21534 non-null  object \n",
      " 10  condition      21597 non-null  object \n",
      " 11  grade          21597 non-null  object \n",
      " 12  sqft_above     21597 non-null  int64  \n",
      " 13  sqft_basement  21597 non-null  object \n",
      " 14  yr_built       21597 non-null  int64  \n",
      " 15  yr_renovated   17755 non-null  float64\n",
      " 16  zipcode        21597 non-null  int64  \n",
      " 17  lat            21597 non-null  float64\n",
      " 18  long           21597 non-null  float64\n",
      " 19  sqft_living15  21597 non-null  int64  \n",
      " 20  sqft_lot15     21597 non-null  int64  \n",
      "dtypes: float64(6), int64(9), object(6)\n",
      "memory usage: 3.5+ MB\n",
      "None\n",
      "\n",
      "First few rows of the DataFrame:\n"
     ]
    },
    {
     "data": {
      "text/html": [
       "<div>\n",
       "<style scoped>\n",
       "    .dataframe tbody tr th:only-of-type {\n",
       "        vertical-align: middle;\n",
       "    }\n",
       "\n",
       "    .dataframe tbody tr th {\n",
       "        vertical-align: top;\n",
       "    }\n",
       "\n",
       "    .dataframe thead th {\n",
       "        text-align: right;\n",
       "    }\n",
       "</style>\n",
       "<table border=\"1\" class=\"dataframe\">\n",
       "  <thead>\n",
       "    <tr style=\"text-align: right;\">\n",
       "      <th></th>\n",
       "      <th>id</th>\n",
       "      <th>date</th>\n",
       "      <th>price</th>\n",
       "      <th>bedrooms</th>\n",
       "      <th>bathrooms</th>\n",
       "      <th>sqft_living</th>\n",
       "      <th>sqft_lot</th>\n",
       "      <th>floors</th>\n",
       "      <th>waterfront</th>\n",
       "      <th>view</th>\n",
       "      <th>...</th>\n",
       "      <th>grade</th>\n",
       "      <th>sqft_above</th>\n",
       "      <th>sqft_basement</th>\n",
       "      <th>yr_built</th>\n",
       "      <th>yr_renovated</th>\n",
       "      <th>zipcode</th>\n",
       "      <th>lat</th>\n",
       "      <th>long</th>\n",
       "      <th>sqft_living15</th>\n",
       "      <th>sqft_lot15</th>\n",
       "    </tr>\n",
       "  </thead>\n",
       "  <tbody>\n",
       "    <tr>\n",
       "      <th>0</th>\n",
       "      <td>7129300520</td>\n",
       "      <td>10/13/2014</td>\n",
       "      <td>221900.0</td>\n",
       "      <td>3</td>\n",
       "      <td>1.00</td>\n",
       "      <td>1180</td>\n",
       "      <td>5650</td>\n",
       "      <td>1.0</td>\n",
       "      <td>NaN</td>\n",
       "      <td>NONE</td>\n",
       "      <td>...</td>\n",
       "      <td>7 Average</td>\n",
       "      <td>1180</td>\n",
       "      <td>0.0</td>\n",
       "      <td>1955</td>\n",
       "      <td>0.0</td>\n",
       "      <td>98178</td>\n",
       "      <td>47.5112</td>\n",
       "      <td>-122.257</td>\n",
       "      <td>1340</td>\n",
       "      <td>5650</td>\n",
       "    </tr>\n",
       "    <tr>\n",
       "      <th>1</th>\n",
       "      <td>6414100192</td>\n",
       "      <td>12/9/2014</td>\n",
       "      <td>538000.0</td>\n",
       "      <td>3</td>\n",
       "      <td>2.25</td>\n",
       "      <td>2570</td>\n",
       "      <td>7242</td>\n",
       "      <td>2.0</td>\n",
       "      <td>NO</td>\n",
       "      <td>NONE</td>\n",
       "      <td>...</td>\n",
       "      <td>7 Average</td>\n",
       "      <td>2170</td>\n",
       "      <td>400.0</td>\n",
       "      <td>1951</td>\n",
       "      <td>1991.0</td>\n",
       "      <td>98125</td>\n",
       "      <td>47.7210</td>\n",
       "      <td>-122.319</td>\n",
       "      <td>1690</td>\n",
       "      <td>7639</td>\n",
       "    </tr>\n",
       "    <tr>\n",
       "      <th>2</th>\n",
       "      <td>5631500400</td>\n",
       "      <td>2/25/2015</td>\n",
       "      <td>180000.0</td>\n",
       "      <td>2</td>\n",
       "      <td>1.00</td>\n",
       "      <td>770</td>\n",
       "      <td>10000</td>\n",
       "      <td>1.0</td>\n",
       "      <td>NO</td>\n",
       "      <td>NONE</td>\n",
       "      <td>...</td>\n",
       "      <td>6 Low Average</td>\n",
       "      <td>770</td>\n",
       "      <td>0.0</td>\n",
       "      <td>1933</td>\n",
       "      <td>NaN</td>\n",
       "      <td>98028</td>\n",
       "      <td>47.7379</td>\n",
       "      <td>-122.233</td>\n",
       "      <td>2720</td>\n",
       "      <td>8062</td>\n",
       "    </tr>\n",
       "    <tr>\n",
       "      <th>3</th>\n",
       "      <td>2487200875</td>\n",
       "      <td>12/9/2014</td>\n",
       "      <td>604000.0</td>\n",
       "      <td>4</td>\n",
       "      <td>3.00</td>\n",
       "      <td>1960</td>\n",
       "      <td>5000</td>\n",
       "      <td>1.0</td>\n",
       "      <td>NO</td>\n",
       "      <td>NONE</td>\n",
       "      <td>...</td>\n",
       "      <td>7 Average</td>\n",
       "      <td>1050</td>\n",
       "      <td>910.0</td>\n",
       "      <td>1965</td>\n",
       "      <td>0.0</td>\n",
       "      <td>98136</td>\n",
       "      <td>47.5208</td>\n",
       "      <td>-122.393</td>\n",
       "      <td>1360</td>\n",
       "      <td>5000</td>\n",
       "    </tr>\n",
       "    <tr>\n",
       "      <th>4</th>\n",
       "      <td>1954400510</td>\n",
       "      <td>2/18/2015</td>\n",
       "      <td>510000.0</td>\n",
       "      <td>3</td>\n",
       "      <td>2.00</td>\n",
       "      <td>1680</td>\n",
       "      <td>8080</td>\n",
       "      <td>1.0</td>\n",
       "      <td>NO</td>\n",
       "      <td>NONE</td>\n",
       "      <td>...</td>\n",
       "      <td>8 Good</td>\n",
       "      <td>1680</td>\n",
       "      <td>0.0</td>\n",
       "      <td>1987</td>\n",
       "      <td>0.0</td>\n",
       "      <td>98074</td>\n",
       "      <td>47.6168</td>\n",
       "      <td>-122.045</td>\n",
       "      <td>1800</td>\n",
       "      <td>7503</td>\n",
       "    </tr>\n",
       "  </tbody>\n",
       "</table>\n",
       "<p>5 rows × 21 columns</p>\n",
       "</div>"
      ],
      "text/plain": [
       "           id        date     price  bedrooms  bathrooms  sqft_living  \\\n",
       "0  7129300520  10/13/2014  221900.0         3       1.00         1180   \n",
       "1  6414100192   12/9/2014  538000.0         3       2.25         2570   \n",
       "2  5631500400   2/25/2015  180000.0         2       1.00          770   \n",
       "3  2487200875   12/9/2014  604000.0         4       3.00         1960   \n",
       "4  1954400510   2/18/2015  510000.0         3       2.00         1680   \n",
       "\n",
       "   sqft_lot  floors waterfront  view  ...          grade sqft_above  \\\n",
       "0      5650     1.0        NaN  NONE  ...      7 Average       1180   \n",
       "1      7242     2.0         NO  NONE  ...      7 Average       2170   \n",
       "2     10000     1.0         NO  NONE  ...  6 Low Average        770   \n",
       "3      5000     1.0         NO  NONE  ...      7 Average       1050   \n",
       "4      8080     1.0         NO  NONE  ...         8 Good       1680   \n",
       "\n",
       "   sqft_basement yr_built  yr_renovated  zipcode      lat     long  \\\n",
       "0            0.0     1955           0.0    98178  47.5112 -122.257   \n",
       "1          400.0     1951        1991.0    98125  47.7210 -122.319   \n",
       "2            0.0     1933           NaN    98028  47.7379 -122.233   \n",
       "3          910.0     1965           0.0    98136  47.5208 -122.393   \n",
       "4            0.0     1987           0.0    98074  47.6168 -122.045   \n",
       "\n",
       "   sqft_living15  sqft_lot15  \n",
       "0           1340        5650  \n",
       "1           1690        7639  \n",
       "2           2720        8062  \n",
       "3           1360        5000  \n",
       "4           1800        7503  \n",
       "\n",
       "[5 rows x 21 columns]"
      ]
     },
     "execution_count": 3,
     "metadata": {},
     "output_type": "execute_result"
    }
   ],
   "source": [
    "#import the relevant library\n",
    "import pandas as pd\n",
    "import numpy as np\n",
    "import seaborn as sns\n",
    "import matplotlib.pyplot as plt\n",
    "%matplotlib inline\n",
    "import statsmodels.api as sm\n",
    "\n",
    "# Define the DataFrame in the global scope\n",
    "df = pd.DataFrame()\n",
    "\n",
    "#create a function that loads data and gets the info about the data.\n",
    "def load_and_get_info(file_path):\n",
    "    \"\"\"\n",
    "    Load data from a CSV file and get information about the DataFrame.\n",
    "\n",
    "    Parameters:\n",
    "    - file_path (str): Path to the CSV file.\n",
    "\n",
    "    Returns:\n",
    "    - df_info (str): Information about the DataFrame.\n",
    "    \"\"\"\n",
    "    # Load data\n",
    "    global df\n",
    "    df = pd.read_csv(file_path)\n",
    "\n",
    "    # Display the first few rows of the DataFrame\n",
    "    df_head = df.head()\n",
    "\n",
    "    # Get information about the DataFrame\n",
    "    df_info = df.info()\n",
    "\n",
    "    return df_info, df_head\n",
    "\n",
    "file_path = 'data/kc_house_data.csv'\n",
    "#The commented filepath below is only used when the data is in the drive, otherwise it is not needed\n",
    "#file_path = '/content/drive/MyDrive/data/kc_house_data.csv' \n",
    "data_info, data_head = load_and_get_info(file_path)\n",
    "print(data_info)\n",
    "print(\"\\nFirst few rows of the DataFrame:\")\n",
    "data_head\n",
    "\n"
   ]
  },
  {
   "cell_type": "markdown",
   "metadata": {
    "id": "9Q89-d6P82qQ"
   },
   "source": [
    "This dataset contains records of 21,597 home sales. It includes:\n",
    "\n",
    "How much the house sold for\n",
    "\n",
    "Square footage of the house's living space\n",
    "\n",
    "Square footage of the lot\n",
    "\n",
    "Number of floors, bedrooms, and bathrooms\n",
    "\n",
    "The quality of the view from the house\n",
    "\n",
    "Whether the house is on a waterfront\n",
    "\n",
    "The house's grade (relates to construction materials and quality)\n",
    "\n",
    "The house's condition (relates to age and maintenance)\n",
    "\n",
    "The year the house was built\n",
    "\n",
    "The year the house was renovated\n",
    "\n",
    "The location of the house\n",
    "\n",
    "The following columns have missing values:\n",
    "1. waterfront\n",
    "2. yr_renovated"
   ]
  },
  {
   "cell_type": "code",
   "execution_count": 4,
   "metadata": {
    "colab": {
     "base_uri": "https://localhost:8080/"
    },
    "id": "MahQ13po82qQ",
    "outputId": "45ed83d9-1ed4-477b-db73-43419fc5aca7"
   },
   "outputs": [
    {
     "name": "stdout",
     "output_type": "stream",
     "text": [
      "           Column Data Type Variable Type\n",
      "0              id     int64       Numeric\n",
      "1            date    object   Categorical\n",
      "2           price   float64       Numeric\n",
      "3        bedrooms     int64       Numeric\n",
      "4       bathrooms   float64       Numeric\n",
      "5     sqft_living     int64       Numeric\n",
      "6        sqft_lot     int64       Numeric\n",
      "7          floors   float64       Numeric\n",
      "8      waterfront    object   Categorical\n",
      "9            view    object   Categorical\n",
      "10      condition    object   Categorical\n",
      "11          grade    object   Categorical\n",
      "12     sqft_above     int64       Numeric\n",
      "13  sqft_basement    object   Categorical\n",
      "14       yr_built     int64       Numeric\n",
      "15   yr_renovated   float64       Numeric\n",
      "16        zipcode     int64       Numeric\n",
      "17            lat   float64       Numeric\n",
      "18           long   float64       Numeric\n",
      "19  sqft_living15     int64       Numeric\n",
      "20     sqft_lot15     int64       Numeric\n"
     ]
    }
   ],
   "source": [
    "def check_dtypes(df):\n",
    "    \"\"\"\n",
    "    Check data types and identify the kind of variable for each column in the DataFrame.\n",
    "\n",
    "    Parameters:\n",
    "    - df (DataFrame): Input DataFrame.\n",
    "\n",
    "    Returns:\n",
    "    - dtypes_info (DataFrame): DataFrame containing information about data types and variable types.\n",
    "    \"\"\"\n",
    "    # Get data types of each column\n",
    "    dtypes = df.dtypes\n",
    "\n",
    "    # Identify variable types (numeric or categorical) for each column\n",
    "    variable_types = []\n",
    "    for col in df.columns:\n",
    "        if pd.api.types.is_numeric_dtype(df[col]):\n",
    "            variable_types.append('Numeric')\n",
    "        else:\n",
    "            variable_types.append('Categorical')\n",
    "\n",
    "    # Create DataFrame to store information\n",
    "    dtypes_info = pd.DataFrame({'Column': dtypes.index, 'Data Type': dtypes.values, 'Variable Type': variable_types})\n",
    "\n",
    "    return dtypes_info\n",
    "\n",
    "data_types_info = check_dtypes(df)\n",
    "print(data_types_info)"
   ]
  },
  {
   "cell_type": "markdown",
   "metadata": {
    "id": "G0wy7Anm-XVo"
   },
   "source": [
    "The data in the columns is further divided into two categories:\n",
    "\n",
    "1.\tNumeric data : id , yr_built , yr_renovated , price , bedrooms , bathrooms , sqft_living , sqft_above , sqft_lot , floors , zipcode , lat , long , sqft_living15 , sqft_lot15\n",
    "\n",
    "2.\tCategorical data : date , waterfront , view , condition , grade , sqft_basement"
   ]
  },
  {
   "cell_type": "markdown",
   "metadata": {
    "id": "fh6azAcT82qQ"
   },
   "source": [
    "## Data Preparation."
   ]
  },
  {
   "cell_type": "code",
   "execution_count": 5,
   "metadata": {
    "colab": {
     "base_uri": "https://localhost:8080/",
     "height": 325
    },
    "id": "7fz8aYnh82qQ",
    "outputId": "762fc7cc-ca33-4415-e869-efc0dd03d76d"
   },
   "outputs": [
    {
     "data": {
      "text/html": [
       "<div>\n",
       "<style scoped>\n",
       "    .dataframe tbody tr th:only-of-type {\n",
       "        vertical-align: middle;\n",
       "    }\n",
       "\n",
       "    .dataframe tbody tr th {\n",
       "        vertical-align: top;\n",
       "    }\n",
       "\n",
       "    .dataframe thead th {\n",
       "        text-align: right;\n",
       "    }\n",
       "</style>\n",
       "<table border=\"1\" class=\"dataframe\">\n",
       "  <thead>\n",
       "    <tr style=\"text-align: right;\">\n",
       "      <th></th>\n",
       "      <th>id</th>\n",
       "      <th>date</th>\n",
       "      <th>price</th>\n",
       "      <th>bedrooms</th>\n",
       "      <th>bathrooms</th>\n",
       "      <th>sqft_living</th>\n",
       "      <th>sqft_lot</th>\n",
       "      <th>floors</th>\n",
       "      <th>waterfront</th>\n",
       "      <th>view</th>\n",
       "      <th>...</th>\n",
       "      <th>grade</th>\n",
       "      <th>sqft_above</th>\n",
       "      <th>sqft_basement</th>\n",
       "      <th>yr_built</th>\n",
       "      <th>zipcode</th>\n",
       "      <th>lat</th>\n",
       "      <th>long</th>\n",
       "      <th>sqft_living15</th>\n",
       "      <th>sqft_lot15</th>\n",
       "      <th>house_renovation</th>\n",
       "    </tr>\n",
       "  </thead>\n",
       "  <tbody>\n",
       "    <tr>\n",
       "      <th>0</th>\n",
       "      <td>7129300520</td>\n",
       "      <td>10/13/2014</td>\n",
       "      <td>221900.0</td>\n",
       "      <td>3</td>\n",
       "      <td>1.00</td>\n",
       "      <td>1180</td>\n",
       "      <td>5650</td>\n",
       "      <td>1.0</td>\n",
       "      <td>NaN</td>\n",
       "      <td>NONE</td>\n",
       "      <td>...</td>\n",
       "      <td>7 Average</td>\n",
       "      <td>1180</td>\n",
       "      <td>0.0</td>\n",
       "      <td>1955</td>\n",
       "      <td>98178</td>\n",
       "      <td>47.5112</td>\n",
       "      <td>-122.257</td>\n",
       "      <td>1340</td>\n",
       "      <td>5650</td>\n",
       "      <td>No</td>\n",
       "    </tr>\n",
       "    <tr>\n",
       "      <th>1</th>\n",
       "      <td>6414100192</td>\n",
       "      <td>12/9/2014</td>\n",
       "      <td>538000.0</td>\n",
       "      <td>3</td>\n",
       "      <td>2.25</td>\n",
       "      <td>2570</td>\n",
       "      <td>7242</td>\n",
       "      <td>2.0</td>\n",
       "      <td>NO</td>\n",
       "      <td>NONE</td>\n",
       "      <td>...</td>\n",
       "      <td>7 Average</td>\n",
       "      <td>2170</td>\n",
       "      <td>400.0</td>\n",
       "      <td>1951</td>\n",
       "      <td>98125</td>\n",
       "      <td>47.7210</td>\n",
       "      <td>-122.319</td>\n",
       "      <td>1690</td>\n",
       "      <td>7639</td>\n",
       "      <td>Yes</td>\n",
       "    </tr>\n",
       "    <tr>\n",
       "      <th>2</th>\n",
       "      <td>5631500400</td>\n",
       "      <td>2/25/2015</td>\n",
       "      <td>180000.0</td>\n",
       "      <td>2</td>\n",
       "      <td>1.00</td>\n",
       "      <td>770</td>\n",
       "      <td>10000</td>\n",
       "      <td>1.0</td>\n",
       "      <td>NO</td>\n",
       "      <td>NONE</td>\n",
       "      <td>...</td>\n",
       "      <td>6 Low Average</td>\n",
       "      <td>770</td>\n",
       "      <td>0.0</td>\n",
       "      <td>1933</td>\n",
       "      <td>98028</td>\n",
       "      <td>47.7379</td>\n",
       "      <td>-122.233</td>\n",
       "      <td>2720</td>\n",
       "      <td>8062</td>\n",
       "      <td>No</td>\n",
       "    </tr>\n",
       "    <tr>\n",
       "      <th>3</th>\n",
       "      <td>2487200875</td>\n",
       "      <td>12/9/2014</td>\n",
       "      <td>604000.0</td>\n",
       "      <td>4</td>\n",
       "      <td>3.00</td>\n",
       "      <td>1960</td>\n",
       "      <td>5000</td>\n",
       "      <td>1.0</td>\n",
       "      <td>NO</td>\n",
       "      <td>NONE</td>\n",
       "      <td>...</td>\n",
       "      <td>7 Average</td>\n",
       "      <td>1050</td>\n",
       "      <td>910.0</td>\n",
       "      <td>1965</td>\n",
       "      <td>98136</td>\n",
       "      <td>47.5208</td>\n",
       "      <td>-122.393</td>\n",
       "      <td>1360</td>\n",
       "      <td>5000</td>\n",
       "      <td>No</td>\n",
       "    </tr>\n",
       "    <tr>\n",
       "      <th>4</th>\n",
       "      <td>1954400510</td>\n",
       "      <td>2/18/2015</td>\n",
       "      <td>510000.0</td>\n",
       "      <td>3</td>\n",
       "      <td>2.00</td>\n",
       "      <td>1680</td>\n",
       "      <td>8080</td>\n",
       "      <td>1.0</td>\n",
       "      <td>NO</td>\n",
       "      <td>NONE</td>\n",
       "      <td>...</td>\n",
       "      <td>8 Good</td>\n",
       "      <td>1680</td>\n",
       "      <td>0.0</td>\n",
       "      <td>1987</td>\n",
       "      <td>98074</td>\n",
       "      <td>47.6168</td>\n",
       "      <td>-122.045</td>\n",
       "      <td>1800</td>\n",
       "      <td>7503</td>\n",
       "      <td>No</td>\n",
       "    </tr>\n",
       "  </tbody>\n",
       "</table>\n",
       "<p>5 rows × 21 columns</p>\n",
       "</div>"
      ],
      "text/plain": [
       "           id        date     price  bedrooms  bathrooms  sqft_living  \\\n",
       "0  7129300520  10/13/2014  221900.0         3       1.00         1180   \n",
       "1  6414100192   12/9/2014  538000.0         3       2.25         2570   \n",
       "2  5631500400   2/25/2015  180000.0         2       1.00          770   \n",
       "3  2487200875   12/9/2014  604000.0         4       3.00         1960   \n",
       "4  1954400510   2/18/2015  510000.0         3       2.00         1680   \n",
       "\n",
       "   sqft_lot  floors waterfront  view  ...          grade sqft_above  \\\n",
       "0      5650     1.0        NaN  NONE  ...      7 Average       1180   \n",
       "1      7242     2.0         NO  NONE  ...      7 Average       2170   \n",
       "2     10000     1.0         NO  NONE  ...  6 Low Average        770   \n",
       "3      5000     1.0         NO  NONE  ...      7 Average       1050   \n",
       "4      8080     1.0         NO  NONE  ...         8 Good       1680   \n",
       "\n",
       "   sqft_basement yr_built  zipcode      lat     long  sqft_living15  \\\n",
       "0            0.0     1955    98178  47.5112 -122.257           1340   \n",
       "1          400.0     1951    98125  47.7210 -122.319           1690   \n",
       "2            0.0     1933    98028  47.7379 -122.233           2720   \n",
       "3          910.0     1965    98136  47.5208 -122.393           1360   \n",
       "4            0.0     1987    98074  47.6168 -122.045           1800   \n",
       "\n",
       "   sqft_lot15  house_renovation  \n",
       "0        5650                No  \n",
       "1        7639               Yes  \n",
       "2        8062                No  \n",
       "3        5000                No  \n",
       "4        7503                No  \n",
       "\n",
       "[5 rows x 21 columns]"
      ]
     },
     "execution_count": 5,
     "metadata": {},
     "output_type": "execute_result"
    }
   ],
   "source": [
    "# Define a custom function to transform the yr_renovated column and drop the column after transformation\n",
    "def transform_and_drop_yr_renovated(df):\n",
    "    \"\"\"\n",
    "    Transform yr_renovated column to read 'Yes' if there is a year recorded,\n",
    "    and 'No' if there is no year in the record. Then drop the original\n",
    "    yr_renovated column.\n",
    "\n",
    "    Parameters:\n",
    "    - df (DataFrame): Input DataFrame.\n",
    "\n",
    "    Returns:\n",
    "    - df_transformed (DataFrame): Transformed DataFrame with dropped column.\n",
    "    \"\"\"\n",
    "    # Define a custom function to transform the yr_renovated column\n",
    "    def transform_yr_renovated(value):\n",
    "        if pd.notnull(value) and value != 0:  # Check if value is not NaN and not equal to 0\n",
    "            return 'Yes'\n",
    "        else:\n",
    "            return 'No'\n",
    "\n",
    "    # Apply the custom function to transform the yr_renovated column\n",
    "    df['house_renovation'] = df['yr_renovated'].apply(transform_yr_renovated)\n",
    "\n",
    "    # Drop the original yr_renovated column\n",
    "    df = df.drop(columns=['yr_renovated'])\n",
    "\n",
    "    return df\n",
    "\n",
    "# Apply the custom function to transform and drop yr_renovated column\n",
    "df = transform_and_drop_yr_renovated(df)\n",
    "\n",
    "# Print the transformed DataFrame\n",
    "df.head()"
   ]
  },
  {
   "cell_type": "markdown",
   "metadata": {
    "id": "KQQvlYoc82qR"
   },
   "source": [
    "Each row represents information about a specific house, and each column provides different characteristics of the houses for example the house with id 7129300520 goes for the price of 221900,has three bedrooms,one bathroom,a squarefeet of 1180,a squarefeet lot of 5650.\n",
    "This is the same criteria we use in for the other houses.\n"
   ]
  },
  {
   "cell_type": "markdown",
   "metadata": {
    "id": "4zDtka5u82qR"
   },
   "source": [
    "This function transform_and_drop_yr_renovated(df)  transforms the 'yr_renovated' column in a DataFrame and then drops the original column we now have a column stating whether the house renovation took place or not replacing the column there which was showing what year the renovation took place.\n",
    "\n",
    "This transformation allows you to categorize whether each house has been renovated ('Yes') or not ('No'), based on the presence or absence of a renovation year in the original 'yr_renovated' column.\n",
    "\n",
    "The df.head() statement prints the first few rows of the transformed DataFrame to check the result."
   ]
  },
  {
   "cell_type": "markdown",
   "metadata": {
    "id": "Sv3CQjjl82qR"
   },
   "source": [
    "checking for null and duplicate values function."
   ]
  },
  {
   "cell_type": "code",
   "execution_count": 6,
   "metadata": {
    "colab": {
     "base_uri": "https://localhost:8080/"
    },
    "id": "Rdd4e_Hp82qR",
    "outputId": "c4f1d24e-2e5c-4ab8-fb25-ee76f1d38682"
   },
   "outputs": [
    {
     "name": "stdout",
     "output_type": "stream",
     "text": [
      "Null Values:\n",
      "id                     0\n",
      "date                   0\n",
      "price                  0\n",
      "bedrooms               0\n",
      "bathrooms              0\n",
      "sqft_living            0\n",
      "sqft_lot               0\n",
      "floors                 0\n",
      "waterfront          2376\n",
      "view                  63\n",
      "condition              0\n",
      "grade                  0\n",
      "sqft_above             0\n",
      "sqft_basement          0\n",
      "yr_built               0\n",
      "zipcode                0\n",
      "lat                    0\n",
      "long                   0\n",
      "sqft_living15          0\n",
      "sqft_lot15             0\n",
      "house_renovation       0\n",
      "dtype: int64\n",
      "\n",
      "No Duplicated Rows Found.\n",
      "              Column  Null Count  Duplicated Rows\n",
      "0                 id           0                0\n",
      "1               date           0                0\n",
      "2              price           0                0\n",
      "3           bedrooms           0                0\n",
      "4          bathrooms           0                0\n",
      "5        sqft_living           0                0\n",
      "6           sqft_lot           0                0\n",
      "7             floors           0                0\n",
      "8         waterfront        2376                0\n",
      "9               view          63                0\n",
      "10         condition           0                0\n",
      "11             grade           0                0\n",
      "12        sqft_above           0                0\n",
      "13     sqft_basement           0                0\n",
      "14          yr_built           0                0\n",
      "15           zipcode           0                0\n",
      "16               lat           0                0\n",
      "17              long           0                0\n",
      "18     sqft_living15           0                0\n",
      "19        sqft_lot15           0                0\n",
      "20  house_renovation           0                0\n"
     ]
    }
   ],
   "source": [
    "def check_null_and_duplicates(df):\n",
    "    \"\"\"\n",
    "    Check for both null values and duplicated rows in a DataFrame.\n",
    "\n",
    "    Parameters:\n",
    "    - df: DataFrame\n",
    "        The DataFrame to check.\n",
    "\n",
    "    Returns:\n",
    "    - info_df: DataFrame\n",
    "        DataFrame containing information about null values and duplicated rows.\n",
    "    \"\"\"\n",
    "    # Check for null values\n",
    "    null_values = df.isnull().sum()\n",
    "    if null_values.sum() > 0:\n",
    "        print(\"Null Values:\")\n",
    "        print(null_values)\n",
    "    else:\n",
    "        print(\"No Null Values Found.\")\n",
    "\n",
    "    # Check for duplicated rows\n",
    "    duplicated_rows = df.duplicated().sum()\n",
    "    if duplicated_rows > 0:\n",
    "        print(\"\\nDuplicated Rows Found:\", duplicated_rows)\n",
    "        duplicated_df = df[df.duplicated()]\n",
    "        print(duplicated_df)\n",
    "    else:\n",
    "        print(\"\\nNo Duplicated Rows Found.\")\n",
    "        duplicated_df = pd.DataFrame()  # Empty DataFrame if no duplicates\n",
    "\n",
    "    # Create a DataFrame to store information\n",
    "    info_df = pd.DataFrame({\n",
    "        'Column': null_values.index,\n",
    "        'Null Count': null_values.values,\n",
    "        'Duplicated Rows': duplicated_rows\n",
    "    })\n",
    "    return info_df\n",
    "info_df= check_null_and_duplicates(df)\n",
    "print (info_df)"
   ]
  },
  {
   "cell_type": "markdown",
   "metadata": {
    "id": "xE44q45d82qS"
   },
   "source": [
    "'waterfront' column has 2376 null values.\n",
    "\n",
    "'view' column has 63 null values.\n",
    "\n",
    "All other columns have zero null values.\n",
    "\n",
    "No Duplicated Rows Found: This line indicates that there are no duplicated rows in DataFrame."
   ]
  },
  {
   "cell_type": "markdown",
   "metadata": {
    "id": "FopYGESr82qS"
   },
   "source": [
    "## Function for dropping duplicates,nulls and column names and replacing values.\n",
    "So we will use the Python function 'dropper'. This function is used for cleaning a dataframe by dropping duplicates,null values and separated columns.In the function below we also include replacing the NaN values in our waterfront column with None."
   ]
  },
  {
   "cell_type": "code",
   "execution_count": 7,
   "metadata": {
    "colab": {
     "base_uri": "https://localhost:8080/",
     "height": 672
    },
    "id": "wXrs-CvS82qS",
    "outputId": "a545b6bc-50d9-485d-9ac2-d004960f3a85"
   },
   "outputs": [
    {
     "name": "stdout",
     "output_type": "stream",
     "text": [
      "First few rows of the DataFrame:\n",
      "waterfront\n",
      "NO      19075\n",
      "NONE     2376\n",
      "YES       146\n",
      "Name: count, dtype: int64\n"
     ]
    },
    {
     "data": {
      "text/html": [
       "<div>\n",
       "<style scoped>\n",
       "    .dataframe tbody tr th:only-of-type {\n",
       "        vertical-align: middle;\n",
       "    }\n",
       "\n",
       "    .dataframe tbody tr th {\n",
       "        vertical-align: top;\n",
       "    }\n",
       "\n",
       "    .dataframe thead th {\n",
       "        text-align: right;\n",
       "    }\n",
       "</style>\n",
       "<table border=\"1\" class=\"dataframe\">\n",
       "  <thead>\n",
       "    <tr style=\"text-align: right;\">\n",
       "      <th></th>\n",
       "      <th>id</th>\n",
       "      <th>date</th>\n",
       "      <th>price</th>\n",
       "      <th>bedrooms</th>\n",
       "      <th>bathrooms</th>\n",
       "      <th>sqft_living</th>\n",
       "      <th>sqft_lot</th>\n",
       "      <th>floors</th>\n",
       "      <th>waterfront</th>\n",
       "      <th>view</th>\n",
       "      <th>...</th>\n",
       "      <th>grade</th>\n",
       "      <th>sqft_above</th>\n",
       "      <th>sqft_basement</th>\n",
       "      <th>yr_built</th>\n",
       "      <th>zipcode</th>\n",
       "      <th>lat</th>\n",
       "      <th>long</th>\n",
       "      <th>sqft_living15</th>\n",
       "      <th>sqft_lot15</th>\n",
       "      <th>house_renovation</th>\n",
       "    </tr>\n",
       "  </thead>\n",
       "  <tbody>\n",
       "    <tr>\n",
       "      <th>0</th>\n",
       "      <td>7129300520</td>\n",
       "      <td>10/13/2014</td>\n",
       "      <td>221900.0</td>\n",
       "      <td>3</td>\n",
       "      <td>1.00</td>\n",
       "      <td>1180</td>\n",
       "      <td>5650</td>\n",
       "      <td>1.0</td>\n",
       "      <td>NONE</td>\n",
       "      <td>NONE</td>\n",
       "      <td>...</td>\n",
       "      <td>7 Average</td>\n",
       "      <td>1180</td>\n",
       "      <td>0.0</td>\n",
       "      <td>1955</td>\n",
       "      <td>98178</td>\n",
       "      <td>47.5112</td>\n",
       "      <td>-122.257</td>\n",
       "      <td>1340</td>\n",
       "      <td>5650</td>\n",
       "      <td>No</td>\n",
       "    </tr>\n",
       "    <tr>\n",
       "      <th>1</th>\n",
       "      <td>6414100192</td>\n",
       "      <td>12/9/2014</td>\n",
       "      <td>538000.0</td>\n",
       "      <td>3</td>\n",
       "      <td>2.25</td>\n",
       "      <td>2570</td>\n",
       "      <td>7242</td>\n",
       "      <td>2.0</td>\n",
       "      <td>NO</td>\n",
       "      <td>NONE</td>\n",
       "      <td>...</td>\n",
       "      <td>7 Average</td>\n",
       "      <td>2170</td>\n",
       "      <td>400.0</td>\n",
       "      <td>1951</td>\n",
       "      <td>98125</td>\n",
       "      <td>47.7210</td>\n",
       "      <td>-122.319</td>\n",
       "      <td>1690</td>\n",
       "      <td>7639</td>\n",
       "      <td>Yes</td>\n",
       "    </tr>\n",
       "    <tr>\n",
       "      <th>2</th>\n",
       "      <td>5631500400</td>\n",
       "      <td>2/25/2015</td>\n",
       "      <td>180000.0</td>\n",
       "      <td>2</td>\n",
       "      <td>1.00</td>\n",
       "      <td>770</td>\n",
       "      <td>10000</td>\n",
       "      <td>1.0</td>\n",
       "      <td>NO</td>\n",
       "      <td>NONE</td>\n",
       "      <td>...</td>\n",
       "      <td>6 Low Average</td>\n",
       "      <td>770</td>\n",
       "      <td>0.0</td>\n",
       "      <td>1933</td>\n",
       "      <td>98028</td>\n",
       "      <td>47.7379</td>\n",
       "      <td>-122.233</td>\n",
       "      <td>2720</td>\n",
       "      <td>8062</td>\n",
       "      <td>No</td>\n",
       "    </tr>\n",
       "    <tr>\n",
       "      <th>3</th>\n",
       "      <td>2487200875</td>\n",
       "      <td>12/9/2014</td>\n",
       "      <td>604000.0</td>\n",
       "      <td>4</td>\n",
       "      <td>3.00</td>\n",
       "      <td>1960</td>\n",
       "      <td>5000</td>\n",
       "      <td>1.0</td>\n",
       "      <td>NO</td>\n",
       "      <td>NONE</td>\n",
       "      <td>...</td>\n",
       "      <td>7 Average</td>\n",
       "      <td>1050</td>\n",
       "      <td>910.0</td>\n",
       "      <td>1965</td>\n",
       "      <td>98136</td>\n",
       "      <td>47.5208</td>\n",
       "      <td>-122.393</td>\n",
       "      <td>1360</td>\n",
       "      <td>5000</td>\n",
       "      <td>No</td>\n",
       "    </tr>\n",
       "    <tr>\n",
       "      <th>4</th>\n",
       "      <td>1954400510</td>\n",
       "      <td>2/18/2015</td>\n",
       "      <td>510000.0</td>\n",
       "      <td>3</td>\n",
       "      <td>2.00</td>\n",
       "      <td>1680</td>\n",
       "      <td>8080</td>\n",
       "      <td>1.0</td>\n",
       "      <td>NO</td>\n",
       "      <td>NONE</td>\n",
       "      <td>...</td>\n",
       "      <td>8 Good</td>\n",
       "      <td>1680</td>\n",
       "      <td>0.0</td>\n",
       "      <td>1987</td>\n",
       "      <td>98074</td>\n",
       "      <td>47.6168</td>\n",
       "      <td>-122.045</td>\n",
       "      <td>1800</td>\n",
       "      <td>7503</td>\n",
       "      <td>No</td>\n",
       "    </tr>\n",
       "    <tr>\n",
       "      <th>5</th>\n",
       "      <td>7237550310</td>\n",
       "      <td>5/12/2014</td>\n",
       "      <td>1230000.0</td>\n",
       "      <td>4</td>\n",
       "      <td>4.50</td>\n",
       "      <td>5420</td>\n",
       "      <td>101930</td>\n",
       "      <td>1.0</td>\n",
       "      <td>NO</td>\n",
       "      <td>NONE</td>\n",
       "      <td>...</td>\n",
       "      <td>11 Excellent</td>\n",
       "      <td>3890</td>\n",
       "      <td>1530.0</td>\n",
       "      <td>2001</td>\n",
       "      <td>98053</td>\n",
       "      <td>47.6561</td>\n",
       "      <td>-122.005</td>\n",
       "      <td>4760</td>\n",
       "      <td>101930</td>\n",
       "      <td>No</td>\n",
       "    </tr>\n",
       "    <tr>\n",
       "      <th>6</th>\n",
       "      <td>1321400060</td>\n",
       "      <td>6/27/2014</td>\n",
       "      <td>257500.0</td>\n",
       "      <td>3</td>\n",
       "      <td>2.25</td>\n",
       "      <td>1715</td>\n",
       "      <td>6819</td>\n",
       "      <td>2.0</td>\n",
       "      <td>NO</td>\n",
       "      <td>NONE</td>\n",
       "      <td>...</td>\n",
       "      <td>7 Average</td>\n",
       "      <td>1715</td>\n",
       "      <td>?</td>\n",
       "      <td>1995</td>\n",
       "      <td>98003</td>\n",
       "      <td>47.3097</td>\n",
       "      <td>-122.327</td>\n",
       "      <td>2238</td>\n",
       "      <td>6819</td>\n",
       "      <td>No</td>\n",
       "    </tr>\n",
       "    <tr>\n",
       "      <th>7</th>\n",
       "      <td>2008000270</td>\n",
       "      <td>1/15/2015</td>\n",
       "      <td>291850.0</td>\n",
       "      <td>3</td>\n",
       "      <td>1.50</td>\n",
       "      <td>1060</td>\n",
       "      <td>9711</td>\n",
       "      <td>1.0</td>\n",
       "      <td>NO</td>\n",
       "      <td>NaN</td>\n",
       "      <td>...</td>\n",
       "      <td>7 Average</td>\n",
       "      <td>1060</td>\n",
       "      <td>0.0</td>\n",
       "      <td>1963</td>\n",
       "      <td>98198</td>\n",
       "      <td>47.4095</td>\n",
       "      <td>-122.315</td>\n",
       "      <td>1650</td>\n",
       "      <td>9711</td>\n",
       "      <td>No</td>\n",
       "    </tr>\n",
       "    <tr>\n",
       "      <th>8</th>\n",
       "      <td>2414600126</td>\n",
       "      <td>4/15/2015</td>\n",
       "      <td>229500.0</td>\n",
       "      <td>3</td>\n",
       "      <td>1.00</td>\n",
       "      <td>1780</td>\n",
       "      <td>7470</td>\n",
       "      <td>1.0</td>\n",
       "      <td>NO</td>\n",
       "      <td>NONE</td>\n",
       "      <td>...</td>\n",
       "      <td>7 Average</td>\n",
       "      <td>1050</td>\n",
       "      <td>730.0</td>\n",
       "      <td>1960</td>\n",
       "      <td>98146</td>\n",
       "      <td>47.5123</td>\n",
       "      <td>-122.337</td>\n",
       "      <td>1780</td>\n",
       "      <td>8113</td>\n",
       "      <td>No</td>\n",
       "    </tr>\n",
       "    <tr>\n",
       "      <th>9</th>\n",
       "      <td>3793500160</td>\n",
       "      <td>3/12/2015</td>\n",
       "      <td>323000.0</td>\n",
       "      <td>3</td>\n",
       "      <td>2.50</td>\n",
       "      <td>1890</td>\n",
       "      <td>6560</td>\n",
       "      <td>2.0</td>\n",
       "      <td>NO</td>\n",
       "      <td>NONE</td>\n",
       "      <td>...</td>\n",
       "      <td>7 Average</td>\n",
       "      <td>1890</td>\n",
       "      <td>0.0</td>\n",
       "      <td>2003</td>\n",
       "      <td>98038</td>\n",
       "      <td>47.3684</td>\n",
       "      <td>-122.031</td>\n",
       "      <td>2390</td>\n",
       "      <td>7570</td>\n",
       "      <td>No</td>\n",
       "    </tr>\n",
       "  </tbody>\n",
       "</table>\n",
       "<p>10 rows × 21 columns</p>\n",
       "</div>"
      ],
      "text/plain": [
       "           id        date      price  bedrooms  bathrooms  sqft_living  \\\n",
       "0  7129300520  10/13/2014   221900.0         3       1.00         1180   \n",
       "1  6414100192   12/9/2014   538000.0         3       2.25         2570   \n",
       "2  5631500400   2/25/2015   180000.0         2       1.00          770   \n",
       "3  2487200875   12/9/2014   604000.0         4       3.00         1960   \n",
       "4  1954400510   2/18/2015   510000.0         3       2.00         1680   \n",
       "5  7237550310   5/12/2014  1230000.0         4       4.50         5420   \n",
       "6  1321400060   6/27/2014   257500.0         3       2.25         1715   \n",
       "7  2008000270   1/15/2015   291850.0         3       1.50         1060   \n",
       "8  2414600126   4/15/2015   229500.0         3       1.00         1780   \n",
       "9  3793500160   3/12/2015   323000.0         3       2.50         1890   \n",
       "\n",
       "   sqft_lot  floors waterfront  view  ...          grade sqft_above  \\\n",
       "0      5650     1.0       NONE  NONE  ...      7 Average       1180   \n",
       "1      7242     2.0         NO  NONE  ...      7 Average       2170   \n",
       "2     10000     1.0         NO  NONE  ...  6 Low Average        770   \n",
       "3      5000     1.0         NO  NONE  ...      7 Average       1050   \n",
       "4      8080     1.0         NO  NONE  ...         8 Good       1680   \n",
       "5    101930     1.0         NO  NONE  ...   11 Excellent       3890   \n",
       "6      6819     2.0         NO  NONE  ...      7 Average       1715   \n",
       "7      9711     1.0         NO   NaN  ...      7 Average       1060   \n",
       "8      7470     1.0         NO  NONE  ...      7 Average       1050   \n",
       "9      6560     2.0         NO  NONE  ...      7 Average       1890   \n",
       "\n",
       "   sqft_basement yr_built  zipcode      lat     long  sqft_living15  \\\n",
       "0            0.0     1955    98178  47.5112 -122.257           1340   \n",
       "1          400.0     1951    98125  47.7210 -122.319           1690   \n",
       "2            0.0     1933    98028  47.7379 -122.233           2720   \n",
       "3          910.0     1965    98136  47.5208 -122.393           1360   \n",
       "4            0.0     1987    98074  47.6168 -122.045           1800   \n",
       "5         1530.0     2001    98053  47.6561 -122.005           4760   \n",
       "6              ?     1995    98003  47.3097 -122.327           2238   \n",
       "7            0.0     1963    98198  47.4095 -122.315           1650   \n",
       "8          730.0     1960    98146  47.5123 -122.337           1780   \n",
       "9            0.0     2003    98038  47.3684 -122.031           2390   \n",
       "\n",
       "   sqft_lot15  house_renovation  \n",
       "0        5650                No  \n",
       "1        7639               Yes  \n",
       "2        8062                No  \n",
       "3        5000                No  \n",
       "4        7503                No  \n",
       "5      101930                No  \n",
       "6        6819                No  \n",
       "7        9711                No  \n",
       "8        8113                No  \n",
       "9        7570                No  \n",
       "\n",
       "[10 rows x 21 columns]"
      ]
     },
     "execution_count": 7,
     "metadata": {},
     "output_type": "execute_result"
    }
   ],
   "source": [
    "def dropper(df, one=None, two=None, three=None):\n",
    "    '''\n",
    "    Input: DataFrame, request 1,request 2, request 3\n",
    "    requests:\n",
    "    'duplicates' to drop duplicates\n",
    "    'nulls' to drop null values\n",
    "    list containing df column names l = ['','','']\n",
    "    '''\n",
    "    request = [one,two,three]\n",
    "    if 'duplicates' in request:\n",
    "        df = df.drop_duplicates()\n",
    "    if 'nulls' in request:\n",
    "        df = df.dropna()\n",
    "    for req in request:\n",
    "        if isinstance(req, list):\n",
    "            df = df.drop(columns=req, axis=1).reset_index(drop=True)\n",
    "    return(df)\n",
    "\n",
    "\n",
    "print(\"First few rows of the DataFrame:\")\n",
    "\n",
    "#Changing values for our column waterfront\n",
    "# Assuming your DataFrame is named df\n",
    "df['waterfront'] = df['waterfront'].fillna('NONE')\n",
    "print(df['waterfront'].value_counts())\n",
    "\n",
    "df.head(10)"
   ]
  },
  {
   "cell_type": "markdown",
   "metadata": {
    "id": "QcpAUyl582qS"
   },
   "source": [
    "After finding the number of null values in the previous function, we have now dropped our null values using df =df.dropna()"
   ]
  },
  {
   "cell_type": "markdown",
   "metadata": {
    "id": "Ovw-irt582qS"
   },
   "source": [
    "In this dataframe, we have changed the output of waterfront column from NaN to None using the fill.na().\n",
    "the column waterfront has the data type interger.\n",
    "\n",
    "'NO': There are 19075 occurrences of 'NO' in the 'waterfront' column. This indicates that these properties do not have a waterfront view.\n",
    "\n",
    "'NONE': There are 2376 occurrences of 'NONE' in the 'waterfront' column. This likely indicates that these records originally had missing values (NaN) for the waterfront attribute, and they have been replaced with the string 'NONE'.\n",
    "\n",
    "'YES': There are 146 occurrences of 'YES' in the 'waterfront' column. This indicates that these properties have a waterfront view."
   ]
  },
  {
   "cell_type": "markdown",
   "metadata": {
    "id": "L1JIzEwB82qS"
   },
   "source": [
    "## Checking for outliers."
   ]
  },
  {
   "cell_type": "markdown",
   "metadata": {
    "id": "Mx87FBGh82qS"
   },
   "source": [
    "Outliers are simply data points that differ from the rest of the dataset.\n",
    "\n",
    "They may distort statistical measures leading to misinterpretation of data."
   ]
  },
  {
   "cell_type": "markdown",
   "metadata": {
    "id": "ifdj73vy82qS"
   },
   "source": [
    "For us to check for outliers we are needed to focus on the columns such as \"price\",\"bedrooms\",\"bathrooms\",\"sqft_living\",\"sqft_lot\", which are numerical columns.\n",
    "We will use the function 'detect_outliers' to identify the outliers."
   ]
  },
  {
   "cell_type": "code",
   "execution_count": 8,
   "metadata": {
    "colab": {
     "base_uri": "https://localhost:8080/"
    },
    "id": "tYqOXtDL82qT",
    "outputId": "ff0c32f3-dc43-4c29-ce40-527daf450380"
   },
   "outputs": [
    {
     "name": "stdout",
     "output_type": "stream",
     "text": [
      "Outliers in price: Index([    5,    21,    49,    69,   125,   153,   216,   246,   269,   270,\n",
      "       ...\n",
      "       21509, 21514, 21516, 21524, 21535, 21552, 21560, 21574, 21581, 21584],\n",
      "      dtype='int64', length=1158)\n",
      "Outliers in bedrooms: Index([  154,   209,   232,   239,   264,   331,   350,   465,   486,   527,\n",
      "       ...\n",
      "       21170, 21210, 21224, 21310, 21316, 21359, 21427, 21503, 21506, 21536],\n",
      "      dtype='int64', length=530)\n",
      "Outliers in bathrooms: Index([    5,    75,   235,   270,   300,   419,   450,   471,   509,   527,\n",
      "       ...\n",
      "       21490, 21498, 21504, 21514, 21516, 21535, 21545, 21560, 21577, 21584],\n",
      "      dtype='int64', length=561)\n",
      "Outliers in sqft_living: Index([    5,    70,   115,   153,   239,   269,   270,   300,   313,   314,\n",
      "       ...\n",
      "       21505, 21509, 21514, 21516, 21524, 21535, 21545, 21560, 21574, 21584],\n",
      "      dtype='int64', length=571)\n",
      "Outliers in sqft_lot: Index([    5,    12,    21,    36,    41,    49,    60,    69,    70,    74,\n",
      "       ...\n",
      "       21415, 21454, 21468, 21469, 21470, 21478, 21490, 21504, 21509, 21532],\n",
      "      dtype='int64', length=2419)\n"
     ]
    }
   ],
   "source": [
    "import pandas as pd\n",
    "import numpy as np\n",
    "\n",
    "def detect_outliers(df, features):\n",
    "    \"\"\"\n",
    "    Detect outliers in the specified numeric features of the dataframe.\n",
    "\n",
    "    Parameters:\n",
    "    - df: DataFrame containing the data.\n",
    "    - features: List of numeric feature names to check for outliers.\n",
    "\n",
    "    Returns:\n",
    "    - Dictionary containing outlier indices for each feature.\n",
    "    \"\"\"\n",
    "    outlier_indices = {}\n",
    "    for feature in features:\n",
    "        Q1 = np.percentile(df[feature], 25)\n",
    "        Q3 = np.percentile(df[feature], 75)\n",
    "        IQR = Q3 - Q1\n",
    "        # Calculate the outlier step\n",
    "        outlier_step = 1.5 * IQR\n",
    "        # Determine outliers\n",
    "        outlier_list_col = df[(df[feature] < Q1 - outlier_step) | (df[feature] > Q3 + outlier_step)].index\n",
    "        outlier_indices[feature] = outlier_list_col\n",
    "    return outlier_indices\n",
    "\n",
    "# Example usage:\n",
    "# Numeric features to check for outliers\n",
    "numeric_features = ['price', 'bedrooms', 'bathrooms', 'sqft_living', 'sqft_lot']\n",
    "# Detect outliers\n",
    "outliers = detect_outliers(df, numeric_features)\n",
    "# Print outlier indices for each feature\n",
    "for feature, indices in outliers.items():\n",
    "    print(f\"Outliers in {feature}: {indices}\")\n"
   ]
  },
  {
   "cell_type": "markdown",
   "metadata": {
    "id": "tQgMwSyp82qT"
   },
   "source": [
    "The above output indicates that outliers were detected in the price column and the indices of the outliers."
   ]
  },
  {
   "cell_type": "markdown",
   "metadata": {
    "id": "yAVCNKNr82qT"
   },
   "source": [
    "There are 1158 outliers in price. This means there are 1158 houses whose prices are significantly different from the rest in the dataset.\n",
    "\n",
    "There are 530 outliers in the number of bedrooms. These are houses with an unusual number of bedrooms compared to others.\n",
    "\n",
    "There are 561 outliers in the number of bathrooms. Similar to bedrooms, these houses have an unusual number of bathrooms.\n",
    "\n",
    "There are 571 outliers in the size of the living area. These houses have an exceptionally large or small living area compared to others.\n",
    "\n",
    "There are outliers in the size of the lot as well, but the number of outliers is so large that it's difficult to mention the exact count. These houses have unusually large or small lots compared to others."
   ]
  },
  {
   "cell_type": "markdown",
   "metadata": {
    "id": "BFiVcEKC82qT"
   },
   "source": [
    "We are going ahead to drop the outliers in our dataset."
   ]
  },
  {
   "cell_type": "code",
   "execution_count": 9,
   "metadata": {
    "colab": {
     "base_uri": "https://localhost:8080/",
     "height": 547
    },
    "id": "O5ubiYLB82qT",
    "outputId": "e8a92496-9113-4853-c493-b581da537b8d"
   },
   "outputs": [
    {
     "data": {
      "text/html": [
       "<div>\n",
       "<style scoped>\n",
       "    .dataframe tbody tr th:only-of-type {\n",
       "        vertical-align: middle;\n",
       "    }\n",
       "\n",
       "    .dataframe tbody tr th {\n",
       "        vertical-align: top;\n",
       "    }\n",
       "\n",
       "    .dataframe thead th {\n",
       "        text-align: right;\n",
       "    }\n",
       "</style>\n",
       "<table border=\"1\" class=\"dataframe\">\n",
       "  <thead>\n",
       "    <tr style=\"text-align: right;\">\n",
       "      <th></th>\n",
       "      <th>id</th>\n",
       "      <th>date</th>\n",
       "      <th>price</th>\n",
       "      <th>bedrooms</th>\n",
       "      <th>bathrooms</th>\n",
       "      <th>sqft_living</th>\n",
       "      <th>sqft_lot</th>\n",
       "      <th>floors</th>\n",
       "      <th>waterfront</th>\n",
       "      <th>view</th>\n",
       "      <th>...</th>\n",
       "      <th>grade</th>\n",
       "      <th>sqft_above</th>\n",
       "      <th>sqft_basement</th>\n",
       "      <th>yr_built</th>\n",
       "      <th>zipcode</th>\n",
       "      <th>lat</th>\n",
       "      <th>long</th>\n",
       "      <th>sqft_living15</th>\n",
       "      <th>sqft_lot15</th>\n",
       "      <th>house_renovation</th>\n",
       "    </tr>\n",
       "  </thead>\n",
       "  <tbody>\n",
       "    <tr>\n",
       "      <th>0</th>\n",
       "      <td>7129300520</td>\n",
       "      <td>10/13/2014</td>\n",
       "      <td>221900.0</td>\n",
       "      <td>3</td>\n",
       "      <td>1.00</td>\n",
       "      <td>1180</td>\n",
       "      <td>5650</td>\n",
       "      <td>1.0</td>\n",
       "      <td>NONE</td>\n",
       "      <td>NONE</td>\n",
       "      <td>...</td>\n",
       "      <td>7 Average</td>\n",
       "      <td>1180</td>\n",
       "      <td>0.0</td>\n",
       "      <td>1955</td>\n",
       "      <td>98178</td>\n",
       "      <td>47.5112</td>\n",
       "      <td>-122.257</td>\n",
       "      <td>1340</td>\n",
       "      <td>5650</td>\n",
       "      <td>No</td>\n",
       "    </tr>\n",
       "    <tr>\n",
       "      <th>1</th>\n",
       "      <td>6414100192</td>\n",
       "      <td>12/9/2014</td>\n",
       "      <td>538000.0</td>\n",
       "      <td>3</td>\n",
       "      <td>2.25</td>\n",
       "      <td>2570</td>\n",
       "      <td>7242</td>\n",
       "      <td>2.0</td>\n",
       "      <td>NO</td>\n",
       "      <td>NONE</td>\n",
       "      <td>...</td>\n",
       "      <td>7 Average</td>\n",
       "      <td>2170</td>\n",
       "      <td>400.0</td>\n",
       "      <td>1951</td>\n",
       "      <td>98125</td>\n",
       "      <td>47.7210</td>\n",
       "      <td>-122.319</td>\n",
       "      <td>1690</td>\n",
       "      <td>7639</td>\n",
       "      <td>Yes</td>\n",
       "    </tr>\n",
       "    <tr>\n",
       "      <th>2</th>\n",
       "      <td>5631500400</td>\n",
       "      <td>2/25/2015</td>\n",
       "      <td>180000.0</td>\n",
       "      <td>2</td>\n",
       "      <td>1.00</td>\n",
       "      <td>770</td>\n",
       "      <td>10000</td>\n",
       "      <td>1.0</td>\n",
       "      <td>NO</td>\n",
       "      <td>NONE</td>\n",
       "      <td>...</td>\n",
       "      <td>6 Low Average</td>\n",
       "      <td>770</td>\n",
       "      <td>0.0</td>\n",
       "      <td>1933</td>\n",
       "      <td>98028</td>\n",
       "      <td>47.7379</td>\n",
       "      <td>-122.233</td>\n",
       "      <td>2720</td>\n",
       "      <td>8062</td>\n",
       "      <td>No</td>\n",
       "    </tr>\n",
       "    <tr>\n",
       "      <th>3</th>\n",
       "      <td>2487200875</td>\n",
       "      <td>12/9/2014</td>\n",
       "      <td>604000.0</td>\n",
       "      <td>4</td>\n",
       "      <td>3.00</td>\n",
       "      <td>1960</td>\n",
       "      <td>5000</td>\n",
       "      <td>1.0</td>\n",
       "      <td>NO</td>\n",
       "      <td>NONE</td>\n",
       "      <td>...</td>\n",
       "      <td>7 Average</td>\n",
       "      <td>1050</td>\n",
       "      <td>910.0</td>\n",
       "      <td>1965</td>\n",
       "      <td>98136</td>\n",
       "      <td>47.5208</td>\n",
       "      <td>-122.393</td>\n",
       "      <td>1360</td>\n",
       "      <td>5000</td>\n",
       "      <td>No</td>\n",
       "    </tr>\n",
       "    <tr>\n",
       "      <th>4</th>\n",
       "      <td>1954400510</td>\n",
       "      <td>2/18/2015</td>\n",
       "      <td>510000.0</td>\n",
       "      <td>3</td>\n",
       "      <td>2.00</td>\n",
       "      <td>1680</td>\n",
       "      <td>8080</td>\n",
       "      <td>1.0</td>\n",
       "      <td>NO</td>\n",
       "      <td>NONE</td>\n",
       "      <td>...</td>\n",
       "      <td>8 Good</td>\n",
       "      <td>1680</td>\n",
       "      <td>0.0</td>\n",
       "      <td>1987</td>\n",
       "      <td>98074</td>\n",
       "      <td>47.6168</td>\n",
       "      <td>-122.045</td>\n",
       "      <td>1800</td>\n",
       "      <td>7503</td>\n",
       "      <td>No</td>\n",
       "    </tr>\n",
       "    <tr>\n",
       "      <th>...</th>\n",
       "      <td>...</td>\n",
       "      <td>...</td>\n",
       "      <td>...</td>\n",
       "      <td>...</td>\n",
       "      <td>...</td>\n",
       "      <td>...</td>\n",
       "      <td>...</td>\n",
       "      <td>...</td>\n",
       "      <td>...</td>\n",
       "      <td>...</td>\n",
       "      <td>...</td>\n",
       "      <td>...</td>\n",
       "      <td>...</td>\n",
       "      <td>...</td>\n",
       "      <td>...</td>\n",
       "      <td>...</td>\n",
       "      <td>...</td>\n",
       "      <td>...</td>\n",
       "      <td>...</td>\n",
       "      <td>...</td>\n",
       "      <td>...</td>\n",
       "    </tr>\n",
       "    <tr>\n",
       "      <th>21592</th>\n",
       "      <td>263000018</td>\n",
       "      <td>5/21/2014</td>\n",
       "      <td>360000.0</td>\n",
       "      <td>3</td>\n",
       "      <td>2.50</td>\n",
       "      <td>1530</td>\n",
       "      <td>1131</td>\n",
       "      <td>3.0</td>\n",
       "      <td>NO</td>\n",
       "      <td>NONE</td>\n",
       "      <td>...</td>\n",
       "      <td>8 Good</td>\n",
       "      <td>1530</td>\n",
       "      <td>0.0</td>\n",
       "      <td>2009</td>\n",
       "      <td>98103</td>\n",
       "      <td>47.6993</td>\n",
       "      <td>-122.346</td>\n",
       "      <td>1530</td>\n",
       "      <td>1509</td>\n",
       "      <td>No</td>\n",
       "    </tr>\n",
       "    <tr>\n",
       "      <th>21593</th>\n",
       "      <td>6600060120</td>\n",
       "      <td>2/23/2015</td>\n",
       "      <td>400000.0</td>\n",
       "      <td>4</td>\n",
       "      <td>2.50</td>\n",
       "      <td>2310</td>\n",
       "      <td>5813</td>\n",
       "      <td>2.0</td>\n",
       "      <td>NO</td>\n",
       "      <td>NONE</td>\n",
       "      <td>...</td>\n",
       "      <td>8 Good</td>\n",
       "      <td>2310</td>\n",
       "      <td>0.0</td>\n",
       "      <td>2014</td>\n",
       "      <td>98146</td>\n",
       "      <td>47.5107</td>\n",
       "      <td>-122.362</td>\n",
       "      <td>1830</td>\n",
       "      <td>7200</td>\n",
       "      <td>No</td>\n",
       "    </tr>\n",
       "    <tr>\n",
       "      <th>21594</th>\n",
       "      <td>1523300141</td>\n",
       "      <td>6/23/2014</td>\n",
       "      <td>402101.0</td>\n",
       "      <td>2</td>\n",
       "      <td>0.75</td>\n",
       "      <td>1020</td>\n",
       "      <td>1350</td>\n",
       "      <td>2.0</td>\n",
       "      <td>NO</td>\n",
       "      <td>NONE</td>\n",
       "      <td>...</td>\n",
       "      <td>7 Average</td>\n",
       "      <td>1020</td>\n",
       "      <td>0.0</td>\n",
       "      <td>2009</td>\n",
       "      <td>98144</td>\n",
       "      <td>47.5944</td>\n",
       "      <td>-122.299</td>\n",
       "      <td>1020</td>\n",
       "      <td>2007</td>\n",
       "      <td>No</td>\n",
       "    </tr>\n",
       "    <tr>\n",
       "      <th>21595</th>\n",
       "      <td>291310100</td>\n",
       "      <td>1/16/2015</td>\n",
       "      <td>400000.0</td>\n",
       "      <td>3</td>\n",
       "      <td>2.50</td>\n",
       "      <td>1600</td>\n",
       "      <td>2388</td>\n",
       "      <td>2.0</td>\n",
       "      <td>NONE</td>\n",
       "      <td>NONE</td>\n",
       "      <td>...</td>\n",
       "      <td>8 Good</td>\n",
       "      <td>1600</td>\n",
       "      <td>0.0</td>\n",
       "      <td>2004</td>\n",
       "      <td>98027</td>\n",
       "      <td>47.5345</td>\n",
       "      <td>-122.069</td>\n",
       "      <td>1410</td>\n",
       "      <td>1287</td>\n",
       "      <td>No</td>\n",
       "    </tr>\n",
       "    <tr>\n",
       "      <th>21596</th>\n",
       "      <td>1523300157</td>\n",
       "      <td>10/15/2014</td>\n",
       "      <td>325000.0</td>\n",
       "      <td>2</td>\n",
       "      <td>0.75</td>\n",
       "      <td>1020</td>\n",
       "      <td>1076</td>\n",
       "      <td>2.0</td>\n",
       "      <td>NO</td>\n",
       "      <td>NONE</td>\n",
       "      <td>...</td>\n",
       "      <td>7 Average</td>\n",
       "      <td>1020</td>\n",
       "      <td>0.0</td>\n",
       "      <td>2008</td>\n",
       "      <td>98144</td>\n",
       "      <td>47.5941</td>\n",
       "      <td>-122.299</td>\n",
       "      <td>1020</td>\n",
       "      <td>1357</td>\n",
       "      <td>No</td>\n",
       "    </tr>\n",
       "  </tbody>\n",
       "</table>\n",
       "<p>17702 rows × 21 columns</p>\n",
       "</div>"
      ],
      "text/plain": [
       "               id        date     price  bedrooms  bathrooms  sqft_living  \\\n",
       "0      7129300520  10/13/2014  221900.0         3       1.00         1180   \n",
       "1      6414100192   12/9/2014  538000.0         3       2.25         2570   \n",
       "2      5631500400   2/25/2015  180000.0         2       1.00          770   \n",
       "3      2487200875   12/9/2014  604000.0         4       3.00         1960   \n",
       "4      1954400510   2/18/2015  510000.0         3       2.00         1680   \n",
       "...           ...         ...       ...       ...        ...          ...   \n",
       "21592   263000018   5/21/2014  360000.0         3       2.50         1530   \n",
       "21593  6600060120   2/23/2015  400000.0         4       2.50         2310   \n",
       "21594  1523300141   6/23/2014  402101.0         2       0.75         1020   \n",
       "21595   291310100   1/16/2015  400000.0         3       2.50         1600   \n",
       "21596  1523300157  10/15/2014  325000.0         2       0.75         1020   \n",
       "\n",
       "       sqft_lot  floors waterfront  view  ...          grade sqft_above  \\\n",
       "0          5650     1.0       NONE  NONE  ...      7 Average       1180   \n",
       "1          7242     2.0         NO  NONE  ...      7 Average       2170   \n",
       "2         10000     1.0         NO  NONE  ...  6 Low Average        770   \n",
       "3          5000     1.0         NO  NONE  ...      7 Average       1050   \n",
       "4          8080     1.0         NO  NONE  ...         8 Good       1680   \n",
       "...         ...     ...        ...   ...  ...            ...        ...   \n",
       "21592      1131     3.0         NO  NONE  ...         8 Good       1530   \n",
       "21593      5813     2.0         NO  NONE  ...         8 Good       2310   \n",
       "21594      1350     2.0         NO  NONE  ...      7 Average       1020   \n",
       "21595      2388     2.0       NONE  NONE  ...         8 Good       1600   \n",
       "21596      1076     2.0         NO  NONE  ...      7 Average       1020   \n",
       "\n",
       "       sqft_basement yr_built  zipcode      lat     long  sqft_living15  \\\n",
       "0                0.0     1955    98178  47.5112 -122.257           1340   \n",
       "1              400.0     1951    98125  47.7210 -122.319           1690   \n",
       "2                0.0     1933    98028  47.7379 -122.233           2720   \n",
       "3              910.0     1965    98136  47.5208 -122.393           1360   \n",
       "4                0.0     1987    98074  47.6168 -122.045           1800   \n",
       "...              ...      ...      ...      ...      ...            ...   \n",
       "21592            0.0     2009    98103  47.6993 -122.346           1530   \n",
       "21593            0.0     2014    98146  47.5107 -122.362           1830   \n",
       "21594            0.0     2009    98144  47.5944 -122.299           1020   \n",
       "21595            0.0     2004    98027  47.5345 -122.069           1410   \n",
       "21596            0.0     2008    98144  47.5941 -122.299           1020   \n",
       "\n",
       "       sqft_lot15  house_renovation  \n",
       "0            5650                No  \n",
       "1            7639               Yes  \n",
       "2            8062                No  \n",
       "3            5000                No  \n",
       "4            7503                No  \n",
       "...           ...               ...  \n",
       "21592        1509                No  \n",
       "21593        7200                No  \n",
       "21594        2007                No  \n",
       "21595        1287                No  \n",
       "21596        1357                No  \n",
       "\n",
       "[17702 rows x 21 columns]"
      ]
     },
     "execution_count": 9,
     "metadata": {},
     "output_type": "execute_result"
    }
   ],
   "source": [
    "def drop_outliers(df, outliers):\n",
    "    \"\"\"\n",
    "    Drop outliers from the DataFrame.\n",
    "\n",
    "    Parameters:\n",
    "    - df: DataFrame containing the data.\n",
    "    - outliers: Dictionary containing outlier indices for each feature.\n",
    "\n",
    "    Returns:\n",
    "    - DataFrame with outliers removed.\n",
    "    \"\"\"\n",
    "    # Combine outlier indices from all features\n",
    "    outlier_indices = []\n",
    "    for indices in outliers.values():\n",
    "        outlier_indices.extend(indices)\n",
    "    # Drop duplicate indices\n",
    "    outlier_indices = list(set(outlier_indices))\n",
    "    # Drop outliers from DataFrame\n",
    "    df_cleaned = df.drop(outlier_indices)\n",
    "    return df_cleaned\n",
    "\n",
    "# Example usage:\n",
    "# Numeric features to check for outliers\n",
    "numeric_features = ['price', 'bedrooms', 'bathrooms', 'sqft_living', 'sqft_lot']\n",
    "# Detect outliers\n",
    "outliers = detect_outliers(df, numeric_features)\n",
    "# Drop outliers\n",
    "df_cleaned = drop_outliers(df, outliers)\n",
    "df_cleaned"
   ]
  },
  {
   "cell_type": "markdown",
   "metadata": {
    "id": "_kDyzjTm82qU"
   },
   "source": [
    "This drop_outliers function takes the DataFrame df and the outlier indices obtained from detect_outliers function as inputs and returns a DataFrame with the outliers removed.\n",
    "\n",
    "\n",
    "\n",
    "\n",
    "\n"
   ]
  },
  {
   "cell_type": "code",
   "execution_count": 10,
   "metadata": {
    "colab": {
     "base_uri": "https://localhost:8080/"
    },
    "id": "z2tU2kaq82qU",
    "outputId": "0a0f7192-c5b9-4b3a-d7cb-f2bd5af9dd2b"
   },
   "outputs": [
    {
     "name": "stdout",
     "output_type": "stream",
     "text": [
      "Shape of original DataFrame: (21597, 21)\n",
      "Shape of cleaned DataFrame: (17702, 21)\n"
     ]
    }
   ],
   "source": [
    "# Step 1: Define numeric features\n",
    "numeric_features = ['price', 'bedrooms', 'bathrooms', 'sqft_living', 'sqft_lot']\n",
    "\n",
    "# Step 2: Detect outliers\n",
    "outliers = detect_outliers(df, numeric_features)\n",
    "\n",
    "# Step 3: Drop outliers\n",
    "df_cleaned = drop_outliers(df, outliers)\n",
    "\n",
    "# Optional: Check the shape of the cleaned DataFrame\n",
    "print(\"Shape of original DataFrame:\", df.shape)\n",
    "print(\"Shape of cleaned DataFrame:\", df_cleaned.shape)\n"
   ]
  },
  {
   "cell_type": "markdown",
   "metadata": {
    "id": "Bt9ALzTg82qU"
   },
   "source": [
    "This output shows that we managed to remove outliers from the dataframe because initially the dataframe has 21597 rows and after cleaning the data and removing the outliers, we were left with 17702. So a  significant portion of the data points were identified as outliers and were removed."
   ]
  },
  {
   "cell_type": "code",
   "execution_count": 11,
   "metadata": {
    "colab": {
     "base_uri": "https://localhost:8080/"
    },
    "id": "BhoYQkyk82qU",
    "outputId": "c3b47ec8-1161-46fe-e8b9-3f6d5077c475"
   },
   "outputs": [
    {
     "data": {
      "text/plain": [
       "id                   0\n",
       "date                 0\n",
       "price                0\n",
       "bedrooms             0\n",
       "bathrooms            0\n",
       "sqft_living          0\n",
       "sqft_lot             0\n",
       "floors               0\n",
       "waterfront           0\n",
       "view                53\n",
       "condition            0\n",
       "grade                0\n",
       "sqft_above           0\n",
       "sqft_basement        0\n",
       "yr_built             0\n",
       "zipcode              0\n",
       "lat                  0\n",
       "long                 0\n",
       "sqft_living15        0\n",
       "sqft_lot15           0\n",
       "house_renovation     0\n",
       "dtype: int64"
      ]
     },
     "execution_count": 11,
     "metadata": {},
     "output_type": "execute_result"
    }
   ],
   "source": [
    "df_cleaned.isna().sum()"
   ]
  },
  {
   "cell_type": "markdown",
   "metadata": {
    "id": "tli6HTMs82qU"
   },
   "source": [
    "The view column appears to have 53 null values. So I went ahead and dropped them using the .dropna() function."
   ]
  },
  {
   "cell_type": "code",
   "execution_count": 23,
   "metadata": {
    "colab": {
     "base_uri": "https://localhost:8080/",
     "height": 547
    },
    "id": "wyo5_RCL82qU",
    "outputId": "6faa9870-59df-4194-8d99-4252cacea921"
   },
   "outputs": [],
   "source": [
    "df_cleaned.dropna(inplace= True)"
   ]
  },
  {
   "cell_type": "markdown",
   "metadata": {
    "id": "IKN5OEdu82qU"
   },
   "source": [
    "From the cleaned dataframe I dropped  the null values."
   ]
  },
  {
   "cell_type": "code",
   "execution_count": 24,
   "metadata": {
    "colab": {
     "base_uri": "https://localhost:8080/"
    },
    "id": "KQ0Ka6BE82qU",
    "outputId": "66636bbf-8aa3-4b31-9a85-feb91aa7450f"
   },
   "outputs": [
    {
     "name": "stdout",
     "output_type": "stream",
     "text": [
      "<class 'pandas.core.frame.DataFrame'>\n",
      "Index: 17649 entries, 0 to 21596\n",
      "Data columns (total 21 columns):\n",
      " #   Column            Non-Null Count  Dtype  \n",
      "---  ------            --------------  -----  \n",
      " 0   id                17649 non-null  int64  \n",
      " 1   date              17649 non-null  object \n",
      " 2   price             17649 non-null  float64\n",
      " 3   bedrooms          17649 non-null  int64  \n",
      " 4   bathrooms         17649 non-null  float64\n",
      " 5   sqft_living       17649 non-null  int64  \n",
      " 6   sqft_lot          17649 non-null  int64  \n",
      " 7   floors            17649 non-null  float64\n",
      " 8   waterfront        17649 non-null  object \n",
      " 9   view              17649 non-null  object \n",
      " 10  condition         17649 non-null  object \n",
      " 11  grade             17649 non-null  object \n",
      " 12  sqft_above        17649 non-null  int64  \n",
      " 13  sqft_basement     17649 non-null  object \n",
      " 14  yr_built          17649 non-null  int64  \n",
      " 15  zipcode           17649 non-null  int64  \n",
      " 16  lat               17649 non-null  float64\n",
      " 17  long              17649 non-null  float64\n",
      " 18  sqft_living15     17649 non-null  int64  \n",
      " 19  sqft_lot15        17649 non-null  int64  \n",
      " 20  house_renovation  17649 non-null  object \n",
      "dtypes: float64(5), int64(9), object(7)\n",
      "memory usage: 3.0+ MB\n"
     ]
    }
   ],
   "source": [
    "df_cleaned.info()"
   ]
  },
  {
   "cell_type": "markdown",
   "metadata": {
    "id": "_ihddf0d82qU"
   },
   "source": [
    "From the information above obtained from the kc.house data_csv  after cleaning my data,I was able to observe the following:\n",
    "\n",
    "The total number of entries was 17702.\n",
    "\n",
    "There was both Numerical and categorical data:\n",
    "\n",
    "a)Numerical data:  id , yr_built , yr_renovated , price , bedrooms , bathrooms , sqft_living , sqft_above , sqft_lot , floors , zipcode , lat , long , sqft_living15 , sqft_lot15\n",
    "\n",
    "b)categorical data: date , waterfront , view , condition , grade , sqft_basement"
   ]
  },
  {
   "cell_type": "markdown",
   "metadata": {},
   "source": [
    "**Dropping columns that will not be used during this study.**"
   ]
  },
  {
   "cell_type": "markdown",
   "metadata": {},
   "source": [
    "The following columns will be dropped: ['date', 'sqft_basement', 'zipcode', 'lat', 'long', 'sqft_living15', 'sqft_lot15']"
   ]
  },
  {
   "cell_type": "code",
   "execution_count": 25,
   "metadata": {},
   "outputs": [
    {
     "data": {
      "text/html": [
       "<div>\n",
       "<style scoped>\n",
       "    .dataframe tbody tr th:only-of-type {\n",
       "        vertical-align: middle;\n",
       "    }\n",
       "\n",
       "    .dataframe tbody tr th {\n",
       "        vertical-align: top;\n",
       "    }\n",
       "\n",
       "    .dataframe thead th {\n",
       "        text-align: right;\n",
       "    }\n",
       "</style>\n",
       "<table border=\"1\" class=\"dataframe\">\n",
       "  <thead>\n",
       "    <tr style=\"text-align: right;\">\n",
       "      <th></th>\n",
       "      <th>id</th>\n",
       "      <th>price</th>\n",
       "      <th>bedrooms</th>\n",
       "      <th>bathrooms</th>\n",
       "      <th>sqft_living</th>\n",
       "      <th>sqft_lot</th>\n",
       "      <th>floors</th>\n",
       "      <th>waterfront</th>\n",
       "      <th>view</th>\n",
       "      <th>condition</th>\n",
       "      <th>grade</th>\n",
       "      <th>sqft_above</th>\n",
       "      <th>yr_built</th>\n",
       "      <th>house_renovation</th>\n",
       "    </tr>\n",
       "  </thead>\n",
       "  <tbody>\n",
       "    <tr>\n",
       "      <th>0</th>\n",
       "      <td>7129300520</td>\n",
       "      <td>221900.0</td>\n",
       "      <td>3</td>\n",
       "      <td>1.00</td>\n",
       "      <td>1180</td>\n",
       "      <td>5650</td>\n",
       "      <td>1.0</td>\n",
       "      <td>NONE</td>\n",
       "      <td>NONE</td>\n",
       "      <td>Average</td>\n",
       "      <td>7 Average</td>\n",
       "      <td>1180</td>\n",
       "      <td>1955</td>\n",
       "      <td>No</td>\n",
       "    </tr>\n",
       "    <tr>\n",
       "      <th>1</th>\n",
       "      <td>6414100192</td>\n",
       "      <td>538000.0</td>\n",
       "      <td>3</td>\n",
       "      <td>2.25</td>\n",
       "      <td>2570</td>\n",
       "      <td>7242</td>\n",
       "      <td>2.0</td>\n",
       "      <td>NO</td>\n",
       "      <td>NONE</td>\n",
       "      <td>Average</td>\n",
       "      <td>7 Average</td>\n",
       "      <td>2170</td>\n",
       "      <td>1951</td>\n",
       "      <td>Yes</td>\n",
       "    </tr>\n",
       "    <tr>\n",
       "      <th>2</th>\n",
       "      <td>5631500400</td>\n",
       "      <td>180000.0</td>\n",
       "      <td>2</td>\n",
       "      <td>1.00</td>\n",
       "      <td>770</td>\n",
       "      <td>10000</td>\n",
       "      <td>1.0</td>\n",
       "      <td>NO</td>\n",
       "      <td>NONE</td>\n",
       "      <td>Average</td>\n",
       "      <td>6 Low Average</td>\n",
       "      <td>770</td>\n",
       "      <td>1933</td>\n",
       "      <td>No</td>\n",
       "    </tr>\n",
       "    <tr>\n",
       "      <th>3</th>\n",
       "      <td>2487200875</td>\n",
       "      <td>604000.0</td>\n",
       "      <td>4</td>\n",
       "      <td>3.00</td>\n",
       "      <td>1960</td>\n",
       "      <td>5000</td>\n",
       "      <td>1.0</td>\n",
       "      <td>NO</td>\n",
       "      <td>NONE</td>\n",
       "      <td>Very Good</td>\n",
       "      <td>7 Average</td>\n",
       "      <td>1050</td>\n",
       "      <td>1965</td>\n",
       "      <td>No</td>\n",
       "    </tr>\n",
       "    <tr>\n",
       "      <th>4</th>\n",
       "      <td>1954400510</td>\n",
       "      <td>510000.0</td>\n",
       "      <td>3</td>\n",
       "      <td>2.00</td>\n",
       "      <td>1680</td>\n",
       "      <td>8080</td>\n",
       "      <td>1.0</td>\n",
       "      <td>NO</td>\n",
       "      <td>NONE</td>\n",
       "      <td>Average</td>\n",
       "      <td>8 Good</td>\n",
       "      <td>1680</td>\n",
       "      <td>1987</td>\n",
       "      <td>No</td>\n",
       "    </tr>\n",
       "    <tr>\n",
       "      <th>...</th>\n",
       "      <td>...</td>\n",
       "      <td>...</td>\n",
       "      <td>...</td>\n",
       "      <td>...</td>\n",
       "      <td>...</td>\n",
       "      <td>...</td>\n",
       "      <td>...</td>\n",
       "      <td>...</td>\n",
       "      <td>...</td>\n",
       "      <td>...</td>\n",
       "      <td>...</td>\n",
       "      <td>...</td>\n",
       "      <td>...</td>\n",
       "      <td>...</td>\n",
       "    </tr>\n",
       "    <tr>\n",
       "      <th>21592</th>\n",
       "      <td>263000018</td>\n",
       "      <td>360000.0</td>\n",
       "      <td>3</td>\n",
       "      <td>2.50</td>\n",
       "      <td>1530</td>\n",
       "      <td>1131</td>\n",
       "      <td>3.0</td>\n",
       "      <td>NO</td>\n",
       "      <td>NONE</td>\n",
       "      <td>Average</td>\n",
       "      <td>8 Good</td>\n",
       "      <td>1530</td>\n",
       "      <td>2009</td>\n",
       "      <td>No</td>\n",
       "    </tr>\n",
       "    <tr>\n",
       "      <th>21593</th>\n",
       "      <td>6600060120</td>\n",
       "      <td>400000.0</td>\n",
       "      <td>4</td>\n",
       "      <td>2.50</td>\n",
       "      <td>2310</td>\n",
       "      <td>5813</td>\n",
       "      <td>2.0</td>\n",
       "      <td>NO</td>\n",
       "      <td>NONE</td>\n",
       "      <td>Average</td>\n",
       "      <td>8 Good</td>\n",
       "      <td>2310</td>\n",
       "      <td>2014</td>\n",
       "      <td>No</td>\n",
       "    </tr>\n",
       "    <tr>\n",
       "      <th>21594</th>\n",
       "      <td>1523300141</td>\n",
       "      <td>402101.0</td>\n",
       "      <td>2</td>\n",
       "      <td>0.75</td>\n",
       "      <td>1020</td>\n",
       "      <td>1350</td>\n",
       "      <td>2.0</td>\n",
       "      <td>NO</td>\n",
       "      <td>NONE</td>\n",
       "      <td>Average</td>\n",
       "      <td>7 Average</td>\n",
       "      <td>1020</td>\n",
       "      <td>2009</td>\n",
       "      <td>No</td>\n",
       "    </tr>\n",
       "    <tr>\n",
       "      <th>21595</th>\n",
       "      <td>291310100</td>\n",
       "      <td>400000.0</td>\n",
       "      <td>3</td>\n",
       "      <td>2.50</td>\n",
       "      <td>1600</td>\n",
       "      <td>2388</td>\n",
       "      <td>2.0</td>\n",
       "      <td>NONE</td>\n",
       "      <td>NONE</td>\n",
       "      <td>Average</td>\n",
       "      <td>8 Good</td>\n",
       "      <td>1600</td>\n",
       "      <td>2004</td>\n",
       "      <td>No</td>\n",
       "    </tr>\n",
       "    <tr>\n",
       "      <th>21596</th>\n",
       "      <td>1523300157</td>\n",
       "      <td>325000.0</td>\n",
       "      <td>2</td>\n",
       "      <td>0.75</td>\n",
       "      <td>1020</td>\n",
       "      <td>1076</td>\n",
       "      <td>2.0</td>\n",
       "      <td>NO</td>\n",
       "      <td>NONE</td>\n",
       "      <td>Average</td>\n",
       "      <td>7 Average</td>\n",
       "      <td>1020</td>\n",
       "      <td>2008</td>\n",
       "      <td>No</td>\n",
       "    </tr>\n",
       "  </tbody>\n",
       "</table>\n",
       "<p>17649 rows × 14 columns</p>\n",
       "</div>"
      ],
      "text/plain": [
       "               id     price  bedrooms  bathrooms  sqft_living  sqft_lot  \\\n",
       "0      7129300520  221900.0         3       1.00         1180      5650   \n",
       "1      6414100192  538000.0         3       2.25         2570      7242   \n",
       "2      5631500400  180000.0         2       1.00          770     10000   \n",
       "3      2487200875  604000.0         4       3.00         1960      5000   \n",
       "4      1954400510  510000.0         3       2.00         1680      8080   \n",
       "...           ...       ...       ...        ...          ...       ...   \n",
       "21592   263000018  360000.0         3       2.50         1530      1131   \n",
       "21593  6600060120  400000.0         4       2.50         2310      5813   \n",
       "21594  1523300141  402101.0         2       0.75         1020      1350   \n",
       "21595   291310100  400000.0         3       2.50         1600      2388   \n",
       "21596  1523300157  325000.0         2       0.75         1020      1076   \n",
       "\n",
       "       floors waterfront  view  condition          grade  sqft_above  \\\n",
       "0         1.0       NONE  NONE    Average      7 Average        1180   \n",
       "1         2.0         NO  NONE    Average      7 Average        2170   \n",
       "2         1.0         NO  NONE    Average  6 Low Average         770   \n",
       "3         1.0         NO  NONE  Very Good      7 Average        1050   \n",
       "4         1.0         NO  NONE    Average         8 Good        1680   \n",
       "...       ...        ...   ...        ...            ...         ...   \n",
       "21592     3.0         NO  NONE    Average         8 Good        1530   \n",
       "21593     2.0         NO  NONE    Average         8 Good        2310   \n",
       "21594     2.0         NO  NONE    Average      7 Average        1020   \n",
       "21595     2.0       NONE  NONE    Average         8 Good        1600   \n",
       "21596     2.0         NO  NONE    Average      7 Average        1020   \n",
       "\n",
       "       yr_built house_renovation  \n",
       "0          1955               No  \n",
       "1          1951              Yes  \n",
       "2          1933               No  \n",
       "3          1965               No  \n",
       "4          1987               No  \n",
       "...         ...              ...  \n",
       "21592      2009               No  \n",
       "21593      2014               No  \n",
       "21594      2009               No  \n",
       "21595      2004               No  \n",
       "21596      2008               No  \n",
       "\n",
       "[17649 rows x 14 columns]"
      ]
     },
     "execution_count": 25,
     "metadata": {},
     "output_type": "execute_result"
    }
   ],
   "source": [
    "columns_to_drop = ['date', 'sqft_basement', 'zipcode', 'lat', 'long', 'sqft_living15', 'sqft_lot15']\n",
    "df_cleaned = df_cleaned.drop(columns=columns_to_drop)\n",
    "df_cleaned"
   ]
  },
  {
   "cell_type": "markdown",
   "metadata": {
    "id": "pGrutk8W82qV"
   },
   "source": []
  },
  {
   "cell_type": "markdown",
   "metadata": {
    "id": "wjSs7wFIltLb"
   },
   "source": [
    "## **DATA ANALYSIS**\n",
    "\n",
    "This section deals with the objectives of the project, and it involves thorough analysis of the data present and visualization to establish relationships and behaviors between elements in the table"
   ]
  },
  {
   "cell_type": "markdown",
   "metadata": {
    "id": "VAMLjMrGm9Iz"
   },
   "source": [
    "Objective 1: To evaluate how the number of floors impacts the price of a house in King County  \n",
    "\n",
    "Following the first objective , we aim to find out of the number of floors impact the price of the houses in King county. We first check the contents of the \"floors\" column and using a sample size of 50, we can view the contents contained.\n",
    "We then check the contents of the \"price column using the same sample size for easier viewing. During visualization, all data points will be used"
   ]
  },
  {
   "cell_type": "code",
   "execution_count": 26,
   "metadata": {
    "colab": {
     "base_uri": "https://localhost:8080/"
    },
    "id": "RhQ-Wbcdlqdy",
    "outputId": "d0bf9642-ae8e-4291-f58b-cb91ae044423"
   },
   "outputs": [
    {
     "data": {
      "text/plain": [
       "15420    1.0\n",
       "12694    1.5\n",
       "12637    1.0\n",
       "9199     1.0\n",
       "7301     2.0\n",
       "8810     2.0\n",
       "10020    1.0\n",
       "19500    1.0\n",
       "19974    2.0\n",
       "13763    2.0\n",
       "19229    2.0\n",
       "6937     1.0\n",
       "21258    3.0\n",
       "12730    1.5\n",
       "8943     1.0\n",
       "13631    1.0\n",
       "1993     1.0\n",
       "20341    2.0\n",
       "6411     2.0\n",
       "1575     1.0\n",
       "13895    1.0\n",
       "266      1.0\n",
       "10065    1.0\n",
       "10928    1.0\n",
       "8060     1.5\n",
       "4366     2.0\n",
       "16241    1.0\n",
       "5190     1.0\n",
       "9950     2.0\n",
       "1656     2.0\n",
       "18196    2.0\n",
       "7112     1.0\n",
       "2924     2.0\n",
       "3726     2.0\n",
       "8298     2.0\n",
       "1346     1.0\n",
       "20867    3.0\n",
       "18258    1.0\n",
       "13920    1.0\n",
       "678      1.0\n",
       "1158     2.0\n",
       "14724    1.0\n",
       "2001     1.5\n",
       "7895     2.0\n",
       "5614     1.0\n",
       "617      2.0\n",
       "5652     1.0\n",
       "4903     2.0\n",
       "18805    2.0\n",
       "14701    1.5\n",
       "Name: floors, dtype: float64"
      ]
     },
     "execution_count": 26,
     "metadata": {},
     "output_type": "execute_result"
    }
   ],
   "source": [
    "df_cleaned['floors'].sample(50)"
   ]
  },
  {
   "cell_type": "markdown",
   "metadata": {
    "id": "AUfOgdabmekL"
   },
   "source": []
  },
  {
   "cell_type": "code",
   "execution_count": 15,
   "metadata": {
    "colab": {
     "base_uri": "https://localhost:8080/"
    },
    "id": "eCdDwLxCmKpK",
    "outputId": "4ddd477b-1e1d-47ae-9ba9-515e818d5d69"
   },
   "outputs": [
    {
     "data": {
      "text/plain": [
       "5841     565000.0\n",
       "12987    295000.0\n",
       "3208     393820.0\n",
       "3830     349950.0\n",
       "18390    675000.0\n",
       "13692    490000.0\n",
       "12201    902000.0\n",
       "2127     330000.0\n",
       "7352     384000.0\n",
       "572      442000.0\n",
       "7198     630000.0\n",
       "20726    562500.0\n",
       "20430    405000.0\n",
       "17532    337000.0\n",
       "3860     790000.0\n",
       "15593    190000.0\n",
       "19861    427874.0\n",
       "10107    319000.0\n",
       "15793    392000.0\n",
       "19284    174900.0\n",
       "20901    575000.0\n",
       "19018    720000.0\n",
       "14169    205000.0\n",
       "26       937000.0\n",
       "21510    290000.0\n",
       "20622    261000.0\n",
       "21324    417000.0\n",
       "3465     330000.0\n",
       "10717    425000.0\n",
       "13546    217500.0\n",
       "16883    972000.0\n",
       "11961    760000.0\n",
       "388      403950.0\n",
       "9987     640000.0\n",
       "5035     711800.0\n",
       "10859    575000.0\n",
       "8103     625000.0\n",
       "16007    396500.0\n",
       "5597     269000.0\n",
       "20085    550000.0\n",
       "12791    400000.0\n",
       "18074    455000.0\n",
       "5300     430000.0\n",
       "18089    677000.0\n",
       "19423    375000.0\n",
       "3479     209950.0\n",
       "4072     350000.0\n",
       "18569    285000.0\n",
       "244      480000.0\n",
       "21005    420000.0\n",
       "Name: price, dtype: float64"
      ]
     },
     "execution_count": 15,
     "metadata": {},
     "output_type": "execute_result"
    }
   ],
   "source": [
    "df_cleaned['price'].sample(50)"
   ]
  },
  {
   "cell_type": "markdown",
   "metadata": {
    "id": "bhCHKnUCnYgA"
   },
   "source": [
    "Next, we sort the data in ascending order in order to gain an easier progression of the floor and for easier readability. After that, we can plot a scatter plot to visually see the relationship between floors and pricing in houses in King County"
   ]
  },
  {
   "cell_type": "code",
   "execution_count": 16,
   "metadata": {
    "colab": {
     "base_uri": "https://localhost:8080/"
    },
    "id": "mxDP4ImlnTN4",
    "outputId": "28707cc6-6ed6-4c67-f5c4-a6ff6562d369"
   },
   "outputs": [
    {
     "data": {
      "text/plain": [
       "0        1.0\n",
       "7812     1.0\n",
       "7814     1.0\n",
       "12858    1.0\n",
       "7816     1.0\n",
       "        ... \n",
       "15410    3.5\n",
       "10066    3.5\n",
       "14871    3.5\n",
       "11582    3.5\n",
       "20292    3.5\n",
       "Name: floors, Length: 17702, dtype: float64"
      ]
     },
     "execution_count": 16,
     "metadata": {},
     "output_type": "execute_result"
    }
   ],
   "source": [
    "sorted_df_floors = df_cleaned.sort_values(by=['floors'])\n",
    "sorted_df_price = df_cleaned.sort_values(by=['price'])\n",
    "sorted_df_floors['floors']"
   ]
  },
  {
   "cell_type": "code",
   "execution_count": 17,
   "metadata": {
    "colab": {
     "base_uri": "https://localhost:8080/",
     "height": 561
    },
    "id": "t6IROY0cnnr7",
    "outputId": "a8cad2ac-315e-4522-daad-57436c478248"
   },
   "outputs": [
    {
     "name": "stderr",
     "output_type": "stream",
     "text": [
      "C:\\Users\\User\\AppData\\Local\\Temp\\ipykernel_18084\\3382943146.py:6: MatplotlibDeprecationWarning: The get_cmap function was deprecated in Matplotlib 3.7 and will be removed two minor releases later. Use ``matplotlib.colormaps[name]`` or ``matplotlib.colormaps.get_cmap(obj)`` instead.\n",
      "  cmap = plt.cm.get_cmap('cividis')  # Or any other colormap you prefer\n"
     ]
    },
    {
     "ename": "ValueError",
     "evalue": "Unable to determine Axes to steal space for Colorbar. Either provide the *cax* argument to use as the Axes for the Colorbar, provide the *ax* argument to steal space from it, or add *mappable* to an Axes.",
     "output_type": "error",
     "traceback": [
      "\u001b[1;31m---------------------------------------------------------------------------\u001b[0m",
      "\u001b[1;31mValueError\u001b[0m                                Traceback (most recent call last)",
      "Cell \u001b[1;32mIn[17], line 13\u001b[0m\n\u001b[0;32m     11\u001b[0m \u001b[38;5;66;03m# Color points based on price ranges\u001b[39;00m\n\u001b[0;32m     12\u001b[0m plt\u001b[38;5;241m.\u001b[39mscatter(sorted_df_floors[\u001b[38;5;124m'\u001b[39m\u001b[38;5;124mfloors\u001b[39m\u001b[38;5;124m'\u001b[39m], sorted_df_price[\u001b[38;5;124m'\u001b[39m\u001b[38;5;124mprice\u001b[39m\u001b[38;5;124m'\u001b[39m], c\u001b[38;5;241m=\u001b[39mnorm(sorted_df_price[\u001b[38;5;124m'\u001b[39m\u001b[38;5;124mprice\u001b[39m\u001b[38;5;124m'\u001b[39m]))\n\u001b[1;32m---> 13\u001b[0m plt\u001b[38;5;241m.\u001b[39mcolorbar(sm, label\u001b[38;5;241m=\u001b[39m\u001b[38;5;124m'\u001b[39m\u001b[38;5;124mPrice Range\u001b[39m\u001b[38;5;124m'\u001b[39m)  \u001b[38;5;66;03m# Add a colorbar legend\u001b[39;00m\n\u001b[0;32m     15\u001b[0m plt\u001b[38;5;241m.\u001b[39mxlabel(\u001b[38;5;124m'\u001b[39m\u001b[38;5;124mFloors\u001b[39m\u001b[38;5;124m'\u001b[39m)\n\u001b[0;32m     16\u001b[0m plt\u001b[38;5;241m.\u001b[39mylabel(\u001b[38;5;124m'\u001b[39m\u001b[38;5;124mPrice\u001b[39m\u001b[38;5;124m'\u001b[39m)\n",
      "File \u001b[1;32mc:\\Users\\User\\anaconda3\\Lib\\site-packages\\matplotlib\\pyplot.py:2326\u001b[0m, in \u001b[0;36mcolorbar\u001b[1;34m(mappable, cax, ax, **kwargs)\u001b[0m\n\u001b[0;32m   2321\u001b[0m     \u001b[38;5;28;01mif\u001b[39;00m mappable \u001b[38;5;129;01mis\u001b[39;00m \u001b[38;5;28;01mNone\u001b[39;00m:\n\u001b[0;32m   2322\u001b[0m         \u001b[38;5;28;01mraise\u001b[39;00m \u001b[38;5;167;01mRuntimeError\u001b[39;00m(\u001b[38;5;124m'\u001b[39m\u001b[38;5;124mNo mappable was found to use for colorbar \u001b[39m\u001b[38;5;124m'\u001b[39m\n\u001b[0;32m   2323\u001b[0m                            \u001b[38;5;124m'\u001b[39m\u001b[38;5;124mcreation. First define a mappable such as \u001b[39m\u001b[38;5;124m'\u001b[39m\n\u001b[0;32m   2324\u001b[0m                            \u001b[38;5;124m'\u001b[39m\u001b[38;5;124man image (with imshow) or a contour set (\u001b[39m\u001b[38;5;124m'\u001b[39m\n\u001b[0;32m   2325\u001b[0m                            \u001b[38;5;124m'\u001b[39m\u001b[38;5;124mwith contourf).\u001b[39m\u001b[38;5;124m'\u001b[39m)\n\u001b[1;32m-> 2326\u001b[0m ret \u001b[38;5;241m=\u001b[39m gcf()\u001b[38;5;241m.\u001b[39mcolorbar(mappable, cax\u001b[38;5;241m=\u001b[39mcax, ax\u001b[38;5;241m=\u001b[39max, \u001b[38;5;241m*\u001b[39m\u001b[38;5;241m*\u001b[39mkwargs)\n\u001b[0;32m   2327\u001b[0m \u001b[38;5;28;01mreturn\u001b[39;00m ret\n",
      "File \u001b[1;32mc:\\Users\\User\\anaconda3\\Lib\\site-packages\\matplotlib\\figure.py:1285\u001b[0m, in \u001b[0;36mFigureBase.colorbar\u001b[1;34m(self, mappable, cax, ax, use_gridspec, **kwargs)\u001b[0m\n\u001b[0;32m   1283\u001b[0m \u001b[38;5;28;01mif\u001b[39;00m cax \u001b[38;5;129;01mis\u001b[39;00m \u001b[38;5;28;01mNone\u001b[39;00m:\n\u001b[0;32m   1284\u001b[0m     \u001b[38;5;28;01mif\u001b[39;00m ax \u001b[38;5;129;01mis\u001b[39;00m \u001b[38;5;28;01mNone\u001b[39;00m:\n\u001b[1;32m-> 1285\u001b[0m         \u001b[38;5;28;01mraise\u001b[39;00m \u001b[38;5;167;01mValueError\u001b[39;00m(\n\u001b[0;32m   1286\u001b[0m             \u001b[38;5;124m'\u001b[39m\u001b[38;5;124mUnable to determine Axes to steal space for Colorbar. \u001b[39m\u001b[38;5;124m'\u001b[39m\n\u001b[0;32m   1287\u001b[0m             \u001b[38;5;124m'\u001b[39m\u001b[38;5;124mEither provide the *cax* argument to use as the Axes for \u001b[39m\u001b[38;5;124m'\u001b[39m\n\u001b[0;32m   1288\u001b[0m             \u001b[38;5;124m'\u001b[39m\u001b[38;5;124mthe Colorbar, provide the *ax* argument to steal space \u001b[39m\u001b[38;5;124m'\u001b[39m\n\u001b[0;32m   1289\u001b[0m             \u001b[38;5;124m'\u001b[39m\u001b[38;5;124mfrom it, or add *mappable* to an Axes.\u001b[39m\u001b[38;5;124m'\u001b[39m)\n\u001b[0;32m   1290\u001b[0m     fig \u001b[38;5;241m=\u001b[39m (  \u001b[38;5;66;03m# Figure of first axes; logic copied from make_axes.\u001b[39;00m\n\u001b[0;32m   1291\u001b[0m         [\u001b[38;5;241m*\u001b[39max\u001b[38;5;241m.\u001b[39mflat] \u001b[38;5;28;01mif\u001b[39;00m \u001b[38;5;28misinstance\u001b[39m(ax, np\u001b[38;5;241m.\u001b[39mndarray)\n\u001b[0;32m   1292\u001b[0m         \u001b[38;5;28;01melse\u001b[39;00m [\u001b[38;5;241m*\u001b[39max] \u001b[38;5;28;01mif\u001b[39;00m np\u001b[38;5;241m.\u001b[39miterable(ax)\n\u001b[0;32m   1293\u001b[0m         \u001b[38;5;28;01melse\u001b[39;00m [ax])[\u001b[38;5;241m0\u001b[39m]\u001b[38;5;241m.\u001b[39mfigure\n\u001b[0;32m   1294\u001b[0m     current_ax \u001b[38;5;241m=\u001b[39m fig\u001b[38;5;241m.\u001b[39mgca()\n",
      "\u001b[1;31mValueError\u001b[0m: Unable to determine Axes to steal space for Colorbar. Either provide the *cax* argument to use as the Axes for the Colorbar, provide the *ax* argument to steal space from it, or add *mappable* to an Axes."
     ]
    },
    {
     "data": {
      "image/png": "[encoded data removed]",
      "text/plain": [
       "<Figure size 640x480 with 1 Axes>"
      ]
     },
     "metadata": {},
     "output_type": "display_data"
    }
   ],
   "source": [
    "#Scatter plot\n",
    "color_ranges = [0, 1, 2, 3, 4]  # Define price ranges for coloring\n",
    "colors = ['red', 'yellow','orange', 'green']  # Define colors for each range\n",
    "\n",
    "#A colormap based on price ranges and colors\n",
    "cmap = plt.cm.get_cmap('cividis')  # Or any other colormap you prefer\n",
    "norm = plt.Normalize(vmin=min(color_ranges), vmax=max(color_ranges))\n",
    "sm = plt.cm.ScalarMappable(cmap=cmap, norm=norm)\n",
    "sm.set_array([])\n",
    "\n",
    "# Color points based on price ranges\n",
    "plt.scatter(sorted_df_floors['floors'], sorted_df_price['price'], c=norm(sorted_df_price['price']))\n",
    "plt.colorbar(sm, label='Price Range')  # Add a colorbar legend\n",
    "\n",
    "plt.xlabel('Floors')\n",
    "plt.ylabel('Price')\n",
    "plt.title('Relationship between Floors and Price')\n",
    "plt.show()"
   ]
  },
  {
   "cell_type": "markdown",
   "metadata": {
    "id": "3najFwicodV0"
   },
   "source": [
    "As visually represented, most houses have wither 1.0 floors or 2.0 floors, with a decent amount of houses with 3 floors, while a miniscule number have 1.5, 2.5 or 3.5 floors. The bugger the number of floors, the higher the price, with majority of people opting for the houses with 2.0 floors"
   ]
  },
  {
   "cell_type": "markdown",
   "metadata": {
    "id": "Ssp-4D6_pqNO"
   },
   "source": [
    "**Objective 2**: To determine how the number of bedrooms impacts the price of a house in King County  \n",
    "\n",
    "Here, we aim to fin out if the number of bedrooms impact the pricing of houses in King County. We first check the contents, arrange them in a workable state (either ascending or descending) and then plot the outcome for easier visualization"
   ]
  },
  {
   "cell_type": "code",
   "execution_count": null,
   "metadata": {
    "colab": {
     "base_uri": "https://localhost:8080/"
    },
    "id": "DSE6tBYEoVQJ",
    "outputId": "2d5d72d3-9221-4e67-904a-6ad2c8ff49b9"
   },
   "outputs": [
    {
     "data": {
      "text/plain": [
       "0        3\n",
       "1        3\n",
       "2        2\n",
       "3        4\n",
       "4        3\n",
       "        ..\n",
       "21592    3\n",
       "21593    4\n",
       "21594    2\n",
       "21595    3\n",
       "21596    2\n",
       "Name: bedrooms, Length: 17702, dtype: int64"
      ]
     },
     "execution_count": 19,
     "metadata": {},
     "output_type": "execute_result"
    }
   ],
   "source": [
    "#checking the contents in the \"bedrooms\" column\n",
    "df_cleaned['bedrooms']"
   ]
  },
  {
   "cell_type": "code",
   "execution_count": null,
   "metadata": {
    "colab": {
     "base_uri": "https://localhost:8080/"
    },
    "id": "GrRN3-gyqd7Z",
    "outputId": "b8858e27-df74-4e6d-8f8e-f892ef6810bb"
   },
   "outputs": [
    {
     "data": {
      "text/plain": [
       "21596    2\n",
       "7098     2\n",
       "17304    2\n",
       "3155     2\n",
       "7096     2\n",
       "        ..\n",
       "20198    5\n",
       "20195    5\n",
       "5610     5\n",
       "20216    5\n",
       "17098    5\n",
       "Name: bedrooms, Length: 17702, dtype: int64"
      ]
     },
     "execution_count": 20,
     "metadata": {},
     "output_type": "execute_result"
    }
   ],
   "source": [
    "#sorting them in ascending order\n",
    "sorted_df_bedrooms = df_cleaned.sort_values(by=['bedrooms'])\n",
    "sorted_df_bedrooms['bedrooms']"
   ]
  },
  {
   "cell_type": "code",
   "execution_count": null,
   "metadata": {
    "colab": {
     "base_uri": "https://localhost:8080/",
     "height": 527
    },
    "id": "dr6miSckqp6x",
    "outputId": "6f7fb1c3-25de-45c0-ea49-e758ed18f434"
   },
   "outputs": [
    {
     "name": "stderr",
     "output_type": "stream",
     "text": [
      "/var/folders/3m/4g04tcz54ksf5x3kd80kz7440000gn/T/ipykernel_39444/1285017265.py:6: MatplotlibDeprecationWarning: The get_cmap function was deprecated in Matplotlib 3.7 and will be removed two minor releases later. Use ``matplotlib.colormaps[name]`` or ``matplotlib.colormaps.get_cmap(obj)`` instead.\n",
      "  cmap = plt.cm.get_cmap('coolwarm')  # Or any other colormap you prefer\n"
     ]
    },
    {
     "data": {
      "image/png": "[encoded data removed]",
      "text/plain": [
       "<Figure size 640x480 with 1 Axes>"
      ]
     },
     "metadata": {},
     "output_type": "display_data"
    }
   ],
   "source": [
    "#Plotting\n",
    "color_ranges = [0, 1, 2, 3, 4]  # Define price ranges for coloring\n",
    "colors = ['red', 'yellow','orange', 'green']  # Define colors for each range\n",
    "\n",
    "# Create a colormap based on price ranges and colors\n",
    "cmap = plt.cm.get_cmap('coolwarm')  # Or any other colormap you prefer\n",
    "norm = plt.Normalize(vmin=min(color_ranges), vmax=max(color_ranges))\n",
    "sm = plt.cm.ScalarMappable(cmap=cmap, norm=norm)\n",
    "sm.set_array([])\n",
    "\n",
    "# Color points based on price ranges\n",
    "plt.scatter(sorted_df_bedrooms['bedrooms'], sorted_df_price['price'], c=norm(sorted_df_price['price']))\n",
    "\n",
    "plt.xlabel('Number of Bedrooms')\n",
    "plt.ylabel('Price')\n",
    "plt.title('Price vs Bedrooms (Colored by Price Range)')\n",
    "plt.show()"
   ]
  },
  {
   "cell_type": "markdown",
   "metadata": {
    "id": "jR5oso89rV53"
   },
   "source": [
    "As seen, the higher the number of bedrooms, the higher the pricing, with majority of houses lying between 3 and 4 bedrooms  \n"
   ]
  },
  {
   "cell_type": "markdown",
   "metadata": {
    "id": "0Q88kUX6sBpc"
   },
   "source": [
    "**Objective 3**: To examine the impact the number of bathrooms has on the price of a house in King County  \n",
    "Just like with flooring and bedrooms, we first check the contents of the column, arrange them accordingly , and visualize them against pricing with the appropriate plotting"
   ]
  },
  {
   "cell_type": "code",
   "execution_count": null,
   "metadata": {
    "colab": {
     "base_uri": "https://localhost:8080/"
    },
    "id": "L_On0P5-q6hn",
    "outputId": "3bbb8b58-84e7-4c34-9386-46aa6c8212ff"
   },
   "outputs": [
    {
     "data": {
      "text/plain": [
       "0        1.00\n",
       "1        2.25\n",
       "2        1.00\n",
       "3        3.00\n",
       "4        2.00\n",
       "         ... \n",
       "21592    2.50\n",
       "21593    2.50\n",
       "21594    0.75\n",
       "21595    2.50\n",
       "21596    0.75\n",
       "Name: bathrooms, Length: 17702, dtype: float64"
      ]
     },
     "execution_count": 22,
     "metadata": {},
     "output_type": "execute_result"
    }
   ],
   "source": [
    "#Viewing contents\n",
    "df_cleaned['bathrooms']"
   ]
  },
  {
   "cell_type": "code",
   "execution_count": null,
   "metadata": {
    "colab": {
     "base_uri": "https://localhost:8080/"
    },
    "id": "iYI95-1xsq7o",
    "outputId": "ee320a9d-f3db-44a4-c878-c4dc3cf02ba3"
   },
   "outputs": [
    {
     "data": {
      "text/plain": [
       "21596    0.75\n",
       "8588     0.75\n",
       "12038    0.75\n",
       "3686     0.75\n",
       "12997    0.75\n",
       "         ... \n",
       "20663    3.50\n",
       "13191    3.50\n",
       "20666    3.50\n",
       "20650    3.50\n",
       "8045     3.50\n",
       "Name: bathrooms, Length: 17702, dtype: float64"
      ]
     },
     "execution_count": 23,
     "metadata": {},
     "output_type": "execute_result"
    }
   ],
   "source": [
    "#Sorting in Ascending order\n",
    "sorted_df_bathrooms = df_cleaned.sort_values(by=['bathrooms'])\n",
    "sorted_df_bathrooms['bathrooms']"
   ]
  },
  {
   "cell_type": "code",
   "execution_count": null,
   "metadata": {
    "colab": {
     "base_uri": "https://localhost:8080/",
     "height": 527
    },
    "id": "TW45rZvTtJ4H",
    "outputId": "90cc60a6-f2a5-44da-db2a-f3f3bf296dac"
   },
   "outputs": [
    {
     "name": "stderr",
     "output_type": "stream",
     "text": [
      "/var/folders/3m/4g04tcz54ksf5x3kd80kz7440000gn/T/ipykernel_39444/3470770857.py:6: MatplotlibDeprecationWarning: The get_cmap function was deprecated in Matplotlib 3.7 and will be removed two minor releases later. Use ``matplotlib.colormaps[name]`` or ``matplotlib.colormaps.get_cmap(obj)`` instead.\n",
      "  cmap = plt.cm.get_cmap('coolwarm')  # Or any other colormap you prefer\n"
     ]
    },
    {
     "data": {
      "image/png": "[encoded data removed]",
      "text/plain": [
       "<Figure size 640x480 with 1 Axes>"
      ]
     },
     "metadata": {},
     "output_type": "display_data"
    }
   ],
   "source": [
    "#Plotting\n",
    "color_ranges = [0, 1, 2, 3, 4]  # Define price ranges for coloring\n",
    "colors = ['red', 'yellow','orange', 'green']  # Define colors for each range\n",
    "\n",
    "# Create a colormap based on price ranges and colors\n",
    "cmap = plt.cm.get_cmap('coolwarm')  # Or any other colormap you prefer\n",
    "norm = plt.Normalize(vmin=min(color_ranges), vmax=max(color_ranges))\n",
    "sm = plt.cm.ScalarMappable(cmap=cmap, norm=norm)\n",
    "sm.set_array([])\n",
    "\n",
    "# Color points based on price ranges\n",
    "plt.scatter(sorted_df_bedrooms['bathrooms'], sorted_df_price['price'], c=norm(sorted_df_price['price']))\n",
    "#plt.colorbar(sm, label='Floor Range')  # Add a colorbar legend\n",
    "\n",
    "plt.xlabel('Number of Bathrooms')\n",
    "plt.ylabel('Price')\n",
    "plt.title('Price vs Bathrooms')\n",
    "plt.show()"
   ]
  },
  {
   "cell_type": "markdown",
   "metadata": {
    "id": "RdO97ZfKtqvS"
   },
   "source": [
    "As visually illustrated, there is minimal difference in the number of bathrooms and the pricing. In our data, even houses with as minimum as 0.75 bathrooms can still have a high pricing as other houses with more bathrooms. This illustrates that bathrooms have minimal impact on the pricing of the houses in King County"
   ]
  },
  {
   "cell_type": "markdown",
   "metadata": {
    "id": "Ko_UiLHNuWxH"
   },
   "source": [
    "**Objective 4**: To assess the impact of renovations on the price of a house in King County  \n",
    "Just like with the others, we begin by examining the content and visualizing them against Price. We don not need to sort the renovations as they are categorical data and therefore do not need sorting"
   ]
  },
  {
   "cell_type": "code",
   "execution_count": null,
   "metadata": {
    "colab": {
     "base_uri": "https://localhost:8080/"
    },
    "id": "EJxcrnm8tjgt",
    "outputId": "d3692de2-c784-47eb-c3fb-da4e14e3754c"
   },
   "outputs": [
    {
     "data": {
      "text/plain": [
       "0         No\n",
       "1        Yes\n",
       "2         No\n",
       "3         No\n",
       "4         No\n",
       "        ... \n",
       "21592     No\n",
       "21593     No\n",
       "21594     No\n",
       "21595     No\n",
       "21596     No\n",
       "Name: house_renovation, Length: 17702, dtype: object"
      ]
     },
     "execution_count": 25,
     "metadata": {},
     "output_type": "execute_result"
    }
   ],
   "source": [
    "df_cleaned['house_renovation']"
   ]
  },
  {
   "cell_type": "markdown",
   "metadata": {
    "id": "cMLIUTwsvVPF"
   },
   "source": [
    "For the plotting, we average the amount of \"Yes\" in renovations and plot them with the average amount of the \"Price\" column. The same Process is also done for the \"No\" Renovations. The results are then plotted in a bar chart."
   ]
  },
  {
   "cell_type": "code",
   "execution_count": null,
   "metadata": {
    "colab": {
     "base_uri": "https://localhost:8080/",
     "height": 472
    },
    "id": "Iazo67j7u7OG",
    "outputId": "f22f4298-e5e6-4adb-9618-167369652639"
   },
   "outputs": [
    {
     "data": {
      "image/png": "[encoded data removed]",
      "text/plain": [
       "<Figure size 640x480 with 1 Axes>"
      ]
     },
     "metadata": {},
     "output_type": "display_data"
    }
   ],
   "source": [
    "#Plotting\n",
    "# Calculate average price for each renovation status\n",
    "price_by_renovation = df.groupby('house_renovation')['price'].mean()\n",
    "\n",
    "# Extract data for the plot\n",
    "renovation_groups = price_by_renovation.index.tolist()\n",
    "average_prices = price_by_renovation.tolist()\n",
    "\n",
    "# Bar plot\n",
    "plt.bar(renovation_groups, average_prices)\n",
    "\n",
    "# Add labels and title\n",
    "plt.xlabel(\"Renovation Status\")\n",
    "plt.ylabel(\"Average Price\")\n",
    "plt.title(\"Average Price by Renovation Status\")\n",
    "\n",
    "# Show the plot\n",
    "plt.show()"
   ]
  },
  {
   "cell_type": "markdown",
   "metadata": {
    "id": "EaJaVVijvusB"
   },
   "source": [
    "As seen, The houses that are in the 'yes' category have a higher average price range as compared to the 'no' category. This shows that renovated houses in King County have higher pricing as compared to houses that are not renovated. Therefore, renovated houses are more costly than their conterparts"
   ]
  },
  {
   "cell_type": "markdown",
   "metadata": {},
   "source": [
    "**Objective 5**:To evaluate how the square footage of living space of a house impacts its price in King County"
   ]
  },
  {
   "cell_type": "markdown",
   "metadata": {},
   "source": [
    "We aim to find out if the square footage of living space impacts the pricing of houses in King County. We first check the contents, arrange them in a workable state (either ascending or descending) and then plot the outcome for easier visualization"
   ]
  },
  {
   "cell_type": "code",
   "execution_count": 18,
   "metadata": {},
   "outputs": [
    {
     "data": {
      "text/plain": [
       "0        1180\n",
       "1        2570\n",
       "2         770\n",
       "3        1960\n",
       "4        1680\n",
       "         ... \n",
       "21592    1530\n",
       "21593    2310\n",
       "21594    1020\n",
       "21595    1600\n",
       "21596    1020\n",
       "Name: sqft_living, Length: 17702, dtype: int64"
      ]
     },
     "execution_count": 18,
     "metadata": {},
     "output_type": "execute_result"
    }
   ],
   "source": [
    "#checking the contents in the \"bedrooms\" column\n",
    "df_cleaned['sqft_living']"
   ]
  },
  {
   "cell_type": "code",
   "execution_count": 19,
   "metadata": {},
   "outputs": [
    {
     "data": {
      "text/plain": [
       "1166      440\n",
       "9632      520\n",
       "12744     540\n",
       "18493     550\n",
       "8493      560\n",
       "         ... \n",
       "20658    4210\n",
       "1485     4210\n",
       "20069    4220\n",
       "20051    4220\n",
       "10396    4230\n",
       "Name: sqft_living, Length: 17702, dtype: int64"
      ]
     },
     "execution_count": 19,
     "metadata": {},
     "output_type": "execute_result"
    }
   ],
   "source": [
    "#sorting them in ascending order\n",
    "sorted_df_sqft_living = df_cleaned.sort_values(by=['sqft_living'])\n",
    "sorted_df_sqft_living['sqft_living']"
   ]
  },
  {
   "cell_type": "code",
   "execution_count": 21,
   "metadata": {},
   "outputs": [
    {
     "name": "stderr",
     "output_type": "stream",
     "text": [
      "C:\\Users\\User\\AppData\\Local\\Temp\\ipykernel_18084\\3006959212.py:6: MatplotlibDeprecationWarning: The get_cmap function was deprecated in Matplotlib 3.7 and will be removed two minor releases later. Use ``matplotlib.colormaps[name]`` or ``matplotlib.colormaps.get_cmap(obj)`` instead.\n",
      "  cmap = plt.cm.get_cmap('coolwarm')  # Or any other colormap you prefer\n"
     ]
    },
    {
     "data": {
      "image/png": "[encoded data removed]",
      "text/plain": [
       "<Figure size 640x480 with 1 Axes>"
      ]
     },
     "metadata": {},
     "output_type": "display_data"
    }
   ],
   "source": [
    "#Plotting\n",
    "color_ranges = [0, 1, 2, 3, 4]  # Define price ranges for coloring\n",
    "colors = ['red', 'yellow','orange', 'green']  # Define colors for each range\n",
    "\n",
    "# Create a colormap based on price ranges and colors\n",
    "cmap = plt.cm.get_cmap('coolwarm')  # Or any other colormap you prefer\n",
    "norm = plt.Normalize(vmin=min(color_ranges), vmax=max(color_ranges))\n",
    "sm = plt.cm.ScalarMappable(cmap=cmap, norm=norm)\n",
    "sm.set_array([])\n",
    "\n",
    "# Color points based on price ranges\n",
    "plt.scatter(sorted_df_sqft_living['sqft_living'], sorted_df_price['price'], c=norm(sorted_df_price['price']))\n",
    "\n",
    "plt.xlabel('Square footage of living space')\n",
    "plt.ylabel('Price')\n",
    "plt.title('Price vs sqft_living (Colored by Price Range)')\n",
    "plt.show()"
   ]
  },
  {
   "cell_type": "markdown",
   "metadata": {},
   "source": [
    "From the above plot, we can clearly see that as the square footage of living space increases, the price of the house also increases."
   ]
  },
  {
   "cell_type": "markdown",
   "metadata": {
    "id": "PZDAoohpwVjZ"
   },
   "source": [
    "**Objective 6**:To evaluate which combinations of the available features in the dataset are the most impactful features for predicting sale price.\n"
   ]
  },
  {
   "cell_type": "markdown",
   "metadata": {},
   "source": [
    "This will be evaluated using the corelation matrix  to visualize correlation between the variables in our dataset. "
   ]
  },
  {
   "cell_type": "code",
   "execution_count": 35,
   "metadata": {},
   "outputs": [
    {
     "data": {
      "image/png": "[encoded data removed]",
      "text/plain": [
       "<Figure size 1000x800 with 2 Axes>"
      ]
     },
     "metadata": {},
     "output_type": "display_data"
    }
   ],
   "source": [
    "#import relevant libraries\n",
    "import seaborn as sns\n",
    "import matplotlib.pyplot as plt\n",
    "\n",
    "# Select only numeric columns for correlation calculation\n",
    "numeric_columns = df_cleaned.select_dtypes(include=['int', 'float']).columns\n",
    "\n",
    "# Calculate correlation coefficients between 'price' and other numeric columns\n",
    "price_correlation = df_cleaned[numeric_columns].corr()['price']\n",
    "\n",
    "# Creating a correlation matrix with just the correlation coefficients with 'price'\n",
    "correlation_matrix = price_correlation.drop('price', axis=0).to_frame().T\n",
    "\n",
    "# Plotting correlation matrix heatmap\n",
    "plt.figure(figsize=(10, 8))\n",
    "heatmap = sns.heatmap(correlation_matrix, cmap='YlGnBu')\n",
    "\n",
    "# Add exact correlation coefficients as labels on each column\n",
    "for i in range(correlation_matrix.shape[1]):\n",
    "    heatmap.text(i + 0.5, 0.5, f\"{correlation_matrix.iloc[0, i]:.2f}\", ha='center', va='center',\n",
    "                  color='black', fontsize=12, fontweight='bold', rotation=0)\n",
    "\n",
    "plt.title('Correlation Heatmap with Price', fontsize=20)\n",
    "plt.xlabel('Variables', fontsize=14)\n",
    "plt.ylabel('Price', fontsize=14)\n",
    "\n",
    "# Adjusting the layout of the plot for better visualization\n",
    "plt.tight_layout()\n",
    "plt.show()\n",
    "\n"
   ]
  },
  {
   "cell_type": "markdown",
   "metadata": {},
   "source": [
    "From this correlation matrix above, sqft_living has the most correlation with the price followed by sqft_above and the bathrooms column. "
   ]
  },
  {
   "cell_type": "markdown",
   "metadata": {},
   "source": [
    "## MODELING \n",
    "### DATA PREPARATION FOR MODELING \n",
    "#### Checking for Linearlity \n",
    "##### The first step will be to check for linearlity among our dependent variable (Price) and our various Independent variables (Number of floors, number of bedrooms, number of bathrooms and renovation) as listed in our objective"
   ]
  },
  {
   "cell_type": "code",
   "execution_count": null,
   "metadata": {
    "id": "Gfc6A5jpvTg7"
   },
   "outputs": [
    {
     "name": "stderr",
     "output_type": "stream",
     "text": [
      "/Applications/anaconda3/envs/learn-env/lib/python3.9/site-packages/seaborn/_oldcore.py:1119: FutureWarning: use_inf_as_na option is deprecated and will be removed in a future version. Convert inf values to NaN before operating instead.\n",
      "  with pd.option_context('mode.use_inf_as_na', True):\n",
      "/Applications/anaconda3/envs/learn-env/lib/python3.9/site-packages/seaborn/_oldcore.py:1119: FutureWarning: use_inf_as_na option is deprecated and will be removed in a future version. Convert inf values to NaN before operating instead.\n",
      "  with pd.option_context('mode.use_inf_as_na', True):\n"
     ]
    },
    {
     "data": {
      "image/png": "[encoded data removed]",
      "text/plain": [
       "<Figure size 600x600 with 3 Axes>"
      ]
     },
     "metadata": {},
     "output_type": "display_data"
    },
    {
     "name": "stderr",
     "output_type": "stream",
     "text": [
      "/Applications/anaconda3/envs/learn-env/lib/python3.9/site-packages/seaborn/_oldcore.py:1119: FutureWarning: use_inf_as_na option is deprecated and will be removed in a future version. Convert inf values to NaN before operating instead.\n",
      "  with pd.option_context('mode.use_inf_as_na', True):\n",
      "/Applications/anaconda3/envs/learn-env/lib/python3.9/site-packages/seaborn/_oldcore.py:1119: FutureWarning: use_inf_as_na option is deprecated and will be removed in a future version. Convert inf values to NaN before operating instead.\n",
      "  with pd.option_context('mode.use_inf_as_na', True):\n"
     ]
    },
    {
     "data": {
      "image/png": "[encoded data removed]",
      "text/plain": [
       "<Figure size 600x600 with 3 Axes>"
      ]
     },
     "metadata": {},
     "output_type": "display_data"
    },
    {
     "name": "stderr",
     "output_type": "stream",
     "text": [
      "/Applications/anaconda3/envs/learn-env/lib/python3.9/site-packages/seaborn/_oldcore.py:1119: FutureWarning: use_inf_as_na option is deprecated and will be removed in a future version. Convert inf values to NaN before operating instead.\n",
      "  with pd.option_context('mode.use_inf_as_na', True):\n",
      "/Applications/anaconda3/envs/learn-env/lib/python3.9/site-packages/seaborn/_oldcore.py:1119: FutureWarning: use_inf_as_na option is deprecated and will be removed in a future version. Convert inf values to NaN before operating instead.\n",
      "  with pd.option_context('mode.use_inf_as_na', True):\n"
     ]
    },
    {
     "data": {
      "image/png": "[encoded data removed]",
      "text/plain": [
       "<Figure size 600x600 with 3 Axes>"
      ]
     },
     "metadata": {},
     "output_type": "display_data"
    },
    {
     "name": "stderr",
     "output_type": "stream",
     "text": [
      "/Applications/anaconda3/envs/learn-env/lib/python3.9/site-packages/seaborn/_oldcore.py:1119: FutureWarning: use_inf_as_na option is deprecated and will be removed in a future version. Convert inf values to NaN before operating instead.\n",
      "  with pd.option_context('mode.use_inf_as_na', True):\n",
      "/Applications/anaconda3/envs/learn-env/lib/python3.9/site-packages/seaborn/_oldcore.py:1119: FutureWarning: use_inf_as_na option is deprecated and will be removed in a future version. Convert inf values to NaN before operating instead.\n",
      "  with pd.option_context('mode.use_inf_as_na', True):\n"
     ]
    },
    {
     "data": {
      "image/png": "[encoded data removed]",
      "text/plain": [
       "<Figure size 600x600 with 3 Axes>"
      ]
     },
     "metadata": {},
     "output_type": "display_data"
    }
   ],
   "source": [
    "# House features \n",
    "features = ['floors', 'bedrooms', 'bathrooms', 'sqft_living']\n",
    "\n",
    "\n",
    "#  Plot jointplots\n",
    "for feature in features:\n",
    "    sns.jointplot(x = df_cleaned[feature], y = df['price'], kind = 'reg')\n",
    "    plt.show()"
   ]
  },
  {
   "cell_type": "markdown",
   "metadata": {},
   "source": [
    "##### From the above, we found out that the investigated features all appear linear. All the other feature variable are discrete and numeric except for the sqft_living which is continous.\n",
    "\n",
    "## Checking for Multicolinearlity\n",
    "##### Multicollinearity refers to the situation where two or more independent variables in a regression model are highly correlated with each other. This will involve the use of VIF. VIF measures how much the variance of an estimated regression coefficient increases if independent variables are correlated. Generally, a VIF greater than 10 indicates multicollinearity that may be problematic. \n"
   ]
  },
  {
   "cell_type": "code",
   "execution_count": null,
   "metadata": {},
   "outputs": [
    {
     "name": "stdout",
     "output_type": "stream",
     "text": [
      "          Feature       VIF\n",
      "0              id  3.801282\n",
      "1           price  2.659814\n",
      "2        bedrooms  1.684719\n",
      "3       bathrooms  2.966026\n",
      "4     sqft_living  6.698499\n",
      "5        sqft_lot  2.411943\n",
      "6          floors  2.537105\n",
      "7      sqft_above  5.558802\n",
      "8        yr_built  2.063765\n",
      "9         zipcode  0.545608\n",
      "10            lat  1.592005\n",
      "11           long  1.768305\n",
      "12  sqft_living15  2.728926\n",
      "13     sqft_lot15  1.971458\n"
     ]
    }
   ],
   "source": [
    "from statsmodels.stats.outliers_influence import variance_inflation_factor\n",
    "# Select only numerical columns from the dataset\n",
    "numerical_data = df_cleaned.select_dtypes(include=[np.number])\n",
    "\n",
    "# Create a DataFrame to store VIF results\n",
    "vif_data = pd.DataFrame()\n",
    "vif_data[\"Feature\"] = numerical_data.columns\n",
    "vif_data[\"VIF\"] = [variance_inflation_factor(numerical_data.values, i) for i in range(len(numerical_data.columns))]\n",
    "\n",
    "# Print the VIF DataFrame\n",
    "print(vif_data)"
   ]
  },
  {
   "cell_type": "markdown",
   "metadata": {},
   "source": [
    "#### Features with VIF values greater than 5 (sqft_living and sqft_above) are concerning because they exhibit a high multicollinearity. The others exhibit a multicollinearity effect that is not problematic. \n",
    "\n",
    "\n",
    "\n"
   ]
  },
  {
   "cell_type": "markdown",
   "metadata": {},
   "source": [
    "# 5.0 MODELING"
   ]
  },
  {
   "cell_type": "markdown",
   "metadata": {},
   "source": [
    "## 5.1 SIMPLE LINEAR REGRESSION"
   ]
  },
  {
   "cell_type": "code",
   "execution_count": null,
   "metadata": {},
   "outputs": [],
   "source": [
    "# import necessary libraries\n",
    "import matplotlib.pyplot as plt\n",
    "import numpy as np\n",
    "import pandas as pd\n",
    "import scipy.stats as stats\n",
    "import seaborn as sns\n",
    "import statsmodels.api as sm\n",
    "from statsmodels.api import OLS\n",
    "import statsmodels.formula.api as sfm\n",
    "import statsmodels.api as sm\n",
    "%matplotlib inline"
   ]
  },
  {
   "cell_type": "markdown",
   "metadata": {},
   "source": [
    "### 5.1.1 Baseline model :price vs sqft-living"
   ]
  },
  {
   "cell_type": "markdown",
   "metadata": {},
   "source": [
    "#### 1.setting up variables for regression"
   ]
  },
  {
   "cell_type": "markdown",
   "metadata": {},
   "source": [
    "Declaring y and X_baseline variables, where y is a Series containing price data and X_baseline is a DataFrame containing the column with the target variable,sqft_living."
   ]
  },
  {
   "cell_type": "code",
   "execution_count": null,
   "metadata": {},
   "outputs": [],
   "source": [
    "y = df_cleaned['price'] #dependent variable\n",
    "#X_baseline = X\n",
    "#independent variable\n",
    "X = df_cleaned['sqft_living']"
   ]
  },
  {
   "cell_type": "markdown",
   "metadata": {},
   "source": [
    "#### 2. creating and fitting simple liner regression"
   ]
  },
  {
   "cell_type": "code",
   "execution_count": null,
   "metadata": {},
   "outputs": [],
   "source": [
    "baseline_model = sm.OLS(endog=y, exog=sm.add_constant(X))\n",
    "baseline_results = baseline_model.fit()"
   ]
  },
  {
   "cell_type": "markdown",
   "metadata": {},
   "source": [
    "#### 3. evaluating  and interpreting baseline results"
   ]
  },
  {
   "cell_type": "code",
   "execution_count": null,
   "metadata": {},
   "outputs": [
    {
     "name": "stdout",
     "output_type": "stream",
     "text": [
      "                            OLS Regression Results                            \n",
      "==============================================================================\n",
      "Dep. Variable:                  price   R-squared:                       0.339\n",
      "Model:                            OLS   Adj. R-squared:                  0.339\n",
      "Method:                 Least Squares   F-statistic:                     9091.\n",
      "Date:                Wed, 01 May 2024   Prob (F-statistic):               0.00\n",
      "Time:                        11:07:41   Log-Likelihood:            -2.3755e+05\n",
      "No. Observations:               17702   AIC:                         4.751e+05\n",
      "Df Residuals:                   17700   BIC:                         4.751e+05\n",
      "Df Model:                           1                                         \n",
      "Covariance Type:            nonrobust                                         \n",
      "===============================================================================\n",
      "                  coef    std err          t      P>|t|      [0.025      0.975]\n",
      "-------------------------------------------------------------------------------\n",
      "const         1.41e+05   3592.781     39.247      0.000    1.34e+05    1.48e+05\n",
      "sqft_living   170.5686      1.789     95.349      0.000     167.062     174.075\n",
      "==============================================================================\n",
      "Omnibus:                      857.509   Durbin-Watson:                   1.979\n",
      "Prob(Omnibus):                  0.000   Jarque-Bera (JB):              985.530\n",
      "Skew:                           0.570   Prob(JB):                    9.88e-215\n",
      "Kurtosis:                       3.189   Cond. No.                     5.90e+03\n",
      "==============================================================================\n",
      "\n",
      "Notes:\n",
      "[1] Standard Errors assume that the covariance matrix of the errors is correctly specified.\n",
      "[2] The condition number is large, 5.9e+03. This might indicate that there are\n",
      "strong multicollinearity or other numerical problems.\n"
     ]
    }
   ],
   "source": [
    "#baseline_model = sm.OLS(endog=y, exog=sm.add_constant(X))\n",
    "#baseline_results = baseline_model.fit()\n",
    "results_summary = print(baseline_results.summary())"
   ]
  },
  {
   "cell_type": "markdown",
   "metadata": {},
   "source": [
    "### Interpretation of results"
   ]
  },
  {
   "cell_type": "markdown",
   "metadata": {},
   "source": [
    "From the model results summary we notice that:\n",
    "\n",
    "1.our model explains a variance of about 33.9% in the price of a house since our r-squared = 0.339\n",
    "\n",
    "2.Assuming an alpha of 0.05 our model is statistically significant since our fpvalue statistic is 0.00 which is way \n",
    "less than our alpha \n",
    "\n",
    "3.Noticed that when sqft_living(square foot living ) is equal to zero,the price of a house is $ 141,000.since our consant is 1.41e+05\n",
    "\n",
    "4.Also for every one unit change in sqft_living,then the price of the house increases by $ 171 ,since the coefficient of sqft_living is 170.5686\n",
    "\n",
    "5.All the coefficients of the model are statistical signifiacnt since their fpvalue is equal to 0 this is less than 0.05\n",
    "\n",
    "6.The model has a high F-statistic of  9091.0 and this is a strong indicator that sqft_living jointly have a statistically significant relationship with the,price of a house ,that is the dependent variable"
   ]
  },
  {
   "cell_type": "markdown",
   "metadata": {},
   "source": [
    "#### 4.checking normality of residuals"
   ]
  },
  {
   "cell_type": "code",
   "execution_count": null,
   "metadata": {},
   "outputs": [
    {
     "data": {
      "image/png": "[encoded data removed]",
      "text/plain": [
       "<Figure size 640x480 with 1 Axes>"
      ]
     },
     "metadata": {},
     "output_type": "display_data"
    }
   ],
   "source": [
    "residuals = baseline_results.resid\n",
    "fig = sm.graphics.qqplot(residuals, dist=stats.norm, line='45', fit=True)\n",
    "plt.title(\"Normality check\")\n",
    "plt.show()\n"
   ]
  },
  {
   "cell_type": "markdown",
   "metadata": {},
   "source": [
    "##### Conclusion: The QQ plot shows atleast the residuals have a normal distribution."
   ]
  },
  {
   "cell_type": "markdown",
   "metadata": {},
   "source": [
    "### 5.1.2 2nd model: price vs bedrooms"
   ]
  },
  {
   "cell_type": "markdown",
   "metadata": {},
   "source": [
    "#### 1.setting up variables for regression"
   ]
  },
  {
   "cell_type": "markdown",
   "metadata": {},
   "source": [
    "Declaring y and X variables, where y is a Series containing price data and X is a DataFrame containing the column with the target variable,bedrooms."
   ]
  },
  {
   "cell_type": "code",
   "execution_count": null,
   "metadata": {},
   "outputs": [],
   "source": [
    " #dependent variable\n",
    "y_1 = df_cleaned['price']\n",
    "\n",
    "#X tis is my independent variable\n",
    "X_1 = df_cleaned['bedrooms']"
   ]
  },
  {
   "cell_type": "markdown",
   "metadata": {},
   "source": [
    "#### 2. creating and fitting simple liner regression"
   ]
  },
  {
   "cell_type": "code",
   "execution_count": null,
   "metadata": {},
   "outputs": [],
   "source": [
    "baseline_model_1 = sm.OLS(endog=y_1, exog=sm.add_constant(X_1))\n",
    "baseline_results = baseline_model_1.fit()"
   ]
  },
  {
   "cell_type": "markdown",
   "metadata": {},
   "source": [
    "#### 3. evaluating  and interpreting baseline results"
   ]
  },
  {
   "cell_type": "code",
   "execution_count": null,
   "metadata": {},
   "outputs": [
    {
     "name": "stdout",
     "output_type": "stream",
     "text": [
      "                            OLS Regression Results                            \n",
      "==============================================================================\n",
      "Dep. Variable:                  price   R-squared:                       0.073\n",
      "Model:                            OLS   Adj. R-squared:                  0.073\n",
      "Method:                 Least Squares   F-statistic:                     1403.\n",
      "Date:                Wed, 01 May 2024   Prob (F-statistic):          1.81e-295\n",
      "Time:                        11:07:47   Log-Likelihood:            -2.4054e+05\n",
      "No. Observations:               17702   AIC:                         4.811e+05\n",
      "Df Residuals:                   17700   BIC:                         4.811e+05\n",
      "Df Model:                           1                                         \n",
      "Covariance Type:            nonrobust                                         \n",
      "==============================================================================\n",
      "                 coef    std err          t      P>|t|      [0.025      0.975]\n",
      "------------------------------------------------------------------------------\n",
      "const       2.358e+05   6240.049     37.786      0.000    2.24e+05    2.48e+05\n",
      "bedrooms    6.918e+04   1847.195     37.450      0.000    6.56e+04    7.28e+04\n",
      "==============================================================================\n",
      "Omnibus:                     1279.689   Durbin-Watson:                   1.962\n",
      "Prob(Omnibus):                  0.000   Jarque-Bera (JB):             1577.663\n",
      "Skew:                           0.730   Prob(JB):                         0.00\n",
      "Kurtosis:                       3.098   Cond. No.                         15.8\n",
      "==============================================================================\n",
      "\n",
      "Notes:\n",
      "[1] Standard Errors assume that the covariance matrix of the errors is correctly specified.\n"
     ]
    }
   ],
   "source": [
    "#baseline_model = sm.OLS(endog=y, exog=sm.add_constant(X))\n",
    "#baseline_results = baseline_model.fit()\n",
    "results_summary = print(baseline_results.summary())"
   ]
  },
  {
   "cell_type": "markdown",
   "metadata": {},
   "source": [
    "### Interpretation of results"
   ]
  },
  {
   "cell_type": "markdown",
   "metadata": {},
   "source": [
    "From the model results summary we notice that:\n",
    "\n",
    "1.our model explains a variance of about 7.3% in the price of a house since our r-squared = 0.073 which is way less as \n",
    "compared to 34% in our previous model.\n",
    "\n",
    "2.Assuming an alpha of 0.05 our model is statistically significant since our fpvalue statistic is too small and close to 0 and it is \n",
    "less than our alpha \n",
    "\n",
    "3.Noticed that when the number of bedrooms is equal to zero,the price of a house is $ 235,800 .since our consant coefficient is 2.358e+05\n",
    "\n",
    "4.Also for every one unit change in the number of bedrooms,then the price of the house increases by $ 69,180  ,since the coefficient of bedrooms is 6.918e+04 \n",
    "\n",
    "5.All the coefficients of the model are statistical signifiacnt since their fpvalue is equal to 0 this is less than 0.05\n",
    "\n",
    "6.The model has a relatively low F-statistic of 1403.0 as compared to F-statistic of 9091.0 and this is a weak indicator that the number of bedrooms jointly have a statistically significant relationship with the,price of a house ,that is the dependent variable"
   ]
  },
  {
   "cell_type": "markdown",
   "metadata": {},
   "source": [
    "#### 4.checking normality of residuals"
   ]
  },
  {
   "cell_type": "code",
   "execution_count": null,
   "metadata": {},
   "outputs": [
    {
     "data": {
      "image/png": "[encoded data removed]",
      "text/plain": [
       "<Figure size 640x480 with 1 Axes>"
      ]
     },
     "metadata": {},
     "output_type": "display_data"
    }
   ],
   "source": [
    "residuals = baseline_results.resid\n",
    "fig = sm.graphics.qqplot(residuals, dist=stats.norm, line='45', fit=True)\n",
    "plt.title(\"Normality check\")\n",
    "plt.show()\n"
   ]
  },
  {
   "cell_type": "markdown",
   "metadata": {},
   "source": [
    "### 5.1.3 3rd model : price vs no_of_floors"
   ]
  },
  {
   "cell_type": "markdown",
   "metadata": {},
   "source": [
    "#### 1.setting up variables for regression"
   ]
  },
  {
   "cell_type": "markdown",
   "metadata": {},
   "source": [
    "Declaring y and X variables, where y is a Series containing price data and X is a DataFrame containing the column with the target variable,number of floors."
   ]
  },
  {
   "cell_type": "code",
   "execution_count": null,
   "metadata": {},
   "outputs": [],
   "source": [
    "#dependent variable\n",
    "y_2 = df_cleaned['price']\n",
    "\n",
    "#X tis is my independent variable\n",
    "X_2 = df_cleaned['floors']"
   ]
  },
  {
   "cell_type": "markdown",
   "metadata": {},
   "source": [
    "#### 2. creating and fitting simple liner regression"
   ]
  },
  {
   "cell_type": "code",
   "execution_count": null,
   "metadata": {},
   "outputs": [],
   "source": [
    "baseline_model_2 = sm.OLS(endog=y_2, exog=sm.add_constant(X_2))\n",
    "baseline_results = baseline_model_2.fit()"
   ]
  },
  {
   "cell_type": "markdown",
   "metadata": {},
   "source": [
    "#### 3. evaluating  and interpreting baseline results"
   ]
  },
  {
   "cell_type": "code",
   "execution_count": null,
   "metadata": {},
   "outputs": [
    {
     "name": "stdout",
     "output_type": "stream",
     "text": [
      "                            OLS Regression Results                            \n",
      "==============================================================================\n",
      "Dep. Variable:                  price   R-squared:                       0.062\n",
      "Model:                            OLS   Adj. R-squared:                  0.062\n",
      "Method:                 Least Squares   F-statistic:                     1167.\n",
      "Date:                Wed, 01 May 2024   Prob (F-statistic):          1.10e-247\n",
      "Time:                        11:07:54   Log-Likelihood:            -2.4065e+05\n",
      "No. Observations:               17702   AIC:                         4.813e+05\n",
      "Df Residuals:                   17700   BIC:                         4.813e+05\n",
      "Df Model:                           1                                         \n",
      "Covariance Type:            nonrobust                                         \n",
      "==============================================================================\n",
      "                 coef    std err          t      P>|t|      [0.025      0.975]\n",
      "------------------------------------------------------------------------------\n",
      "const        3.28e+05   4215.654     77.801      0.000     3.2e+05    3.36e+05\n",
      "floors      9.173e+04   2685.643     34.157      0.000    8.65e+04     9.7e+04\n",
      "==============================================================================\n",
      "Omnibus:                     1482.401   Durbin-Watson:                   1.977\n",
      "Prob(Omnibus):                  0.000   Jarque-Bera (JB):             1884.967\n",
      "Skew:                           0.796   Prob(JB):                         0.00\n",
      "Kurtosis:                       3.155   Cond. No.                         6.22\n",
      "==============================================================================\n",
      "\n",
      "Notes:\n",
      "[1] Standard Errors assume that the covariance matrix of the errors is correctly specified.\n"
     ]
    }
   ],
   "source": [
    "#baseline_model = sm.OLS(endog=y, exog=sm.add_constant(X))\n",
    "#baseline_results = baseline_model.fit()\n",
    "results_summary = print(baseline_results.summary())"
   ]
  },
  {
   "cell_type": "markdown",
   "metadata": {},
   "source": [
    "#### 4.checking normality of residuals\n"
   ]
  },
  {
   "cell_type": "code",
   "execution_count": null,
   "metadata": {},
   "outputs": [
    {
     "data": {
      "image/png": "[encoded data removed]",
      "text/plain": [
       "<Figure size 640x480 with 1 Axes>"
      ]
     },
     "metadata": {},
     "output_type": "display_data"
    }
   ],
   "source": [
    "residuals = baseline_results.resid\n",
    "fig = sm.graphics.qqplot(residuals, dist=stats.norm, line='45', fit=True)\n",
    "plt.title(\"Normality check\")\n",
    "plt.show()"
   ]
  },
  {
   "cell_type": "markdown",
   "metadata": {},
   "source": [
    "### Interpretation of results"
   ]
  },
  {
   "cell_type": "markdown",
   "metadata": {},
   "source": [
    "From the model results summary we notice that:\n",
    "\n",
    "1.our model explains a variance of about 6.2% in the price of a house since our r-squared = 0.062 which is way less as \n",
    "compared to 34% in our previous model.\n",
    "\n",
    "2.Assuming an alpha of 0.05 our model is statistically significant since our fpvalue statistic is too small and close to 0 and it is \n",
    "less than our alpha \n",
    "\n",
    "3.Noticed that when the number of floors is equal to zero,the price of a house is $ 328,000. .since our consant coefficient is 3.28e+05\n",
    "\n",
    "4.Also for every one unit change in the number of floors,then the price of the house increases by $ 91,730.  ,since the coefficient of floors is 9.173e+04 \n",
    "\n",
    "5.All the coefficients of the model are statistical signifiacnt since their fpvalue is equal to 0 this is less than 0.05\n",
    "\n",
    "6.The model has a relatively low F-statistic of 1167.0 as compared to F-statistic of 9091.0 and this is a weak indicator that the number of floors jointly have a statistically significant relationship with the,price of a house ,that is the dependent variable"
   ]
  },
  {
   "cell_type": "markdown",
   "metadata": {},
   "source": [
    "## 5.2 MULTIPLE LINEAR REGRESSION"
   ]
  },
  {
   "cell_type": "markdown",
   "metadata": {},
   "source": [
    "### 5.2.1  price vs no_of_bedrooms,sqftliving"
   ]
  },
  {
   "cell_type": "markdown",
   "metadata": {},
   "source": [
    "#### 1.setting up variables for regression"
   ]
  },
  {
   "cell_type": "markdown",
   "metadata": {},
   "source": [
    "Declaring y and X variables, where y is a Series containing price data transformed to log price and X is a DataFrame containing the columns of bedrooms variable,and sqfliving."
   ]
  },
  {
   "cell_type": "code",
   "execution_count": null,
   "metadata": {},
   "outputs": [],
   "source": [
    "y_3 = df_cleaned['price']\n",
    "df_cleaned['log_price'] = np.log(df_cleaned['price'])\n",
    "\n",
    "#X tis is my independent variable\n",
    "#X_3 = df_cleaned[\"sqft_living\",\"bedrooms\"]\n",
    "\n",
    "X_3 = df_cleaned[['sqft_living', 'bedrooms']]\n",
    "\n",
    "\n"
   ]
  },
  {
   "cell_type": "markdown",
   "metadata": {},
   "source": [
    "#### 2. creating and fitting multiple liner regression"
   ]
  },
  {
   "cell_type": "code",
   "execution_count": null,
   "metadata": {},
   "outputs": [],
   "source": [
    "# create model intercept\n",
    "predictors_int = sm.add_constant(X_3)\n",
    "\n",
    "# fitting  model\n",
    "second_model = sm.OLS(df_cleaned['log_price'], predictors_int).fit()\n",
    "\n"
   ]
  },
  {
   "cell_type": "markdown",
   "metadata": {},
   "source": [
    "#### 3. evaluating  and interpreting baseline results"
   ]
  },
  {
   "cell_type": "code",
   "execution_count": null,
   "metadata": {},
   "outputs": [
    {
     "name": "stdout",
     "output_type": "stream",
     "text": [
      "                            OLS Regression Results                            \n",
      "==============================================================================\n",
      "Dep. Variable:              log_price   R-squared:                       0.335\n",
      "Model:                            OLS   Adj. R-squared:                  0.335\n",
      "Method:                 Least Squares   F-statistic:                     4455.\n",
      "Date:                Wed, 01 May 2024   Prob (F-statistic):               0.00\n",
      "Time:                        11:08:02   Log-Likelihood:                -6864.2\n",
      "No. Observations:               17702   AIC:                         1.373e+04\n",
      "Df Residuals:                   17699   BIC:                         1.376e+04\n",
      "Df Model:                           2                                         \n",
      "Covariance Type:            nonrobust                                         \n",
      "===============================================================================\n",
      "                  coef    std err          t      P>|t|      [0.025      0.975]\n",
      "-------------------------------------------------------------------------------\n",
      "const          12.3967      0.012   1072.270      0.000      12.374      12.419\n",
      "sqft_living     0.0004   4.94e-06     83.365      0.000       0.000       0.000\n",
      "bedrooms       -0.0675      0.004    -15.672      0.000      -0.076      -0.059\n",
      "==============================================================================\n",
      "Omnibus:                      221.301   Durbin-Watson:                   1.987\n",
      "Prob(Omnibus):                  0.000   Jarque-Bera (JB):              146.657\n",
      "Skew:                          -0.089   Prob(JB):                     1.42e-32\n",
      "Kurtosis:                       2.591   Cond. No.                     9.00e+03\n",
      "==============================================================================\n",
      "\n",
      "Notes:\n",
      "[1] Standard Errors assume that the covariance matrix of the errors is correctly specified.\n",
      "[2] The condition number is large,  9e+03. This might indicate that there are\n",
      "strong multicollinearity or other numerical problems.\n"
     ]
    }
   ],
   "source": [
    "# check the model results\n",
    "print(second_model.summary())"
   ]
  },
  {
   "cell_type": "markdown",
   "metadata": {},
   "source": [
    "### Interpretation of results"
   ]
  },
  {
   "cell_type": "markdown",
   "metadata": {},
   "source": [
    "From the model results summary we notice that:\n",
    "\n",
    "1.our model explains a variance of about 33.5% in the price of a house since our r-squared = 0.335 which is way less as \n",
    "compared to 34% in our previous model.\n",
    "\n",
    "2.Assuming an alpha of 0.05 our model is statistically significant since our fpvalue statistic is 0 and it is definetly\n",
    "less than our alpha \n",
    "\n",
    "3.Noticed that when sqft_living is equal to zero and the number of bedrooms is also equal to zero,the price of a house is $ 1240. .since our consant coefficient is 12.3967\n",
    "\n",
    "4.Also for every one unit change in sqft_living ,then the price of the house increases by $ 0.04,since the coefficient of sqft_living is 0.0004\n",
    "\n",
    "5.Also for every one unit change in the number of bedrooms,then the price of the house decreases by $ 6.8.  ,since the coefficient of number of bedrooms is -0.0675 \n",
    "\n",
    "6.All the coefficients of the model are statistical signifiacnt since their fpvalue is equal to 0 this is less than 0.05\n",
    "\n",
    "7.The model has a relatively low F-statistic of 4455.0  as compared to F-statistic of 9091.0 and this is a weak indicator that the number of floors and sqft_living jointly have a statistically significant relationship with the,price of a house ,that is the dependent variable"
   ]
  },
  {
   "cell_type": "markdown",
   "metadata": {},
   "source": [
    "#### 4.checking normality of residuals"
   ]
  },
  {
   "cell_type": "code",
   "execution_count": null,
   "metadata": {},
   "outputs": [
    {
     "data": {
      "image/png": "[encoded data removed]",
      "text/plain": [
       "<Figure size 640x480 with 1 Axes>"
      ]
     },
     "metadata": {},
     "output_type": "display_data"
    }
   ],
   "source": [
    "residuals = baseline_results.resid\n",
    "fig = sm.graphics.qqplot(residuals, dist=stats.norm, line='45', fit=True)\n",
    "plt.title(\"Normality check\")\n",
    "plt.show()"
   ]
  },
  {
   "cell_type": "markdown",
   "metadata": {},
   "source": [
    "### 5.2.1  price vs no_of_bedrooms,sqftliving,floors"
   ]
  },
  {
   "cell_type": "code",
   "execution_count": null,
   "metadata": {},
   "outputs": [],
   "source": [
    "y_4 = df_cleaned['price']\n",
    "df_cleaned['log_price'] = np.log(df_cleaned['price'])\n",
    "\n",
    "#X tis is my independent variable\n",
    "#X_3 = df_cleaned[\"sqft_living\",\"bedrooms\"]\n",
    "\n",
    "X_4= df_cleaned[['sqft_living', 'bedrooms','floors']]\n",
    "\n"
   ]
  },
  {
   "cell_type": "markdown",
   "metadata": {},
   "source": [
    "#### 2. creating and fitting multiple liner regression"
   ]
  },
  {
   "cell_type": "code",
   "execution_count": null,
   "metadata": {},
   "outputs": [],
   "source": [
    "# create model intercept\n",
    "predictors_int = sm.add_constant(X_4)\n",
    "\n",
    "# fitting  model\n",
    "second_model = sm.OLS(df_cleaned['log_price'], predictors_int).fit()\n"
   ]
  },
  {
   "cell_type": "markdown",
   "metadata": {},
   "source": [
    "#### 3. evaluating  and interpreting baseline results"
   ]
  },
  {
   "cell_type": "code",
   "execution_count": null,
   "metadata": {},
   "outputs": [
    {
     "name": "stdout",
     "output_type": "stream",
     "text": [
      "                            OLS Regression Results                            \n",
      "==============================================================================\n",
      "Dep. Variable:              log_price   R-squared:                       0.341\n",
      "Model:                            OLS   Adj. R-squared:                  0.341\n",
      "Method:                 Least Squares   F-statistic:                     3048.\n",
      "Date:                Wed, 01 May 2024   Prob (F-statistic):               0.00\n",
      "Time:                        11:08:08   Log-Likelihood:                -6787.2\n",
      "No. Observations:               17702   AIC:                         1.358e+04\n",
      "Df Residuals:                   17698   BIC:                         1.361e+04\n",
      "Df Model:                           3                                         \n",
      "Covariance Type:            nonrobust                                         \n",
      "===============================================================================\n",
      "                  coef    std err          t      P>|t|      [0.025      0.975]\n",
      "-------------------------------------------------------------------------------\n",
      "const          12.3253      0.013    957.990      0.000      12.300      12.350\n",
      "sqft_living     0.0004   5.17e-06     75.859      0.000       0.000       0.000\n",
      "bedrooms       -0.0635      0.004    -14.765      0.000      -0.072      -0.055\n",
      "floors          0.0649      0.005     12.441      0.000       0.055       0.075\n",
      "==============================================================================\n",
      "Omnibus:                      220.243   Durbin-Watson:                   1.988\n",
      "Prob(Omnibus):                  0.000   Jarque-Bera (JB):              141.139\n",
      "Skew:                          -0.069   Prob(JB):                     2.25e-31\n",
      "Kurtosis:                       2.585   Cond. No.                     1.01e+04\n",
      "==============================================================================\n",
      "\n",
      "Notes:\n",
      "[1] Standard Errors assume that the covariance matrix of the errors is correctly specified.\n",
      "[2] The condition number is large, 1.01e+04. This might indicate that there are\n",
      "strong multicollinearity or other numerical problems.\n"
     ]
    }
   ],
   "source": [
    "# check the model results\n",
    "print(second_model.summary())"
   ]
  },
  {
   "cell_type": "markdown",
   "metadata": {},
   "source": [
    "### Interpretation of results\n",
    "\n",
    "From the model results summary we notice that:\n",
    "\n",
    "Overall the model performed marginally better than the baseline model\n",
    "\n",
    "1.our model explains a variance of about 34.1% in the price of a house since our r-squared = 0.341 which is higher compared to the pprevious models.\n",
    "\n",
    "2.Assuming an alpha of 0.05 our model is statistically significant since our fpvalue statistic is 0 and it is definetly\n",
    "less than our alpha \n",
    "\n",
    "3.Noticed that when sqft_living is equal to zero,the number of bedrooms is also equal to zero,and number of floors is equal to zero the price of a house is $ 1233. .since our consant coefficient is 12.325\n",
    "\n",
    "4.Also for every one unit change in sqft_living ,then the price of the house increases by $ 0.04,since the coefficient of sqft_living is 0.0004\n",
    "\n",
    "5.Also for every one unit change in the number of bedrooms,then the price of the house decreases by $ 6.35.  ,since the coefficient of number of bedrooms is -0.0635 \n",
    "\n",
    "6.Also for every one unit change in the number of floors,then the price of the house increases by $ 6.49  ,since the coefficient of number of floors is 0.0649\n",
    "\n",
    "7.All the coefficients of the model are statistical signifiacnt since their fpvalue is equal to 0 this is less than 0.05\n",
    "\n",
    "8.The model has a relatively low F-statistic of 3048  as compared to F-statistic of 9091.0 and this is a weak indicator that the number of floors,number of bedrooms and sqft_living jointly have a statistically significant relationship with the,price of a house ,that is the dependent variable\n"
   ]
  },
  {
   "cell_type": "markdown",
   "metadata": {},
   "source": [
    "#### 4.checking normality of residuals"
   ]
  },
  {
   "cell_type": "code",
   "execution_count": null,
   "metadata": {},
   "outputs": [
    {
     "data": {
      "image/png": "[encoded data removed]",
      "text/plain": [
       "<Figure size 640x480 with 1 Axes>"
      ]
     },
     "metadata": {},
     "output_type": "display_data"
    }
   ],
   "source": [
    "residuals = baseline_results.resid\n",
    "fig = sm.graphics.qqplot(residuals, dist=stats.norm, line='45', fit=True)\n",
    "plt.title(\"Normality check\")\n",
    "plt.show()"
   ]
  },
  {
   "cell_type": "markdown",
   "metadata": {},
   "source": [
    "##### conclusion: Note that 2/3 of the assumptions of linearity are violated here - the residuals aren't normally distributed, We'll get a summary of the model as is, see if not performing a log transformation on price  will help with these conditions, and improve our R^2 ."
   ]
  },
  {
   "cell_type": "markdown",
   "metadata": {},
   "source": [
    "#### correcting the multiple linear regression model"
   ]
  },
  {
   "cell_type": "code",
   "execution_count": null,
   "metadata": {},
   "outputs": [],
   "source": [
    "y_5 = df_cleaned['price']\n",
    "\n",
    "#X tis is my independent variable\n",
    "#X_3 = df_cleaned[\"sqft_living\",\"bedrooms\"]\n",
    "\n",
    "X_5= df_cleaned[['sqft_living', 'bedrooms','floors']]"
   ]
  },
  {
   "cell_type": "markdown",
   "metadata": {},
   "source": [
    "#### 2. creating and fitting simple liner regression"
   ]
  },
  {
   "cell_type": "code",
   "execution_count": null,
   "metadata": {},
   "outputs": [],
   "source": [
    "# create model intercept\n",
    "predictors_int = sm.add_constant(X_5)\n",
    "\n",
    "# fitting  model\n",
    "second_model = sm.OLS(df_cleaned['price'], predictors_int).fit()\n"
   ]
  },
  {
   "cell_type": "markdown",
   "metadata": {},
   "source": [
    "#### 3. evaluating  and interpreting baseline results"
   ]
  },
  {
   "cell_type": "code",
   "execution_count": null,
   "metadata": {},
   "outputs": [
    {
     "name": "stdout",
     "output_type": "stream",
     "text": [
      "                            OLS Regression Results                            \n",
      "==============================================================================\n",
      "Dep. Variable:                  price   R-squared:                       0.353\n",
      "Model:                            OLS   Adj. R-squared:                  0.353\n",
      "Method:                 Least Squares   F-statistic:                     3223.\n",
      "Date:                Wed, 01 May 2024   Prob (F-statistic):               0.00\n",
      "Time:                        11:08:13   Log-Likelihood:            -2.3736e+05\n",
      "No. Observations:               17702   AIC:                         4.747e+05\n",
      "Df Residuals:                   17698   BIC:                         4.748e+05\n",
      "Df Model:                           3                                         \n",
      "Covariance Type:            nonrobust                                         \n",
      "===============================================================================\n",
      "                  coef    std err          t      P>|t|      [0.025      0.975]\n",
      "-------------------------------------------------------------------------------\n",
      "const        1.853e+05   5837.714     31.740      0.000    1.74e+05    1.97e+05\n",
      "sqft_living   188.0961      2.345     80.201      0.000     183.499     192.693\n",
      "bedrooms    -3.279e+04   1951.554    -16.803      0.000   -3.66e+04    -2.9e+04\n",
      "floors       2.062e+04   2367.940      8.708      0.000     1.6e+04    2.53e+04\n",
      "==============================================================================\n",
      "Omnibus:                      952.700   Durbin-Watson:                   1.979\n",
      "Prob(Omnibus):                  0.000   Jarque-Bera (JB):             1113.683\n",
      "Skew:                           0.595   Prob(JB):                    1.47e-242\n",
      "Kurtosis:                       3.305   Cond. No.                     1.01e+04\n",
      "==============================================================================\n",
      "\n",
      "Notes:\n",
      "[1] Standard Errors assume that the covariance matrix of the errors is correctly specified.\n",
      "[2] The condition number is large, 1.01e+04. This might indicate that there are\n",
      "strong multicollinearity or other numerical problems.\n"
     ]
    }
   ],
   "source": [
    "# check the model results\n",
    "print(second_model.summary())"
   ]
  },
  {
   "cell_type": "markdown",
   "metadata": {},
   "source": [
    "### Interpretation of results"
   ]
  },
  {
   "cell_type": "markdown",
   "metadata": {},
   "source": [
    "1.our model explains a variance of about 35.3% in the price of a house since our r-squared = 0.353 which is higher compared to the pprevious models.\n",
    "\n",
    "2.Assuming an alpha of 0.05 our model is statistically significant since our fpvalue statistic is 0 and it is definetly\n",
    "less than our alpha \n",
    "\n",
    "3.Noticed that when sqft_living is equal to zero,the number of bedrooms is also equal to zero,and number of floors is equal to zero the price of a house is $ 185,300. .since our consant coefficient is 1.853e+05\n",
    "\n",
    "4.Also for every one unit change in sqft_living ,then the price of the house increases by $ 188,since the coefficient of sqft_living is 188.096\n",
    "\n",
    "5.Also for every one unit change in the number of bedrooms,then the price of the house decreases by $ 32,790 ,since the coefficient of number of bedrooms is -3.279e+04\n",
    "\n",
    "6.Also for every one unit change in the number of floors,then the price of the house increases by $ 20,620,since the coefficient of number of floors is 2.062e+04\n",
    "\n",
    "7.All the coefficients of the model are statistical signifiacnt since their fpvalue is equal to 0 this is less than 0.05\n",
    "\n",
    "8.The model has a relatively low F-statistic of 3223  as compared to F-statistic of 9091.0 and this is a weak indicator that the number of floors,number of bedrooms and sqft_living jointly have a statistically significant relationship with the,price of a house ,that is the dependent variable"
   ]
  },
  {
   "cell_type": "markdown",
   "metadata": {},
   "source": [
    "#### 4.checking normality of residuals"
   ]
  },
  {
   "cell_type": "code",
   "execution_count": null,
   "metadata": {},
   "outputs": [
    {
     "data": {
      "image/png": "[encoded data removed]",
      "text/plain": [
       "<Figure size 640x480 with 1 Axes>"
      ]
     },
     "metadata": {},
     "output_type": "display_data"
    }
   ],
   "source": [
    "residuals = baseline_results.resid\n",
    "fig = sm.graphics.qqplot(residuals, dist=stats.norm, line='45', fit=True)\n",
    "plt.title(\"Normality check\")\n",
    "plt.show()"
   ]
  },
  {
   "cell_type": "markdown",
   "metadata": {},
   "source": [
    "##### conclusion there is no much improvement on the model though our r-squared has increased from 0.34 to 0.353 meaning the model explains a greater variance on the price"
   ]
  },
  {
   "cell_type": "markdown",
   "metadata": {},
   "source": [
    "# 6.0 CONCLUSION / RECOMMENDATIONS"
   ]
  },
  {
   "cell_type": "markdown",
   "metadata": {},
   "source": [
    "## a) CONCLUSION"
   ]
  },
  {
   "cell_type": "markdown",
   "metadata": {},
   "source": [
    "From our models we noted the following\n",
    "\n",
    "1.With less bedrooms or 0 bedrooms the price of a house is higher,that is the more the number of bedrooms the lower the \n",
    "price of that house\n",
    "\n",
    "2.For every additional square foot of living space the price of a house increases\n",
    "\n",
    "3.For every additional number of floors then the price of a house increases\n",
    "\n",
    "4.After carrying out the multiple linear regression of all the variables,the number of bedrooms and number of floors seemed to have a higher impact on the price of a house as opposed to to the sqft_living,that is the less the number of bedrooms the higher the price of a house and the more the number of floors the higher the price of the house."
   ]
  },
  {
   "cell_type": "markdown",
   "metadata": {},
   "source": [
    "## b) RECOMMENDATIONS"
   ]
  },
  {
   "cell_type": "markdown",
   "metadata": {},
   "source": [
    "1.Bedrooms: Considering the impact of the number of bedrooms on the house price.I would advise the homeowners to focus on properties with a lower bedroom count so that in return it will lead to an increase in price of the house.\n",
    "\n",
    "\n",
    "2.Square Foot living: Pay attention to the square footage of the living space. Increasing the living space generally increases the house price.\n",
    "\n",
    "3.Floors: Houses with multiple floors tend to have higher prices. If feasible, explore opportunities to add or emphasize multiple floors in properties to increase their perceived value.\n",
    "\n"
   ]
  }
 ],
 "metadata": {
  "colab": {
   "provenance": []
  },
  "kernelspec": {
   "display_name": "Python 3 (ipykernel)",
   "language": "python",
   "name": "python3"
  },
  "language_info": {
   "codemirror_mode": {
    "name": "ipython",
    "version": 3
   },
   "file_extension": ".py",
   "mimetype": "text/x-python",
   "name": "python",
   "nbconvert_exporter": "python",
   "pygments_lexer": "ipython3",
   "version": "3.11.5"
  }
 },
 "nbformat": 4,
 "nbformat_minor": 4
}
